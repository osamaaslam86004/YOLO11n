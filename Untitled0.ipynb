{
  "nbformat": 4,
  "nbformat_minor": 0,
  "metadata": {
    "colab": {
      "provenance": [],
      "gpuType": "T4",
      "authorship_tag": "ABX9TyNOERp6hdATSvy6vi1CSrjM",
      "include_colab_link": true
    },
    "kernelspec": {
      "name": "python3",
      "display_name": "Python 3"
    },
    "language_info": {
      "name": "python"
    },
    "accelerator": "GPU"
  },
  "cells": [
    {
      "cell_type": "markdown",
      "metadata": {
        "id": "view-in-github",
        "colab_type": "text"
      },
      "source": [
        "<a href=\"https://colab.research.google.com/github/osamaaslam86004/YOLO11n/blob/main/Untitled0.ipynb\" target=\"_parent\"><img src=\"https://colab.research.google.com/assets/colab-badge.svg\" alt=\"Open In Colab\"/></a>"
      ]
    },
    {
      "cell_type": "code",
      "source": [
        "pip install ultralytics"
      ],
      "metadata": {
        "colab": {
          "base_uri": "https://localhost:8080/"
        },
        "id": "HN8-9BMIY9r5",
        "outputId": "dd3634c1-c8d5-4526-d7b1-48e5dfc94080"
      },
      "execution_count": 1,
      "outputs": [
        {
          "output_type": "stream",
          "name": "stdout",
          "text": [
            "Collecting ultralytics\n",
            "  Downloading ultralytics-8.3.127-py3-none-any.whl.metadata (37 kB)\n",
            "Requirement already satisfied: numpy>=1.23.0 in /usr/local/lib/python3.11/dist-packages (from ultralytics) (2.0.2)\n",
            "Requirement already satisfied: matplotlib>=3.3.0 in /usr/local/lib/python3.11/dist-packages (from ultralytics) (3.10.0)\n",
            "Requirement already satisfied: opencv-python>=4.6.0 in /usr/local/lib/python3.11/dist-packages (from ultralytics) (4.11.0.86)\n",
            "Requirement already satisfied: pillow>=7.1.2 in /usr/local/lib/python3.11/dist-packages (from ultralytics) (11.2.1)\n",
            "Requirement already satisfied: pyyaml>=5.3.1 in /usr/local/lib/python3.11/dist-packages (from ultralytics) (6.0.2)\n",
            "Requirement already satisfied: requests>=2.23.0 in /usr/local/lib/python3.11/dist-packages (from ultralytics) (2.32.3)\n",
            "Requirement already satisfied: scipy>=1.4.1 in /usr/local/lib/python3.11/dist-packages (from ultralytics) (1.15.2)\n",
            "Requirement already satisfied: torch>=1.8.0 in /usr/local/lib/python3.11/dist-packages (from ultralytics) (2.6.0+cu124)\n",
            "Requirement already satisfied: torchvision>=0.9.0 in /usr/local/lib/python3.11/dist-packages (from ultralytics) (0.21.0+cu124)\n",
            "Requirement already satisfied: tqdm>=4.64.0 in /usr/local/lib/python3.11/dist-packages (from ultralytics) (4.67.1)\n",
            "Requirement already satisfied: psutil in /usr/local/lib/python3.11/dist-packages (from ultralytics) (5.9.5)\n",
            "Requirement already satisfied: py-cpuinfo in /usr/local/lib/python3.11/dist-packages (from ultralytics) (9.0.0)\n",
            "Requirement already satisfied: pandas>=1.1.4 in /usr/local/lib/python3.11/dist-packages (from ultralytics) (2.2.2)\n",
            "Requirement already satisfied: seaborn>=0.11.0 in /usr/local/lib/python3.11/dist-packages (from ultralytics) (0.13.2)\n",
            "Collecting ultralytics-thop>=2.0.0 (from ultralytics)\n",
            "  Downloading ultralytics_thop-2.0.14-py3-none-any.whl.metadata (9.4 kB)\n",
            "Requirement already satisfied: contourpy>=1.0.1 in /usr/local/lib/python3.11/dist-packages (from matplotlib>=3.3.0->ultralytics) (1.3.2)\n",
            "Requirement already satisfied: cycler>=0.10 in /usr/local/lib/python3.11/dist-packages (from matplotlib>=3.3.0->ultralytics) (0.12.1)\n",
            "Requirement already satisfied: fonttools>=4.22.0 in /usr/local/lib/python3.11/dist-packages (from matplotlib>=3.3.0->ultralytics) (4.57.0)\n",
            "Requirement already satisfied: kiwisolver>=1.3.1 in /usr/local/lib/python3.11/dist-packages (from matplotlib>=3.3.0->ultralytics) (1.4.8)\n",
            "Requirement already satisfied: packaging>=20.0 in /usr/local/lib/python3.11/dist-packages (from matplotlib>=3.3.0->ultralytics) (24.2)\n",
            "Requirement already satisfied: pyparsing>=2.3.1 in /usr/local/lib/python3.11/dist-packages (from matplotlib>=3.3.0->ultralytics) (3.2.3)\n",
            "Requirement already satisfied: python-dateutil>=2.7 in /usr/local/lib/python3.11/dist-packages (from matplotlib>=3.3.0->ultralytics) (2.9.0.post0)\n",
            "Requirement already satisfied: pytz>=2020.1 in /usr/local/lib/python3.11/dist-packages (from pandas>=1.1.4->ultralytics) (2025.2)\n",
            "Requirement already satisfied: tzdata>=2022.7 in /usr/local/lib/python3.11/dist-packages (from pandas>=1.1.4->ultralytics) (2025.2)\n",
            "Requirement already satisfied: charset-normalizer<4,>=2 in /usr/local/lib/python3.11/dist-packages (from requests>=2.23.0->ultralytics) (3.4.1)\n",
            "Requirement already satisfied: idna<4,>=2.5 in /usr/local/lib/python3.11/dist-packages (from requests>=2.23.0->ultralytics) (3.10)\n",
            "Requirement already satisfied: urllib3<3,>=1.21.1 in /usr/local/lib/python3.11/dist-packages (from requests>=2.23.0->ultralytics) (2.4.0)\n",
            "Requirement already satisfied: certifi>=2017.4.17 in /usr/local/lib/python3.11/dist-packages (from requests>=2.23.0->ultralytics) (2025.4.26)\n",
            "Requirement already satisfied: filelock in /usr/local/lib/python3.11/dist-packages (from torch>=1.8.0->ultralytics) (3.18.0)\n",
            "Requirement already satisfied: typing-extensions>=4.10.0 in /usr/local/lib/python3.11/dist-packages (from torch>=1.8.0->ultralytics) (4.13.2)\n",
            "Requirement already satisfied: networkx in /usr/local/lib/python3.11/dist-packages (from torch>=1.8.0->ultralytics) (3.4.2)\n",
            "Requirement already satisfied: jinja2 in /usr/local/lib/python3.11/dist-packages (from torch>=1.8.0->ultralytics) (3.1.6)\n",
            "Requirement already satisfied: fsspec in /usr/local/lib/python3.11/dist-packages (from torch>=1.8.0->ultralytics) (2025.3.2)\n",
            "Collecting nvidia-cuda-nvrtc-cu12==12.4.127 (from torch>=1.8.0->ultralytics)\n",
            "  Downloading nvidia_cuda_nvrtc_cu12-12.4.127-py3-none-manylinux2014_x86_64.whl.metadata (1.5 kB)\n",
            "Collecting nvidia-cuda-runtime-cu12==12.4.127 (from torch>=1.8.0->ultralytics)\n",
            "  Downloading nvidia_cuda_runtime_cu12-12.4.127-py3-none-manylinux2014_x86_64.whl.metadata (1.5 kB)\n",
            "Collecting nvidia-cuda-cupti-cu12==12.4.127 (from torch>=1.8.0->ultralytics)\n",
            "  Downloading nvidia_cuda_cupti_cu12-12.4.127-py3-none-manylinux2014_x86_64.whl.metadata (1.6 kB)\n",
            "Collecting nvidia-cudnn-cu12==9.1.0.70 (from torch>=1.8.0->ultralytics)\n",
            "  Downloading nvidia_cudnn_cu12-9.1.0.70-py3-none-manylinux2014_x86_64.whl.metadata (1.6 kB)\n",
            "Collecting nvidia-cublas-cu12==12.4.5.8 (from torch>=1.8.0->ultralytics)\n",
            "  Downloading nvidia_cublas_cu12-12.4.5.8-py3-none-manylinux2014_x86_64.whl.metadata (1.5 kB)\n",
            "Collecting nvidia-cufft-cu12==11.2.1.3 (from torch>=1.8.0->ultralytics)\n",
            "  Downloading nvidia_cufft_cu12-11.2.1.3-py3-none-manylinux2014_x86_64.whl.metadata (1.5 kB)\n",
            "Collecting nvidia-curand-cu12==10.3.5.147 (from torch>=1.8.0->ultralytics)\n",
            "  Downloading nvidia_curand_cu12-10.3.5.147-py3-none-manylinux2014_x86_64.whl.metadata (1.5 kB)\n",
            "Collecting nvidia-cusolver-cu12==11.6.1.9 (from torch>=1.8.0->ultralytics)\n",
            "  Downloading nvidia_cusolver_cu12-11.6.1.9-py3-none-manylinux2014_x86_64.whl.metadata (1.6 kB)\n",
            "Collecting nvidia-cusparse-cu12==12.3.1.170 (from torch>=1.8.0->ultralytics)\n",
            "  Downloading nvidia_cusparse_cu12-12.3.1.170-py3-none-manylinux2014_x86_64.whl.metadata (1.6 kB)\n",
            "Requirement already satisfied: nvidia-cusparselt-cu12==0.6.2 in /usr/local/lib/python3.11/dist-packages (from torch>=1.8.0->ultralytics) (0.6.2)\n",
            "Requirement already satisfied: nvidia-nccl-cu12==2.21.5 in /usr/local/lib/python3.11/dist-packages (from torch>=1.8.0->ultralytics) (2.21.5)\n",
            "Requirement already satisfied: nvidia-nvtx-cu12==12.4.127 in /usr/local/lib/python3.11/dist-packages (from torch>=1.8.0->ultralytics) (12.4.127)\n",
            "Collecting nvidia-nvjitlink-cu12==12.4.127 (from torch>=1.8.0->ultralytics)\n",
            "  Downloading nvidia_nvjitlink_cu12-12.4.127-py3-none-manylinux2014_x86_64.whl.metadata (1.5 kB)\n",
            "Requirement already satisfied: triton==3.2.0 in /usr/local/lib/python3.11/dist-packages (from torch>=1.8.0->ultralytics) (3.2.0)\n",
            "Requirement already satisfied: sympy==1.13.1 in /usr/local/lib/python3.11/dist-packages (from torch>=1.8.0->ultralytics) (1.13.1)\n",
            "Requirement already satisfied: mpmath<1.4,>=1.1.0 in /usr/local/lib/python3.11/dist-packages (from sympy==1.13.1->torch>=1.8.0->ultralytics) (1.3.0)\n",
            "Requirement already satisfied: six>=1.5 in /usr/local/lib/python3.11/dist-packages (from python-dateutil>=2.7->matplotlib>=3.3.0->ultralytics) (1.17.0)\n",
            "Requirement already satisfied: MarkupSafe>=2.0 in /usr/local/lib/python3.11/dist-packages (from jinja2->torch>=1.8.0->ultralytics) (3.0.2)\n",
            "Downloading ultralytics-8.3.127-py3-none-any.whl (1.0 MB)\n",
            "\u001b[2K   \u001b[90m━━━━━━━━━━━━━━━━━━━━━━━━━━━━━━━━━━━━━━━━\u001b[0m \u001b[32m1.0/1.0 MB\u001b[0m \u001b[31m62.6 MB/s\u001b[0m eta \u001b[36m0:00:00\u001b[0m\n",
            "\u001b[?25hDownloading nvidia_cublas_cu12-12.4.5.8-py3-none-manylinux2014_x86_64.whl (363.4 MB)\n",
            "\u001b[2K   \u001b[90m━━━━━━━━━━━━━━━━━━━━━━━━━━━━━━━━━━━━━━━━\u001b[0m \u001b[32m363.4/363.4 MB\u001b[0m \u001b[31m4.3 MB/s\u001b[0m eta \u001b[36m0:00:00\u001b[0m\n",
            "\u001b[?25hDownloading nvidia_cuda_cupti_cu12-12.4.127-py3-none-manylinux2014_x86_64.whl (13.8 MB)\n",
            "\u001b[2K   \u001b[90m━━━━━━━━━━━━━━━━━━━━━━━━━━━━━━━━━━━━━━━━\u001b[0m \u001b[32m13.8/13.8 MB\u001b[0m \u001b[31m106.0 MB/s\u001b[0m eta \u001b[36m0:00:00\u001b[0m\n",
            "\u001b[?25hDownloading nvidia_cuda_nvrtc_cu12-12.4.127-py3-none-manylinux2014_x86_64.whl (24.6 MB)\n",
            "\u001b[2K   \u001b[90m━━━━━━━━━━━━━━━━━━━━━━━━━━━━━━━━━━━━━━━━\u001b[0m \u001b[32m24.6/24.6 MB\u001b[0m \u001b[31m59.5 MB/s\u001b[0m eta \u001b[36m0:00:00\u001b[0m\n",
            "\u001b[?25hDownloading nvidia_cuda_runtime_cu12-12.4.127-py3-none-manylinux2014_x86_64.whl (883 kB)\n",
            "\u001b[2K   \u001b[90m━━━━━━━━━━━━━━━━━━━━━━━━━━━━━━━━━━━━━━━━\u001b[0m \u001b[32m883.7/883.7 kB\u001b[0m \u001b[31m62.7 MB/s\u001b[0m eta \u001b[36m0:00:00\u001b[0m\n",
            "\u001b[?25hDownloading nvidia_cudnn_cu12-9.1.0.70-py3-none-manylinux2014_x86_64.whl (664.8 MB)\n",
            "\u001b[2K   \u001b[90m━━━━━━━━━━━━━━━━━━━━━━━━━━━━━━━━━━━━━━━━\u001b[0m \u001b[32m664.8/664.8 MB\u001b[0m \u001b[31m3.0 MB/s\u001b[0m eta \u001b[36m0:00:00\u001b[0m\n",
            "\u001b[?25hDownloading nvidia_cufft_cu12-11.2.1.3-py3-none-manylinux2014_x86_64.whl (211.5 MB)\n",
            "\u001b[2K   \u001b[90m━━━━━━━━━━━━━━━━━━━━━━━━━━━━━━━━━━━━━━━━\u001b[0m \u001b[32m211.5/211.5 MB\u001b[0m \u001b[31m5.5 MB/s\u001b[0m eta \u001b[36m0:00:00\u001b[0m\n",
            "\u001b[?25hDownloading nvidia_curand_cu12-10.3.5.147-py3-none-manylinux2014_x86_64.whl (56.3 MB)\n",
            "\u001b[2K   \u001b[90m━━━━━━━━━━━━━━━━━━━━━━━━━━━━━━━━━━━━━━━━\u001b[0m \u001b[32m56.3/56.3 MB\u001b[0m \u001b[31m14.1 MB/s\u001b[0m eta \u001b[36m0:00:00\u001b[0m\n",
            "\u001b[?25hDownloading nvidia_cusolver_cu12-11.6.1.9-py3-none-manylinux2014_x86_64.whl (127.9 MB)\n",
            "\u001b[2K   \u001b[90m━━━━━━━━━━━━━━━━━━━━━━━━━━━━━━━━━━━━━━━━\u001b[0m \u001b[32m127.9/127.9 MB\u001b[0m \u001b[31m7.5 MB/s\u001b[0m eta \u001b[36m0:00:00\u001b[0m\n",
            "\u001b[?25hDownloading nvidia_cusparse_cu12-12.3.1.170-py3-none-manylinux2014_x86_64.whl (207.5 MB)\n",
            "\u001b[2K   \u001b[90m━━━━━━━━━━━━━━━━━━━━━━━━━━━━━━━━━━━━━━━━\u001b[0m \u001b[32m207.5/207.5 MB\u001b[0m \u001b[31m5.4 MB/s\u001b[0m eta \u001b[36m0:00:00\u001b[0m\n",
            "\u001b[?25hDownloading nvidia_nvjitlink_cu12-12.4.127-py3-none-manylinux2014_x86_64.whl (21.1 MB)\n",
            "\u001b[2K   \u001b[90m━━━━━━━━━━━━━━━━━━━━━━━━━━━━━━━━━━━━━━━━\u001b[0m \u001b[32m21.1/21.1 MB\u001b[0m \u001b[31m66.4 MB/s\u001b[0m eta \u001b[36m0:00:00\u001b[0m\n",
            "\u001b[?25hDownloading ultralytics_thop-2.0.14-py3-none-any.whl (26 kB)\n",
            "Installing collected packages: nvidia-nvjitlink-cu12, nvidia-curand-cu12, nvidia-cufft-cu12, nvidia-cuda-runtime-cu12, nvidia-cuda-nvrtc-cu12, nvidia-cuda-cupti-cu12, nvidia-cublas-cu12, nvidia-cusparse-cu12, nvidia-cudnn-cu12, nvidia-cusolver-cu12, ultralytics-thop, ultralytics\n",
            "  Attempting uninstall: nvidia-nvjitlink-cu12\n",
            "    Found existing installation: nvidia-nvjitlink-cu12 12.5.82\n",
            "    Uninstalling nvidia-nvjitlink-cu12-12.5.82:\n",
            "      Successfully uninstalled nvidia-nvjitlink-cu12-12.5.82\n",
            "  Attempting uninstall: nvidia-curand-cu12\n",
            "    Found existing installation: nvidia-curand-cu12 10.3.6.82\n",
            "    Uninstalling nvidia-curand-cu12-10.3.6.82:\n",
            "      Successfully uninstalled nvidia-curand-cu12-10.3.6.82\n",
            "  Attempting uninstall: nvidia-cufft-cu12\n",
            "    Found existing installation: nvidia-cufft-cu12 11.2.3.61\n",
            "    Uninstalling nvidia-cufft-cu12-11.2.3.61:\n",
            "      Successfully uninstalled nvidia-cufft-cu12-11.2.3.61\n",
            "  Attempting uninstall: nvidia-cuda-runtime-cu12\n",
            "    Found existing installation: nvidia-cuda-runtime-cu12 12.5.82\n",
            "    Uninstalling nvidia-cuda-runtime-cu12-12.5.82:\n",
            "      Successfully uninstalled nvidia-cuda-runtime-cu12-12.5.82\n",
            "  Attempting uninstall: nvidia-cuda-nvrtc-cu12\n",
            "    Found existing installation: nvidia-cuda-nvrtc-cu12 12.5.82\n",
            "    Uninstalling nvidia-cuda-nvrtc-cu12-12.5.82:\n",
            "      Successfully uninstalled nvidia-cuda-nvrtc-cu12-12.5.82\n",
            "  Attempting uninstall: nvidia-cuda-cupti-cu12\n",
            "    Found existing installation: nvidia-cuda-cupti-cu12 12.5.82\n",
            "    Uninstalling nvidia-cuda-cupti-cu12-12.5.82:\n",
            "      Successfully uninstalled nvidia-cuda-cupti-cu12-12.5.82\n",
            "  Attempting uninstall: nvidia-cublas-cu12\n",
            "    Found existing installation: nvidia-cublas-cu12 12.5.3.2\n",
            "    Uninstalling nvidia-cublas-cu12-12.5.3.2:\n",
            "      Successfully uninstalled nvidia-cublas-cu12-12.5.3.2\n",
            "  Attempting uninstall: nvidia-cusparse-cu12\n",
            "    Found existing installation: nvidia-cusparse-cu12 12.5.1.3\n",
            "    Uninstalling nvidia-cusparse-cu12-12.5.1.3:\n",
            "      Successfully uninstalled nvidia-cusparse-cu12-12.5.1.3\n",
            "  Attempting uninstall: nvidia-cudnn-cu12\n",
            "    Found existing installation: nvidia-cudnn-cu12 9.3.0.75\n",
            "    Uninstalling nvidia-cudnn-cu12-9.3.0.75:\n",
            "      Successfully uninstalled nvidia-cudnn-cu12-9.3.0.75\n",
            "  Attempting uninstall: nvidia-cusolver-cu12\n",
            "    Found existing installation: nvidia-cusolver-cu12 11.6.3.83\n",
            "    Uninstalling nvidia-cusolver-cu12-11.6.3.83:\n",
            "      Successfully uninstalled nvidia-cusolver-cu12-11.6.3.83\n",
            "Successfully installed nvidia-cublas-cu12-12.4.5.8 nvidia-cuda-cupti-cu12-12.4.127 nvidia-cuda-nvrtc-cu12-12.4.127 nvidia-cuda-runtime-cu12-12.4.127 nvidia-cudnn-cu12-9.1.0.70 nvidia-cufft-cu12-11.2.1.3 nvidia-curand-cu12-10.3.5.147 nvidia-cusolver-cu12-11.6.1.9 nvidia-cusparse-cu12-12.3.1.170 nvidia-nvjitlink-cu12-12.4.127 ultralytics-8.3.127 ultralytics-thop-2.0.14\n"
          ]
        }
      ]
    },
    {
      "cell_type": "code",
      "source": [
        "!rm \"brain tumor.v2-release.yolov11.zip\""
      ],
      "metadata": {
        "id": "3nvK-jsJiu4c"
      },
      "execution_count": 3,
      "outputs": []
    },
    {
      "cell_type": "code",
      "source": [
        "!ls"
      ],
      "metadata": {
        "id": "155m051ti5UW"
      },
      "execution_count": 6,
      "outputs": []
    },
    {
      "cell_type": "code",
      "source": [
        "from google.colab import files\n",
        "uploaded = files.upload()  # Upload brain_dataset.zip"
      ],
      "metadata": {
        "colab": {
          "base_uri": "https://localhost:8080/",
          "height": 73
        },
        "id": "i4qPsFdbZy0v",
        "outputId": "a201ac7e-98fd-49dc-ca9d-7bac5c590387"
      },
      "execution_count": 7,
      "outputs": [
        {
          "output_type": "display_data",
          "data": {
            "text/plain": [
              "<IPython.core.display.HTML object>"
            ],
            "text/html": [
              "\n",
              "     <input type=\"file\" id=\"files-4419621f-8e1f-46e3-9719-26ba9e2026b1\" name=\"files[]\" multiple disabled\n",
              "        style=\"border:none\" />\n",
              "     <output id=\"result-4419621f-8e1f-46e3-9719-26ba9e2026b1\">\n",
              "      Upload widget is only available when the cell has been executed in the\n",
              "      current browser session. Please rerun this cell to enable.\n",
              "      </output>\n",
              "      <script>// Copyright 2017 Google LLC\n",
              "//\n",
              "// Licensed under the Apache License, Version 2.0 (the \"License\");\n",
              "// you may not use this file except in compliance with the License.\n",
              "// You may obtain a copy of the License at\n",
              "//\n",
              "//      http://www.apache.org/licenses/LICENSE-2.0\n",
              "//\n",
              "// Unless required by applicable law or agreed to in writing, software\n",
              "// distributed under the License is distributed on an \"AS IS\" BASIS,\n",
              "// WITHOUT WARRANTIES OR CONDITIONS OF ANY KIND, either express or implied.\n",
              "// See the License for the specific language governing permissions and\n",
              "// limitations under the License.\n",
              "\n",
              "/**\n",
              " * @fileoverview Helpers for google.colab Python module.\n",
              " */\n",
              "(function(scope) {\n",
              "function span(text, styleAttributes = {}) {\n",
              "  const element = document.createElement('span');\n",
              "  element.textContent = text;\n",
              "  for (const key of Object.keys(styleAttributes)) {\n",
              "    element.style[key] = styleAttributes[key];\n",
              "  }\n",
              "  return element;\n",
              "}\n",
              "\n",
              "// Max number of bytes which will be uploaded at a time.\n",
              "const MAX_PAYLOAD_SIZE = 100 * 1024;\n",
              "\n",
              "function _uploadFiles(inputId, outputId) {\n",
              "  const steps = uploadFilesStep(inputId, outputId);\n",
              "  const outputElement = document.getElementById(outputId);\n",
              "  // Cache steps on the outputElement to make it available for the next call\n",
              "  // to uploadFilesContinue from Python.\n",
              "  outputElement.steps = steps;\n",
              "\n",
              "  return _uploadFilesContinue(outputId);\n",
              "}\n",
              "\n",
              "// This is roughly an async generator (not supported in the browser yet),\n",
              "// where there are multiple asynchronous steps and the Python side is going\n",
              "// to poll for completion of each step.\n",
              "// This uses a Promise to block the python side on completion of each step,\n",
              "// then passes the result of the previous step as the input to the next step.\n",
              "function _uploadFilesContinue(outputId) {\n",
              "  const outputElement = document.getElementById(outputId);\n",
              "  const steps = outputElement.steps;\n",
              "\n",
              "  const next = steps.next(outputElement.lastPromiseValue);\n",
              "  return Promise.resolve(next.value.promise).then((value) => {\n",
              "    // Cache the last promise value to make it available to the next\n",
              "    // step of the generator.\n",
              "    outputElement.lastPromiseValue = value;\n",
              "    return next.value.response;\n",
              "  });\n",
              "}\n",
              "\n",
              "/**\n",
              " * Generator function which is called between each async step of the upload\n",
              " * process.\n",
              " * @param {string} inputId Element ID of the input file picker element.\n",
              " * @param {string} outputId Element ID of the output display.\n",
              " * @return {!Iterable<!Object>} Iterable of next steps.\n",
              " */\n",
              "function* uploadFilesStep(inputId, outputId) {\n",
              "  const inputElement = document.getElementById(inputId);\n",
              "  inputElement.disabled = false;\n",
              "\n",
              "  const outputElement = document.getElementById(outputId);\n",
              "  outputElement.innerHTML = '';\n",
              "\n",
              "  const pickedPromise = new Promise((resolve) => {\n",
              "    inputElement.addEventListener('change', (e) => {\n",
              "      resolve(e.target.files);\n",
              "    });\n",
              "  });\n",
              "\n",
              "  const cancel = document.createElement('button');\n",
              "  inputElement.parentElement.appendChild(cancel);\n",
              "  cancel.textContent = 'Cancel upload';\n",
              "  const cancelPromise = new Promise((resolve) => {\n",
              "    cancel.onclick = () => {\n",
              "      resolve(null);\n",
              "    };\n",
              "  });\n",
              "\n",
              "  // Wait for the user to pick the files.\n",
              "  const files = yield {\n",
              "    promise: Promise.race([pickedPromise, cancelPromise]),\n",
              "    response: {\n",
              "      action: 'starting',\n",
              "    }\n",
              "  };\n",
              "\n",
              "  cancel.remove();\n",
              "\n",
              "  // Disable the input element since further picks are not allowed.\n",
              "  inputElement.disabled = true;\n",
              "\n",
              "  if (!files) {\n",
              "    return {\n",
              "      response: {\n",
              "        action: 'complete',\n",
              "      }\n",
              "    };\n",
              "  }\n",
              "\n",
              "  for (const file of files) {\n",
              "    const li = document.createElement('li');\n",
              "    li.append(span(file.name, {fontWeight: 'bold'}));\n",
              "    li.append(span(\n",
              "        `(${file.type || 'n/a'}) - ${file.size} bytes, ` +\n",
              "        `last modified: ${\n",
              "            file.lastModifiedDate ? file.lastModifiedDate.toLocaleDateString() :\n",
              "                                    'n/a'} - `));\n",
              "    const percent = span('0% done');\n",
              "    li.appendChild(percent);\n",
              "\n",
              "    outputElement.appendChild(li);\n",
              "\n",
              "    const fileDataPromise = new Promise((resolve) => {\n",
              "      const reader = new FileReader();\n",
              "      reader.onload = (e) => {\n",
              "        resolve(e.target.result);\n",
              "      };\n",
              "      reader.readAsArrayBuffer(file);\n",
              "    });\n",
              "    // Wait for the data to be ready.\n",
              "    let fileData = yield {\n",
              "      promise: fileDataPromise,\n",
              "      response: {\n",
              "        action: 'continue',\n",
              "      }\n",
              "    };\n",
              "\n",
              "    // Use a chunked sending to avoid message size limits. See b/62115660.\n",
              "    let position = 0;\n",
              "    do {\n",
              "      const length = Math.min(fileData.byteLength - position, MAX_PAYLOAD_SIZE);\n",
              "      const chunk = new Uint8Array(fileData, position, length);\n",
              "      position += length;\n",
              "\n",
              "      const base64 = btoa(String.fromCharCode.apply(null, chunk));\n",
              "      yield {\n",
              "        response: {\n",
              "          action: 'append',\n",
              "          file: file.name,\n",
              "          data: base64,\n",
              "        },\n",
              "      };\n",
              "\n",
              "      let percentDone = fileData.byteLength === 0 ?\n",
              "          100 :\n",
              "          Math.round((position / fileData.byteLength) * 100);\n",
              "      percent.textContent = `${percentDone}% done`;\n",
              "\n",
              "    } while (position < fileData.byteLength);\n",
              "  }\n",
              "\n",
              "  // All done.\n",
              "  yield {\n",
              "    response: {\n",
              "      action: 'complete',\n",
              "    }\n",
              "  };\n",
              "}\n",
              "\n",
              "scope.google = scope.google || {};\n",
              "scope.google.colab = scope.google.colab || {};\n",
              "scope.google.colab._files = {\n",
              "  _uploadFiles,\n",
              "  _uploadFilesContinue,\n",
              "};\n",
              "})(self);\n",
              "</script> "
            ]
          },
          "metadata": {}
        },
        {
          "output_type": "stream",
          "name": "stdout",
          "text": [
            "Saving Tumor Detection.v8i.yolov11.zip to Tumor Detection.v8i.yolov11.zip\n"
          ]
        }
      ]
    },
    {
      "cell_type": "code",
      "source": [
        "!unzip \"Tumor Detection.v8i.yolov11.zip\" -d dataset"
      ],
      "metadata": {
        "colab": {
          "base_uri": "https://localhost:8080/"
        },
        "id": "2Nnd3lZGn-Jn",
        "outputId": "53cc290e-c10c-4116-9a17-36bdf717d5a7"
      },
      "execution_count": 10,
      "outputs": [
        {
          "output_type": "stream",
          "name": "stdout",
          "text": [
            "Archive:  Tumor Detection.v8i.yolov11.zip\n",
            "  inflating: dataset/README.dataset.txt  \n",
            "  inflating: dataset/README.roboflow.txt  \n",
            "  inflating: dataset/data.yaml       \n",
            "   creating: dataset/test/\n",
            "   creating: dataset/test/images/\n",
            " extracting: dataset/test/images/glioma_1025_jpg.rf.16f677de0fc84afa6b702f2fb8bdb3c2.jpg  \n",
            " extracting: dataset/test/images/glioma_1128_jpg.rf.e50d9e41b37fb138368e116b69077ff7.jpg  \n",
            " extracting: dataset/test/images/glioma_1166_jpg.rf.493c4f22cb16b11580eabec42f51c3de.jpg  \n",
            " extracting: dataset/test/images/glioma_1246_jpg.rf.af4ca1f2e92bf1e7df0360136f128877.jpg  \n",
            " extracting: dataset/test/images/glioma_20_jpg.rf.8fdf825f9ca269bc07429aee7781e8d9.jpg  \n",
            " extracting: dataset/test/images/glioma_271_jpg.rf.6bc0439160ce05a380aa64a2dbac9a3c.jpg  \n",
            " extracting: dataset/test/images/glioma_303_jpg.rf.6410c94058edf9c93866ef5805b93160.jpg  \n",
            " extracting: dataset/test/images/glioma_415_jpg.rf.5205038d338b9add63b4ac6bc7840027.jpg  \n",
            " extracting: dataset/test/images/glioma_624_jpg.rf.e51599649cf4bd18cc5753bba45d7f0e.jpg  \n",
            " extracting: dataset/test/images/glioma_645_jpg.rf.174c938c3c03cce8d6443bf84d42ee72.jpg  \n",
            " extracting: dataset/test/images/glioma_908_jpg.rf.cfc35d69a18fa2e2108e0b3bd341c50c.jpg  \n",
            " extracting: dataset/test/images/meningioma_1022_jpg.rf.a3ae957a204e1f240de0d48f7c95c0aa.jpg  \n",
            " extracting: dataset/test/images/meningioma_1033_jpg.rf.57939da16374670b0b8dec09780efd05.jpg  \n",
            " extracting: dataset/test/images/meningioma_1038_jpg.rf.1bbe682f1f254698336b40c2fcfb98f6.jpg  \n",
            " extracting: dataset/test/images/meningioma_1055_jpg.rf.bffdededf71b2dd1ddd58a85b19dc551.jpg  \n",
            " extracting: dataset/test/images/meningioma_1057_jpg.rf.4c14d3d33c6af38b5046c327a1d6fe82.jpg  \n",
            " extracting: dataset/test/images/meningioma_105_jpg.rf.ef2d90a43b6afbd4e3a485e7a2219fda.jpg  \n",
            " extracting: dataset/test/images/meningioma_1101_jpg.rf.253806a463b5efbefe18701576c15ff4.jpg  \n",
            " extracting: dataset/test/images/meningioma_1115_jpg.rf.5146653487f833e54a1d3a8f3e210387.jpg  \n",
            " extracting: dataset/test/images/meningioma_112_jpg.rf.d1496e2f31ce31292b3fc97dc8953c4d.jpg  \n",
            " extracting: dataset/test/images/meningioma_1133_jpg.rf.bcb616100e43747741b4edb241a1eb31.jpg  \n",
            " extracting: dataset/test/images/meningioma_1145_jpg.rf.14cad1f9efb3cad690ed0048b9172566.jpg  \n",
            " extracting: dataset/test/images/meningioma_1146_jpg.rf.592064ff6852418fe428a228a7c14458.jpg  \n",
            " extracting: dataset/test/images/meningioma_1152_jpg.rf.2c46dd587317f2b9c5e9a2c5de430451.jpg  \n",
            " extracting: dataset/test/images/meningioma_1181_jpg.rf.f6ebc3264691728d18b4a7d9d8db310f.jpg  \n",
            " extracting: dataset/test/images/meningioma_1230_jpg.rf.f495e43146e066014a65bc6857d37823.jpg  \n",
            " extracting: dataset/test/images/meningioma_1275_jpg.rf.b6e2bcb7f2860b9342ce2444dce38be6.jpg  \n",
            " extracting: dataset/test/images/meningioma_1295_jpg.rf.0359f711e7b531e5f1f4ab9f40760d7e.jpg  \n",
            " extracting: dataset/test/images/meningioma_1298_jpg.rf.7484c4423bea2e37fbc43e95a6efe49d.jpg  \n",
            " extracting: dataset/test/images/meningioma_1303_jpg.rf.32f0d7da2dc56921fe8ec643c33e4208.jpg  \n",
            " extracting: dataset/test/images/meningioma_1305_jpg.rf.b92edc12dcc851975e05fb8183f7e852.jpg  \n",
            " extracting: dataset/test/images/meningioma_135_jpg.rf.b1bd93c944be730f116109de74a88bb5.jpg  \n",
            " extracting: dataset/test/images/meningioma_154_jpg.rf.15a3986c3f2fa6680c43d5c864808d30.jpg  \n",
            " extracting: dataset/test/images/meningioma_162_jpg.rf.dc05b1f671232ea65449633717169354.jpg  \n",
            " extracting: dataset/test/images/meningioma_166_jpg.rf.553ccdb53cbacf921f31c01505446091.jpg  \n",
            " extracting: dataset/test/images/meningioma_182_jpg.rf.9879ad775852115c396699d01a14715e.jpg  \n",
            " extracting: dataset/test/images/meningioma_192_jpg.rf.0d871ff33594ea86b9df94bc06aaea95.jpg  \n",
            " extracting: dataset/test/images/meningioma_217_jpg.rf.66362d374e2b7e952fd5b9bcdaac4a61.jpg  \n",
            " extracting: dataset/test/images/meningioma_235_jpg.rf.3c0aa5bd40ba10e3788b0bd2fb247a7f.jpg  \n",
            " extracting: dataset/test/images/meningioma_262_jpg.rf.2554ed8c62ea72b2d25ecd98c4beaa88.jpg  \n",
            " extracting: dataset/test/images/meningioma_266_jpg.rf.69827cc77ab46c07c7d00774b55523c2.jpg  \n",
            " extracting: dataset/test/images/meningioma_304_jpg.rf.b8b5bc1e6b5a64ebff6cbb401f8552e4.jpg  \n",
            " extracting: dataset/test/images/meningioma_30_jpg.rf.4dddd0b0f30f68d88d8e8d697b3368c2.jpg  \n",
            " extracting: dataset/test/images/meningioma_323_jpg.rf.7d2c9c94a9e41d9ffd266795cad9ab06.jpg  \n",
            " extracting: dataset/test/images/meningioma_34_jpg.rf.4a3797c5c104b735b14bbb40b91527ee.jpg  \n",
            " extracting: dataset/test/images/meningioma_358_jpg.rf.34deaadaef565c5b4e85304541c517dc.jpg  \n",
            " extracting: dataset/test/images/meningioma_365_jpg.rf.b7d9b7522b1d683291b7b6992cb6a46f.jpg  \n",
            " extracting: dataset/test/images/meningioma_374_jpg.rf.c83034c04737583198e66d39a338e7fe.jpg  \n",
            " extracting: dataset/test/images/meningioma_419_jpg.rf.395691c15e215eae0002e54d7ba4d90a.jpg  \n",
            " extracting: dataset/test/images/meningioma_451_jpg.rf.cfca08aa09bbb6c1bd7cd2b5bcb912d4.jpg  \n",
            " extracting: dataset/test/images/meningioma_456_jpg.rf.9698d543f4d9f530aa4dc5cdec4eabae.jpg  \n",
            " extracting: dataset/test/images/meningioma_465_jpg.rf.9f59c836d9cb2c93bfb2110ce9547b66.jpg  \n",
            " extracting: dataset/test/images/meningioma_497_jpg.rf.8130e065ef9147951bd35bc3205aec42.jpg  \n",
            " extracting: dataset/test/images/meningioma_506_jpg.rf.5bf59f100f70b99b8b4568547fb1f4ca.jpg  \n",
            " extracting: dataset/test/images/meningioma_510_jpg.rf.999b31c360e035045634272999c756ec.jpg  \n",
            " extracting: dataset/test/images/meningioma_527_jpg.rf.e6e1894c4c938833c4c210580dd04ebc.jpg  \n",
            " extracting: dataset/test/images/meningioma_53_jpg.rf.3cb0497f3cdde5412da9a815e0e3517e.jpg  \n",
            " extracting: dataset/test/images/meningioma_560_jpg.rf.85153e1b2c9c1a5c7deb100dd7f57d90.jpg  \n",
            " extracting: dataset/test/images/meningioma_651_jpg.rf.49cf6799370954aae7af67202d4fa6ac.jpg  \n",
            " extracting: dataset/test/images/meningioma_668_jpg.rf.4f0ec7ad9633f559f01095357d417f35.jpg  \n",
            " extracting: dataset/test/images/meningioma_675_jpg.rf.8c131b8a54a96243ecc02dc94322c67d.jpg  \n",
            " extracting: dataset/test/images/meningioma_701_jpg.rf.9cdf2d43ac181d0388ff8cd566edc52c.jpg  \n",
            " extracting: dataset/test/images/meningioma_70_jpg.rf.74326b746ff7de210fecd85082106353.jpg  \n",
            " extracting: dataset/test/images/meningioma_71_jpg.rf.4d768fe0e92a33f05b52022d71b3c6e2.jpg  \n",
            " extracting: dataset/test/images/meningioma_731_jpg.rf.2bd246db438cf270810595e8d0237423.jpg  \n",
            " extracting: dataset/test/images/meningioma_736_jpg.rf.c9a572f1cf4c209e0753c703738acf07.jpg  \n",
            " extracting: dataset/test/images/meningioma_762_jpg.rf.74a206487cb23c9c5f9ed33f3691feee.jpg  \n",
            " extracting: dataset/test/images/meningioma_766_jpg.rf.0fe78e60877aa40c1f269270915f0638.jpg  \n",
            " extracting: dataset/test/images/meningioma_806_jpg.rf.ba5f0ea835c335c331216c7f8698c5ec.jpg  \n",
            " extracting: dataset/test/images/meningioma_815_jpg.rf.c387b3b143281c739a128d7c40c6cdfc.jpg  \n",
            " extracting: dataset/test/images/meningioma_830_jpg.rf.6547e68567b8dc50693b8ee36f4c34b6.jpg  \n",
            " extracting: dataset/test/images/meningioma_839_jpg.rf.eb9ffefc56b9890aaac438441bc55437.jpg  \n",
            " extracting: dataset/test/images/meningioma_858_jpg.rf.bc221e36d038380414310c5a62d653b2.jpg  \n",
            " extracting: dataset/test/images/meningioma_870_jpg.rf.0c898c8fc20bf99cd7feadb6ba5aab30.jpg  \n",
            " extracting: dataset/test/images/meningioma_888_jpg.rf.5ce7d193819b5442f63101a8246d5182.jpg  \n",
            " extracting: dataset/test/images/meningioma_891_jpg.rf.1f0962713a0b0efd8cee7e01675d112d.jpg  \n",
            " extracting: dataset/test/images/meningioma_932_jpg.rf.235b4d9c852bf6c7cfe81a360dc79c2a.jpg  \n",
            " extracting: dataset/test/images/meningioma_939_jpg.rf.bafde557daccc5e9a7fb3593f70b4350.jpg  \n",
            " extracting: dataset/test/images/meningioma_940_jpg.rf.b20d1eee5ed261cce833d9b0721091ff.jpg  \n",
            " extracting: dataset/test/images/meningioma_946_jpg.rf.2d85ff928044cae2d60c3e829eddf858.jpg  \n",
            " extracting: dataset/test/images/meningioma_952_jpg.rf.7d78afab1194f32d60f654dff7b63992.jpg  \n",
            " extracting: dataset/test/images/meningioma_980_jpg.rf.ec3c0151b878d9e3151f45d24a569b10.jpg  \n",
            " extracting: dataset/test/images/meningioma_9_jpg.rf.1ec25ef99acb20c85680f1ee2c645361.jpg  \n",
            " extracting: dataset/test/images/no_tumor_1017_jpg.rf.d093cf99983ea3ab2152c33badf67670.jpg  \n",
            " extracting: dataset/test/images/no_tumor_103_jpg.rf.7417b204153b777bad7d4feea556c46c.jpg  \n",
            " extracting: dataset/test/images/no_tumor_1057_jpg.rf.bdce430c79cb90a92f9be72ee2e91762.jpg  \n",
            " extracting: dataset/test/images/no_tumor_1083_jpg.rf.42860b2bbc5468e8fef4b662f67a8063.jpg  \n",
            " extracting: dataset/test/images/no_tumor_1084_jpg.rf.6ab8ffae24bb12415035cb777ec8d766.jpg  \n",
            " extracting: dataset/test/images/no_tumor_1087_jpg.rf.0832b41516e3d18f592ca8fd92e85a23.jpg  \n",
            " extracting: dataset/test/images/no_tumor_1094_jpg.rf.3f078fe593a959a09aafad50b5f626de.jpg  \n",
            " extracting: dataset/test/images/no_tumor_1131_jpg.rf.b015e0510e491ab4c8338f6ed1fa24b7.jpg  \n",
            " extracting: dataset/test/images/no_tumor_1135_jpg.rf.aaf9671571fcc78cbdae705ef39c6b54.jpg  \n",
            " extracting: dataset/test/images/no_tumor_1222_jpg.rf.9d3fdd5407e7319948c3eebd72afcd9a.jpg  \n",
            " extracting: dataset/test/images/no_tumor_1235_jpg.rf.ebc14a134e6240a90507ca5f52bf64f5.jpg  \n",
            " extracting: dataset/test/images/no_tumor_1246_jpg.rf.52fc8fad7106d9f16ed7682d20f4304a.jpg  \n",
            " extracting: dataset/test/images/no_tumor_1260_jpg.rf.be3a2924581b2a6f9b837ea3f8da6610.jpg  \n",
            " extracting: dataset/test/images/no_tumor_1279_jpg.rf.13ab930ae492d754ee46e01261055a08.jpg  \n",
            " extracting: dataset/test/images/no_tumor_1280_jpg.rf.ec2e8443605c0f4de091d313c290efe5.jpg  \n",
            " extracting: dataset/test/images/no_tumor_1303_jpg.rf.3e7ca7c2c7a0456d80637af2ba561df2.jpg  \n",
            " extracting: dataset/test/images/no_tumor_130_jpg.rf.a42ededfa17b8b0abab6ef31f9c3ac33.jpg  \n",
            " extracting: dataset/test/images/no_tumor_132_jpg.rf.644d1b0af2ec2af0993dd3a0bca433c7.jpg  \n",
            " extracting: dataset/test/images/no_tumor_1366_jpg.rf.05783fac68d14ab06d3760d8d4cb76b4.jpg  \n",
            " extracting: dataset/test/images/no_tumor_1395_jpg.rf.03796587477345120e083a257ba461be.jpg  \n",
            " extracting: dataset/test/images/no_tumor_1456_jpg.rf.c59e0b6c7c16eac5a5d9ae989e69e564.jpg  \n",
            " extracting: dataset/test/images/no_tumor_1486_jpg.rf.6442bceade29ef8bc7265f87b53641e3.jpg  \n",
            " extracting: dataset/test/images/no_tumor_1503_jpg.rf.796331e4eaaa75a5c2a049ae0e50c264.jpg  \n",
            " extracting: dataset/test/images/no_tumor_1506_jpg.rf.308b9703b668c845418ae3d201c892ec.jpg  \n",
            " extracting: dataset/test/images/no_tumor_1514_jpg.rf.5283527681bc5c241a570fcaf45db988.jpg  \n",
            " extracting: dataset/test/images/no_tumor_1517_jpg.rf.cd6da20ee5fb42e553d4ee207a463f15.jpg  \n",
            " extracting: dataset/test/images/no_tumor_1534_jpg.rf.ae8b76f23d29d444a98617b75485c09d.jpg  \n",
            " extracting: dataset/test/images/no_tumor_1563_jpg.rf.5544261b8c8130bd54574f994fcad2d6.jpg  \n",
            " extracting: dataset/test/images/no_tumor_157_jpg.rf.71dd2a7bda42370dea43c2b2336f0ea0.jpg  \n",
            " extracting: dataset/test/images/no_tumor_165_jpg.rf.e24cd8832f54f68502464b9790f274fd.jpg  \n",
            " extracting: dataset/test/images/no_tumor_168_jpg.rf.587bc894e659b547ff6fed7350269023.jpg  \n",
            " extracting: dataset/test/images/no_tumor_170_jpg.rf.d686b1e375b6a7a0269653fabf66fc35.jpg  \n",
            " extracting: dataset/test/images/no_tumor_192_jpg.rf.0575d84316d72c844abd5a74f161af37.jpg  \n",
            " extracting: dataset/test/images/no_tumor_203_jpg.rf.7ce7feed31b98210a3a7d51c93f55953.jpg  \n",
            " extracting: dataset/test/images/no_tumor_250_jpg.rf.13037545f5983fff91452609f86b89e1.jpg  \n",
            " extracting: dataset/test/images/no_tumor_252_jpg.rf.fd46289d06cd1fefdb478d81c7f39092.jpg  \n",
            " extracting: dataset/test/images/no_tumor_300_jpg.rf.276851e5fcf5401c7b2acbe29725c9d9.jpg  \n",
            " extracting: dataset/test/images/no_tumor_321_jpg.rf.dc0209e3c99527451fc3bc4ce18d40aa.jpg  \n",
            " extracting: dataset/test/images/no_tumor_331_jpg.rf.5917a7f2ea0581f6e2aef7cec1299ec9.jpg  \n",
            " extracting: dataset/test/images/no_tumor_342_jpg.rf.b236d0e435bb0636e2c03c9ffb149748.jpg  \n",
            " extracting: dataset/test/images/no_tumor_402_jpg.rf.abf3c53989455ff55ba4caf865098116.jpg  \n",
            " extracting: dataset/test/images/no_tumor_447_jpg.rf.c9e4d16f37b596d376f3d34d32df3a00.jpg  \n",
            " extracting: dataset/test/images/no_tumor_559_jpg.rf.e3fcb0deee33451b820a6763db474738.jpg  \n",
            " extracting: dataset/test/images/no_tumor_608_jpg.rf.8609c33a14a4501aeba29a0d1819c03e.jpg  \n",
            " extracting: dataset/test/images/no_tumor_614_jpg.rf.7a3b1440598797e5f0feb7c53b470453.jpg  \n",
            " extracting: dataset/test/images/no_tumor_636_jpg.rf.74273782adf22b1420e0cf2da9c2ca2a.jpg  \n",
            " extracting: dataset/test/images/no_tumor_657_jpg.rf.fa6a4edcdfeb229c60ec07fbbb231e4a.jpg  \n",
            " extracting: dataset/test/images/no_tumor_684_jpg.rf.50fd242be19ffdd7c712c33754b2c874.jpg  \n",
            " extracting: dataset/test/images/no_tumor_686_jpg.rf.fd5423484168879f64c46c5be72728ae.jpg  \n",
            " extracting: dataset/test/images/no_tumor_711_jpg.rf.01d1a24127679c8360494fed3d2ba05d.jpg  \n",
            " extracting: dataset/test/images/no_tumor_714_jpg.rf.4c3533044bb60daeda9e6c1c8ad8d7de.jpg  \n",
            " extracting: dataset/test/images/no_tumor_725_jpg.rf.ed8d3a631c3ec106c95ea4b6dbeee0a5.jpg  \n",
            " extracting: dataset/test/images/no_tumor_728_jpg.rf.51d9e2d01ffb272fa89e86a80755a88f.jpg  \n",
            " extracting: dataset/test/images/no_tumor_730_jpg.rf.eb311fc7af73779cb4fbbdcce760e449.jpg  \n",
            " extracting: dataset/test/images/no_tumor_755_jpg.rf.0c0fe0d5fe641af6f45465584a291409.jpg  \n",
            " extracting: dataset/test/images/no_tumor_795_jpg.rf.2d8c2c4be202abc3264f0139cdcae3b6.jpg  \n",
            " extracting: dataset/test/images/no_tumor_80_jpg.rf.98e07d6b05f91f828f12e33238c2cfc0.jpg  \n",
            " extracting: dataset/test/images/no_tumor_817_jpg.rf.0e98079076d5487362d66caa0555d27a.jpg  \n",
            " extracting: dataset/test/images/no_tumor_831_jpg.rf.0ee00f5ebdc1cfb934dc59ea63830689.jpg  \n",
            " extracting: dataset/test/images/no_tumor_835_jpg.rf.e4221530df42441c0a800d47b4810510.jpg  \n",
            " extracting: dataset/test/images/no_tumor_845_jpg.rf.b49a4061efc2333a98ac0cee53cb0fee.jpg  \n",
            " extracting: dataset/test/images/no_tumor_882_jpg.rf.3fee1f4347079e9aea3d067d9e5f0878.jpg  \n",
            " extracting: dataset/test/images/no_tumor_935_jpg.rf.e0b7c8e5d5cf1cfcabfa469e29f76df5.jpg  \n",
            " extracting: dataset/test/images/no_tumor_95_jpg.rf.9a9ca1c789135389307197d34bcbdaf9.jpg  \n",
            " extracting: dataset/test/images/no_tumor_961_jpg.rf.ed570861ac63c10225fcd2d3f7eb5516.jpg  \n",
            " extracting: dataset/test/images/no_tumor_971_jpg.rf.4daf360da23ae74a29f56d0bf45525fe.jpg  \n",
            " extracting: dataset/test/images/no_tumor_979_jpg.rf.c1b559560c799b78a6c6cf02fdcf8e0a.jpg  \n",
            " extracting: dataset/test/images/no_tumor_98_jpg.rf.5c4571b394f09956f287681f671fcd9f.jpg  \n",
            " extracting: dataset/test/images/pituitary_1006_jpg.rf.ea728f46f66b6ef65c3e4f11028bd72b.jpg  \n",
            " extracting: dataset/test/images/pituitary_1021_jpg.rf.1d5bb8f146294ff9b717171b79c58c40.jpg  \n",
            " extracting: dataset/test/images/pituitary_1052_jpg.rf.9b658058ddc5049d6363cb79a6860201.jpg  \n",
            " extracting: dataset/test/images/pituitary_1059_jpg.rf.d49c0fe0491f79ac1f5044366afa4434.jpg  \n",
            " extracting: dataset/test/images/pituitary_1065_jpg.rf.e0a3a71bbfb1f577393cd74507634bff.jpg  \n",
            " extracting: dataset/test/images/pituitary_1105_jpg.rf.d6974206cb3f7a490e199d230057060b.jpg  \n",
            " extracting: dataset/test/images/pituitary_1187_jpg.rf.7a2a3b7c5b2945a04a5758baf1eb2053.jpg  \n",
            " extracting: dataset/test/images/pituitary_1204_jpg.rf.c5472c4f754076057a42aaf3b32039eb.jpg  \n",
            " extracting: dataset/test/images/pituitary_1251_jpg.rf.cd511f5adc61d2902250580768eec456.jpg  \n",
            " extracting: dataset/test/images/pituitary_1272_jpg.rf.594703e08212f85686f7158102db9177.jpg  \n",
            " extracting: dataset/test/images/pituitary_1307_jpg.rf.71c6f12597dff5e33452666c82b9f7a5.jpg  \n",
            " extracting: dataset/test/images/pituitary_1326_jpg.rf.7c1b3104a0cd6cd6893cd6888c37bbb1.jpg  \n",
            " extracting: dataset/test/images/pituitary_1338_jpg.rf.82b8ed392a5945d4d2d9d4af60479f84.jpg  \n",
            " extracting: dataset/test/images/pituitary_1360_jpg.rf.6926d25d69846f184ef41cfe8717a05f.jpg  \n",
            " extracting: dataset/test/images/pituitary_1378_jpg.rf.22ecd431ad0f1cb8d0df887540a6ecb8.jpg  \n",
            " extracting: dataset/test/images/pituitary_321_jpg.rf.d4576351b602a4af3a3d9ddea7d1ef32.jpg  \n",
            " extracting: dataset/test/images/pituitary_341_jpg.rf.2f9b62cb2495a2ede6ffc46ad76165eb.jpg  \n",
            " extracting: dataset/test/images/pituitary_391_jpg.rf.4ba70c13d5396d34a79229c732bfb20a.jpg  \n",
            " extracting: dataset/test/images/pituitary_3_jpg.rf.8e11773d7df074a0925d9719000abbeb.jpg  \n",
            " extracting: dataset/test/images/pituitary_407_jpg.rf.52373232b5b4c4b4c202b2c0c67a7fcd.jpg  \n",
            " extracting: dataset/test/images/pituitary_417_jpg.rf.138e977276381b0359656f43448e6220.jpg  \n",
            " extracting: dataset/test/images/pituitary_438_jpg.rf.b9609faec37851a1b969368e51157651.jpg  \n",
            " extracting: dataset/test/images/pituitary_440_jpg.rf.a9395382d525f40e0b361401537ed4b0.jpg  \n",
            " extracting: dataset/test/images/pituitary_509_jpg.rf.6736facf090a01241fc32a3b3b1fba64.jpg  \n",
            " extracting: dataset/test/images/pituitary_52_jpg.rf.fdcfa5d9e26de3ff6e7ee36d90012e16.jpg  \n",
            " extracting: dataset/test/images/pituitary_561_jpg.rf.b00fb38cd3dbec9b1ed501d173f7d70d.jpg  \n",
            " extracting: dataset/test/images/pituitary_599_jpg.rf.4a0692c8c7a490514edbc048a6edca07.jpg  \n",
            " extracting: dataset/test/images/pituitary_625_jpg.rf.ca8f7a18c06803c390230d402a65b912.jpg  \n",
            " extracting: dataset/test/images/pituitary_627_jpg.rf.403fab631a23c9350fb11f3a6268a30e.jpg  \n",
            " extracting: dataset/test/images/pituitary_644_jpg.rf.4601df0379d94a3ba352f78c975582d6.jpg  \n",
            " extracting: dataset/test/images/pituitary_646_jpg.rf.5408226f1b8703afcae0a97600f9e1cb.jpg  \n",
            " extracting: dataset/test/images/pituitary_658_jpg.rf.9c7c0b2a6e6290e814544b2a1aac8c24.jpg  \n",
            " extracting: dataset/test/images/pituitary_684_jpg.rf.f1133419ed0cc3972a0ceb003c7e7583.jpg  \n",
            " extracting: dataset/test/images/pituitary_740_jpg.rf.a39ec3b80c5146df13a965fa502996e1.jpg  \n",
            " extracting: dataset/test/images/pituitary_773_jpg.rf.c0b6be2cc258ec4f46c19216462aa17b.jpg  \n",
            " extracting: dataset/test/images/pituitary_82_jpg.rf.266f74c402ba07b9828375bea79250f4.jpg  \n",
            " extracting: dataset/test/images/pituitary_914_jpg.rf.3a3f86484fca47f2d1495ef13700d694.jpg  \n",
            " extracting: dataset/test/images/pituitary_916_jpg.rf.2e7aff9c3a4e9394f05ddb39486732fd.jpg  \n",
            " extracting: dataset/test/images/pituitary_960_jpg.rf.b21c9456dc94792be07f04c9f6cd8079.jpg  \n",
            " extracting: dataset/test/images/pituitary_981_jpg.rf.73945e61a724376de07a7aad24868456.jpg  \n",
            "   creating: dataset/test/labels/\n",
            "  inflating: dataset/test/labels/glioma_1025_jpg.rf.16f677de0fc84afa6b702f2fb8bdb3c2.txt  \n",
            "  inflating: dataset/test/labels/glioma_1128_jpg.rf.e50d9e41b37fb138368e116b69077ff7.txt  \n",
            "  inflating: dataset/test/labels/glioma_1166_jpg.rf.493c4f22cb16b11580eabec42f51c3de.txt  \n",
            "  inflating: dataset/test/labels/glioma_1246_jpg.rf.af4ca1f2e92bf1e7df0360136f128877.txt  \n",
            "  inflating: dataset/test/labels/glioma_20_jpg.rf.8fdf825f9ca269bc07429aee7781e8d9.txt  \n",
            "  inflating: dataset/test/labels/glioma_271_jpg.rf.6bc0439160ce05a380aa64a2dbac9a3c.txt  \n",
            "  inflating: dataset/test/labels/glioma_303_jpg.rf.6410c94058edf9c93866ef5805b93160.txt  \n",
            "  inflating: dataset/test/labels/glioma_415_jpg.rf.5205038d338b9add63b4ac6bc7840027.txt  \n",
            "  inflating: dataset/test/labels/glioma_624_jpg.rf.e51599649cf4bd18cc5753bba45d7f0e.txt  \n",
            "  inflating: dataset/test/labels/glioma_645_jpg.rf.174c938c3c03cce8d6443bf84d42ee72.txt  \n",
            "  inflating: dataset/test/labels/glioma_908_jpg.rf.cfc35d69a18fa2e2108e0b3bd341c50c.txt  \n",
            "  inflating: dataset/test/labels/meningioma_1022_jpg.rf.a3ae957a204e1f240de0d48f7c95c0aa.txt  \n",
            "  inflating: dataset/test/labels/meningioma_1033_jpg.rf.57939da16374670b0b8dec09780efd05.txt  \n",
            "  inflating: dataset/test/labels/meningioma_1038_jpg.rf.1bbe682f1f254698336b40c2fcfb98f6.txt  \n",
            "  inflating: dataset/test/labels/meningioma_1055_jpg.rf.bffdededf71b2dd1ddd58a85b19dc551.txt  \n",
            "  inflating: dataset/test/labels/meningioma_1057_jpg.rf.4c14d3d33c6af38b5046c327a1d6fe82.txt  \n",
            "  inflating: dataset/test/labels/meningioma_105_jpg.rf.ef2d90a43b6afbd4e3a485e7a2219fda.txt  \n",
            "  inflating: dataset/test/labels/meningioma_1101_jpg.rf.253806a463b5efbefe18701576c15ff4.txt  \n",
            "  inflating: dataset/test/labels/meningioma_1115_jpg.rf.5146653487f833e54a1d3a8f3e210387.txt  \n",
            "  inflating: dataset/test/labels/meningioma_112_jpg.rf.d1496e2f31ce31292b3fc97dc8953c4d.txt  \n",
            "  inflating: dataset/test/labels/meningioma_1133_jpg.rf.bcb616100e43747741b4edb241a1eb31.txt  \n",
            "  inflating: dataset/test/labels/meningioma_1145_jpg.rf.14cad1f9efb3cad690ed0048b9172566.txt  \n",
            "  inflating: dataset/test/labels/meningioma_1146_jpg.rf.592064ff6852418fe428a228a7c14458.txt  \n",
            "  inflating: dataset/test/labels/meningioma_1152_jpg.rf.2c46dd587317f2b9c5e9a2c5de430451.txt  \n",
            "  inflating: dataset/test/labels/meningioma_1181_jpg.rf.f6ebc3264691728d18b4a7d9d8db310f.txt  \n",
            "  inflating: dataset/test/labels/meningioma_1230_jpg.rf.f495e43146e066014a65bc6857d37823.txt  \n",
            "  inflating: dataset/test/labels/meningioma_1275_jpg.rf.b6e2bcb7f2860b9342ce2444dce38be6.txt  \n",
            "  inflating: dataset/test/labels/meningioma_1295_jpg.rf.0359f711e7b531e5f1f4ab9f40760d7e.txt  \n",
            "  inflating: dataset/test/labels/meningioma_1298_jpg.rf.7484c4423bea2e37fbc43e95a6efe49d.txt  \n",
            "  inflating: dataset/test/labels/meningioma_1303_jpg.rf.32f0d7da2dc56921fe8ec643c33e4208.txt  \n",
            "  inflating: dataset/test/labels/meningioma_1305_jpg.rf.b92edc12dcc851975e05fb8183f7e852.txt  \n",
            "  inflating: dataset/test/labels/meningioma_135_jpg.rf.b1bd93c944be730f116109de74a88bb5.txt  \n",
            "  inflating: dataset/test/labels/meningioma_154_jpg.rf.15a3986c3f2fa6680c43d5c864808d30.txt  \n",
            "  inflating: dataset/test/labels/meningioma_162_jpg.rf.dc05b1f671232ea65449633717169354.txt  \n",
            "  inflating: dataset/test/labels/meningioma_166_jpg.rf.553ccdb53cbacf921f31c01505446091.txt  \n",
            "  inflating: dataset/test/labels/meningioma_182_jpg.rf.9879ad775852115c396699d01a14715e.txt  \n",
            "  inflating: dataset/test/labels/meningioma_192_jpg.rf.0d871ff33594ea86b9df94bc06aaea95.txt  \n",
            "  inflating: dataset/test/labels/meningioma_217_jpg.rf.66362d374e2b7e952fd5b9bcdaac4a61.txt  \n",
            "  inflating: dataset/test/labels/meningioma_235_jpg.rf.3c0aa5bd40ba10e3788b0bd2fb247a7f.txt  \n",
            "  inflating: dataset/test/labels/meningioma_262_jpg.rf.2554ed8c62ea72b2d25ecd98c4beaa88.txt  \n",
            "  inflating: dataset/test/labels/meningioma_266_jpg.rf.69827cc77ab46c07c7d00774b55523c2.txt  \n",
            "  inflating: dataset/test/labels/meningioma_304_jpg.rf.b8b5bc1e6b5a64ebff6cbb401f8552e4.txt  \n",
            "  inflating: dataset/test/labels/meningioma_30_jpg.rf.4dddd0b0f30f68d88d8e8d697b3368c2.txt  \n",
            "  inflating: dataset/test/labels/meningioma_323_jpg.rf.7d2c9c94a9e41d9ffd266795cad9ab06.txt  \n",
            "  inflating: dataset/test/labels/meningioma_34_jpg.rf.4a3797c5c104b735b14bbb40b91527ee.txt  \n",
            "  inflating: dataset/test/labels/meningioma_358_jpg.rf.34deaadaef565c5b4e85304541c517dc.txt  \n",
            "  inflating: dataset/test/labels/meningioma_365_jpg.rf.b7d9b7522b1d683291b7b6992cb6a46f.txt  \n",
            "  inflating: dataset/test/labels/meningioma_374_jpg.rf.c83034c04737583198e66d39a338e7fe.txt  \n",
            "  inflating: dataset/test/labels/meningioma_419_jpg.rf.395691c15e215eae0002e54d7ba4d90a.txt  \n",
            "  inflating: dataset/test/labels/meningioma_451_jpg.rf.cfca08aa09bbb6c1bd7cd2b5bcb912d4.txt  \n",
            "  inflating: dataset/test/labels/meningioma_456_jpg.rf.9698d543f4d9f530aa4dc5cdec4eabae.txt  \n",
            "  inflating: dataset/test/labels/meningioma_465_jpg.rf.9f59c836d9cb2c93bfb2110ce9547b66.txt  \n",
            "  inflating: dataset/test/labels/meningioma_497_jpg.rf.8130e065ef9147951bd35bc3205aec42.txt  \n",
            "  inflating: dataset/test/labels/meningioma_506_jpg.rf.5bf59f100f70b99b8b4568547fb1f4ca.txt  \n",
            "  inflating: dataset/test/labels/meningioma_510_jpg.rf.999b31c360e035045634272999c756ec.txt  \n",
            "  inflating: dataset/test/labels/meningioma_527_jpg.rf.e6e1894c4c938833c4c210580dd04ebc.txt  \n",
            "  inflating: dataset/test/labels/meningioma_53_jpg.rf.3cb0497f3cdde5412da9a815e0e3517e.txt  \n",
            "  inflating: dataset/test/labels/meningioma_560_jpg.rf.85153e1b2c9c1a5c7deb100dd7f57d90.txt  \n",
            "  inflating: dataset/test/labels/meningioma_651_jpg.rf.49cf6799370954aae7af67202d4fa6ac.txt  \n",
            "  inflating: dataset/test/labels/meningioma_668_jpg.rf.4f0ec7ad9633f559f01095357d417f35.txt  \n",
            "  inflating: dataset/test/labels/meningioma_675_jpg.rf.8c131b8a54a96243ecc02dc94322c67d.txt  \n",
            "  inflating: dataset/test/labels/meningioma_701_jpg.rf.9cdf2d43ac181d0388ff8cd566edc52c.txt  \n",
            "  inflating: dataset/test/labels/meningioma_70_jpg.rf.74326b746ff7de210fecd85082106353.txt  \n",
            "  inflating: dataset/test/labels/meningioma_71_jpg.rf.4d768fe0e92a33f05b52022d71b3c6e2.txt  \n",
            "  inflating: dataset/test/labels/meningioma_731_jpg.rf.2bd246db438cf270810595e8d0237423.txt  \n",
            "  inflating: dataset/test/labels/meningioma_736_jpg.rf.c9a572f1cf4c209e0753c703738acf07.txt  \n",
            "  inflating: dataset/test/labels/meningioma_762_jpg.rf.74a206487cb23c9c5f9ed33f3691feee.txt  \n",
            "  inflating: dataset/test/labels/meningioma_766_jpg.rf.0fe78e60877aa40c1f269270915f0638.txt  \n",
            "  inflating: dataset/test/labels/meningioma_806_jpg.rf.ba5f0ea835c335c331216c7f8698c5ec.txt  \n",
            "  inflating: dataset/test/labels/meningioma_815_jpg.rf.c387b3b143281c739a128d7c40c6cdfc.txt  \n",
            "  inflating: dataset/test/labels/meningioma_830_jpg.rf.6547e68567b8dc50693b8ee36f4c34b6.txt  \n",
            "  inflating: dataset/test/labels/meningioma_839_jpg.rf.eb9ffefc56b9890aaac438441bc55437.txt  \n",
            "  inflating: dataset/test/labels/meningioma_858_jpg.rf.bc221e36d038380414310c5a62d653b2.txt  \n",
            "  inflating: dataset/test/labels/meningioma_870_jpg.rf.0c898c8fc20bf99cd7feadb6ba5aab30.txt  \n",
            "  inflating: dataset/test/labels/meningioma_888_jpg.rf.5ce7d193819b5442f63101a8246d5182.txt  \n",
            "  inflating: dataset/test/labels/meningioma_891_jpg.rf.1f0962713a0b0efd8cee7e01675d112d.txt  \n",
            "  inflating: dataset/test/labels/meningioma_932_jpg.rf.235b4d9c852bf6c7cfe81a360dc79c2a.txt  \n",
            "  inflating: dataset/test/labels/meningioma_939_jpg.rf.bafde557daccc5e9a7fb3593f70b4350.txt  \n",
            "  inflating: dataset/test/labels/meningioma_940_jpg.rf.b20d1eee5ed261cce833d9b0721091ff.txt  \n",
            "  inflating: dataset/test/labels/meningioma_946_jpg.rf.2d85ff928044cae2d60c3e829eddf858.txt  \n",
            "  inflating: dataset/test/labels/meningioma_952_jpg.rf.7d78afab1194f32d60f654dff7b63992.txt  \n",
            "  inflating: dataset/test/labels/meningioma_980_jpg.rf.ec3c0151b878d9e3151f45d24a569b10.txt  \n",
            "  inflating: dataset/test/labels/meningioma_9_jpg.rf.1ec25ef99acb20c85680f1ee2c645361.txt  \n",
            "  inflating: dataset/test/labels/no_tumor_1017_jpg.rf.d093cf99983ea3ab2152c33badf67670.txt  \n",
            "  inflating: dataset/test/labels/no_tumor_103_jpg.rf.7417b204153b777bad7d4feea556c46c.txt  \n",
            "  inflating: dataset/test/labels/no_tumor_1057_jpg.rf.bdce430c79cb90a92f9be72ee2e91762.txt  \n",
            "  inflating: dataset/test/labels/no_tumor_1083_jpg.rf.42860b2bbc5468e8fef4b662f67a8063.txt  \n",
            "  inflating: dataset/test/labels/no_tumor_1084_jpg.rf.6ab8ffae24bb12415035cb777ec8d766.txt  \n",
            "  inflating: dataset/test/labels/no_tumor_1087_jpg.rf.0832b41516e3d18f592ca8fd92e85a23.txt  \n",
            "  inflating: dataset/test/labels/no_tumor_1094_jpg.rf.3f078fe593a959a09aafad50b5f626de.txt  \n",
            "  inflating: dataset/test/labels/no_tumor_1131_jpg.rf.b015e0510e491ab4c8338f6ed1fa24b7.txt  \n",
            "  inflating: dataset/test/labels/no_tumor_1135_jpg.rf.aaf9671571fcc78cbdae705ef39c6b54.txt  \n",
            "  inflating: dataset/test/labels/no_tumor_1222_jpg.rf.9d3fdd5407e7319948c3eebd72afcd9a.txt  \n",
            "  inflating: dataset/test/labels/no_tumor_1235_jpg.rf.ebc14a134e6240a90507ca5f52bf64f5.txt  \n",
            "  inflating: dataset/test/labels/no_tumor_1246_jpg.rf.52fc8fad7106d9f16ed7682d20f4304a.txt  \n",
            "  inflating: dataset/test/labels/no_tumor_1260_jpg.rf.be3a2924581b2a6f9b837ea3f8da6610.txt  \n",
            "  inflating: dataset/test/labels/no_tumor_1279_jpg.rf.13ab930ae492d754ee46e01261055a08.txt  \n",
            "  inflating: dataset/test/labels/no_tumor_1280_jpg.rf.ec2e8443605c0f4de091d313c290efe5.txt  \n",
            "  inflating: dataset/test/labels/no_tumor_1303_jpg.rf.3e7ca7c2c7a0456d80637af2ba561df2.txt  \n",
            "  inflating: dataset/test/labels/no_tumor_130_jpg.rf.a42ededfa17b8b0abab6ef31f9c3ac33.txt  \n",
            "  inflating: dataset/test/labels/no_tumor_132_jpg.rf.644d1b0af2ec2af0993dd3a0bca433c7.txt  \n",
            "  inflating: dataset/test/labels/no_tumor_1366_jpg.rf.05783fac68d14ab06d3760d8d4cb76b4.txt  \n",
            "  inflating: dataset/test/labels/no_tumor_1395_jpg.rf.03796587477345120e083a257ba461be.txt  \n",
            "  inflating: dataset/test/labels/no_tumor_1456_jpg.rf.c59e0b6c7c16eac5a5d9ae989e69e564.txt  \n",
            "  inflating: dataset/test/labels/no_tumor_1486_jpg.rf.6442bceade29ef8bc7265f87b53641e3.txt  \n",
            "  inflating: dataset/test/labels/no_tumor_1503_jpg.rf.796331e4eaaa75a5c2a049ae0e50c264.txt  \n",
            "  inflating: dataset/test/labels/no_tumor_1506_jpg.rf.308b9703b668c845418ae3d201c892ec.txt  \n",
            "  inflating: dataset/test/labels/no_tumor_1514_jpg.rf.5283527681bc5c241a570fcaf45db988.txt  \n",
            "  inflating: dataset/test/labels/no_tumor_1517_jpg.rf.cd6da20ee5fb42e553d4ee207a463f15.txt  \n",
            "  inflating: dataset/test/labels/no_tumor_1534_jpg.rf.ae8b76f23d29d444a98617b75485c09d.txt  \n",
            "  inflating: dataset/test/labels/no_tumor_1563_jpg.rf.5544261b8c8130bd54574f994fcad2d6.txt  \n",
            "  inflating: dataset/test/labels/no_tumor_157_jpg.rf.71dd2a7bda42370dea43c2b2336f0ea0.txt  \n",
            "  inflating: dataset/test/labels/no_tumor_165_jpg.rf.e24cd8832f54f68502464b9790f274fd.txt  \n",
            "  inflating: dataset/test/labels/no_tumor_168_jpg.rf.587bc894e659b547ff6fed7350269023.txt  \n",
            "  inflating: dataset/test/labels/no_tumor_170_jpg.rf.d686b1e375b6a7a0269653fabf66fc35.txt  \n",
            "  inflating: dataset/test/labels/no_tumor_192_jpg.rf.0575d84316d72c844abd5a74f161af37.txt  \n",
            "  inflating: dataset/test/labels/no_tumor_203_jpg.rf.7ce7feed31b98210a3a7d51c93f55953.txt  \n",
            "  inflating: dataset/test/labels/no_tumor_250_jpg.rf.13037545f5983fff91452609f86b89e1.txt  \n",
            "  inflating: dataset/test/labels/no_tumor_252_jpg.rf.fd46289d06cd1fefdb478d81c7f39092.txt  \n",
            "  inflating: dataset/test/labels/no_tumor_300_jpg.rf.276851e5fcf5401c7b2acbe29725c9d9.txt  \n",
            "  inflating: dataset/test/labels/no_tumor_321_jpg.rf.dc0209e3c99527451fc3bc4ce18d40aa.txt  \n",
            "  inflating: dataset/test/labels/no_tumor_331_jpg.rf.5917a7f2ea0581f6e2aef7cec1299ec9.txt  \n",
            "  inflating: dataset/test/labels/no_tumor_342_jpg.rf.b236d0e435bb0636e2c03c9ffb149748.txt  \n",
            "  inflating: dataset/test/labels/no_tumor_402_jpg.rf.abf3c53989455ff55ba4caf865098116.txt  \n",
            "  inflating: dataset/test/labels/no_tumor_447_jpg.rf.c9e4d16f37b596d376f3d34d32df3a00.txt  \n",
            "  inflating: dataset/test/labels/no_tumor_559_jpg.rf.e3fcb0deee33451b820a6763db474738.txt  \n",
            "  inflating: dataset/test/labels/no_tumor_608_jpg.rf.8609c33a14a4501aeba29a0d1819c03e.txt  \n",
            "  inflating: dataset/test/labels/no_tumor_614_jpg.rf.7a3b1440598797e5f0feb7c53b470453.txt  \n",
            "  inflating: dataset/test/labels/no_tumor_636_jpg.rf.74273782adf22b1420e0cf2da9c2ca2a.txt  \n",
            "  inflating: dataset/test/labels/no_tumor_657_jpg.rf.fa6a4edcdfeb229c60ec07fbbb231e4a.txt  \n",
            "  inflating: dataset/test/labels/no_tumor_684_jpg.rf.50fd242be19ffdd7c712c33754b2c874.txt  \n",
            "  inflating: dataset/test/labels/no_tumor_686_jpg.rf.fd5423484168879f64c46c5be72728ae.txt  \n",
            "  inflating: dataset/test/labels/no_tumor_711_jpg.rf.01d1a24127679c8360494fed3d2ba05d.txt  \n",
            "  inflating: dataset/test/labels/no_tumor_714_jpg.rf.4c3533044bb60daeda9e6c1c8ad8d7de.txt  \n",
            "  inflating: dataset/test/labels/no_tumor_725_jpg.rf.ed8d3a631c3ec106c95ea4b6dbeee0a5.txt  \n",
            "  inflating: dataset/test/labels/no_tumor_728_jpg.rf.51d9e2d01ffb272fa89e86a80755a88f.txt  \n",
            "  inflating: dataset/test/labels/no_tumor_730_jpg.rf.eb311fc7af73779cb4fbbdcce760e449.txt  \n",
            "  inflating: dataset/test/labels/no_tumor_755_jpg.rf.0c0fe0d5fe641af6f45465584a291409.txt  \n",
            "  inflating: dataset/test/labels/no_tumor_795_jpg.rf.2d8c2c4be202abc3264f0139cdcae3b6.txt  \n",
            "  inflating: dataset/test/labels/no_tumor_80_jpg.rf.98e07d6b05f91f828f12e33238c2cfc0.txt  \n",
            "  inflating: dataset/test/labels/no_tumor_817_jpg.rf.0e98079076d5487362d66caa0555d27a.txt  \n",
            "  inflating: dataset/test/labels/no_tumor_831_jpg.rf.0ee00f5ebdc1cfb934dc59ea63830689.txt  \n",
            "  inflating: dataset/test/labels/no_tumor_835_jpg.rf.e4221530df42441c0a800d47b4810510.txt  \n",
            "  inflating: dataset/test/labels/no_tumor_845_jpg.rf.b49a4061efc2333a98ac0cee53cb0fee.txt  \n",
            "  inflating: dataset/test/labels/no_tumor_882_jpg.rf.3fee1f4347079e9aea3d067d9e5f0878.txt  \n",
            "  inflating: dataset/test/labels/no_tumor_935_jpg.rf.e0b7c8e5d5cf1cfcabfa469e29f76df5.txt  \n",
            "  inflating: dataset/test/labels/no_tumor_95_jpg.rf.9a9ca1c789135389307197d34bcbdaf9.txt  \n",
            "  inflating: dataset/test/labels/no_tumor_961_jpg.rf.ed570861ac63c10225fcd2d3f7eb5516.txt  \n",
            "  inflating: dataset/test/labels/no_tumor_971_jpg.rf.4daf360da23ae74a29f56d0bf45525fe.txt  \n",
            "  inflating: dataset/test/labels/no_tumor_979_jpg.rf.c1b559560c799b78a6c6cf02fdcf8e0a.txt  \n",
            "  inflating: dataset/test/labels/no_tumor_98_jpg.rf.5c4571b394f09956f287681f671fcd9f.txt  \n",
            "  inflating: dataset/test/labels/pituitary_1006_jpg.rf.ea728f46f66b6ef65c3e4f11028bd72b.txt  \n",
            "  inflating: dataset/test/labels/pituitary_1021_jpg.rf.1d5bb8f146294ff9b717171b79c58c40.txt  \n",
            "  inflating: dataset/test/labels/pituitary_1052_jpg.rf.9b658058ddc5049d6363cb79a6860201.txt  \n",
            "  inflating: dataset/test/labels/pituitary_1059_jpg.rf.d49c0fe0491f79ac1f5044366afa4434.txt  \n",
            "  inflating: dataset/test/labels/pituitary_1065_jpg.rf.e0a3a71bbfb1f577393cd74507634bff.txt  \n",
            "  inflating: dataset/test/labels/pituitary_1105_jpg.rf.d6974206cb3f7a490e199d230057060b.txt  \n",
            "  inflating: dataset/test/labels/pituitary_1187_jpg.rf.7a2a3b7c5b2945a04a5758baf1eb2053.txt  \n",
            "  inflating: dataset/test/labels/pituitary_1204_jpg.rf.c5472c4f754076057a42aaf3b32039eb.txt  \n",
            "  inflating: dataset/test/labels/pituitary_1251_jpg.rf.cd511f5adc61d2902250580768eec456.txt  \n",
            "  inflating: dataset/test/labels/pituitary_1272_jpg.rf.594703e08212f85686f7158102db9177.txt  \n",
            "  inflating: dataset/test/labels/pituitary_1307_jpg.rf.71c6f12597dff5e33452666c82b9f7a5.txt  \n",
            "  inflating: dataset/test/labels/pituitary_1326_jpg.rf.7c1b3104a0cd6cd6893cd6888c37bbb1.txt  \n",
            "  inflating: dataset/test/labels/pituitary_1338_jpg.rf.82b8ed392a5945d4d2d9d4af60479f84.txt  \n",
            "  inflating: dataset/test/labels/pituitary_1360_jpg.rf.6926d25d69846f184ef41cfe8717a05f.txt  \n",
            "  inflating: dataset/test/labels/pituitary_1378_jpg.rf.22ecd431ad0f1cb8d0df887540a6ecb8.txt  \n",
            "  inflating: dataset/test/labels/pituitary_321_jpg.rf.d4576351b602a4af3a3d9ddea7d1ef32.txt  \n",
            "  inflating: dataset/test/labels/pituitary_341_jpg.rf.2f9b62cb2495a2ede6ffc46ad76165eb.txt  \n",
            "  inflating: dataset/test/labels/pituitary_391_jpg.rf.4ba70c13d5396d34a79229c732bfb20a.txt  \n",
            "  inflating: dataset/test/labels/pituitary_3_jpg.rf.8e11773d7df074a0925d9719000abbeb.txt  \n",
            "  inflating: dataset/test/labels/pituitary_407_jpg.rf.52373232b5b4c4b4c202b2c0c67a7fcd.txt  \n",
            "  inflating: dataset/test/labels/pituitary_417_jpg.rf.138e977276381b0359656f43448e6220.txt  \n",
            "  inflating: dataset/test/labels/pituitary_438_jpg.rf.b9609faec37851a1b969368e51157651.txt  \n",
            "  inflating: dataset/test/labels/pituitary_440_jpg.rf.a9395382d525f40e0b361401537ed4b0.txt  \n",
            "  inflating: dataset/test/labels/pituitary_509_jpg.rf.6736facf090a01241fc32a3b3b1fba64.txt  \n",
            "  inflating: dataset/test/labels/pituitary_52_jpg.rf.fdcfa5d9e26de3ff6e7ee36d90012e16.txt  \n",
            "  inflating: dataset/test/labels/pituitary_561_jpg.rf.b00fb38cd3dbec9b1ed501d173f7d70d.txt  \n",
            "  inflating: dataset/test/labels/pituitary_599_jpg.rf.4a0692c8c7a490514edbc048a6edca07.txt  \n",
            "  inflating: dataset/test/labels/pituitary_625_jpg.rf.ca8f7a18c06803c390230d402a65b912.txt  \n",
            "  inflating: dataset/test/labels/pituitary_627_jpg.rf.403fab631a23c9350fb11f3a6268a30e.txt  \n",
            "  inflating: dataset/test/labels/pituitary_644_jpg.rf.4601df0379d94a3ba352f78c975582d6.txt  \n",
            "  inflating: dataset/test/labels/pituitary_646_jpg.rf.5408226f1b8703afcae0a97600f9e1cb.txt  \n",
            "  inflating: dataset/test/labels/pituitary_658_jpg.rf.9c7c0b2a6e6290e814544b2a1aac8c24.txt  \n",
            "  inflating: dataset/test/labels/pituitary_684_jpg.rf.f1133419ed0cc3972a0ceb003c7e7583.txt  \n",
            "  inflating: dataset/test/labels/pituitary_740_jpg.rf.a39ec3b80c5146df13a965fa502996e1.txt  \n",
            "  inflating: dataset/test/labels/pituitary_773_jpg.rf.c0b6be2cc258ec4f46c19216462aa17b.txt  \n",
            "  inflating: dataset/test/labels/pituitary_82_jpg.rf.266f74c402ba07b9828375bea79250f4.txt  \n",
            "  inflating: dataset/test/labels/pituitary_914_jpg.rf.3a3f86484fca47f2d1495ef13700d694.txt  \n",
            "  inflating: dataset/test/labels/pituitary_916_jpg.rf.2e7aff9c3a4e9394f05ddb39486732fd.txt  \n",
            "  inflating: dataset/test/labels/pituitary_960_jpg.rf.b21c9456dc94792be07f04c9f6cd8079.txt  \n",
            "  inflating: dataset/test/labels/pituitary_981_jpg.rf.73945e61a724376de07a7aad24868456.txt  \n",
            "   creating: dataset/train/\n",
            "   creating: dataset/train/images/\n",
            " extracting: dataset/train/images/glioma_1017_jpg.rf.e9c8162c7360385c0a52e4ea3122eb6d.jpg  \n",
            " extracting: dataset/train/images/glioma_1019_jpg.rf.82e8fd955a28234e5a220cec8c1ad48e.jpg  \n",
            " extracting: dataset/train/images/glioma_1027_jpg.rf.086418625a593d1f546851fb30c9f752.jpg  \n",
            " extracting: dataset/train/images/glioma_102_jpg.rf.e184590079f7726ff64daccd83d8ff99.jpg  \n",
            " extracting: dataset/train/images/glioma_1055_jpg.rf.8d82196b497cb33edea18f562b08e415.jpg  \n",
            " extracting: dataset/train/images/glioma_1068_jpg.rf.f6a73a18d4221f9595fd64570a953952.jpg  \n",
            " extracting: dataset/train/images/glioma_1086_jpg.rf.a2785a388f7efbd5f665601ec9147d36.jpg  \n",
            " extracting: dataset/train/images/glioma_1089_jpg.rf.d43503c2a63af7cd081183f393da6340.jpg  \n",
            " extracting: dataset/train/images/glioma_1094_jpg.rf.551bf63e880309b6024c7a42d5aac287.jpg  \n",
            " extracting: dataset/train/images/glioma_1098_jpg.rf.cb1aeac81eec8534e059c33147f60263.jpg  \n",
            " extracting: dataset/train/images/glioma_1112_jpg.rf.8f37ed9f604563cb38cb6f32ce3acf16.jpg  \n",
            " extracting: dataset/train/images/glioma_1133_jpg.rf.8f564b9043b1ec8362fc38df344bbe1e.jpg  \n",
            " extracting: dataset/train/images/glioma_1138_jpg.rf.c6a259e4343f9bfb52cfa69eb60f46c7.jpg  \n",
            " extracting: dataset/train/images/glioma_1147_jpg.rf.e1dfee64ef3faccf1c0ace058d230551.jpg  \n",
            " extracting: dataset/train/images/glioma_1162_jpg.rf.b33e79c7a749d4f13d3f435dd3568725.jpg  \n",
            " extracting: dataset/train/images/glioma_1178_jpg.rf.8051e70e5bfb1972fc4c012824e4277b.jpg  \n",
            " extracting: dataset/train/images/glioma_1184_jpg.rf.906e3fd4e09c74c76fec491f2d8a1500.jpg  \n",
            " extracting: dataset/train/images/glioma_1202_jpg.rf.24044ec3eab86394cd061a4a8735a0d9.jpg  \n",
            " extracting: dataset/train/images/glioma_1203_jpg.rf.939cf76736a044eb5e6561ce4fae3622.jpg  \n",
            " extracting: dataset/train/images/glioma_120_jpg.rf.7103603cabccecd5d6c0a7d875b2b5d7.jpg  \n",
            " extracting: dataset/train/images/glioma_1228_jpg.rf.068c264838666499bca0d7060de33af9.jpg  \n",
            " extracting: dataset/train/images/glioma_1234_jpg.rf.e12dc0cd5003bfa0f9060637d722830e.jpg  \n",
            " extracting: dataset/train/images/glioma_1235_jpg.rf.2a8808fa4ef7eeca9ee3b039dd233373.jpg  \n",
            " extracting: dataset/train/images/glioma_1240_jpg.rf.f9ce263457e8d2b30da8d2876f8ac132.jpg  \n",
            " extracting: dataset/train/images/glioma_1245_jpg.rf.af70f7eae4d5ba34173bf1438035cef7.jpg  \n",
            " extracting: dataset/train/images/glioma_1250_jpg.rf.9a1f8baf56de178dbb025c4fd17dca41.jpg  \n",
            " extracting: dataset/train/images/glioma_1266_jpg.rf.8d9c69dba00e64fcf859ffe1b8f34ed7.jpg  \n",
            " extracting: dataset/train/images/glioma_1272_jpg.rf.634083758e76317aecd2f06cf736ebb4.jpg  \n",
            " extracting: dataset/train/images/glioma_1287_jpg.rf.e1077018b26898b61ac21fd49f02ecaf.jpg  \n",
            " extracting: dataset/train/images/glioma_128_jpg.rf.b238fdefc66ce62f90c11aa4ff7cd10f.jpg  \n",
            " extracting: dataset/train/images/glioma_1291_jpg.rf.568e09a9d9ae3bbff3c21424b305c8c1.jpg  \n",
            " extracting: dataset/train/images/glioma_1296_jpg.rf.c0e3188a4d00bfba320b904486a84794.jpg  \n",
            " extracting: dataset/train/images/glioma_1301_jpg.rf.d70f5b0990be3d5ca5d2359623d84a90.jpg  \n",
            " extracting: dataset/train/images/glioma_1308_jpg.rf.c1b0f96ac0eec1ea12421bd183551845.jpg  \n",
            " extracting: dataset/train/images/glioma_1321_jpg.rf.b6bfa0f90a94f90db944467b5bfcb3e7.jpg  \n",
            " extracting: dataset/train/images/glioma_143_jpg.rf.dc5db8c64514a97e1b123fd1971df97e.jpg  \n",
            " extracting: dataset/train/images/glioma_145_jpg.rf.9125a688625012628983f59e080c1986.jpg  \n",
            " extracting: dataset/train/images/glioma_155_jpg.rf.74c389093bfd9606949b2729268e8ea3.jpg  \n",
            " extracting: dataset/train/images/glioma_164_jpg.rf.b9ab54bce6f39937d3defb8979d8c235.jpg  \n",
            " extracting: dataset/train/images/glioma_169_jpg.rf.9590254d673da02632dff41bd009d841.jpg  \n",
            " extracting: dataset/train/images/glioma_171_jpg.rf.ca11a72a9de2a480ff956b4306c2ea45.jpg  \n",
            " extracting: dataset/train/images/glioma_172_jpg.rf.2456b08df0d238e939af32d2a0f31ae8.jpg  \n",
            " extracting: dataset/train/images/glioma_191_jpg.rf.77be681637a02f58673ed32218116004.jpg  \n",
            " extracting: dataset/train/images/glioma_206_jpg.rf.177dc5acb15711ae32765dc52ee85d88.jpg  \n",
            " extracting: dataset/train/images/glioma_22_jpg.rf.991216b0b4606e74817673a45b166a34.jpg  \n",
            " extracting: dataset/train/images/glioma_238_jpg.rf.51666b7b153f1e603cf1558cf99f7e7d.jpg  \n",
            " extracting: dataset/train/images/glioma_242_jpg.rf.256e0e57d471234c42179ea208a9681a.jpg  \n",
            " extracting: dataset/train/images/glioma_259_jpg.rf.60db168e3d887d8db6795dd989766381.jpg  \n",
            " extracting: dataset/train/images/glioma_268_jpg.rf.e13aa46dca86075dcad2812b595d6266.jpg  \n",
            " extracting: dataset/train/images/glioma_283_jpg.rf.d2e24030d360608bbb0038c7073d7faf.jpg  \n",
            " extracting: dataset/train/images/glioma_291_jpg.rf.16b2161cb15e07f201847727c745af10.jpg  \n",
            " extracting: dataset/train/images/glioma_292_jpg.rf.c765d3750c86ad2dcb6a4cf67c443356.jpg  \n",
            " extracting: dataset/train/images/glioma_306_jpg.rf.765892c432417034ac160ed314cbdb13.jpg  \n",
            " extracting: dataset/train/images/glioma_31_jpg.rf.f88f3b4e4a83554f8bde206b1b9bce4f.jpg  \n",
            " extracting: dataset/train/images/glioma_322_jpg.rf.0fa79c110072428a02bb441c57901d3f.jpg  \n",
            " extracting: dataset/train/images/glioma_32_jpg.rf.7761ac812b46f02a6b118e996e1fa903.jpg  \n",
            " extracting: dataset/train/images/glioma_358_jpg.rf.8cd4754751b64828d47510309613f1a0.jpg  \n",
            " extracting: dataset/train/images/glioma_373_jpg.rf.65525bcdc61e90d20a22fac77a600fab.jpg  \n",
            " extracting: dataset/train/images/glioma_374_jpg.rf.cd5b6cddcb663677f866adeafb8448a5.jpg  \n",
            " extracting: dataset/train/images/glioma_38_jpg.rf.8d901e87945afba2f585cad0cb3dc0b0.jpg  \n",
            " extracting: dataset/train/images/glioma_392_jpg.rf.b7aa80b4d570d52b3122bbafb7961b86.jpg  \n",
            " extracting: dataset/train/images/glioma_397_jpg.rf.d197c0cc6bd8c5f11c53e6b9a6f064a7.jpg  \n",
            " extracting: dataset/train/images/glioma_406_jpg.rf.0217d46aaa100c606019773cf9e4af89.jpg  \n",
            " extracting: dataset/train/images/glioma_414_jpg.rf.f9888de8bd4c5d90586fb849d7d933ed.jpg  \n",
            " extracting: dataset/train/images/glioma_421_jpg.rf.7beed68f7b101ede47dea94a9236ee04.jpg  \n",
            " extracting: dataset/train/images/glioma_430_jpg.rf.cb6d4503dbd86e06ed5463751f257c1c.jpg  \n",
            " extracting: dataset/train/images/glioma_43_jpg.rf.2519d497864ac014f23b6588fec9d1e1.jpg  \n",
            " extracting: dataset/train/images/glioma_468_jpg.rf.d85e769874f88b31113296c64243faa6.jpg  \n",
            " extracting: dataset/train/images/glioma_474_jpg.rf.9a407f6530fa06506f37d610565362e1.jpg  \n",
            " extracting: dataset/train/images/glioma_511_jpg.rf.f84ee5cf0c0f3fc5f6af758d55fdfd58.jpg  \n",
            " extracting: dataset/train/images/glioma_51_jpg.rf.d45bc240398f7a69aa84fc12190fcffc.jpg  \n",
            " extracting: dataset/train/images/glioma_522_jpg.rf.f5d4d387b72a07daeecf462fe1f4a151.jpg  \n",
            " extracting: dataset/train/images/glioma_524_jpg.rf.c18b77690b5c272d1690e6233cb829db.jpg  \n",
            " extracting: dataset/train/images/glioma_525_jpg.rf.5fc207ce06a7678e3ddffb00c411105a.jpg  \n",
            " extracting: dataset/train/images/glioma_543_jpg.rf.5e7686edfc83b46e7eddc407a8649497.jpg  \n",
            " extracting: dataset/train/images/glioma_550_jpg.rf.b52127c0a77a8785f44d94766365a326.jpg  \n",
            " extracting: dataset/train/images/glioma_551_jpg.rf.aac527f5cb1dcfdfa00a5486b61b973b.jpg  \n",
            " extracting: dataset/train/images/glioma_573_jpg.rf.8d5e7fb17fd6d7bc7897623a4d958fb5.jpg  \n",
            " extracting: dataset/train/images/glioma_578_jpg.rf.54b68964d2a5408bbd1bba9919a4488a.jpg  \n",
            " extracting: dataset/train/images/glioma_587_jpg.rf.b1ce281b86889e8ecc54dc24f999848e.jpg  \n",
            " extracting: dataset/train/images/glioma_609_jpg.rf.e564f70d7e6adff47de4b52b92e46753.jpg  \n",
            " extracting: dataset/train/images/glioma_629_jpg.rf.563773926f1e45d0ef9ac57c3cfad830.jpg  \n",
            " extracting: dataset/train/images/glioma_650_jpg.rf.10b1beda8b03d28b0450af5be9c0b215.jpg  \n",
            " extracting: dataset/train/images/glioma_665_jpg.rf.c8f631906a0210b39ce82d1f6ee531d9.jpg  \n",
            " extracting: dataset/train/images/glioma_666_jpg.rf.6e859f6183e409c261f3e872632c0fce.jpg  \n",
            " extracting: dataset/train/images/glioma_676_jpg.rf.5999615c4abfff4630535bbdd6aa1513.jpg  \n",
            " extracting: dataset/train/images/glioma_681_jpg.rf.d1b4b734bc39bba36ce0c86fbda8f6a6.jpg  \n",
            " extracting: dataset/train/images/glioma_69_jpg.rf.2ca2dd339c46bccc173521f578d2064f.jpg  \n",
            " extracting: dataset/train/images/glioma_70_jpg.rf.c053d9e585343a2d87980ac48b2b827a.jpg  \n",
            " extracting: dataset/train/images/glioma_722_jpg.rf.0973288dd768103902dbadadb02ff063.jpg  \n",
            " extracting: dataset/train/images/glioma_742_jpg.rf.6e09f99dae18cc5d6fd136959b8a56c1.jpg  \n",
            " extracting: dataset/train/images/glioma_747_jpg.rf.1f8daf2cd88200423225788e250f45a9.jpg  \n",
            " extracting: dataset/train/images/glioma_75_jpg.rf.c501669c78c6538107ceb8bc35e697fd.jpg  \n",
            " extracting: dataset/train/images/glioma_7_jpg.rf.97275e860ec20218c57eac34d50b0a71.jpg  \n",
            " extracting: dataset/train/images/glioma_804_jpg.rf.af5471fdc77fbc4a413dbb31ff9eb86e.jpg  \n",
            " extracting: dataset/train/images/glioma_825_jpg.rf.0f916bb26b412f9c87cc9085f38cee95.jpg  \n",
            " extracting: dataset/train/images/glioma_833_jpg.rf.ab3b5c3c265e2605f1cd4f34ab2b0346.jpg  \n",
            " extracting: dataset/train/images/glioma_835_jpg.rf.7c101a77efb377960f7739ae8d47f4db.jpg  \n",
            " extracting: dataset/train/images/glioma_840_jpg.rf.c3ff4bfac5b858b60fa4abbe4187122a.jpg  \n",
            " extracting: dataset/train/images/glioma_853_jpg.rf.420b3efeee3bbe33f57e7314e6484261.jpg  \n",
            " extracting: dataset/train/images/glioma_866_jpg.rf.3559912bc574797266bd2d82940a4f24.jpg  \n",
            " extracting: dataset/train/images/glioma_872_jpg.rf.c696c3481aae25c0b7481f76d14b4bd8.jpg  \n",
            " extracting: dataset/train/images/glioma_876_jpg.rf.96560adf8bbf1d8c9ea1645f2b2960ad.jpg  \n",
            " extracting: dataset/train/images/glioma_904_jpg.rf.46fbdba7d5697ea773c86f0214380230.jpg  \n",
            " extracting: dataset/train/images/glioma_906_jpg.rf.3b56fc6141078c119069f74ca103cd22.jpg  \n",
            " extracting: dataset/train/images/glioma_928_jpg.rf.33d6096c98c85b2194255bf91a96ea9d.jpg  \n",
            " extracting: dataset/train/images/glioma_930_jpg.rf.eb6881f20608f5482378962913095da7.jpg  \n",
            " extracting: dataset/train/images/glioma_931_jpg.rf.496020fa7ebc596da1a2b90a23bc480a.jpg  \n",
            " extracting: dataset/train/images/glioma_933_jpg.rf.6691f90d0b86b8a81e91b978f4d02543.jpg  \n",
            " extracting: dataset/train/images/glioma_934_jpg.rf.674c8b35f954ed7e155fa02c2ca2ff6e.jpg  \n",
            " extracting: dataset/train/images/glioma_954_jpg.rf.04aaccb21c824c5136b2c4287d081084.jpg  \n",
            " extracting: dataset/train/images/glioma_958_jpg.rf.92fbd1032fa0f107a734c9406bcae14d.jpg  \n",
            " extracting: dataset/train/images/glioma_968_jpg.rf.fb2711bdd5ae6a219be3cffb99dc8a76.jpg  \n",
            " extracting: dataset/train/images/glioma_97_jpg.rf.1467ac8594412f669ecab1c802dd5b11.jpg  \n",
            " extracting: dataset/train/images/glioma_995_jpg.rf.00d546e672f09dd5c1bf2a43ba7b12d7.jpg  \n",
            " extracting: dataset/train/images/glioma_997_jpg.rf.aece92de49507ccb7b5347ab9ed3d2a6.jpg  \n",
            " extracting: dataset/train/images/meningioma_1000_jpg.rf.7d1a913ffb25cbc331813216988f7d31.jpg  \n",
            " extracting: dataset/train/images/meningioma_1001_jpg.rf.fde013aa3c439d99212a7d990b512ae5.jpg  \n",
            " extracting: dataset/train/images/meningioma_1003_jpg.rf.1cb046de3a4bc224cd1d63fb5fa5561f.jpg  \n",
            " extracting: dataset/train/images/meningioma_1004_jpg.rf.e6ea0dc9f1e9e7f35281a91921fe074f.jpg  \n",
            " extracting: dataset/train/images/meningioma_1007_jpg.rf.ffe02981abf20346e75abd3116b7e7f8.jpg  \n",
            " extracting: dataset/train/images/meningioma_1009_jpg.rf.ba64dab555f9db8c7cc741ba034cbb87.jpg  \n",
            " extracting: dataset/train/images/meningioma_1010_jpg.rf.044a5f2a213d383278109005dc031b33.jpg  \n",
            " extracting: dataset/train/images/meningioma_1012_jpg.rf.e686ff582be55e834ec527869f50864f.jpg  \n",
            " extracting: dataset/train/images/meningioma_1014_jpg.rf.2493d1c9bf7a58d2dfc3de2615ece4c3.jpg  \n",
            " extracting: dataset/train/images/meningioma_1015_jpg.rf.abcccdb24ad80043a632867065191281.jpg  \n",
            " extracting: dataset/train/images/meningioma_1016_jpg.rf.2b21457a05a3201e9b08576501489bec.jpg  \n",
            " extracting: dataset/train/images/meningioma_101_jpg.rf.bbe32c57f14ff5362085ea9560be430b.jpg  \n",
            " extracting: dataset/train/images/meningioma_1020_jpg.rf.c083f0e6892b08d794d09d0ad935bdd5.jpg  \n",
            " extracting: dataset/train/images/meningioma_1023_jpg.rf.0b349ec40ab73941437bf03ac0be8172.jpg  \n",
            " extracting: dataset/train/images/meningioma_1030_jpg.rf.7a3c8c1da556e3207c3779e303396f0d.jpg  \n",
            " extracting: dataset/train/images/meningioma_1031_jpg.rf.92d5d9e4f499a8616701629db1bbf8e6.jpg  \n",
            " extracting: dataset/train/images/meningioma_1032_jpg.rf.6f42b84ac1d4bc6443068a2d2dfe4b84.jpg  \n",
            " extracting: dataset/train/images/meningioma_1035_jpg.rf.58891050d5fd164eb576e2d84e454e55.jpg  \n",
            " extracting: dataset/train/images/meningioma_1040_jpg.rf.d34a9c9b9fecc69c30ac22cda6a360d0.jpg  \n",
            " extracting: dataset/train/images/meningioma_1045_jpg.rf.a442ced151630611c1f69c29f1092f16.jpg  \n",
            " extracting: dataset/train/images/meningioma_1048_jpg.rf.a4b0c3d62dc06cc46a19fa7457356dbf.jpg  \n",
            " extracting: dataset/train/images/meningioma_1051_jpg.rf.a2b35bd71479146c9668177cf6dfa968.jpg  \n",
            " extracting: dataset/train/images/meningioma_1052_jpg.rf.14993d2fea569cfcd8576a5561bba274.jpg  \n",
            " extracting: dataset/train/images/meningioma_1053_jpg.rf.4f69cbaaa68a46b0b815f148e856f8fb.jpg  \n",
            " extracting: dataset/train/images/meningioma_1059_jpg.rf.5a113046c4f1d04fcb0006334bc4dfa4.jpg  \n",
            " extracting: dataset/train/images/meningioma_1060_jpg.rf.4c8e2b30da96f1af674121a47179569a.jpg  \n",
            " extracting: dataset/train/images/meningioma_1065_jpg.rf.94e621066008493dd5ee10ce79315285.jpg  \n",
            " extracting: dataset/train/images/meningioma_1066_jpg.rf.773e235a5cfc4324e08c7ce96fdea0d0.jpg  \n",
            " extracting: dataset/train/images/meningioma_1067_jpg.rf.2876f08236a9221433638d0e01ceef85.jpg  \n",
            " extracting: dataset/train/images/meningioma_1068_jpg.rf.56ce8e8d23c966bcd11f7ebf532d6758.jpg  \n",
            " extracting: dataset/train/images/meningioma_1070_jpg.rf.4668f737aa70d5a5247262ac4da10b1c.jpg  \n",
            " extracting: dataset/train/images/meningioma_1072_jpg.rf.a7c68a0d0357e08de8b940f3c6c69ed4.jpg  \n",
            " extracting: dataset/train/images/meningioma_1074_jpg.rf.4265a6452bdf3c1cda388f9715be74ec.jpg  \n",
            " extracting: dataset/train/images/meningioma_1076_jpg.rf.4fa57284674e5fbf07d6446ff67d0a76.jpg  \n",
            " extracting: dataset/train/images/meningioma_1078_jpg.rf.e7a7699f068544f9b7a533ebbb720370.jpg  \n",
            " extracting: dataset/train/images/meningioma_1079_jpg.rf.802709b4226820338bef07534cabe5b6.jpg  \n",
            " extracting: dataset/train/images/meningioma_107_jpg.rf.e7aa167ea25f4a30545e10d9c49dab1c.jpg  \n",
            " extracting: dataset/train/images/meningioma_1080_jpg.rf.3a0757250f80255641179b21f7699c23.jpg  \n",
            " extracting: dataset/train/images/meningioma_1083_jpg.rf.2f6bc4256771a58ea2c38f4575492a37.jpg  \n",
            " extracting: dataset/train/images/meningioma_1084_jpg.rf.69b1369e04677a79ce178ebf0ae6acef.jpg  \n",
            " extracting: dataset/train/images/meningioma_1085_jpg.rf.4b6969bbe6585cddc76c5ff75db16419.jpg  \n",
            " extracting: dataset/train/images/meningioma_1087_jpg.rf.ec345f0d4e2591a385d025fd56355338.jpg  \n",
            " extracting: dataset/train/images/meningioma_1089_jpg.rf.f54cf30e0349963e05581513239496ff.jpg  \n",
            " extracting: dataset/train/images/meningioma_1090_jpg.rf.9d3299b5fd5a44dabaf15f5cebb667b7.jpg  \n",
            " extracting: dataset/train/images/meningioma_1096_jpg.rf.2f3bef8bace06fb786fb681257c62474.jpg  \n",
            " extracting: dataset/train/images/meningioma_1098_jpg.rf.bad8fc08770434b25e8f030f21da68bc.jpg  \n",
            " extracting: dataset/train/images/meningioma_109_jpg.rf.6ff787bbabfb4abb1d63f6229bec9d86.jpg  \n",
            " extracting: dataset/train/images/meningioma_1100_jpg.rf.44e77aef5e60423e99363a50dde7c098.jpg  \n",
            " extracting: dataset/train/images/meningioma_1102_jpg.rf.588063b0c4e40f8648a5e85d2311e934.jpg  \n",
            " extracting: dataset/train/images/meningioma_1103_jpg.rf.8f9a1d7d54389a3e56587b3abd7e4a36.jpg  \n",
            " extracting: dataset/train/images/meningioma_1106_jpg.rf.751088b4b26b417a4b5d5b929f5e97d6.jpg  \n",
            " extracting: dataset/train/images/meningioma_1111_jpg.rf.1709916c1c9859685ba40cef729bb7f6.jpg  \n",
            " extracting: dataset/train/images/meningioma_1112_jpg.rf.55affbed2a2a8f759558a699fcde8fbc.jpg  \n",
            " extracting: dataset/train/images/meningioma_1113_jpg.rf.99f2d7ddab48cce9571a0ec22df5cbcb.jpg  \n",
            " extracting: dataset/train/images/meningioma_1114_jpg.rf.70aa64238b40505cfa6927e34a60b319.jpg  \n",
            " extracting: dataset/train/images/meningioma_1117_jpg.rf.832473951bbfed07f891ff5349a9b819.jpg  \n",
            " extracting: dataset/train/images/meningioma_1118_jpg.rf.00df375c7507bc402d95140278e74d13.jpg  \n",
            " extracting: dataset/train/images/meningioma_1122_jpg.rf.1a44798635ceb2bc4b570beec2cf7ea0.jpg  \n",
            " extracting: dataset/train/images/meningioma_1124_jpg.rf.4ec7681bb682d00c5ed8dd047e15ff1c.jpg  \n",
            " extracting: dataset/train/images/meningioma_1128_jpg.rf.33c271ae0482d8d0c866b985152e5d7c.jpg  \n",
            " extracting: dataset/train/images/meningioma_1132_jpg.rf.3f13f5f1cd2e75b3fe60876f63dc8d9d.jpg  \n",
            " extracting: dataset/train/images/meningioma_1134_jpg.rf.d1abfc3ea3ca3e76d4889b36dad0d49a.jpg  \n",
            " extracting: dataset/train/images/meningioma_1135_jpg.rf.96c32e08e93d0c34f85aa42a34c39adb.jpg  \n",
            " extracting: dataset/train/images/meningioma_113_jpg.rf.d837df7cfe8a79f90887240e07a400bc.jpg  \n",
            " extracting: dataset/train/images/meningioma_1140_jpg.rf.9afd4adb92c2a3f956dbd1115192027f.jpg  \n",
            " extracting: dataset/train/images/meningioma_1143_jpg.rf.fd2206bcbf5454f4e75604686abb0d14.jpg  \n",
            " extracting: dataset/train/images/meningioma_1147_jpg.rf.48ec0ae1b9ac50e1614190b9198cfe29.jpg  \n",
            " extracting: dataset/train/images/meningioma_1148_jpg.rf.73e39019ddab5614fcc3f395e46b9055.jpg  \n",
            " extracting: dataset/train/images/meningioma_114_jpg.rf.a1ded52e9d64ed06651b5ed131aeaa0c.jpg  \n",
            " extracting: dataset/train/images/meningioma_1153_jpg.rf.cd5615803871925f83c0420197f243ba.jpg  \n",
            " extracting: dataset/train/images/meningioma_1155_jpg.rf.ced6cc01c1c8b004d25be59a290543fe.jpg  \n",
            " extracting: dataset/train/images/meningioma_1156_jpg.rf.f71077e31f20a93c484e7ddd86182e0b.jpg  \n",
            " extracting: dataset/train/images/meningioma_1166_jpg.rf.57f037b5856750e964733a2977579ea6.jpg  \n",
            " extracting: dataset/train/images/meningioma_1170_jpg.rf.4e7ec9732af49483ae31b420b7535076.jpg  \n",
            " extracting: dataset/train/images/meningioma_1172_jpg.rf.387dace0d8e88e7cef6f4bfce64f9950.jpg  \n",
            " extracting: dataset/train/images/meningioma_1174_jpg.rf.2c00e9bdab30a5c4781a12ee9cc4b70e.jpg  \n",
            " extracting: dataset/train/images/meningioma_1175_jpg.rf.a4b25fbfaa57544d4497a754fca96349.jpg  \n",
            " extracting: dataset/train/images/meningioma_1178_jpg.rf.d28ae433a62770aae96bb76711418137.jpg  \n",
            " extracting: dataset/train/images/meningioma_117_jpg.rf.77f8453394784a23e30b31d223402581.jpg  \n",
            " extracting: dataset/train/images/meningioma_1182_jpg.rf.d85a3afcf0d3a41ae22a54759995262b.jpg  \n",
            " extracting: dataset/train/images/meningioma_1183_jpg.rf.057d898ba6a98d81499ebed48dd2092c.jpg  \n",
            " extracting: dataset/train/images/meningioma_1185_jpg.rf.af26d6157a2ec8fdb58a10c755004c7b.jpg  \n",
            " extracting: dataset/train/images/meningioma_1186_jpg.rf.7869ac51125badc585db39632755a7b2.jpg  \n",
            " extracting: dataset/train/images/meningioma_1190_jpg.rf.27bccd5efee03a8fc9bb672aa6b37ae2.jpg  \n",
            " extracting: dataset/train/images/meningioma_1191_jpg.rf.0edb2454f9d379939ea919d290234976.jpg  \n",
            " extracting: dataset/train/images/meningioma_1193_jpg.rf.49df5c82a94488415585a7bfe197efa3.jpg  \n",
            " extracting: dataset/train/images/meningioma_1195_jpg.rf.baa094c6182811a33bf00b56230f0076.jpg  \n",
            " extracting: dataset/train/images/meningioma_119_jpg.rf.06fde9ac4afe2efe00a09a7ae5bd4d86.jpg  \n",
            " extracting: dataset/train/images/meningioma_1200_jpg.rf.8f1194582c8142887ff4537a9e41c294.jpg  \n",
            " extracting: dataset/train/images/meningioma_1201_jpg.rf.4155c14224b63c3a4bbf6d570a2a4089.jpg  \n",
            " extracting: dataset/train/images/meningioma_1203_jpg.rf.ea73368d12a64afd50a073deb28d8c85.jpg  \n",
            " extracting: dataset/train/images/meningioma_120_jpg.rf.f86ba2e7977ba292b26c91f2564d946a.jpg  \n",
            " extracting: dataset/train/images/meningioma_1210_jpg.rf.9ae7dc5b727491b6603d19416676a7c8.jpg  \n",
            " extracting: dataset/train/images/meningioma_1212_jpg.rf.72220ada901dcb13a50fcfd9483ee956.jpg  \n",
            " extracting: dataset/train/images/meningioma_1213_jpg.rf.eaf464518ae3b4ddfd8fab1b463488ff.jpg  \n",
            " extracting: dataset/train/images/meningioma_1216_jpg.rf.d335d6016339209d47e5d8f8dec8bd94.jpg  \n",
            " extracting: dataset/train/images/meningioma_1217_jpg.rf.0cb80af7145df29181ef3cac3d1bc97c.jpg  \n",
            " extracting: dataset/train/images/meningioma_1218_jpg.rf.70d19d5f1c589e82b7a550f40c050d8d.jpg  \n",
            " extracting: dataset/train/images/meningioma_1219_jpg.rf.26fccbbb32420cd0d8cf9863581e07fc.jpg  \n",
            " extracting: dataset/train/images/meningioma_121_jpg.rf.b9e651b0f4137c1e04a396a7a9916c8e.jpg  \n",
            " extracting: dataset/train/images/meningioma_1220_jpg.rf.163bb25095405d38a11f58b0fb559c0b.jpg  \n",
            " extracting: dataset/train/images/meningioma_1221_jpg.rf.2a11834e4b5c5e41285d66b4cfcb145b.jpg  \n",
            " extracting: dataset/train/images/meningioma_1222_jpg.rf.9b429516036c0c217d28b2f31c6a5e96.jpg  \n",
            " extracting: dataset/train/images/meningioma_1226_jpg.rf.f41e67d851db2685d1d25dd24f66c0cb.jpg  \n",
            " extracting: dataset/train/images/meningioma_1228_jpg.rf.41c6248102786ac9f81c7766dea2e533.jpg  \n",
            " extracting: dataset/train/images/meningioma_1229_jpg.rf.0aa5cbaccff4748808ae2405084740d8.jpg  \n",
            " extracting: dataset/train/images/meningioma_1231_jpg.rf.797541a0db0d6bfa39d05b5258dc1a62.jpg  \n",
            " extracting: dataset/train/images/meningioma_1233_jpg.rf.d62273e91257dbcb25bdaac2b1cd42af.jpg  \n",
            " extracting: dataset/train/images/meningioma_1234_jpg.rf.0c1c2a6eb11bffeb99e313f5685f9b87.jpg  \n",
            " extracting: dataset/train/images/meningioma_1235_jpg.rf.6d4ea4c1965d6fbaeac495438bc29a62.jpg  \n",
            " extracting: dataset/train/images/meningioma_1238_jpg.rf.aa11a97dcc906233d23146878f680035.jpg  \n",
            " extracting: dataset/train/images/meningioma_123_jpg.rf.c29d83d98b001d6d6e7b78f54b6d49a2.jpg  \n",
            " extracting: dataset/train/images/meningioma_1240_jpg.rf.bb1dde42e7da8408dd9c186ac62d5851.jpg  \n",
            " extracting: dataset/train/images/meningioma_1242_jpg.rf.ddf04a2d94430995ea1db196c804f82f.jpg  \n",
            " extracting: dataset/train/images/meningioma_1243_jpg.rf.0024eff03061b426a5f4a93cc1b539cd.jpg  \n",
            " extracting: dataset/train/images/meningioma_1246_jpg.rf.e2f48408dbcb4e50aeecd4cc5e474810.jpg  \n",
            " extracting: dataset/train/images/meningioma_1247_jpg.rf.00e0f4e30131a58467c0e39e9a2c116b.jpg  \n",
            " extracting: dataset/train/images/meningioma_1248_jpg.rf.45c69bcc998b7e4017e52df239bbdf25.jpg  \n",
            " extracting: dataset/train/images/meningioma_1249_jpg.rf.5ae9d159cbf1096b85e4ab138757395f.jpg  \n",
            " extracting: dataset/train/images/meningioma_124_jpg.rf.8a419a96444e607f9c72a4bc201ae450.jpg  \n",
            " extracting: dataset/train/images/meningioma_1250_jpg.rf.a13f606fa448cebff1712b9bf916612d.jpg  \n",
            " extracting: dataset/train/images/meningioma_1253_jpg.rf.70975c6f55c4c21066457e676970e75e.jpg  \n",
            " extracting: dataset/train/images/meningioma_1255_jpg.rf.f1ab0ba8c39a1ba9c030649227ad01f4.jpg  \n",
            " extracting: dataset/train/images/meningioma_1256_jpg.rf.9b22b2792f72a75a8a7b76642ee9d16b.jpg  \n",
            " extracting: dataset/train/images/meningioma_1257_jpg.rf.0d49d28de8e385dd6136991e338f717c.jpg  \n",
            " extracting: dataset/train/images/meningioma_1260_jpg.rf.f0c19e070e97740180d65df6c38328fc.jpg  \n",
            " extracting: dataset/train/images/meningioma_1266_jpg.rf.2d5efd21994b67cbb4c4cf9924c0f69c.jpg  \n",
            " extracting: dataset/train/images/meningioma_1269_jpg.rf.ba78521135708aa900973fc31f1144e9.jpg  \n",
            " extracting: dataset/train/images/meningioma_1270_jpg.rf.52292b8e1c211d973a3c1d69c5760c8a.jpg  \n",
            " extracting: dataset/train/images/meningioma_1273_jpg.rf.12fa45977214058a757f65051de1375d.jpg  \n",
            " extracting: dataset/train/images/meningioma_1278_jpg.rf.d27b8dbcb2956e71f0126b393b1cbce1.jpg  \n",
            " extracting: dataset/train/images/meningioma_1280_jpg.rf.1ed02c7f20cb4cbcd709e7e327e36016.jpg  \n",
            " extracting: dataset/train/images/meningioma_1281_jpg.rf.156dc24e062ef1db758b7923891a7474.jpg  \n",
            " extracting: dataset/train/images/meningioma_1282_jpg.rf.99fa3552b33841ac55cc812908286092.jpg  \n",
            " extracting: dataset/train/images/meningioma_1284_jpg.rf.13ea1ec76331a5f34ea578c65da10b34.jpg  \n",
            " extracting: dataset/train/images/meningioma_1288_jpg.rf.10a95ee965de909a0ce88b151be0b2a5.jpg  \n",
            " extracting: dataset/train/images/meningioma_128_jpg.rf.deb65a97938a2a7dc37a805d079be91b.jpg  \n",
            " extracting: dataset/train/images/meningioma_1293_jpg.rf.e049b30f9e558ef58d2dd2e36efff796.jpg  \n",
            " extracting: dataset/train/images/meningioma_1297_jpg.rf.a9a4f7f04148883e328de995b2b18a61.jpg  \n",
            " extracting: dataset/train/images/meningioma_129_jpg.rf.02cf3f9072386c01e700156af5c8f3a1.jpg  \n",
            " extracting: dataset/train/images/meningioma_1300_jpg.rf.1205de8340edfbe7473552dc47010138.jpg  \n",
            " extracting: dataset/train/images/meningioma_1302_jpg.rf.10de898012e1339a4c22606b83b043b4.jpg  \n",
            " extracting: dataset/train/images/meningioma_1304_jpg.rf.3cc1edb70fa94f01abceb8f53626f67b.jpg  \n",
            " extracting: dataset/train/images/meningioma_1307_jpg.rf.1562868b20f5f63c07ec0c9eb9121700.jpg  \n",
            " extracting: dataset/train/images/meningioma_1309_jpg.rf.ee481dab5fe1ae7fc95ea7e08b26c527.jpg  \n",
            " extracting: dataset/train/images/meningioma_1314_jpg.rf.c32e34e618110632797a08297c872af6.jpg  \n",
            " extracting: dataset/train/images/meningioma_1318_jpg.rf.c6a8e0e52fae3f2a948ece1d1763f2e9.jpg  \n",
            " extracting: dataset/train/images/meningioma_1319_jpg.rf.51b10a74243da6bcaa41ebce7532006a.jpg  \n",
            " extracting: dataset/train/images/meningioma_131_jpg.rf.329462423b5af575a155d8550d9a86d4.jpg  \n",
            " extracting: dataset/train/images/meningioma_1323_jpg.rf.edfca5eda6a7b4f9f60ff05875a85e07.jpg  \n",
            " extracting: dataset/train/images/meningioma_1325_jpg.rf.18e89aa29db803d79031b821371c4547.jpg  \n",
            " extracting: dataset/train/images/meningioma_1327_jpg.rf.891a49425ffbef5b5bd6302460f585b7.jpg  \n",
            " extracting: dataset/train/images/meningioma_1330_jpg.rf.02353bdbcb7627a1b4a1741b9141ef77.jpg  \n",
            " extracting: dataset/train/images/meningioma_1334_jpg.rf.68293f534238588578159ed8a1d3fc01.jpg  \n",
            " extracting: dataset/train/images/meningioma_1336_jpg.rf.7f86928168516cd98a36481db162a727.jpg  \n",
            " extracting: dataset/train/images/meningioma_1337_jpg.rf.c81937fe1f8849e01b1bcd05bca0f9bb.jpg  \n",
            " extracting: dataset/train/images/meningioma_1339_jpg.rf.12cd92a3d2c6168d417bfa9e4cb04e0f.jpg  \n",
            " extracting: dataset/train/images/meningioma_133_jpg.rf.021d728df447ca3e72cc69e7021989cf.jpg  \n",
            " extracting: dataset/train/images/meningioma_134_jpg.rf.974249c3aefbd2743a3134e9f4340fe8.jpg  \n",
            " extracting: dataset/train/images/meningioma_136_jpg.rf.8491175983470b61181aad86eb939f8d.jpg  \n",
            " extracting: dataset/train/images/meningioma_138_jpg.rf.6b7cc548f3be2b200133aaaf73d5a989.jpg  \n",
            " extracting: dataset/train/images/meningioma_139_jpg.rf.dadc43b47996c23ec8abd05dd8a078aa.jpg  \n",
            " extracting: dataset/train/images/meningioma_13_jpg.rf.727015dd5081c9f7bdf36ed3c332d3b0.jpg  \n",
            " extracting: dataset/train/images/meningioma_141_jpg.rf.37375ab0537220a06979363c6e8b436f.jpg  \n",
            " extracting: dataset/train/images/meningioma_147_jpg.rf.1bbf03ae4cebe580fa339f3085bf854b.jpg  \n",
            " extracting: dataset/train/images/meningioma_148_jpg.rf.9c6edd3b213eac261b1f461446504426.jpg  \n",
            " extracting: dataset/train/images/meningioma_150_jpg.rf.915d57f9d6458e1bba3a5c845c4733e4.jpg  \n",
            " extracting: dataset/train/images/meningioma_155_jpg.rf.acfb1ac57a47166618309233d3e09e69.jpg  \n",
            " extracting: dataset/train/images/meningioma_157_jpg.rf.95baa4a5180aafeffe6faf5835bc5640.jpg  \n",
            " extracting: dataset/train/images/meningioma_158_jpg.rf.3b1a3d322fc03483cb5d55d34fcd06fe.jpg  \n",
            " extracting: dataset/train/images/meningioma_15_jpg.rf.c775bc7ccfce970398cfe67992d093c0.jpg  \n",
            " extracting: dataset/train/images/meningioma_161_jpg.rf.508b6ec1ca195f8c4cf6e18d2231c18a.jpg  \n",
            " extracting: dataset/train/images/meningioma_164_jpg.rf.18bcc2cfacce09aeb37398bd7348338c.jpg  \n",
            " extracting: dataset/train/images/meningioma_168_jpg.rf.635b9d1dafc64618f2c47d441d871c9c.jpg  \n",
            " extracting: dataset/train/images/meningioma_169_jpg.rf.3496fb138a70dfd25edb4dbb8e71707b.jpg  \n",
            " extracting: dataset/train/images/meningioma_16_jpg.rf.3b75c52fda07e7e121003a4072050f85.jpg  \n",
            " extracting: dataset/train/images/meningioma_172_jpg.rf.83f3bee4b2b5beaba084c353a4dfbcac.jpg  \n",
            " extracting: dataset/train/images/meningioma_174_jpg.rf.c253ac6b03709518b654cf1b846071f9.jpg  \n",
            " extracting: dataset/train/images/meningioma_177_jpg.rf.e7ede347ec9366cd135aa5bd36114613.jpg  \n",
            " extracting: dataset/train/images/meningioma_178_jpg.rf.e5b442aac6c5a60c61666ed825384b75.jpg  \n",
            " extracting: dataset/train/images/meningioma_17_jpg.rf.33c492fb91cb99e37ebf159300435fb3.jpg  \n",
            " extracting: dataset/train/images/meningioma_183_jpg.rf.b20d10aa9ae9bfc0ceb27a22dfe7a79b.jpg  \n",
            " extracting: dataset/train/images/meningioma_185_jpg.rf.b5013a5b232b32fe0e1daa6e17db4db2.jpg  \n",
            " extracting: dataset/train/images/meningioma_187_jpg.rf.63e58c7b1736a9c3757b1e9189626f4d.jpg  \n",
            " extracting: dataset/train/images/meningioma_188_jpg.rf.ad553d9d0fcd6f1f07783d01dfb01c0e.jpg  \n",
            " extracting: dataset/train/images/meningioma_189_jpg.rf.41e99170113b9892ffc42d2040231ad3.jpg  \n",
            " extracting: dataset/train/images/meningioma_190_jpg.rf.906cfd2d2b77ca580dfa533136bfd3d6.jpg  \n",
            " extracting: dataset/train/images/meningioma_193_jpg.rf.cd3c98530272aa6d76dde14b5d616170.jpg  \n",
            " extracting: dataset/train/images/meningioma_194_jpg.rf.864f7369d244ae80533620bf0b7da929.jpg  \n",
            " extracting: dataset/train/images/meningioma_195_jpg.rf.5da508c5656d120630a308e8b43e8f31.jpg  \n",
            " extracting: dataset/train/images/meningioma_196_jpg.rf.0d1f270cff963f8af36775e06432849e.jpg  \n",
            " extracting: dataset/train/images/meningioma_1_jpg.rf.8fe63137629c18c074aaabfb2a3e894b.jpg  \n",
            " extracting: dataset/train/images/meningioma_201_jpg.rf.409fa0316610f1968bcde41bd4fdde82.jpg  \n",
            " extracting: dataset/train/images/meningioma_203_jpg.rf.ea11dc83894c1cd9262ca4d2f1854c40.jpg  \n",
            " extracting: dataset/train/images/meningioma_206_jpg.rf.9882ab4219a33378e9c675ce3bbec31e.jpg  \n",
            " extracting: dataset/train/images/meningioma_207_jpg.rf.ec599da579dc73bfd4ec3df0f38ad3ea.jpg  \n",
            " extracting: dataset/train/images/meningioma_208_jpg.rf.bb4e862db738cdae1cc9735e19d325f9.jpg  \n",
            " extracting: dataset/train/images/meningioma_212_jpg.rf.6c87b0e325bd617d8ed1c66ac7b51ed7.jpg  \n",
            " extracting: dataset/train/images/meningioma_214_jpg.rf.58765a6eda9a22c4c5f72441afcffe16.jpg  \n",
            " extracting: dataset/train/images/meningioma_21_jpg.rf.3ace59adf69f17644279d0b596137f15.jpg  \n",
            " extracting: dataset/train/images/meningioma_221_jpg.rf.44c1c392df7f6dcaa653659e2795cd16.jpg  \n",
            " extracting: dataset/train/images/meningioma_222_jpg.rf.bf76ef8786bdbe5ab070a12f63e910ec.jpg  \n",
            " extracting: dataset/train/images/meningioma_223_jpg.rf.7755bf1b15746ddda3a67acee86065a4.jpg  \n",
            " extracting: dataset/train/images/meningioma_225_jpg.rf.9522022bbfd91e2a307e855ac319cf27.jpg  \n",
            " extracting: dataset/train/images/meningioma_227_jpg.rf.4a7a3e2651fd45c158c3e68964d11b9c.jpg  \n",
            " extracting: dataset/train/images/meningioma_229_jpg.rf.6d5f3567ad234507f8f06db5ef936904.jpg  \n",
            " extracting: dataset/train/images/meningioma_233_jpg.rf.562fc7538b29b3e4bbbcd93914b6184a.jpg  \n",
            " extracting: dataset/train/images/meningioma_234_jpg.rf.0915b44eb766c431160ad46afd99459b.jpg  \n",
            " extracting: dataset/train/images/meningioma_236_jpg.rf.d0a91e9cf09e27f767732c6a048d5cf4.jpg  \n",
            " extracting: dataset/train/images/meningioma_242_jpg.rf.bb47982bb3a184a34afaa4af3f515297.jpg  \n",
            " extracting: dataset/train/images/meningioma_243_jpg.rf.4747fd8e9adea5a5e441a25e9766e79f.jpg  \n",
            " extracting: dataset/train/images/meningioma_244_jpg.rf.e970a39499aa75aa0489214377c629bb.jpg  \n",
            " extracting: dataset/train/images/meningioma_245_jpg.rf.54a22411ef95106132d6b451b999f237.jpg  \n",
            " extracting: dataset/train/images/meningioma_248_jpg.rf.fe0cf0a2c04f7908bd73bd4b02e4b593.jpg  \n",
            " extracting: dataset/train/images/meningioma_24_jpg.rf.d073867a8955cd6b216dd7aeb2cef01f.jpg  \n",
            " extracting: dataset/train/images/meningioma_251_jpg.rf.145a2002914f88da42e14d95530f0d40.jpg  \n",
            " extracting: dataset/train/images/meningioma_25_jpg.rf.3859c503774a53bb0c6b5b9349562c6a.jpg  \n",
            " extracting: dataset/train/images/meningioma_263_jpg.rf.70ea095866132fa8c4c048652b93160d.jpg  \n",
            " extracting: dataset/train/images/meningioma_265_jpg.rf.5a36f83e627e6671d5fdbe3b7350f507.jpg  \n",
            " extracting: dataset/train/images/meningioma_267_jpg.rf.c0d24862e06bde52ce0edc7bcc1ccdb0.jpg  \n",
            " extracting: dataset/train/images/meningioma_268_jpg.rf.07f94afad2493d6b141167b69db8872e.jpg  \n",
            " extracting: dataset/train/images/meningioma_269_jpg.rf.f4edec265e7781710c266b9f18689699.jpg  \n",
            " extracting: dataset/train/images/meningioma_26_jpg.rf.1981aadadf8d535dd33976028033af2f.jpg  \n",
            " extracting: dataset/train/images/meningioma_273_jpg.rf.4f3ebc5e793c8df72fa7e3f2a6ab4300.jpg  \n",
            " extracting: dataset/train/images/meningioma_276_jpg.rf.f323a2ceb3ad7b4aa1035c79703b484d.jpg  \n",
            " extracting: dataset/train/images/meningioma_278_jpg.rf.906e83c42f513908e0900c8e9a7d0c96.jpg  \n",
            " extracting: dataset/train/images/meningioma_279_jpg.rf.e860a0c1bf6f9ec8620c7acf49275b51.jpg  \n",
            " extracting: dataset/train/images/meningioma_280_jpg.rf.d16ce0cd86f7e265c2855bcec0ba02dc.jpg  \n",
            " extracting: dataset/train/images/meningioma_282_jpg.rf.1811919494221b71a1588d2369276964.jpg  \n",
            " extracting: dataset/train/images/meningioma_285_jpg.rf.7ca8f304a112af21e3be1a85ff7013c2.jpg  \n",
            " extracting: dataset/train/images/meningioma_287_jpg.rf.529be63aca7c413145676b931780dd5a.jpg  \n",
            " extracting: dataset/train/images/meningioma_288_jpg.rf.b74605bf97d174a49dd10f4b8eac6f61.jpg  \n",
            " extracting: dataset/train/images/meningioma_28_jpg.rf.5740a4a22b8762f5a72b269492ab7fa4.jpg  \n",
            " extracting: dataset/train/images/meningioma_291_jpg.rf.67a09bb39c59f41619642204571e81e9.jpg  \n",
            " extracting: dataset/train/images/meningioma_293_jpg.rf.a778044b24dee6cb4185db5940e68f45.jpg  \n",
            " extracting: dataset/train/images/meningioma_294_jpg.rf.00a8bb2e998110e2e598b32410f39c36.jpg  \n",
            " extracting: dataset/train/images/meningioma_295_jpg.rf.ecfaa49157a1d1af65a80a1e4f3de438.jpg  \n",
            " extracting: dataset/train/images/meningioma_296_jpg.rf.e05cac0bfbbb945d3085883297be7250.jpg  \n",
            " extracting: dataset/train/images/meningioma_298_jpg.rf.b5ac77f011d2981a009a80aad06b7698.jpg  \n",
            " extracting: dataset/train/images/meningioma_29_jpg.rf.825107bd32c60b88179abca3df1f2626.jpg  \n",
            " extracting: dataset/train/images/meningioma_303_jpg.rf.45ab9e2c08f02f6b0b3c3b603849533e.jpg  \n",
            " extracting: dataset/train/images/meningioma_305_jpg.rf.9e09718f7740bb58ca86ca2cb326ae19.jpg  \n",
            " extracting: dataset/train/images/meningioma_307_jpg.rf.8143061fb57344c2c378054537a0a684.jpg  \n",
            " extracting: dataset/train/images/meningioma_308_jpg.rf.69600117582e60b8e7cf3652c3f8723c.jpg  \n",
            " extracting: dataset/train/images/meningioma_309_jpg.rf.6742ac5df60d2958e7c477983331edeb.jpg  \n",
            " extracting: dataset/train/images/meningioma_310_jpg.rf.324dc73989291cfcacf2f7ff6f1f9b71.jpg  \n",
            " extracting: dataset/train/images/meningioma_312_jpg.rf.556f795ceb5e9714556ad461c6ee13cc.jpg  \n",
            " extracting: dataset/train/images/meningioma_315_jpg.rf.1558af67cab54d586b4e13360f744f4e.jpg  \n",
            " extracting: dataset/train/images/meningioma_316_jpg.rf.0c8dc01bd2d691310062457ae79ff838.jpg  \n",
            " extracting: dataset/train/images/meningioma_318_jpg.rf.497f2dcaefcfdfe088110cffe3a48de1.jpg  \n",
            " extracting: dataset/train/images/meningioma_319_jpg.rf.9cc88ece353c5431b9f49d7ed6c83ad1.jpg  \n",
            " extracting: dataset/train/images/meningioma_321_jpg.rf.b1cfa7c615784cba70af554d007661e6.jpg  \n",
            " extracting: dataset/train/images/meningioma_324_jpg.rf.83f214ddcbd720384a07b055b2bf80f8.jpg  \n",
            " extracting: dataset/train/images/meningioma_325_jpg.rf.cecf06691481e910dde208a823f0d390.jpg  \n",
            " extracting: dataset/train/images/meningioma_32_jpg.rf.285d8b29222db9307c04425a78c79906.jpg  \n",
            " extracting: dataset/train/images/meningioma_330_jpg.rf.107d9e0f4a751aec4daa7dfd7bf00651.jpg  \n",
            " extracting: dataset/train/images/meningioma_331_jpg.rf.c123e69b071dd856fd282204f9ec4e36.jpg  \n",
            " extracting: dataset/train/images/meningioma_335_jpg.rf.12da04a9c19ee36f151374f3ac713c00.jpg  \n",
            " extracting: dataset/train/images/meningioma_339_jpg.rf.cff4058c77d39aed72094f2e4e8379c9.jpg  \n",
            " extracting: dataset/train/images/meningioma_342_jpg.rf.30a0372c2bafc1ec4a44fb86c84c1595.jpg  \n",
            " extracting: dataset/train/images/meningioma_343_jpg.rf.8088aa8dac38e2d92a21c145367ed44f.jpg  \n",
            " extracting: dataset/train/images/meningioma_346_jpg.rf.af45eb1c56f185c1b4fce658d886cb91.jpg  \n",
            " extracting: dataset/train/images/meningioma_347_jpg.rf.86020889954b4fd005848f8754283ac6.jpg  \n",
            " extracting: dataset/train/images/meningioma_348_jpg.rf.25efab9a82aaf1259c0f26f7099043ef.jpg  \n",
            " extracting: dataset/train/images/meningioma_352_jpg.rf.213b1364407537a1d99b40f6dac769e6.jpg  \n",
            " extracting: dataset/train/images/meningioma_353_jpg.rf.4215a46028d3e38d036b938e9e354f36.jpg  \n",
            " extracting: dataset/train/images/meningioma_354_jpg.rf.d1dd20379826d7f54c46dcaac8eafc7b.jpg  \n",
            " extracting: dataset/train/images/meningioma_355_jpg.rf.239a9f8e75698f9fbc93ab2fc445a9e0.jpg  \n",
            " extracting: dataset/train/images/meningioma_357_jpg.rf.10be996a2e3eccdc6053635c56dbc251.jpg  \n",
            " extracting: dataset/train/images/meningioma_35_jpg.rf.7c99aa29547ebcb3a8cb8a78c95ad76a.jpg  \n",
            " extracting: dataset/train/images/meningioma_368_jpg.rf.9d74c6881f81c543b1c9a5cef74a6537.jpg  \n",
            " extracting: dataset/train/images/meningioma_369_jpg.rf.d25fc9f492912f89e7238146037486ae.jpg  \n",
            " extracting: dataset/train/images/meningioma_36_jpg.rf.996bfe8810804c5883a07d7490228fc7.jpg  \n",
            " extracting: dataset/train/images/meningioma_371_jpg.rf.6ed100fc09c2a6066a7a698a7a861797.jpg  \n",
            " extracting: dataset/train/images/meningioma_373_jpg.rf.354639fefd78a22876823d0bf7a6f6fd.jpg  \n",
            " extracting: dataset/train/images/meningioma_375_jpg.rf.380d15275cfa0e4d376525ae9c86a507.jpg  \n",
            " extracting: dataset/train/images/meningioma_376_jpg.rf.6827fa15d7a0b9c9cd36899d88322bdb.jpg  \n",
            " extracting: dataset/train/images/meningioma_37_jpg.rf.b2a0ecc4fada033eaa5ee146a455199a.jpg  \n",
            " extracting: dataset/train/images/meningioma_380_jpg.rf.652b62b36dab539852cff2f08c8a5393.jpg  \n",
            " extracting: dataset/train/images/meningioma_383_jpg.rf.fe267a92271133c9b424231cc42a4d75.jpg  \n",
            " extracting: dataset/train/images/meningioma_384_jpg.rf.1156717de547acc9888b45144028e2f3.jpg  \n",
            " extracting: dataset/train/images/meningioma_386_jpg.rf.837a2af568f580f346a797f1bd5015cc.jpg  \n",
            " extracting: dataset/train/images/meningioma_387_jpg.rf.c3679e9a4edb18beff1a99e34d3ae1ac.jpg  \n",
            " extracting: dataset/train/images/meningioma_389_jpg.rf.adc59025d8dcaf58d6282ece4b441894.jpg  \n",
            " extracting: dataset/train/images/meningioma_38_jpg.rf.22795e9373a4bd458b54a3de93be2f5e.jpg  \n",
            " extracting: dataset/train/images/meningioma_390_jpg.rf.c5b1c9b2922f764d06855e61fc5c58c3.jpg  \n",
            " extracting: dataset/train/images/meningioma_391_jpg.rf.c05273c79dfe211092dbc147bc57f96c.jpg  \n",
            " extracting: dataset/train/images/meningioma_392_jpg.rf.a7e384c4a7b1146a935811a2c04e47b4.jpg  \n",
            " extracting: dataset/train/images/meningioma_393_jpg.rf.c0dcd6a2fc9b23f09b0b84434e1b9d2c.jpg  \n",
            " extracting: dataset/train/images/meningioma_394_jpg.rf.4ca21de47040fe0b43602f04a53ea7a2.jpg  \n",
            " extracting: dataset/train/images/meningioma_398_jpg.rf.f303a581bba88e387c4a1ab8dbbdd418.jpg  \n",
            " extracting: dataset/train/images/meningioma_3_jpg.rf.3d6ab426da351985af9403198a44e6f0.jpg  \n",
            " extracting: dataset/train/images/meningioma_401_jpg.rf.e82a83f493a3fdbb2c7f4ec1fb0c9397.jpg  \n",
            " extracting: dataset/train/images/meningioma_404_jpg.rf.ba25e246493ae95304b44879ab3b0993.jpg  \n",
            " extracting: dataset/train/images/meningioma_409_jpg.rf.0d2497cdc7a5fafcdf8bf31fe8ad6187.jpg  \n",
            " extracting: dataset/train/images/meningioma_40_jpg.rf.7ad694be151e1fa090b4a3fbd76ebd19.jpg  \n",
            " extracting: dataset/train/images/meningioma_410_jpg.rf.ff44de7d5514fa24f683f3fbdc2ddea2.jpg  \n",
            " extracting: dataset/train/images/meningioma_412_jpg.rf.e9cb10656771b59ce7c885fd2bfb6665.jpg  \n",
            " extracting: dataset/train/images/meningioma_413_jpg.rf.0b5e8a0df6f7e0d1078df73df40a5282.jpg  \n",
            " extracting: dataset/train/images/meningioma_414_jpg.rf.c45065060612ffb5230efc91b8a37077.jpg  \n",
            " extracting: dataset/train/images/meningioma_415_jpg.rf.8960d1e0deb57ffc78750398cb7410f5.jpg  \n",
            " extracting: dataset/train/images/meningioma_416_jpg.rf.866c061a7ee26cf195ca2da8ca8c1bbb.jpg  \n",
            " extracting: dataset/train/images/meningioma_417_jpg.rf.5700fd5fe6db8ff5c5d04ea89f2c725f.jpg  \n",
            " extracting: dataset/train/images/meningioma_422_jpg.rf.64309a5daa9377b99e71a899a5df1545.jpg  \n",
            " extracting: dataset/train/images/meningioma_424_jpg.rf.6e971bda062dbe09e62cc3939de38b3f.jpg  \n",
            " extracting: dataset/train/images/meningioma_427_jpg.rf.912d9eb73f6ae6d1019c74b3b8354217.jpg  \n",
            " extracting: dataset/train/images/meningioma_428_jpg.rf.161b483f1c43282a19796f3db11ba607.jpg  \n",
            " extracting: dataset/train/images/meningioma_429_jpg.rf.0d5ef81bd8b9fdd961db041d8946521d.jpg  \n",
            " extracting: dataset/train/images/meningioma_42_jpg.rf.df463390abf4bbd6c6247719aa9f343e.jpg  \n",
            " extracting: dataset/train/images/meningioma_433_jpg.rf.cc9be7ad738961f244c51f16f48e0952.jpg  \n",
            " extracting: dataset/train/images/meningioma_434_jpg.rf.41d1adce2e2d5db119a6c77cc817431c.jpg  \n",
            " extracting: dataset/train/images/meningioma_436_jpg.rf.9e2e85a0b53904aa65f8228572b35c0d.jpg  \n",
            " extracting: dataset/train/images/meningioma_439_jpg.rf.cd2b2f184edf026b7af7d9bbfbcb01ea.jpg  \n",
            " extracting: dataset/train/images/meningioma_444_jpg.rf.559f84664eb2667a915cc1d2b04b6a35.jpg  \n",
            " extracting: dataset/train/images/meningioma_446_jpg.rf.586ea523102745fbd6d7d19556a4f4a9.jpg  \n",
            " extracting: dataset/train/images/meningioma_448_jpg.rf.1624fad6647f76ff99bbe9525307fb12.jpg  \n",
            " extracting: dataset/train/images/meningioma_449_jpg.rf.8add6f9e9b0a0427a42f614fa15f4873.jpg  \n",
            " extracting: dataset/train/images/meningioma_44_jpg.rf.d68bafeba821518a369f13fd8cdb6352.jpg  \n",
            " extracting: dataset/train/images/meningioma_453_jpg.rf.2fd2488ba079b893c3bb2b3d3781169d.jpg  \n",
            " extracting: dataset/train/images/meningioma_45_jpg.rf.2d368d1eba2e3ea378de1c0d80a69384.jpg  \n",
            " extracting: dataset/train/images/meningioma_460_jpg.rf.0faac894ebf5dec9e5112ced6dc5bbb2.jpg  \n",
            " extracting: dataset/train/images/meningioma_464_jpg.rf.72b9f6a7351545cdf5398bcad1c048db.jpg  \n",
            " extracting: dataset/train/images/meningioma_466_jpg.rf.59370219c28541ae27c863a2a39e37d3.jpg  \n",
            " extracting: dataset/train/images/meningioma_46_jpg.rf.259eebd958cd27bed31605e0c64f2f20.jpg  \n",
            " extracting: dataset/train/images/meningioma_472_jpg.rf.d44d687ede2de30583e62debe2da1b3e.jpg  \n",
            " extracting: dataset/train/images/meningioma_473_jpg.rf.064ae57ceafe17ae32c5e4b6792bac84.jpg  \n",
            " extracting: dataset/train/images/meningioma_474_jpg.rf.3489d5edbb9f106b58990bec025051c4.jpg  \n",
            " extracting: dataset/train/images/meningioma_476_jpg.rf.ac008da4fff8d67aa78155ae1559070d.jpg  \n",
            " extracting: dataset/train/images/meningioma_477_jpg.rf.44cfb7a6c54822440200eded86616949.jpg  \n",
            " extracting: dataset/train/images/meningioma_480_jpg.rf.b6fd52131c70a1432cf16cd5e85a66d7.jpg  \n",
            " extracting: dataset/train/images/meningioma_482_jpg.rf.04fa49e7085ab5dde5a0a4a1bc568640.jpg  \n",
            " extracting: dataset/train/images/meningioma_483_jpg.rf.6743ebb5c74f7bdc9dc9621091b3289e.jpg  \n",
            " extracting: dataset/train/images/meningioma_484_jpg.rf.b0dacc7c4c7d73ebaf772cea4de6c25f.jpg  \n",
            " extracting: dataset/train/images/meningioma_488_jpg.rf.be14c24d736712fc769e96c3dc43a9b5.jpg  \n",
            " extracting: dataset/train/images/meningioma_489_jpg.rf.37968ddddd2f75afc081ab00dde4b5f7.jpg  \n",
            " extracting: dataset/train/images/meningioma_48_jpg.rf.da899f1a3060508acbeb2337243a27e2.jpg  \n",
            " extracting: dataset/train/images/meningioma_490_jpg.rf.6092ab74f399ae350d9849c8cdd7f9c7.jpg  \n",
            " extracting: dataset/train/images/meningioma_491_jpg.rf.be7be58f14d635bfb1ab62f692fa769b.jpg  \n",
            " extracting: dataset/train/images/meningioma_493_jpg.rf.5edb6c24fcbc2ed7b03ae367dfcb8310.jpg  \n",
            " extracting: dataset/train/images/meningioma_494_jpg.rf.6aeec65410ac017d0e8c5976fce0240d.jpg  \n",
            " extracting: dataset/train/images/meningioma_502_jpg.rf.c6df0ca015dbbe0d5e7633f9c0d182ee.jpg  \n",
            " extracting: dataset/train/images/meningioma_507_jpg.rf.3ab0fbe484326ef59f316b41b30d9efa.jpg  \n",
            " extracting: dataset/train/images/meningioma_50_jpg.rf.721cdea6a4bd1e234b5c4c8d1193e4ca.jpg  \n",
            " extracting: dataset/train/images/meningioma_513_jpg.rf.9ccd3e3625158e49d46d039ad5808006.jpg  \n",
            " extracting: dataset/train/images/meningioma_514_jpg.rf.08f3be6e13bf87f0076d19fd9d664713.jpg  \n",
            " extracting: dataset/train/images/meningioma_515_jpg.rf.d9184003696ba2a2afbff43d9c3dcdd3.jpg  \n",
            " extracting: dataset/train/images/meningioma_517_jpg.rf.10c6b3b1eaec17a29c6747d5d7ff1d64.jpg  \n",
            " extracting: dataset/train/images/meningioma_518_jpg.rf.299c80c7b531ee4bc9516f9d56b9d8a6.jpg  \n",
            " extracting: dataset/train/images/meningioma_519_jpg.rf.27dd49fc9a19ce97581a27273a6d1221.jpg  \n",
            " extracting: dataset/train/images/meningioma_520_jpg.rf.7fbfefe2feacebd4d94756793fc247c8.jpg  \n",
            " extracting: dataset/train/images/meningioma_521_jpg.rf.853bd92eb03865e2659557a1711049ed.jpg  \n",
            " extracting: dataset/train/images/meningioma_522_jpg.rf.0c38e3e33969438df0c18f91c110f383.jpg  \n",
            " extracting: dataset/train/images/meningioma_523_jpg.rf.517e6cbcb701c14604ae34affef7c00c.jpg  \n",
            " extracting: dataset/train/images/meningioma_524_jpg.rf.a311e8b2041f1fb8c56c2c2802051b9f.jpg  \n",
            " extracting: dataset/train/images/meningioma_526_jpg.rf.98e109530bc9b3ede3d6e6cd4a06050e.jpg  \n",
            " extracting: dataset/train/images/meningioma_528_jpg.rf.c6ccc990406c8012aaaa3c50c95f6d67.jpg  \n",
            " extracting: dataset/train/images/meningioma_529_jpg.rf.a6ea6dcd0a7c56497af0ec165691ab54.jpg  \n",
            " extracting: dataset/train/images/meningioma_52_jpg.rf.4a8391d57ddb2c67dc8d98451864097d.jpg  \n",
            " extracting: dataset/train/images/meningioma_533_jpg.rf.e7f45a29603110012328144c889cfe92.jpg  \n",
            " extracting: dataset/train/images/meningioma_534_jpg.rf.c365b24bcbf97d11d9e4f4455d01ee21.jpg  \n",
            " extracting: dataset/train/images/meningioma_538_jpg.rf.91e4e9efdf3e2b632698f6440151bf76.jpg  \n",
            " extracting: dataset/train/images/meningioma_539_jpg.rf.e4c5df4d0671e681b399e45e61d4c045.jpg  \n",
            " extracting: dataset/train/images/meningioma_540_jpg.rf.c7dba9ffd13a4576620ef3aeb2b60ea8.jpg  \n",
            " extracting: dataset/train/images/meningioma_541_jpg.rf.c1db947b3ecf13b05b7b3835311108d4.jpg  \n",
            " extracting: dataset/train/images/meningioma_542_jpg.rf.92dd64a6a4b2245e6093bcc5ce499996.jpg  \n",
            " extracting: dataset/train/images/meningioma_543_jpg.rf.e11bae3ffd29e3d4d0394811c4dab3d3.jpg  \n",
            " extracting: dataset/train/images/meningioma_544_jpg.rf.4f027eb4b90a9d8ce0b3d0370b2d0ee8.jpg  \n",
            " extracting: dataset/train/images/meningioma_547_jpg.rf.ce87498c81d59d6499864d02df593180.jpg  \n",
            " extracting: dataset/train/images/meningioma_54_jpg.rf.1dd6aae7268ff34d84f1f68345d76d55.jpg  \n",
            " extracting: dataset/train/images/meningioma_550_jpg.rf.ca4731d8127acac06e1dea56d5435e81.jpg  \n",
            " extracting: dataset/train/images/meningioma_559_jpg.rf.3029834e51a6d167b8e6748b5568f9a2.jpg  \n",
            " extracting: dataset/train/images/meningioma_55_jpg.rf.ef13fdd7d8b8b5c722d124c14792f38c.jpg  \n",
            " extracting: dataset/train/images/meningioma_561_jpg.rf.544bf3fac642cba5ff23b9ec6f8fa39d.jpg  \n",
            " extracting: dataset/train/images/meningioma_563_jpg.rf.59a3d1f3acc64eb02c78fc903dfb0131.jpg  \n",
            " extracting: dataset/train/images/meningioma_564_jpg.rf.b6b6cf99462359a70869fe1bb7fa9fa6.jpg  \n",
            " extracting: dataset/train/images/meningioma_567_jpg.rf.a077d99c54ffc0d725d9c939a64ce443.jpg  \n",
            " extracting: dataset/train/images/meningioma_568_jpg.rf.da5760c7a2646e5b13017db24de54fc0.jpg  \n",
            " extracting: dataset/train/images/meningioma_56_jpg.rf.809e46b330e6d1e7c74a8b41330f8f6b.jpg  \n",
            " extracting: dataset/train/images/meningioma_570_jpg.rf.c130b179632a9532bb06613135c32198.jpg  \n",
            " extracting: dataset/train/images/meningioma_574_jpg.rf.4ca0e76d06d797a8c04c8fd1ba93920c.jpg  \n",
            " extracting: dataset/train/images/meningioma_576_jpg.rf.a80c7eb8b77fd82159b02c1e1016302e.jpg  \n",
            " extracting: dataset/train/images/meningioma_579_jpg.rf.a7c1d0c81b19c57993e14a81467a476c.jpg  \n",
            " extracting: dataset/train/images/meningioma_581_jpg.rf.4bd38adddc1dd0fbb79a50fe5b8e5ae2.jpg  \n",
            " extracting: dataset/train/images/meningioma_584_jpg.rf.3d0ed1863e116fea7147a0411f1bab22.jpg  \n",
            " extracting: dataset/train/images/meningioma_585_jpg.rf.5df72b5d661e615e520bf19ed05752f1.jpg  \n",
            " extracting: dataset/train/images/meningioma_586_jpg.rf.c6df8e1a1d04176dd3e40a189f302541.jpg  \n",
            " extracting: dataset/train/images/meningioma_588_jpg.rf.2b39f2bd67146ad3088d621a41d0a05e.jpg  \n",
            " extracting: dataset/train/images/meningioma_589_jpg.rf.fda7c1b1ed0f72c6d6a9481f18456800.jpg  \n",
            " extracting: dataset/train/images/meningioma_58_jpg.rf.c8da92b3031d934b3a6d1f5112ceb8a9.jpg  \n",
            " extracting: dataset/train/images/meningioma_591_jpg.rf.1b4d49fb2b304dcd2b55198a822cbf4c.jpg  \n",
            " extracting: dataset/train/images/meningioma_595_jpg.rf.f15dadf0809ff36a66a0c8033e9bbf55.jpg  \n",
            " extracting: dataset/train/images/meningioma_596_jpg.rf.2bd3b511718f9c6ee0d6f6d7412bcdca.jpg  \n",
            " extracting: dataset/train/images/meningioma_59_jpg.rf.7bf46225ac5d454cd6dffd88c0f87292.jpg  \n",
            " extracting: dataset/train/images/meningioma_600_jpg.rf.bcfce2eb6680e0d3cef1551d7b220d17.jpg  \n",
            " extracting: dataset/train/images/meningioma_602_jpg.rf.b3e6e4fd5cead908876400224522aa10.jpg  \n",
            " extracting: dataset/train/images/meningioma_604_jpg.rf.fdde13d8bcbcc37cf77dddac72ea4473.jpg  \n",
            " extracting: dataset/train/images/meningioma_607_jpg.rf.b71b24fb77c564166eb943d15cd4227d.jpg  \n",
            " extracting: dataset/train/images/meningioma_609_jpg.rf.21581131a9d2e16d620e817ef8c7b45a.jpg  \n",
            " extracting: dataset/train/images/meningioma_60_jpg.rf.a47faa6b698489797b47f30b2843c808.jpg  \n",
            " extracting: dataset/train/images/meningioma_610_jpg.rf.71aea8f2dade25d544127c39f9ffa853.jpg  \n",
            " extracting: dataset/train/images/meningioma_611_jpg.rf.778b7a643288d48813a2e60816f4984b.jpg  \n",
            " extracting: dataset/train/images/meningioma_612_jpg.rf.5738942da01398e9ef50f2af4c2b6abc.jpg  \n",
            " extracting: dataset/train/images/meningioma_613_jpg.rf.6e9fb5591584d14420eac5bc1de48fb1.jpg  \n",
            " extracting: dataset/train/images/meningioma_619_jpg.rf.af5f2dfb03ff7e55d859f594d46e3fb4.jpg  \n",
            " extracting: dataset/train/images/meningioma_61_jpg.rf.2ccd18e873063f2ed8d54852e9f66835.jpg  \n",
            " extracting: dataset/train/images/meningioma_620_jpg.rf.af565f7c3124996c1d9594651cfaa4b6.jpg  \n",
            " extracting: dataset/train/images/meningioma_621_jpg.rf.b758e3cf7da80d29c16e6dff067cc8d5.jpg  \n",
            " extracting: dataset/train/images/meningioma_624_jpg.rf.cbc39b6ccc13403b879e6bd5da8ac1c8.jpg  \n",
            " extracting: dataset/train/images/meningioma_628_jpg.rf.da955dca643c52e3d4a4f329f3d37691.jpg  \n",
            " extracting: dataset/train/images/meningioma_62_jpg.rf.23ac77d0e5264c24c31a81aaffe72da1.jpg  \n",
            " extracting: dataset/train/images/meningioma_632_jpg.rf.dd4d5f3b65a708524ef06243820fcfc7.jpg  \n",
            " extracting: dataset/train/images/meningioma_634_jpg.rf.cd9e521055f68556b8f9a9ea93728570.jpg  \n",
            " extracting: dataset/train/images/meningioma_635_jpg.rf.e7958e76d41287c740310856504b0d09.jpg  \n",
            " extracting: dataset/train/images/meningioma_638_jpg.rf.63183096ef023fd6179343f832e5b918.jpg  \n",
            " extracting: dataset/train/images/meningioma_63_jpg.rf.09d8adece431eaa739db4cd3fa47f681.jpg  \n",
            " extracting: dataset/train/images/meningioma_642_jpg.rf.09043d103ae2772f37af631bcd68d68b.jpg  \n",
            " extracting: dataset/train/images/meningioma_643_jpg.rf.f1067b5da9fdf37eebfe7428ede57db9.jpg  \n",
            " extracting: dataset/train/images/meningioma_644_jpg.rf.93b14cb013900c51110739a4f35aed5a.jpg  \n",
            " extracting: dataset/train/images/meningioma_649_jpg.rf.59cc37b24e1f372295b7c48fac71bf1d.jpg  \n",
            " extracting: dataset/train/images/meningioma_64_jpg.rf.b86f2a96ab8c4293e2ceb0fdbb133b31.jpg  \n",
            " extracting: dataset/train/images/meningioma_650_jpg.rf.38720ae0943d811da766d773196f79d7.jpg  \n",
            " extracting: dataset/train/images/meningioma_654_jpg.rf.404dce2eaf6f78e861d07817c3b35726.jpg  \n",
            " extracting: dataset/train/images/meningioma_655_jpg.rf.cf9d5d2a5864514a6ad7a2242a5dc5b7.jpg  \n",
            " extracting: dataset/train/images/meningioma_656_jpg.rf.8dd8eac691401cc5e8034bcdb6c17947.jpg  \n",
            " extracting: dataset/train/images/meningioma_657_jpg.rf.f7be9f7383153fc39c77db5d4cc6d494.jpg  \n",
            " extracting: dataset/train/images/meningioma_662_jpg.rf.d4f24820353a5f90136f3af5fc78abe1.jpg  \n",
            " extracting: dataset/train/images/meningioma_663_jpg.rf.b2eda9c3f28966f572db633e17e208e7.jpg  \n",
            " extracting: dataset/train/images/meningioma_664_jpg.rf.ff9460f4f6c62598a5aee99e4d8c37fb.jpg  \n",
            " extracting: dataset/train/images/meningioma_665_jpg.rf.7056b93302386a73501f7bb6ff942e86.jpg  \n",
            " extracting: dataset/train/images/meningioma_670_jpg.rf.9c4266b8cfdf1bc50f734cbe3bd3001e.jpg  \n",
            " extracting: dataset/train/images/meningioma_676_jpg.rf.417d404a992e4b8c747988d47c2c187d.jpg  \n",
            " extracting: dataset/train/images/meningioma_677_jpg.rf.533e48c81a54f8bb29c2015e3b47fdad.jpg  \n",
            " extracting: dataset/train/images/meningioma_679_jpg.rf.f458e94fa924d231104129922eba2c88.jpg  \n",
            " extracting: dataset/train/images/meningioma_67_jpg.rf.cf0e297102a253cf6dec00388ddc0dbd.jpg  \n",
            " extracting: dataset/train/images/meningioma_680_jpg.rf.475d66392704f6dd55109b35b1ef83d0.jpg  \n",
            " extracting: dataset/train/images/meningioma_682_jpg.rf.6c46b2c43697cb3e5ca427fe271b97b8.jpg  \n",
            " extracting: dataset/train/images/meningioma_687_jpg.rf.5473cc1be3fcdf393453a61818b59489.jpg  \n",
            " extracting: dataset/train/images/meningioma_689_jpg.rf.f4110e21ea8ba8fdd8b2a45a6127a7c6.jpg  \n",
            " extracting: dataset/train/images/meningioma_691_jpg.rf.bdb3a062031fa746e4b1a2a169b623cd.jpg  \n",
            " extracting: dataset/train/images/meningioma_693_jpg.rf.8d77500198a65eae38bcf876f27db18a.jpg  \n",
            " extracting: dataset/train/images/meningioma_695_jpg.rf.e887b2b087c43c663ead6aeb47cdd2cd.jpg  \n",
            " extracting: dataset/train/images/meningioma_697_jpg.rf.6a0d07ddc26f2bb36cfae5b191fa355e.jpg  \n",
            " extracting: dataset/train/images/meningioma_6_jpg.rf.603953160e491ab150a61d29f46b19ba.jpg  \n",
            " extracting: dataset/train/images/meningioma_703_jpg.rf.fa5de94af7d0569d7fc7378d9e8989cb.jpg  \n",
            " extracting: dataset/train/images/meningioma_705_jpg.rf.b959b9d793a44ce971728270d18a65f9.jpg  \n",
            " extracting: dataset/train/images/meningioma_706_jpg.rf.356d881738b9c3dae8217173a2fdb6fb.jpg  \n",
            " extracting: dataset/train/images/meningioma_707_jpg.rf.45ba1e9cd6b073aacc11936ced9d3564.jpg  \n",
            " extracting: dataset/train/images/meningioma_710_jpg.rf.1bba5ad4daee6917d9520f832a0986db.jpg  \n",
            " extracting: dataset/train/images/meningioma_711_jpg.rf.924f1f4a9927e0df7cdb4c153f1807a3.jpg  \n",
            " extracting: dataset/train/images/meningioma_715_jpg.rf.8484cbfc38f4634be33682c7b5689447.jpg  \n",
            " extracting: dataset/train/images/meningioma_721_jpg.rf.05fe462c247fc4420215c6bb81f2dee3.jpg  \n",
            " extracting: dataset/train/images/meningioma_722_jpg.rf.3c4e161a2881cd894720e0fad851f02e.jpg  \n",
            " extracting: dataset/train/images/meningioma_724_jpg.rf.c1f50a65dca460a9519a5403ca08c051.jpg  \n",
            " extracting: dataset/train/images/meningioma_730_jpg.rf.7a7eb7713a398036f262a80ed94cbd38.jpg  \n",
            " extracting: dataset/train/images/meningioma_733_jpg.rf.3df47e74401e0b8871f177d0087ceef2.jpg  \n",
            " extracting: dataset/train/images/meningioma_734_jpg.rf.79af18bc94491cc52fb5a9aefdf4b086.jpg  \n",
            " extracting: dataset/train/images/meningioma_739_jpg.rf.8910b4c1875118d65ea9d926d2e48a51.jpg  \n",
            " extracting: dataset/train/images/meningioma_73_jpg.rf.737b7d02c5566539f8c6e99c61f1bb42.jpg  \n",
            " extracting: dataset/train/images/meningioma_743_jpg.rf.29f2a64907548d96d90e32fdd31b4f7a.jpg  \n",
            " extracting: dataset/train/images/meningioma_748_jpg.rf.589414d2dd21bdf2b0752f6fa1959865.jpg  \n",
            " extracting: dataset/train/images/meningioma_749_jpg.rf.deaf1e32a98b5b9178da63bfdfd3adcd.jpg  \n",
            " extracting: dataset/train/images/meningioma_74_jpg.rf.4c1509a1bf13127b77e02ea40b34a427.jpg  \n",
            " extracting: dataset/train/images/meningioma_750_jpg.rf.c72fdecfe3066b14d46b56e7aa0696cb.jpg  \n",
            " extracting: dataset/train/images/meningioma_754_jpg.rf.73b480a8d4e044d99b9d007126448ddd.jpg  \n",
            " extracting: dataset/train/images/meningioma_756_jpg.rf.d642735914e417b8a9c80818bd8cd2e1.jpg  \n",
            " extracting: dataset/train/images/meningioma_757_jpg.rf.ba3c9be419657e1322b9c5643a89b7cf.jpg  \n",
            " extracting: dataset/train/images/meningioma_758_jpg.rf.773269389e2b3a0c0ed1bfb45ef85194.jpg  \n",
            " extracting: dataset/train/images/meningioma_759_jpg.rf.b186884d401c9c2a145b3edbdb9cbc6b.jpg  \n",
            " extracting: dataset/train/images/meningioma_75_jpg.rf.998b577f22c41bf95b3d94ea7291bc60.jpg  \n",
            " extracting: dataset/train/images/meningioma_763_jpg.rf.1c8ffb9bde0747266e603f26ee870ff7.jpg  \n",
            " extracting: dataset/train/images/meningioma_765_jpg.rf.e0c6baaa13d375dbd6d0846072f92991.jpg  \n",
            " extracting: dataset/train/images/meningioma_769_jpg.rf.7ac42da7e1dc2978e8313f1e60c01b28.jpg  \n",
            " extracting: dataset/train/images/meningioma_76_jpg.rf.3427bb5bb263d4465461817effb5e971.jpg  \n",
            " extracting: dataset/train/images/meningioma_773_jpg.rf.c5ae9781857e9a783562dae0412f873b.jpg  \n",
            " extracting: dataset/train/images/meningioma_776_jpg.rf.1987625f340e41a7ef8d410a4c5345bd.jpg  \n",
            " extracting: dataset/train/images/meningioma_778_jpg.rf.517be6186911fd3f299f5449516854bc.jpg  \n",
            " extracting: dataset/train/images/meningioma_779_jpg.rf.1e1082dfcadaedbd005b5cfc6e06cef2.jpg  \n",
            " extracting: dataset/train/images/meningioma_780_jpg.rf.904948ed49d53687f8a8acebf49a0815.jpg  \n",
            " extracting: dataset/train/images/meningioma_781_jpg.rf.9d44a2d15a217600ca07c83785ab7d78.jpg  \n",
            " extracting: dataset/train/images/meningioma_782_jpg.rf.f20f3818a42dad9ea5ba2054824bfca2.jpg  \n",
            " extracting: dataset/train/images/meningioma_786_jpg.rf.4545a165f3399b982d74912b510c9f53.jpg  \n",
            " extracting: dataset/train/images/meningioma_787_jpg.rf.b4fc7fd76dd101524b5e2c01bc4a0dfc.jpg  \n",
            " extracting: dataset/train/images/meningioma_78_jpg.rf.07af0e5349f5e4efc929f994180c1be0.jpg  \n",
            " extracting: dataset/train/images/meningioma_790_jpg.rf.7d370c98335e54bf435ff2f8b34a8057.jpg  \n",
            " extracting: dataset/train/images/meningioma_792_jpg.rf.5cd51b220e3a65606c72bd389a656e38.jpg  \n",
            " extracting: dataset/train/images/meningioma_793_jpg.rf.2b1cddb8721fff606bf90a695ccdf926.jpg  \n",
            " extracting: dataset/train/images/meningioma_794_jpg.rf.e6ea105c447a297c2c57171da676b416.jpg  \n",
            " extracting: dataset/train/images/meningioma_795_jpg.rf.a130b311d97ea40681adadbd4f7f83d0.jpg  \n",
            " extracting: dataset/train/images/meningioma_797_jpg.rf.23361b2204143a425ec4e7e6404ce7e2.jpg  \n",
            " extracting: dataset/train/images/meningioma_799_jpg.rf.abfe4fca6e0fec153d7e13b1d72d3e9d.jpg  \n",
            " extracting: dataset/train/images/meningioma_800_jpg.rf.4f2b2bb0491e2960a62f39eb8778e6c0.jpg  \n",
            " extracting: dataset/train/images/meningioma_801_jpg.rf.30da0e61ac1939f9b4fe7cf248e7c52a.jpg  \n",
            " extracting: dataset/train/images/meningioma_808_jpg.rf.c59cb929710e36802c760ffcf7ca54d0.jpg  \n",
            " extracting: dataset/train/images/meningioma_80_jpg.rf.17987ac34f90df8305d1dc9b50dd699e.jpg  \n",
            " extracting: dataset/train/images/meningioma_810_jpg.rf.ffd97c6d77251529eeafdfdf4f979311.jpg  \n",
            " extracting: dataset/train/images/meningioma_813_jpg.rf.e5959302a70a1844bb3144fcf1b0b91e.jpg  \n",
            " extracting: dataset/train/images/meningioma_814_jpg.rf.7674a61b20ed610f9161984286c835f1.jpg  \n",
            " extracting: dataset/train/images/meningioma_816_jpg.rf.41e7d64675086d1443640f50c7d819b2.jpg  \n",
            " extracting: dataset/train/images/meningioma_817_jpg.rf.e627f4d8fe10890aa4f608d3811e4590.jpg  \n",
            " extracting: dataset/train/images/meningioma_818_jpg.rf.d0a0db73578541a04e423e37c4d5cd79.jpg  \n",
            " extracting: dataset/train/images/meningioma_819_jpg.rf.1c4d8ddf0a750bc950fdc47787721f29.jpg  \n",
            " extracting: dataset/train/images/meningioma_824_jpg.rf.26b93675bd6dfd2006c07da6e9a019c7.jpg  \n",
            " extracting: dataset/train/images/meningioma_825_jpg.rf.5e76f113bc28e95dbcfb942b481cecdb.jpg  \n",
            " extracting: dataset/train/images/meningioma_826_jpg.rf.076b51e8b7ba356f11c7b349609c5525.jpg  \n",
            " extracting: dataset/train/images/meningioma_827_jpg.rf.670af4536eb3590bcdb1da7671ee42ca.jpg  \n",
            " extracting: dataset/train/images/meningioma_82_jpg.rf.6b1e9e5be4b73bc434d17e0e13e84de6.jpg  \n",
            " extracting: dataset/train/images/meningioma_831_jpg.rf.bccd9759553dd64c3a8cb41a949c891a.jpg  \n",
            " extracting: dataset/train/images/meningioma_832_jpg.rf.fd82f5dbaee24efbdc588181a51e6f83.jpg  \n",
            " extracting: dataset/train/images/meningioma_838_jpg.rf.2d5eef8fbdae0dcbf0bef31653539856.jpg  \n",
            " extracting: dataset/train/images/meningioma_83_jpg.rf.f192667a12f8afbb947d1dd73900b479.jpg  \n",
            " extracting: dataset/train/images/meningioma_841_jpg.rf.92cdd28efd0005f37f5fc4618171e0bf.jpg  \n",
            " extracting: dataset/train/images/meningioma_842_jpg.rf.00a12ad362ae2288f7cde416c23d8398.jpg  \n",
            " extracting: dataset/train/images/meningioma_84_jpg.rf.7a9467dec032dadf408874a66b87290f.jpg  \n",
            " extracting: dataset/train/images/meningioma_850_jpg.rf.686648740b5e30aad18a2f3ef8f47bfa.jpg  \n",
            " extracting: dataset/train/images/meningioma_851_jpg.rf.5cb883da6643e552e4b05b22f1f665de.jpg  \n",
            " extracting: dataset/train/images/meningioma_855_jpg.rf.9b568c373f7607287c9cdeb016adbd31.jpg  \n",
            " extracting: dataset/train/images/meningioma_857_jpg.rf.6e1f4690f5fb1e4bb99f4db4e0537fa2.jpg  \n",
            " extracting: dataset/train/images/meningioma_862_jpg.rf.1672e0dd16941edd679221b38446a162.jpg  \n",
            " extracting: dataset/train/images/meningioma_863_jpg.rf.2fd01da1491a8a5933977e3bd3555770.jpg  \n",
            " extracting: dataset/train/images/meningioma_864_jpg.rf.dd99018be6b80c0479ba358d9a1e6987.jpg  \n",
            " extracting: dataset/train/images/meningioma_866_jpg.rf.6eeaba9ea919ac847aacf7795c4bb3d7.jpg  \n",
            " extracting: dataset/train/images/meningioma_867_jpg.rf.c0d07726c11b7a84a5fa4d1fc0a8505f.jpg  \n",
            " extracting: dataset/train/images/meningioma_86_jpg.rf.bdd9bf4edaeff7e33264907091feeccd.jpg  \n",
            " extracting: dataset/train/images/meningioma_872_jpg.rf.bcff08f393b9f39298578cc9457afffd.jpg  \n",
            " extracting: dataset/train/images/meningioma_877_jpg.rf.8fc9d1b7e41e2834ef89ac3f91e5a904.jpg  \n",
            " extracting: dataset/train/images/meningioma_87_jpg.rf.928b0a02f9d0dc428ccf1f93b32ba5b1.jpg  \n",
            " extracting: dataset/train/images/meningioma_882_jpg.rf.62b9c653266173b287c6db075d91cba7.jpg  \n",
            " extracting: dataset/train/images/meningioma_889_jpg.rf.08457415fb8ec9d28c77b345a9bd7d65.jpg  \n",
            " extracting: dataset/train/images/meningioma_88_jpg.rf.332e67d3b8a04d003440021b24a68513.jpg  \n",
            " extracting: dataset/train/images/meningioma_890_jpg.rf.05a58515fbe955ab1ae2d37ad3daaa0e.jpg  \n",
            " extracting: dataset/train/images/meningioma_893_jpg.rf.ad34383d7ff8913bb6e72a1927545be6.jpg  \n",
            " extracting: dataset/train/images/meningioma_895_jpg.rf.cd674dc2a4dcf9c84b154127e7f4b4ba.jpg  \n",
            " extracting: dataset/train/images/meningioma_896_jpg.rf.1088dce4543b6291543f15f3c9a5ef53.jpg  \n",
            " extracting: dataset/train/images/meningioma_89_jpg.rf.61ea1b4ff41f662a28949d16950c6421.jpg  \n",
            " extracting: dataset/train/images/meningioma_901_jpg.rf.7f26f443a85ace9eeb2e372adf5b737d.jpg  \n",
            " extracting: dataset/train/images/meningioma_902_jpg.rf.af8246b7a7175ed27a22a9b5b3903e29.jpg  \n",
            " extracting: dataset/train/images/meningioma_907_jpg.rf.cf7ab510a25d17937023d07ccae71e02.jpg  \n",
            " extracting: dataset/train/images/meningioma_909_jpg.rf.72f13ab313d2747c0db59bdf355aef90.jpg  \n",
            " extracting: dataset/train/images/meningioma_90_jpg.rf.2e48363cd4f2775781b567750ba0a8ec.jpg  \n",
            " extracting: dataset/train/images/meningioma_913_jpg.rf.8fa76a39c193b325ce78fe62c88ce2c2.jpg  \n",
            " extracting: dataset/train/images/meningioma_915_jpg.rf.894868f40fb5390d4c33e6add7de9f91.jpg  \n",
            " extracting: dataset/train/images/meningioma_918_jpg.rf.0fb57031d3b738bba61a44e015a5b599.jpg  \n",
            " extracting: dataset/train/images/meningioma_91_jpg.rf.9376f3bcef6ca61b2d4f0dde0d35a9b0.jpg  \n",
            " extracting: dataset/train/images/meningioma_924_jpg.rf.ef23b2a126ea5c99ead25e46dcbb67e6.jpg  \n",
            " extracting: dataset/train/images/meningioma_927_jpg.rf.cbacd1260191ac36578f05e816b8c57d.jpg  \n",
            " extracting: dataset/train/images/meningioma_928_jpg.rf.96de23ec912f5e9577454bb308e525ec.jpg  \n",
            " extracting: dataset/train/images/meningioma_930_jpg.rf.3b9a5d494e6e35298128d8f161035599.jpg  \n",
            " extracting: dataset/train/images/meningioma_935_jpg.rf.2820d1d475b4a80653760ac515bcf47f.jpg  \n",
            " extracting: dataset/train/images/meningioma_937_jpg.rf.8da0c940919adb2db3045845d5a731e6.jpg  \n",
            " extracting: dataset/train/images/meningioma_938_jpg.rf.75091399cacd01137cc375d1b22a2226.jpg  \n",
            " extracting: dataset/train/images/meningioma_944_jpg.rf.86b8a982d384dfff1deeaa03e63e97db.jpg  \n",
            " extracting: dataset/train/images/meningioma_951_jpg.rf.e84a2abc82bdc0027172e5a35751d18b.jpg  \n",
            " extracting: dataset/train/images/meningioma_956_jpg.rf.9ee1ac6777f67d3063c09f82c8eadc4e.jpg  \n",
            " extracting: dataset/train/images/meningioma_958_jpg.rf.c45c2745072466a253c58e32f0360c49.jpg  \n",
            " extracting: dataset/train/images/meningioma_95_jpg.rf.ed230bc3cdc5214e8911b1958cf547e3.jpg  \n",
            " extracting: dataset/train/images/meningioma_962_jpg.rf.dc5529c452baf31a925796b88183ea0b.jpg  \n",
            " extracting: dataset/train/images/meningioma_963_jpg.rf.800aef1153806722d0e4d993d82b5e7a.jpg  \n",
            " extracting: dataset/train/images/meningioma_966_jpg.rf.dfd07b48092925cf2259d36bd0fcc9de.jpg  \n",
            " extracting: dataset/train/images/meningioma_973_jpg.rf.943daf56bd33c4c8f1fb7d7d0ef1b3c7.jpg  \n",
            " extracting: dataset/train/images/meningioma_975_jpg.rf.bdfc4fcf94b141c9c8d2bf7a744d9277.jpg  \n",
            " extracting: dataset/train/images/meningioma_977_jpg.rf.f89e77a026487c0b1cdeeecb49527c3b.jpg  \n",
            " extracting: dataset/train/images/meningioma_978_jpg.rf.859219f93f4a72a54f3288e6b6c81966.jpg  \n",
            " extracting: dataset/train/images/meningioma_979_jpg.rf.44c72a79df7eff5605e3bcf92a2ff76f.jpg  \n",
            " extracting: dataset/train/images/meningioma_983_jpg.rf.d9b0a28a097dc6b2bb1de1e2a293f3a1.jpg  \n",
            " extracting: dataset/train/images/meningioma_985_jpg.rf.9ebf503edb96cf82d825b2e7feb5fa22.jpg  \n",
            " extracting: dataset/train/images/meningioma_986_jpg.rf.bcacf1010002848f9f3dd0c9dd22fb3d.jpg  \n",
            " extracting: dataset/train/images/meningioma_989_jpg.rf.d71f7461ce2b6395ac9695c8409cd1b1.jpg  \n",
            " extracting: dataset/train/images/meningioma_990_jpg.rf.3a632e7778835f0f11faabb40fbe1e14.jpg  \n",
            " extracting: dataset/train/images/meningioma_992_jpg.rf.7ecd4a2363705b5217df4eb8f7b620e5.jpg  \n",
            " extracting: dataset/train/images/meningioma_993_jpg.rf.4bf82291957b6780725ba736bfbb4ae0.jpg  \n",
            " extracting: dataset/train/images/meningioma_999_jpg.rf.9a1bd463e0eb5ae3e65d1773be3fb557.jpg  \n",
            " extracting: dataset/train/images/meningioma_99_jpg.rf.14fda29cfbc391267067f1a140776f9e.jpg  \n",
            " extracting: dataset/train/images/no_tumor_1003_jpg.rf.ca58e56b3b9ad01726995fbbcc918d2e.jpg  \n",
            " extracting: dataset/train/images/no_tumor_1012_jpg.rf.b7971dea3b79562d4e76cd9c3e6bbad6.jpg  \n",
            " extracting: dataset/train/images/no_tumor_1016_jpg.rf.22d6bf440fb27d5a0063e14837c92063.jpg  \n",
            " extracting: dataset/train/images/no_tumor_1018_jpg.rf.c9bdfc0aea430a8912cd74990a571a82.jpg  \n",
            " extracting: dataset/train/images/no_tumor_1021_jpg.rf.61b4d9a8483a617a2cdd62ec51c14fad.jpg  \n",
            " extracting: dataset/train/images/no_tumor_1026_jpg.rf.83e346e70562719b1c3f8aea62bd9851.jpg  \n",
            " extracting: dataset/train/images/no_tumor_1035_jpg.rf.941b4172d4aa02042c2c81a3141e0a21.jpg  \n",
            " extracting: dataset/train/images/no_tumor_1039_jpg.rf.01d362e9945468a352a542a18c38ded1.jpg  \n",
            " extracting: dataset/train/images/no_tumor_1041_jpg.rf.c2ad0c6c5b3237dcb37ed3bef1ba557e.jpg  \n",
            " extracting: dataset/train/images/no_tumor_1043_jpg.rf.768608bacb8494c0c420893bbca2d2bb.jpg  \n",
            " extracting: dataset/train/images/no_tumor_1045_jpg.rf.2634e2ce15ebbd1c21f43d70e8044f8f.jpg  \n",
            " extracting: dataset/train/images/no_tumor_1047_jpg.rf.ed67610c342788ec00422487b200bbf9.jpg  \n",
            " extracting: dataset/train/images/no_tumor_104_jpg.rf.0a5b31958b139304c4900f74655fe82a.jpg  \n",
            " extracting: dataset/train/images/no_tumor_1050_jpg.rf.b94da538ccc63eb4220a4679c5b88f84.jpg  \n",
            " extracting: dataset/train/images/no_tumor_1063_jpg.rf.e575e66c2e8aa6c6e9c216345f903903.jpg  \n",
            " extracting: dataset/train/images/no_tumor_1068_jpg.rf.2d663ba9dee8887033595f92974557c5.jpg  \n",
            " extracting: dataset/train/images/no_tumor_1073_jpg.rf.5bc35117e317c026e72719bc078cbd8c.jpg  \n",
            " extracting: dataset/train/images/no_tumor_1076_jpg.rf.e03e9eb43a8219576ea9bdfba94286a8.jpg  \n",
            " extracting: dataset/train/images/no_tumor_1079_jpg.rf.ae610d05451e54ff6492a5e213ebd372.jpg  \n",
            " extracting: dataset/train/images/no_tumor_1085_jpg.rf.c4e0c79ffc9f4a82cbf6a27f594bd1ce.jpg  \n",
            " extracting: dataset/train/images/no_tumor_1088_jpg.rf.9a5310703a4cb1600585cfc4dae70d87.jpg  \n",
            " extracting: dataset/train/images/no_tumor_1093_jpg.rf.aea4c307a9ae60e321de8879b8adae27.jpg  \n",
            " extracting: dataset/train/images/no_tumor_1097_jpg.rf.b3571980c32bb0bbc585546737e42911.jpg  \n",
            " extracting: dataset/train/images/no_tumor_1103_jpg.rf.f5d51689f9a518c267c2095c9ee98bf7.jpg  \n",
            " extracting: dataset/train/images/no_tumor_1106_jpg.rf.dfcf916a9ad1e56db2b383bf96b7d3a1.jpg  \n",
            " extracting: dataset/train/images/no_tumor_1109_jpg.rf.0d377d882c8c3f51af56b9bb8b0e94bc.jpg  \n",
            " extracting: dataset/train/images/no_tumor_1110_jpg.rf.5ef14a66f4b645da81196e7d1bedce90.jpg  \n",
            " extracting: dataset/train/images/no_tumor_1113_jpg.rf.152593fcacfb8267ecd4d1e1e23db8df.jpg  \n",
            " extracting: dataset/train/images/no_tumor_1116_jpg.rf.58d57065c60fae62176fd8277ddfe6c0.jpg  \n",
            " extracting: dataset/train/images/no_tumor_1119_jpg.rf.2fa94dbebd5be8ff3ad5504ae5696283.jpg  \n",
            " extracting: dataset/train/images/no_tumor_1122_jpg.rf.b62a4d7cc6933fd7161d203f8dd61875.jpg  \n",
            " extracting: dataset/train/images/no_tumor_112_jpg.rf.afdc41cfb3f5fbb0c626fcff74f2d6e5.jpg  \n",
            " extracting: dataset/train/images/no_tumor_1134_jpg.rf.f989b6be2ae9b43f993f1fc48226c543.jpg  \n",
            " extracting: dataset/train/images/no_tumor_1150_jpg.rf.bfa6fdc786739c464c97021f77121c14.jpg  \n",
            " extracting: dataset/train/images/no_tumor_1151_jpg.rf.e8eda5e163fcddbba2f31c6899580c60.jpg  \n",
            " extracting: dataset/train/images/no_tumor_1153_jpg.rf.44296b2708ffccf2650bd2dc305fc38f.jpg  \n",
            " extracting: dataset/train/images/no_tumor_1157_jpg.rf.93f41da013b86c9dac838699ebbce758.jpg  \n",
            " extracting: dataset/train/images/no_tumor_1161_jpg.rf.23a09be682c8e138645caada39912a77.jpg  \n",
            " extracting: dataset/train/images/no_tumor_1164_jpg.rf.2085addc8c6247f6a10f11b511934dad.jpg  \n",
            " extracting: dataset/train/images/no_tumor_1165_jpg.rf.f38988976fdc19e33a97bbe70c2f6b4d.jpg  \n",
            " extracting: dataset/train/images/no_tumor_1166_jpg.rf.bb020c54afc3cd6465502dbdee48498d.jpg  \n",
            " extracting: dataset/train/images/no_tumor_1173_jpg.rf.2e0c5f4207c5dab093b02e496d167c21.jpg  \n",
            " extracting: dataset/train/images/no_tumor_1181_jpg.rf.4844a18e544d81a4a8d457c1aecd81d6.jpg  \n",
            " extracting: dataset/train/images/no_tumor_1185_jpg.rf.09e469acb79f84102d395895ccb4448f.jpg  \n",
            " extracting: dataset/train/images/no_tumor_1189_jpg.rf.04fbe8d541bd28cb54c7d60e26dcbf39.jpg  \n",
            " extracting: dataset/train/images/no_tumor_1194_jpg.rf.b859799f8592ced142814a48f957bd8f.jpg  \n",
            " extracting: dataset/train/images/no_tumor_1199_jpg.rf.4393a40d3e4df6d09fb975007d791262.jpg  \n",
            " extracting: dataset/train/images/no_tumor_1201_jpg.rf.e820255ccf963e6a269f91b4a3b01f96.jpg  \n",
            " extracting: dataset/train/images/no_tumor_1210_jpg.rf.4ce02806ade4c1f448b354d2e6bc60cc.jpg  \n",
            " extracting: dataset/train/images/no_tumor_1215_jpg.rf.5839678b4f833068a54ee551626d4cac.jpg  \n",
            " extracting: dataset/train/images/no_tumor_1219_jpg.rf.bf1a0afdac11cb575f085015b217dde1.jpg  \n",
            " extracting: dataset/train/images/no_tumor_1230_jpg.rf.5f3d6666b43025b644dab292f6eb8ff9.jpg  \n",
            " extracting: dataset/train/images/no_tumor_1234_jpg.rf.4577c6af2f27decf51e4ac1e50db0ffc.jpg  \n",
            " extracting: dataset/train/images/no_tumor_1236_jpg.rf.01d7018db8ae13fa4802a8bfe1223802.jpg  \n",
            " extracting: dataset/train/images/no_tumor_1237_jpg.rf.2b4e1824fadb8f068b44eaa43a7ea4fe.jpg  \n",
            " extracting: dataset/train/images/no_tumor_1240_jpg.rf.93c186048aafd4f9d3d9645598ced549.jpg  \n",
            " extracting: dataset/train/images/no_tumor_1243_jpg.rf.b4b500790d955abc0273d6a16c7f44ed.jpg  \n",
            " extracting: dataset/train/images/no_tumor_1249_jpg.rf.1dccd19ead5174dc182d485cc86987f4.jpg  \n",
            " extracting: dataset/train/images/no_tumor_1251_jpg.rf.93d7f42c965eb13ed1d52349e5b56fb3.jpg  \n",
            " extracting: dataset/train/images/no_tumor_1264_jpg.rf.3a4558975d3e7aa529cc9e050b1e1848.jpg  \n",
            " extracting: dataset/train/images/no_tumor_1265_jpg.rf.7c655129f792360998c6cfc59a897dbd.jpg  \n",
            " extracting: dataset/train/images/no_tumor_1268_jpg.rf.03feb40a0d97c4e14933706c2e16650a.jpg  \n",
            " extracting: dataset/train/images/no_tumor_1269_jpg.rf.31e38784a67488327242347cfd4272c7.jpg  \n",
            " extracting: dataset/train/images/no_tumor_126_jpg.rf.50e10f563b8a940f1503c7dfb8cb6021.jpg  \n",
            " extracting: dataset/train/images/no_tumor_1270_jpg.rf.aae2c4b0b4078a911cd5da3fa71df696.jpg  \n",
            " extracting: dataset/train/images/no_tumor_1271_jpg.rf.99b32784706552b3695ed804e917a16e.jpg  \n",
            " extracting: dataset/train/images/no_tumor_1274_jpg.rf.c2404902f22f468344490f6ff78ba834.jpg  \n",
            " extracting: dataset/train/images/no_tumor_1278_jpg.rf.9034ecaec68ef1ff513b5ff8dcee2f29.jpg  \n",
            " extracting: dataset/train/images/no_tumor_1286_jpg.rf.38e2168e35ca2f5248bb5cf844bd4d6c.jpg  \n",
            " extracting: dataset/train/images/no_tumor_1288_jpg.rf.1716523f611f167a31ab8005753b985a.jpg  \n",
            " extracting: dataset/train/images/no_tumor_1293_jpg.rf.3df5863ade1128b66f3e6b4f2b8f315e.jpg  \n",
            " extracting: dataset/train/images/no_tumor_1297_jpg.rf.cebfcd4925e57647d14e1a8e00483656.jpg  \n",
            " extracting: dataset/train/images/no_tumor_1299_jpg.rf.8d948ae0c5437d8623e4fe493c15c2ee.jpg  \n",
            " extracting: dataset/train/images/no_tumor_1307_jpg.rf.f2f1e5658568cbbd1c93200f711417f8.jpg  \n",
            " extracting: dataset/train/images/no_tumor_1309_jpg.rf.e92527e498844db62f674a25860351b4.jpg  \n",
            " extracting: dataset/train/images/no_tumor_1311_jpg.rf.c6c0423f3d4034c8fcbcbd41e48ed85a.jpg  \n",
            " extracting: dataset/train/images/no_tumor_1323_jpg.rf.59b092af128d8d7f9d04c316d4811758.jpg  \n",
            " extracting: dataset/train/images/no_tumor_1324_jpg.rf.8b5ac2d74686f5c90de46d2eb3330aab.jpg  \n",
            " extracting: dataset/train/images/no_tumor_1325_jpg.rf.8874659d760783bb23c854f7112a65c6.jpg  \n",
            " extracting: dataset/train/images/no_tumor_1326_jpg.rf.c8d7b79cda542c39fd6eb18013033052.jpg  \n",
            " extracting: dataset/train/images/no_tumor_1329_jpg.rf.ed51351bbf3314cae8f567028b040f9c.jpg  \n",
            " extracting: dataset/train/images/no_tumor_1330_jpg.rf.abd26941bb64c1899fa212b1f68d3f7f.jpg  \n",
            " extracting: dataset/train/images/no_tumor_1335_jpg.rf.3e841ba4e367e2d16e91b62f5842b676.jpg  \n",
            " extracting: dataset/train/images/no_tumor_133_jpg.rf.5ba6a2d7428c5cde907cad8ca09cbe1e.jpg  \n",
            " extracting: dataset/train/images/no_tumor_1346_jpg.rf.2e4aff010471355370cfa24a13c46516.jpg  \n",
            " extracting: dataset/train/images/no_tumor_1347_jpg.rf.4cc2aa0cb2d8f0cafbb11a0003f585d4.jpg  \n",
            " extracting: dataset/train/images/no_tumor_1351_jpg.rf.315a5f4d14e57f0c2ac119c53b2f93b0.jpg  \n",
            " extracting: dataset/train/images/no_tumor_1356_jpg.rf.84735d5194d7ebaa17bc10f797435335.jpg  \n",
            " extracting: dataset/train/images/no_tumor_1361_jpg.rf.dcc128bcd57fc4fa43ce8678c6e26195.jpg  \n",
            " extracting: dataset/train/images/no_tumor_1362_jpg.rf.229adcfa099b098f15ea935f83547cbc.jpg  \n",
            " extracting: dataset/train/images/no_tumor_1373_jpg.rf.372716bfc4c92c896ac991f0f21236f1.jpg  \n",
            " extracting: dataset/train/images/no_tumor_1375_jpg.rf.1cc6e4c7fced24a8e2b20c22761f5e10.jpg  \n",
            " extracting: dataset/train/images/no_tumor_1376_jpg.rf.aff2f8a1edbd73173f348c43503fb461.jpg  \n",
            " extracting: dataset/train/images/no_tumor_1377_jpg.rf.f1b71258d44b9c64d7d2ead7ca7db5d2.jpg  \n",
            " extracting: dataset/train/images/no_tumor_1378_jpg.rf.c502c2a66eead244e8ca6d8131d565cd.jpg  \n",
            " extracting: dataset/train/images/no_tumor_1380_jpg.rf.d6704acef295a7c6a4afcb53e296262a.jpg  \n",
            " extracting: dataset/train/images/no_tumor_1381_jpg.rf.78b44b23406690cab08efe18368e6604.jpg  \n",
            " extracting: dataset/train/images/no_tumor_1382_jpg.rf.e8ca4a15c262a636d8b9c58b2277075a.jpg  \n",
            " extracting: dataset/train/images/no_tumor_1383_jpg.rf.83d5b9dea50a4b1c805b3dfeb523b25c.jpg  \n",
            " extracting: dataset/train/images/no_tumor_1394_jpg.rf.83a0a101fe4ccf798e97875961c04b3e.jpg  \n",
            " extracting: dataset/train/images/no_tumor_1400_jpg.rf.5ed2264c2a9b0cae5c362cf5b987c8dd.jpg  \n",
            " extracting: dataset/train/images/no_tumor_1401_jpg.rf.000dba443c62539495f338739308ce48.jpg  \n",
            " extracting: dataset/train/images/no_tumor_1402_jpg.rf.a1a01c9623bf180dc9b357d86dc4291f.jpg  \n",
            " extracting: dataset/train/images/no_tumor_1413_jpg.rf.1095330fc65a8662ec34c0ea74cac1d5.jpg  \n",
            " extracting: dataset/train/images/no_tumor_1416_jpg.rf.e065f249274ba4c40ba6bdf7f90fe905.jpg  \n",
            " extracting: dataset/train/images/no_tumor_1417_jpg.rf.dc51cc6b0a36c02be55b38e6b9b32867.jpg  \n",
            " extracting: dataset/train/images/no_tumor_1419_jpg.rf.c7cf6fd7c231be0e42dc2ca5eb18430f.jpg  \n",
            " extracting: dataset/train/images/no_tumor_1422_jpg.rf.f3bccc45e3099fbc62a02c4e79bc41e8.jpg  \n",
            " extracting: dataset/train/images/no_tumor_1425_jpg.rf.7c8c30642d016c43386e127ca373dcad.jpg  \n",
            " extracting: dataset/train/images/no_tumor_1430_jpg.rf.f747c66cb2015e28af93695f56c4123c.jpg  \n",
            " extracting: dataset/train/images/no_tumor_1431_jpg.rf.31ed63148b3b70de02b425d019b3e184.jpg  \n",
            " extracting: dataset/train/images/no_tumor_1432_jpg.rf.7adef0d175984efb42ffcd714fd528b8.jpg  \n",
            " extracting: dataset/train/images/no_tumor_1433_jpg.rf.fd4f5655710fdb8bfb173cddb544f739.jpg  \n",
            " extracting: dataset/train/images/no_tumor_1435_jpg.rf.4d1db0e9166cc45301b63de06e43ab13.jpg  \n",
            " extracting: dataset/train/images/no_tumor_1439_jpg.rf.72e74396f032409e041fc1df4f420341.jpg  \n",
            " extracting: dataset/train/images/no_tumor_1442_jpg.rf.68f522d6b1930f8d28efa7fb256f86f3.jpg  \n",
            " extracting: dataset/train/images/no_tumor_1447_jpg.rf.196ca26893868d7b806177223b3913a9.jpg  \n",
            " extracting: dataset/train/images/no_tumor_1448_jpg.rf.ced72720cad2eba824730db111df41c7.jpg  \n",
            " extracting: dataset/train/images/no_tumor_1451_jpg.rf.eb7c7aab2538f6b08a2c11bd63c85cf6.jpg  \n",
            " extracting: dataset/train/images/no_tumor_1452_jpg.rf.734f56566ba7be411cbcc8f199aec5a2.jpg  \n",
            " extracting: dataset/train/images/no_tumor_1453_jpg.rf.ac4e86994b9ecdd730c6b7af61541d0b.jpg  \n",
            " extracting: dataset/train/images/no_tumor_1454_jpg.rf.916adb111444c20987e20200b9798eb7.jpg  \n",
            " extracting: dataset/train/images/no_tumor_1457_jpg.rf.d5ebbc52838c88699a3a448e97dc8f3e.jpg  \n",
            " extracting: dataset/train/images/no_tumor_1459_jpg.rf.3ec5293033dd8e30ae6254fe65a55a32.jpg  \n",
            " extracting: dataset/train/images/no_tumor_1470_jpg.rf.c24b57bab59623fe01a2eb0857080204.jpg  \n",
            " extracting: dataset/train/images/no_tumor_1472_jpg.rf.102fd8634b82df155f610ee066c01c79.jpg  \n",
            " extracting: dataset/train/images/no_tumor_1473_jpg.rf.1888a952f485fcdd9a22c1a8d536464d.jpg  \n",
            " extracting: dataset/train/images/no_tumor_1474_jpg.rf.a67e418775a445c14987df93fab3b9b9.jpg  \n",
            " extracting: dataset/train/images/no_tumor_1476_jpg.rf.cfb6cda0a1a3752d413d69b1a345a80c.jpg  \n",
            " extracting: dataset/train/images/no_tumor_1477_jpg.rf.e715b48cc76a3249b447c1d9bb61cefa.jpg  \n",
            " extracting: dataset/train/images/no_tumor_1483_jpg.rf.3bebb7373057a2a28118160040aae5ab.jpg  \n",
            " extracting: dataset/train/images/no_tumor_1489_jpg.rf.fb55d4577b51a754ceaf9d50f00e839f.jpg  \n",
            " extracting: dataset/train/images/no_tumor_1493_jpg.rf.3d4d7b8079dcba963e761cc65fc20050.jpg  \n",
            " extracting: dataset/train/images/no_tumor_1495_jpg.rf.239bffb0f85441405a6dca078ecfe55a.jpg  \n",
            " extracting: dataset/train/images/no_tumor_1507_jpg.rf.adadc9ac716d2a79305a533c3243079c.jpg  \n",
            " extracting: dataset/train/images/no_tumor_1508_jpg.rf.e6ab7615bdeff09399d095c91a83cdd2.jpg  \n",
            " extracting: dataset/train/images/no_tumor_1512_jpg.rf.8b644a04d389b653dd2fe946abb3e5b9.jpg  \n",
            " extracting: dataset/train/images/no_tumor_1519_jpg.rf.5c6ac517d7c17eb648b83d17b19f5f66.jpg  \n",
            " extracting: dataset/train/images/no_tumor_1532_jpg.rf.e4162f45c4274d225354927c0bf0bf41.jpg  \n",
            " extracting: dataset/train/images/no_tumor_1541_jpg.rf.b396228703adc2b73f23b0c59f938896.jpg  \n",
            " extracting: dataset/train/images/no_tumor_1545_jpg.rf.bf569f9e3aba1e5489fa0772468e125e.jpg  \n",
            " extracting: dataset/train/images/no_tumor_1546_jpg.rf.b78874b776c0b0dcccc9e8b6688a9342.jpg  \n",
            " extracting: dataset/train/images/no_tumor_1556_jpg.rf.f1971f5978217035ed2789638b8338f1.jpg  \n",
            " extracting: dataset/train/images/no_tumor_1559_jpg.rf.c32373b116b9af904e4a8bd66e7ea912.jpg  \n",
            " extracting: dataset/train/images/no_tumor_155_jpg.rf.54d5ebea1c684e3d14de058e4bf6fde2.jpg  \n",
            " extracting: dataset/train/images/no_tumor_1561_jpg.rf.505e7b45cfce48a858123334c9861cd9.jpg  \n",
            " extracting: dataset/train/images/no_tumor_1565_jpg.rf.1dc6b0996167862af8d243634c16d21b.jpg  \n",
            " extracting: dataset/train/images/no_tumor_1569_jpg.rf.bf40473a0dff4ca83c9b478a28bdede1.jpg  \n",
            " extracting: dataset/train/images/no_tumor_156_jpg.rf.8e6c8f1ea47b6317d6dafd806860be0e.jpg  \n",
            " extracting: dataset/train/images/no_tumor_1573_jpg.rf.b38a4104755fedebfa3b321f128d9ba2.jpg  \n",
            " extracting: dataset/train/images/no_tumor_1575_jpg.rf.0e7e8b3ba221748d0a98cea2a64e0884.jpg  \n",
            " extracting: dataset/train/images/no_tumor_1576_jpg.rf.f40f2fbc5959b46ed7957a6541c25796.jpg  \n",
            " extracting: dataset/train/images/no_tumor_1580_jpg.rf.aaba3214d5a10194e779a588d0e66111.jpg  \n",
            " extracting: dataset/train/images/no_tumor_1581_jpg.rf.40be983b8bd605821acec8cc8402aa4e.jpg  \n",
            " extracting: dataset/train/images/no_tumor_164_jpg.rf.f1cbb148817bc208fb2fd22b93ed1d11.jpg  \n",
            " extracting: dataset/train/images/no_tumor_167_jpg.rf.c78f406de3d2740c6a21a1c26b4d4e73.jpg  \n",
            " extracting: dataset/train/images/no_tumor_172_jpg.rf.2c442fd363c927d59e8aa8c598e69627.jpg  \n",
            " extracting: dataset/train/images/no_tumor_176_jpg.rf.211bf548ffa63887aed9bdc6bedaf2f9.jpg  \n",
            " extracting: dataset/train/images/no_tumor_179_jpg.rf.51137690d76851f497229fd88100f252.jpg  \n",
            " extracting: dataset/train/images/no_tumor_17_jpg.rf.47d32fcac83806a34fc6a14db18749a2.jpg  \n",
            " extracting: dataset/train/images/no_tumor_180_jpg.rf.80963b71820faab90764f54326ac1e9b.jpg  \n",
            " extracting: dataset/train/images/no_tumor_189_jpg.rf.c0a3c0c0acd9fd607260aa439b1cd052.jpg  \n",
            " extracting: dataset/train/images/no_tumor_18_jpg.rf.1351a2b7f858de523903135931f21c2a.jpg  \n",
            " extracting: dataset/train/images/no_tumor_190_jpg.rf.3e274d72918e1261f2026ca38e812191.jpg  \n",
            " extracting: dataset/train/images/no_tumor_196_jpg.rf.1e91801e190a5630099c4f0b1712d055.jpg  \n",
            " extracting: dataset/train/images/no_tumor_200_jpg.rf.bf30423dc21f714b7bbd4110858906d5.jpg  \n",
            " extracting: dataset/train/images/no_tumor_207_jpg.rf.ab0bc1fc0bdedb26fb4e6efaf3ffa7d0.jpg  \n",
            " extracting: dataset/train/images/no_tumor_208_jpg.rf.0854557a52f738f8a9a581ade19e84ab.jpg  \n",
            " extracting: dataset/train/images/no_tumor_210_jpg.rf.fdb3c871e7fc31c638d1ae4622f6655f.jpg  \n",
            " extracting: dataset/train/images/no_tumor_213_jpg.rf.5fb5763e8dca1c6bc8582a6a1564923b.jpg  \n",
            " extracting: dataset/train/images/no_tumor_219_jpg.rf.0ac815ea3b5b31e24563422dbb80ef9f.jpg  \n",
            " extracting: dataset/train/images/no_tumor_21_jpg.rf.68d32f400194ee91591f670f61f75e97.jpg  \n",
            " extracting: dataset/train/images/no_tumor_222_jpg.rf.7cfb27d35a17497886dfe1ac98b66b0a.jpg  \n",
            " extracting: dataset/train/images/no_tumor_227_jpg.rf.2630c3fc56c36439fdbd417a8a5f80cd.jpg  \n",
            " extracting: dataset/train/images/no_tumor_239_jpg.rf.995bb1e62cc872f5b99f60049f4538ea.jpg  \n",
            " extracting: dataset/train/images/no_tumor_242_jpg.rf.c3c5cfd0c409b9da686e4c1293d8387f.jpg  \n",
            " extracting: dataset/train/images/no_tumor_24_jpg.rf.56a57531ca8771673942fcda3a057476.jpg  \n",
            " extracting: dataset/train/images/no_tumor_260_jpg.rf.7adf1abb3a08574120ddc279e6e20b7a.jpg  \n",
            " extracting: dataset/train/images/no_tumor_267_jpg.rf.1777a070b9a982e5caab5d474fca9a83.jpg  \n",
            " extracting: dataset/train/images/no_tumor_274_jpg.rf.f693719103f198d85158ae961580ca22.jpg  \n",
            " extracting: dataset/train/images/no_tumor_276_jpg.rf.d476d381801066dc7a20fad9afad261d.jpg  \n",
            " extracting: dataset/train/images/no_tumor_283_jpg.rf.c1f48ded5592810a26b5ac0c952bcdd0.jpg  \n",
            " extracting: dataset/train/images/no_tumor_284_jpg.rf.57bee1e0851a952694da7bb2a0ef6bba.jpg  \n",
            " extracting: dataset/train/images/no_tumor_286_jpg.rf.a9c95712666ac1b7533b54b74db673d9.jpg  \n",
            " extracting: dataset/train/images/no_tumor_290_jpg.rf.2bee78120c05553de5a52635b2069407.jpg  \n",
            " extracting: dataset/train/images/no_tumor_296_jpg.rf.37d6dc5e9f6875ae8972c9433efdc70a.jpg  \n",
            " extracting: dataset/train/images/no_tumor_299_jpg.rf.66a673d2d2eb2d956c9a091ef13d86f5.jpg  \n",
            " extracting: dataset/train/images/no_tumor_29_jpg.rf.415c4d89bdc13859bce8dbbc6ffaebe9.jpg  \n",
            " extracting: dataset/train/images/no_tumor_303_jpg.rf.f1d183452b4a78c0253cb066fccb1a73.jpg  \n",
            " extracting: dataset/train/images/no_tumor_305_jpg.rf.623856d34ef56ecd633363860b2d9ad7.jpg  \n",
            " extracting: dataset/train/images/no_tumor_306_jpg.rf.a0b6f5a007474d22a0c7825b30c12c6c.jpg  \n",
            " extracting: dataset/train/images/no_tumor_309_jpg.rf.3ec73e764da0737e99f9f61b9291f071.jpg  \n",
            " extracting: dataset/train/images/no_tumor_30_jpg.rf.df215710a36490ef52b7ddfaf254c1c3.jpg  \n",
            " extracting: dataset/train/images/no_tumor_310_jpg.rf.a8f3513a653d2a692f87c5d8258e3f1c.jpg  \n",
            " extracting: dataset/train/images/no_tumor_311_jpg.rf.388252fafa6495c8b4145e06ca0e8de8.jpg  \n",
            " extracting: dataset/train/images/no_tumor_317_jpg.rf.afef93f5d3b5262f3678932ddee5b46b.jpg  \n",
            " extracting: dataset/train/images/no_tumor_320_jpg.rf.6331f45ffb2aa6fe05cfbfba5099f6a8.jpg  \n",
            " extracting: dataset/train/images/no_tumor_322_jpg.rf.2fe54f865378e08b70e06b2390b270b4.jpg  \n",
            " extracting: dataset/train/images/no_tumor_327_jpg.rf.e1977eb52d77e222443eeb2210f3c866.jpg  \n",
            " extracting: dataset/train/images/no_tumor_333_jpg.rf.fccfc15a10aea59ee0201b416b5fbc54.jpg  \n",
            " extracting: dataset/train/images/no_tumor_335_jpg.rf.f11a35fa3ac8d95b235c8b46fadc5b78.jpg  \n",
            " extracting: dataset/train/images/no_tumor_336_jpg.rf.78b6f4ef91b6e79e6700b815776ebfde.jpg  \n",
            " extracting: dataset/train/images/no_tumor_338_jpg.rf.259a23e52f11bd4eb5bd299ad97384f5.jpg  \n",
            " extracting: dataset/train/images/no_tumor_341_jpg.rf.d3651edbbab9c178118e77b014f0a3e2.jpg  \n",
            " extracting: dataset/train/images/no_tumor_348_jpg.rf.1112060eb60097e07cd73c275b65ff65.jpg  \n",
            " extracting: dataset/train/images/no_tumor_349_jpg.rf.7b928feaaaf67a568893890d8a32e000.jpg  \n",
            " extracting: dataset/train/images/no_tumor_35_jpg.rf.d1f833fc882625a34f9cf3355684c5ca.jpg  \n",
            " extracting: dataset/train/images/no_tumor_373_jpg.rf.a188d69877e9751e707aee187398a132.jpg  \n",
            " extracting: dataset/train/images/no_tumor_374_jpg.rf.45c3f5586a1f96c321c3e6a6be475732.jpg  \n",
            " extracting: dataset/train/images/no_tumor_375_jpg.rf.eead8a79da1860512c9cdf4efca3f35d.jpg  \n",
            " extracting: dataset/train/images/no_tumor_380_jpg.rf.fe6399bad33fea5225c6bd50d4c81c70.jpg  \n",
            " extracting: dataset/train/images/no_tumor_385_jpg.rf.22dc244d1caab351dc502564fc7bd6eb.jpg  \n",
            " extracting: dataset/train/images/no_tumor_387_jpg.rf.ad82d352798e21ef135f50de4648f1bb.jpg  \n",
            " extracting: dataset/train/images/no_tumor_389_jpg.rf.eb17318825b175228ac172bb0919a71b.jpg  \n",
            " extracting: dataset/train/images/no_tumor_395_jpg.rf.8611304494e5f48b2b5bdee1681f17d0.jpg  \n",
            " extracting: dataset/train/images/no_tumor_396_jpg.rf.0f6d1025712d20cca572bfa8c64230c1.jpg  \n",
            " extracting: dataset/train/images/no_tumor_399_jpg.rf.12423815ac8b4f1096421062d46820ef.jpg  \n",
            " extracting: dataset/train/images/no_tumor_400_jpg.rf.9ef016ab9dfe63e92695bcb66c66c089.jpg  \n",
            " extracting: dataset/train/images/no_tumor_405_jpg.rf.615ee173a7516905e28a71c8075814a2.jpg  \n",
            " extracting: dataset/train/images/no_tumor_406_jpg.rf.7f1557f0e11ab67ae8859c327f09cf52.jpg  \n",
            " extracting: dataset/train/images/no_tumor_411_jpg.rf.8fb8cd910f986e91aca953f4badb7285.jpg  \n",
            " extracting: dataset/train/images/no_tumor_416_jpg.rf.119864a2eece4b1ae1e956cbff256020.jpg  \n",
            " extracting: dataset/train/images/no_tumor_418_jpg.rf.021290cda78c439d6aed179ac586ff2f.jpg  \n",
            " extracting: dataset/train/images/no_tumor_420_jpg.rf.9d4673b08e0deb85104ac03184eda772.jpg  \n",
            " extracting: dataset/train/images/no_tumor_425_jpg.rf.eab331fe4f59d72d7195457e063b6984.jpg  \n",
            " extracting: dataset/train/images/no_tumor_430_jpg.rf.af0e9f050f5cb81fc5df3cd867d32523.jpg  \n",
            " extracting: dataset/train/images/no_tumor_431_jpg.rf.0cc13fdd0db962d5639a5f9838e4c3f1.jpg  \n",
            " extracting: dataset/train/images/no_tumor_443_jpg.rf.8ffd94924fb070a55ce7861f5c886b1a.jpg  \n",
            " extracting: dataset/train/images/no_tumor_457_jpg.rf.96965937cd4c3ab8c2fedc376e998dff.jpg  \n",
            " extracting: dataset/train/images/no_tumor_468_jpg.rf.87ab342161dd8d47ec77853a0f40c082.jpg  \n",
            " extracting: dataset/train/images/no_tumor_473_jpg.rf.ab7cc6c12b14c280edd149b89eb4c0a4.jpg  \n",
            " extracting: dataset/train/images/no_tumor_478_jpg.rf.0e731f5755f2d591a070899df0b3ff5e.jpg  \n",
            " extracting: dataset/train/images/no_tumor_481_jpg.rf.0f3734afa1d75ea772750755d55d62af.jpg  \n",
            " extracting: dataset/train/images/no_tumor_485_jpg.rf.5ae3d38860013bc53cd9c2cdfcade36c.jpg  \n",
            " extracting: dataset/train/images/no_tumor_486_jpg.rf.38c0a3771298af140f9f9478009f49e9.jpg  \n",
            " extracting: dataset/train/images/no_tumor_494_jpg.rf.9f9b8be926799f2ba7432c713322cab4.jpg  \n",
            " extracting: dataset/train/images/no_tumor_495_jpg.rf.6030ead7e7ef3a585bb591f6faf2d6d3.jpg  \n",
            " extracting: dataset/train/images/no_tumor_497_jpg.rf.3dce37a56846d15bc699907a4c1c9b95.jpg  \n",
            " extracting: dataset/train/images/no_tumor_49_jpg.rf.a8e07dbbfe5a0821086a6ccc24660e90.jpg  \n",
            " extracting: dataset/train/images/no_tumor_501_jpg.rf.610416c16f005a275b291a88667b3da8.jpg  \n",
            " extracting: dataset/train/images/no_tumor_503_jpg.rf.8be8b938f08f25a3b87dabb10ba3479b.jpg  \n",
            " extracting: dataset/train/images/no_tumor_504_jpg.rf.99db000945bf9a63531ca67a073103a9.jpg  \n",
            " extracting: dataset/train/images/no_tumor_511_jpg.rf.dbad514c8da7679e7d36013b01603994.jpg  \n",
            " extracting: dataset/train/images/no_tumor_514_jpg.rf.02c3008b022bc4f5131db4e22b270151.jpg  \n",
            " extracting: dataset/train/images/no_tumor_520_jpg.rf.fc16e6841011ce8509393b2aadb6cc94.jpg  \n",
            " extracting: dataset/train/images/no_tumor_528_jpg.rf.2f7cbf60ef5d3076d1ecfd0d19ef67f2.jpg  \n",
            " extracting: dataset/train/images/no_tumor_533_jpg.rf.e7545dd4398fa1863e69fc810d45f00d.jpg  \n",
            " extracting: dataset/train/images/no_tumor_537_jpg.rf.3c3948a2805863d154f8598fe987c0b8.jpg  \n",
            " extracting: dataset/train/images/no_tumor_538_jpg.rf.680e5f1c88286ecbd7433465e9b95b6d.jpg  \n",
            " extracting: dataset/train/images/no_tumor_548_jpg.rf.a685799991738819ef4bb650fb0d2b0d.jpg  \n",
            " extracting: dataset/train/images/no_tumor_556_jpg.rf.cf153f32249e1cbd3a50e594af847272.jpg  \n",
            " extracting: dataset/train/images/no_tumor_561_jpg.rf.c16698e26038ed97694d74a15d2569f0.jpg  \n",
            " extracting: dataset/train/images/no_tumor_562_jpg.rf.b1accdd9f942a6de159878b3030cdf77.jpg  \n",
            " extracting: dataset/train/images/no_tumor_565_jpg.rf.2dce997df5c8f3cbba9643fc34441982.jpg  \n",
            " extracting: dataset/train/images/no_tumor_569_jpg.rf.d69b8399f1fa77b1ec9bcf3d54aefeff.jpg  \n",
            " extracting: dataset/train/images/no_tumor_571_jpg.rf.72120d0d854cfcc43244b23eb0fdc68d.jpg  \n",
            " extracting: dataset/train/images/no_tumor_574_jpg.rf.ee8c2c9fb8a2e5f61947a418397ea6f3.jpg  \n",
            " extracting: dataset/train/images/no_tumor_575_jpg.rf.a5853181a5746931772f8b504a0bc0d6.jpg  \n",
            " extracting: dataset/train/images/no_tumor_582_jpg.rf.6272f3e2fef0ce02f3da23ae0b9eee8a.jpg  \n",
            " extracting: dataset/train/images/no_tumor_585_jpg.rf.4867c6150a77abfc2d2d2d301476842d.jpg  \n",
            " extracting: dataset/train/images/no_tumor_586_jpg.rf.50372a07323a4714564e4b908b5a1116.jpg  \n",
            " extracting: dataset/train/images/no_tumor_587_jpg.rf.bb4bece0c4ba89ffadc4a9da5d780b7d.jpg  \n",
            " extracting: dataset/train/images/no_tumor_58_jpg.rf.65cbd9ab986d64b73ec16aa4de1e42b3.jpg  \n",
            " extracting: dataset/train/images/no_tumor_591_jpg.rf.3a2c2b34baf0239f388124c41cfb62f6.jpg  \n",
            " extracting: dataset/train/images/no_tumor_592_jpg.rf.0adc931c62c4951d4dd81208bad39abe.jpg  \n",
            " extracting: dataset/train/images/no_tumor_593_jpg.rf.4dd8f671d519a783966a473992fd0ff7.jpg  \n",
            " extracting: dataset/train/images/no_tumor_596_jpg.rf.92f8a442689340d2b8113102da65715a.jpg  \n",
            " extracting: dataset/train/images/no_tumor_59_jpg.rf.a2e5ff8661d742cbbc78771fb353c0bd.jpg  \n",
            " extracting: dataset/train/images/no_tumor_601_jpg.rf.daafa5bad1f585f666ca475a583d1649.jpg  \n",
            " extracting: dataset/train/images/no_tumor_604_jpg.rf.e46636be9851360d96c76efc8f4737eb.jpg  \n",
            " extracting: dataset/train/images/no_tumor_605_jpg.rf.e722600b49a9c1465deaaf5c11599292.jpg  \n",
            " extracting: dataset/train/images/no_tumor_610_jpg.rf.1ad423b5823a71bf739a909d7065f5cd.jpg  \n",
            " extracting: dataset/train/images/no_tumor_618_jpg.rf.a08db1dab87bee477f3488ad5eb6db9d.jpg  \n",
            " extracting: dataset/train/images/no_tumor_61_jpg.rf.2b8a81a6ad68256a0cc0204cbc55df6a.jpg  \n",
            " extracting: dataset/train/images/no_tumor_620_jpg.rf.51dba070e5a707ac43bd34654ceafeac.jpg  \n",
            " extracting: dataset/train/images/no_tumor_621_jpg.rf.a0a66d600fae4ac3b1d5c32d5874a44b.jpg  \n",
            " extracting: dataset/train/images/no_tumor_625_jpg.rf.aed2835c83bf66f675373c82b57c5c31.jpg  \n",
            " extracting: dataset/train/images/no_tumor_626_jpg.rf.c4963381a2b8040382ae0377da47eed6.jpg  \n",
            " extracting: dataset/train/images/no_tumor_629_jpg.rf.cc48853638d4ce0d87287949d88c7017.jpg  \n",
            " extracting: dataset/train/images/no_tumor_634_jpg.rf.e499d2363eec7206db37a25261614a96.jpg  \n",
            " extracting: dataset/train/images/no_tumor_638_jpg.rf.db54847287e9389b62df0d9f36400b01.jpg  \n",
            " extracting: dataset/train/images/no_tumor_63_jpg.rf.5e35816038fc7e40a994a0c4e4662af2.jpg  \n",
            " extracting: dataset/train/images/no_tumor_640_jpg.rf.778d020be48fc5d6f89b1fdaa06531a4.jpg  \n",
            " extracting: dataset/train/images/no_tumor_645_jpg.rf.5e93bce74d68b35fea04c9d974780756.jpg  \n",
            " extracting: dataset/train/images/no_tumor_647_jpg.rf.4d9de8ba991de3cc3d843f7ac1be439f.jpg  \n",
            " extracting: dataset/train/images/no_tumor_648_jpg.rf.3e7e3446c7067277676a9836e10d6268.jpg  \n",
            " extracting: dataset/train/images/no_tumor_651_jpg.rf.7c9d697b92618d41918baf26f4775792.jpg  \n",
            " extracting: dataset/train/images/no_tumor_654_jpg.rf.c957b406a5c2a9e8d5086833ec6dc2d4.jpg  \n",
            " extracting: dataset/train/images/no_tumor_660_jpg.rf.cb1947392bd4a291a0946800828d5b32.jpg  \n",
            " extracting: dataset/train/images/no_tumor_67_jpg.rf.854da953d4dd93973810d6a4a48a76a7.jpg  \n",
            " extracting: dataset/train/images/no_tumor_681_jpg.rf.94265d115335a33089086c847502207d.jpg  \n",
            " extracting: dataset/train/images/no_tumor_685_jpg.rf.21ba95b172a0c436158e88b93d905103.jpg  \n",
            " extracting: dataset/train/images/no_tumor_687_jpg.rf.face2646c55ed57ed58e91d9156eff77.jpg  \n",
            " extracting: dataset/train/images/no_tumor_689_jpg.rf.b93d4818eca1c52a004e876d2ff69881.jpg  \n",
            " extracting: dataset/train/images/no_tumor_698_jpg.rf.3c0efb1fb3525c0ef805bb505130b347.jpg  \n",
            " extracting: dataset/train/images/no_tumor_707_jpg.rf.9f001918fd06a04a23472fdf5114234a.jpg  \n",
            " extracting: dataset/train/images/no_tumor_712_jpg.rf.7c9beb139eaeef812a1e03655d4ebe6a.jpg  \n",
            " extracting: dataset/train/images/no_tumor_716_jpg.rf.68ab707e5d1310f0a3edb3cb5c1b8bb0.jpg  \n",
            " extracting: dataset/train/images/no_tumor_720_jpg.rf.0ae4144b6b9d6f92f062e0572363fbb6.jpg  \n",
            " extracting: dataset/train/images/no_tumor_731_jpg.rf.9edfa6052c902c46fd00b63f823cfa52.jpg  \n",
            " extracting: dataset/train/images/no_tumor_732_jpg.rf.3c474029a8875f7f6d2e0f57a1cd7c55.jpg  \n",
            " extracting: dataset/train/images/no_tumor_735_jpg.rf.6eb79526e7a1ec95bbf273ee36be52f6.jpg  \n",
            " extracting: dataset/train/images/no_tumor_738_jpg.rf.0b4c4930b7a5b70b20147eaa1f5a7a11.jpg  \n",
            " extracting: dataset/train/images/no_tumor_745_jpg.rf.df9f5a625523af59167a8285947fb905.jpg  \n",
            " extracting: dataset/train/images/no_tumor_749_jpg.rf.d4602efed782d5dabb2361c2a4de72d6.jpg  \n",
            " extracting: dataset/train/images/no_tumor_74_jpg.rf.9a21362dc700814773b0d227d15ac891.jpg  \n",
            " extracting: dataset/train/images/no_tumor_760_jpg.rf.14f46320e06349f1e4171f5db2632b08.jpg  \n",
            " extracting: dataset/train/images/no_tumor_762_jpg.rf.8c71bc2d60f76136bec76600a41d3877.jpg  \n",
            " extracting: dataset/train/images/no_tumor_765_jpg.rf.350e4653aca3276394180480ff9af8e1.jpg  \n",
            " extracting: dataset/train/images/no_tumor_773_jpg.rf.6681967d8c8a2ce49d1313c51ceb8cc5.jpg  \n",
            " extracting: dataset/train/images/no_tumor_775_jpg.rf.98fc07ae197572e72d3548128762e85e.jpg  \n",
            " extracting: dataset/train/images/no_tumor_776_jpg.rf.d61b6a7cbab2784da79110fcf613ff50.jpg  \n",
            " extracting: dataset/train/images/no_tumor_779_jpg.rf.43be10e011c63f87810a9c2bef9a85ec.jpg  \n",
            " extracting: dataset/train/images/no_tumor_785_jpg.rf.d6e18a06d2588adc74b2b0d25ba1a284.jpg  \n",
            " extracting: dataset/train/images/no_tumor_78_jpg.rf.fd979dc240879db328f9abd46febcda1.jpg  \n",
            " extracting: dataset/train/images/no_tumor_79_jpg.rf.8fe0bbf863e0fd69e6c270dc17cfaa33.jpg  \n",
            " extracting: dataset/train/images/no_tumor_800_jpg.rf.34213a8e819214ca6c72747b3d60f7cd.jpg  \n",
            " extracting: dataset/train/images/no_tumor_802_jpg.rf.07031c4a1ce5d9c87a5b5ebd754a9373.jpg  \n",
            " extracting: dataset/train/images/no_tumor_805_jpg.rf.07d98ea520cc63e0d83d9fb307511dc0.jpg  \n",
            " extracting: dataset/train/images/no_tumor_806_jpg.rf.5fa03bd512516cf1ce20038a8c541e60.jpg  \n",
            " extracting: dataset/train/images/no_tumor_807_jpg.rf.dd6ddcf5e5077e00e91fd88c16d59b66.jpg  \n",
            " extracting: dataset/train/images/no_tumor_812_jpg.rf.895d53fe327f2d4123f787e9282daeb0.jpg  \n",
            " extracting: dataset/train/images/no_tumor_814_jpg.rf.c75d6c6bb5fa8e38659cedf59e3397b3.jpg  \n",
            " extracting: dataset/train/images/no_tumor_828_jpg.rf.0bd5c0221ab1fcd8f6bcd598e21b57fe.jpg  \n",
            " extracting: dataset/train/images/no_tumor_833_jpg.rf.b51277ee33ce606516cd652c21a0dc1c.jpg  \n",
            " extracting: dataset/train/images/no_tumor_836_jpg.rf.878282f4c1456375918927d69b540a5d.jpg  \n",
            " extracting: dataset/train/images/no_tumor_83_jpg.rf.bb18a612f96e88b50dde87c657ec7e3c.jpg  \n",
            " extracting: dataset/train/images/no_tumor_853_jpg.rf.df2688e747560d27e3c9c72248d72e86.jpg  \n",
            " extracting: dataset/train/images/no_tumor_862_jpg.rf.6d84906a002e464197e58c97dfedfef8.jpg  \n",
            " extracting: dataset/train/images/no_tumor_867_jpg.rf.3dbcb4d0ee6596fd6d8ab68c5415a5ac.jpg  \n",
            " extracting: dataset/train/images/no_tumor_871_jpg.rf.87ed23d46cc3aac75b4492934b5fcc70.jpg  \n",
            " extracting: dataset/train/images/no_tumor_877_jpg.rf.6851911587ed126a7e017d207218587b.jpg  \n",
            " extracting: dataset/train/images/no_tumor_879_jpg.rf.517729c6fffe4c7a86303c1f4a188bfa.jpg  \n",
            " extracting: dataset/train/images/no_tumor_880_jpg.rf.c42192f2b2f546c0b1da245173dd798a.jpg  \n",
            " extracting: dataset/train/images/no_tumor_881_jpg.rf.e4296a6bf08b8dae6ca3436cdbff68c4.jpg  \n",
            " extracting: dataset/train/images/no_tumor_89_jpg.rf.398cd55c56a5c5f50ff65af2f58dd786.jpg  \n",
            " extracting: dataset/train/images/no_tumor_904_jpg.rf.73f0ee7d9426dddcb49489d5e4676928.jpg  \n",
            " extracting: dataset/train/images/no_tumor_908_jpg.rf.9bbefb96c10c839d7171dd77ac375ae9.jpg  \n",
            " extracting: dataset/train/images/no_tumor_911_jpg.rf.f77b93652a845784009750beb39c975e.jpg  \n",
            " extracting: dataset/train/images/no_tumor_914_jpg.rf.6714544aee2bde5213fd2c366dff62aa.jpg  \n",
            " extracting: dataset/train/images/no_tumor_915_jpg.rf.9b3b8ca77f41c0d77cd67d05d4b39bf1.jpg  \n",
            " extracting: dataset/train/images/no_tumor_920_jpg.rf.2b10abebde1cf6bca35139c4fe34478c.jpg  \n",
            " extracting: dataset/train/images/no_tumor_929_jpg.rf.63219c6184a9bdb453363be4b565aef3.jpg  \n",
            " extracting: dataset/train/images/no_tumor_931_jpg.rf.ffb60f469124cdfbed04bbe984f31e5d.jpg  \n",
            " extracting: dataset/train/images/no_tumor_932_jpg.rf.a6dc07dc604c03e84f7224782a6cdce9.jpg  \n",
            " extracting: dataset/train/images/no_tumor_933_jpg.rf.8b05b7afabac3913cd00c02647db3ba1.jpg  \n",
            " extracting: dataset/train/images/no_tumor_934_jpg.rf.d1cd0942b91c29942b34b7693c96adb8.jpg  \n",
            " extracting: dataset/train/images/no_tumor_938_jpg.rf.d85a3c7a932c98324f94183a3fa474df.jpg  \n",
            " extracting: dataset/train/images/no_tumor_93_jpg.rf.13d48d1c7e4e1c3ee53905aeeb209954.jpg  \n",
            " extracting: dataset/train/images/no_tumor_942_jpg.rf.9b41316c63dbbfe3cc70d4c00b7731f0.jpg  \n",
            " extracting: dataset/train/images/no_tumor_943_jpg.rf.c4dac8a9c6ddf9426be125b7b0f0451c.jpg  \n",
            " extracting: dataset/train/images/no_tumor_946_jpg.rf.acff3e0b54e52725b59dcd9d5c087d5d.jpg  \n",
            " extracting: dataset/train/images/no_tumor_952_jpg.rf.a1dcc6df253b1c01e83bbd0e286f53a2.jpg  \n",
            " extracting: dataset/train/images/no_tumor_953_jpg.rf.1063d26159b9c94d15ccfbe511e2c205.jpg  \n",
            " extracting: dataset/train/images/no_tumor_954_jpg.rf.8a26f6a4b5c76af83e319aa59046e063.jpg  \n",
            " extracting: dataset/train/images/no_tumor_960_jpg.rf.f968706e3f72df5eb006f51fcdec01b0.jpg  \n",
            " extracting: dataset/train/images/no_tumor_962_jpg.rf.93b0a71bab0f484781718745cad89ce6.jpg  \n",
            " extracting: dataset/train/images/no_tumor_964_jpg.rf.ea28617a5fc122af4ae1edca3b76736b.jpg  \n",
            " extracting: dataset/train/images/no_tumor_965_jpg.rf.6383ea435c57a0f8c20c243f1bf1da4e.jpg  \n",
            " extracting: dataset/train/images/no_tumor_973_jpg.rf.090d284c0592a1cfe32f4348c26d126c.jpg  \n",
            " extracting: dataset/train/images/no_tumor_97_jpg.rf.932de25b4dfeb8a7b4bab146c57b1a3b.jpg  \n",
            " extracting: dataset/train/images/no_tumor_981_jpg.rf.e258da99bf1289a94401dcc2087cf8ad.jpg  \n",
            " extracting: dataset/train/images/no_tumor_982_jpg.rf.63ad40d046a68124bca367b4e8d111d3.jpg  \n",
            " extracting: dataset/train/images/no_tumor_990_jpg.rf.838e5ce486898fa879a92f2ca6486e66.jpg  \n",
            " extracting: dataset/train/images/no_tumor_992_jpg.rf.9c52cd6b6948f0c7d4731a65ec2350b5.jpg  \n",
            " extracting: dataset/train/images/no_tumor_993_jpg.rf.c0637b498814ce64ba8545dc094d7c86.jpg  \n",
            " extracting: dataset/train/images/no_tumor_9_jpg.rf.f12a0c01706e830ae6441bb9eab92796.jpg  \n",
            " extracting: dataset/train/images/pituitary_1000_jpg.rf.87b6ed5c31e7807f6d56b021c8cb29fe.jpg  \n",
            " extracting: dataset/train/images/pituitary_1001_jpg.rf.a32d180f7e9b3dd0a8937bd8d4c4e9cf.jpg  \n",
            " extracting: dataset/train/images/pituitary_1007_jpg.rf.4a3248f929f3d8ae3e31523ed6192801.jpg  \n",
            " extracting: dataset/train/images/pituitary_1008_jpg.rf.a49115bac111dfcb2fc969dfec889eed.jpg  \n",
            " extracting: dataset/train/images/pituitary_1010_jpg.rf.4b32ede821cc21169ee7ee87c7475f8b.jpg  \n",
            " extracting: dataset/train/images/pituitary_1018_jpg.rf.9af1cd98be92950c3709176ced7d3429.jpg  \n",
            " extracting: dataset/train/images/pituitary_1020_jpg.rf.449f45cd336cfeb937a13c9c387e7356.jpg  \n",
            " extracting: dataset/train/images/pituitary_1022_jpg.rf.e70b5b495dbc0b6532f7b3e9f300a41f.jpg  \n",
            " extracting: dataset/train/images/pituitary_1024_jpg.rf.3109ab187ccbc49368a10fad74be2637.jpg  \n",
            " extracting: dataset/train/images/pituitary_1027_jpg.rf.61b9436cbddca07208253f7fb77dea3c.jpg  \n",
            " extracting: dataset/train/images/pituitary_1030_jpg.rf.f6c51f77adf6afb8cc8fd9e6ec491e09.jpg  \n",
            " extracting: dataset/train/images/pituitary_1033_jpg.rf.f3674beb04a997d22e70560719dad517.jpg  \n",
            " extracting: dataset/train/images/pituitary_1037_jpg.rf.a38b08772f44b8ad09754454fd42bbbd.jpg  \n",
            " extracting: dataset/train/images/pituitary_1038_jpg.rf.d8fa0cf57747c0fa5270fce9ff9003cd.jpg  \n",
            " extracting: dataset/train/images/pituitary_1039_jpg.rf.da3dee214dabb24e4dd95db2b53ec015.jpg  \n",
            " extracting: dataset/train/images/pituitary_103_jpg.rf.bff7d4ea3ad4757eb75a3204a97b2285.jpg  \n",
            " extracting: dataset/train/images/pituitary_1042_jpg.rf.1c6a9f22d4656dc9f913e1321233be2b.jpg  \n",
            " extracting: dataset/train/images/pituitary_1043_jpg.rf.a163864940ddf165696dbf3e6dfb023b.jpg  \n",
            " extracting: dataset/train/images/pituitary_1046_jpg.rf.f872802679457eba8f1480eec2edd187.jpg  \n",
            " extracting: dataset/train/images/pituitary_1048_jpg.rf.e0a7a7ae59a3bcab9321f03916485255.jpg  \n",
            " extracting: dataset/train/images/pituitary_1055_jpg.rf.b2cbc7e12e37e185ffde132b856e015b.jpg  \n",
            " extracting: dataset/train/images/pituitary_1057_jpg.rf.166c4d1bdc9c781dde190da9df26d7e7.jpg  \n",
            " extracting: dataset/train/images/pituitary_1061_jpg.rf.73c2839491aecd2d6740e17c1e01a08a.jpg  \n",
            " extracting: dataset/train/images/pituitary_1064_jpg.rf.c806771afa32d21b6cc68e8707be8385.jpg  \n",
            " extracting: dataset/train/images/pituitary_1066_jpg.rf.40ddf908fa6d7c77f89bb79611c83c1c.jpg  \n",
            " extracting: dataset/train/images/pituitary_1068_jpg.rf.edaf0b6b7d3b2985eda979ed6e841982.jpg  \n",
            " extracting: dataset/train/images/pituitary_1078_jpg.rf.2cd1f412ca11bb69c6e684468ef5b211.jpg  \n",
            " extracting: dataset/train/images/pituitary_1085_jpg.rf.ad625462177f73ddc314dd946a6292e2.jpg  \n",
            " extracting: dataset/train/images/pituitary_1086_jpg.rf.e461d34577ac01919ecd443eaf3afedc.jpg  \n",
            " extracting: dataset/train/images/pituitary_1087_jpg.rf.0b03feac0d2d2fc41b4f53e85d277900.jpg  \n",
            " extracting: dataset/train/images/pituitary_1089_jpg.rf.438fabf0bedd684773e3815fa8a7a8e3.jpg  \n",
            " extracting: dataset/train/images/pituitary_108_jpg.rf.5397b1416484ec98e6414987d43d61cc.jpg  \n",
            " extracting: dataset/train/images/pituitary_1094_jpg.rf.833e049db147a7177baebf5cdc393524.jpg  \n",
            " extracting: dataset/train/images/pituitary_1097_jpg.rf.0f165631ce19d548e025c85fc9e2fca4.jpg  \n",
            " extracting: dataset/train/images/pituitary_1101_jpg.rf.81ca54811968652994121d9bcb03111a.jpg  \n",
            " extracting: dataset/train/images/pituitary_1106_jpg.rf.1785103e32d63c2ab746fd9dfb252c4d.jpg  \n",
            " extracting: dataset/train/images/pituitary_1111_jpg.rf.1e35a2f8c97d6330c6b2b4c6e7ca38d7.jpg  \n",
            " extracting: dataset/train/images/pituitary_1123_jpg.rf.50c7e80ccada2e22eea54c10f71e0912.jpg  \n",
            " extracting: dataset/train/images/pituitary_1124_jpg.rf.bd04ab69a51815d24906c9e24006d994.jpg  \n",
            " extracting: dataset/train/images/pituitary_113_jpg.rf.9a22b4ebeb1132033df1f5184951f6eb.jpg  \n",
            " extracting: dataset/train/images/pituitary_1148_jpg.rf.456fb9d350403fbe6095508093ddce49.jpg  \n",
            " extracting: dataset/train/images/pituitary_114_jpg.rf.dab702f45daa231783befdf032cae55c.jpg  \n",
            " extracting: dataset/train/images/pituitary_1154_jpg.rf.9d49b645823074628f245c88261978b5.jpg  \n",
            " extracting: dataset/train/images/pituitary_1156_jpg.rf.340429492dabd20decb93296340a4784.jpg  \n",
            " extracting: dataset/train/images/pituitary_1157_jpg.rf.0132b9505df20e32dc69fcbd92ee1836.jpg  \n",
            " extracting: dataset/train/images/pituitary_1159_jpg.rf.2936724d8bee85db78948a74c27b0d29.jpg  \n",
            " extracting: dataset/train/images/pituitary_115_jpg.rf.77b0cc9480438967db7c8deda08a62b0.jpg  \n",
            " extracting: dataset/train/images/pituitary_1172_jpg.rf.d312a113e17b3f68e9897d65a9d2e041.jpg  \n",
            " extracting: dataset/train/images/pituitary_1177_jpg.rf.35da09d3f616eeda96cb4e7609a423db.jpg  \n",
            " extracting: dataset/train/images/pituitary_117_jpg.rf.316195f2b634ae24bd774f008c7cdecb.jpg  \n",
            " extracting: dataset/train/images/pituitary_1181_jpg.rf.f46ac8ce835c7328a64bf0a3a7771e79.jpg  \n",
            " extracting: dataset/train/images/pituitary_1185_jpg.rf.253c079ad4d367de0f6ec0da6dc8cbca.jpg  \n",
            " extracting: dataset/train/images/pituitary_1188_jpg.rf.d22566a2b264e6995db3a783b303c8b9.jpg  \n",
            " extracting: dataset/train/images/pituitary_1190_jpg.rf.963946bd2bef92d19723fee9372dd82b.jpg  \n",
            " extracting: dataset/train/images/pituitary_1192_jpg.rf.e520aff8ee9f8ed1160c1abf6a275310.jpg  \n",
            " extracting: dataset/train/images/pituitary_11_jpg.rf.bde1d9fcca94f9c92d0378690a700e61.jpg  \n",
            " extracting: dataset/train/images/pituitary_1206_jpg.rf.3d813be76058ce3c9d5727a3d008d368.jpg  \n",
            " extracting: dataset/train/images/pituitary_1207_jpg.rf.339dcbf52551b285173535c6c18a040c.jpg  \n",
            " extracting: dataset/train/images/pituitary_1218_jpg.rf.801de0f57e180b2c6e1c3b0e8bafd838.jpg  \n",
            " extracting: dataset/train/images/pituitary_121_jpg.rf.69678d105c4c8461021505f8762dead2.jpg  \n",
            " extracting: dataset/train/images/pituitary_1220_jpg.rf.1a93ee08b6d68356a334faad2b900af7.jpg  \n",
            " extracting: dataset/train/images/pituitary_1221_jpg.rf.891bfdf98be9c47ae57159fdd7d4a04d.jpg  \n",
            " extracting: dataset/train/images/pituitary_1223_jpg.rf.b184096945c1565e9fb3c73a728f5ab6.jpg  \n",
            " extracting: dataset/train/images/pituitary_1229_jpg.rf.000e21b8b7af9ca02db46d4ad97efae6.jpg  \n",
            " extracting: dataset/train/images/pituitary_122_jpg.rf.e52e614ac450befa4d4ac6cfe48d24f2.jpg  \n",
            " extracting: dataset/train/images/pituitary_1236_jpg.rf.d041da130c5eede6ef69dc356eb82620.jpg  \n",
            " extracting: dataset/train/images/pituitary_1238_jpg.rf.75ded478842a9b689f4c0ad285632be3.jpg  \n",
            " extracting: dataset/train/images/pituitary_123_jpg.rf.d0a1253fd1f3514c43961eb46b896114.jpg  \n",
            " extracting: dataset/train/images/pituitary_1242_jpg.rf.78cb91ce4d04f66626021099d15dc5bd.jpg  \n",
            " extracting: dataset/train/images/pituitary_1243_jpg.rf.152fbf5411e4e723cefde32d1a3cfd59.jpg  \n",
            " extracting: dataset/train/images/pituitary_1246_jpg.rf.2e7d2e5e4d236ada1bf5963f7eec30dc.jpg  \n",
            " extracting: dataset/train/images/pituitary_124_jpg.rf.02166d4ed6c79fa7861917ce569a6ebd.jpg  \n",
            " extracting: dataset/train/images/pituitary_1255_jpg.rf.2d1042294b687a6f11d87ee0921e4c9a.jpg  \n",
            " extracting: dataset/train/images/pituitary_1258_jpg.rf.eeb5bc277dade8567e70a7dacad158c8.jpg  \n",
            " extracting: dataset/train/images/pituitary_1259_jpg.rf.e03d0d37b7d24d62f1085443a377b89d.jpg  \n",
            " extracting: dataset/train/images/pituitary_125_jpg.rf.c80cf3b7a4c900b8e4325de9303fb3de.jpg  \n",
            " extracting: dataset/train/images/pituitary_1261_jpg.rf.492393a04066b17cdb6b60d080852e1d.jpg  \n",
            " extracting: dataset/train/images/pituitary_126_jpg.rf.58f3c6bafb3e0a5c0461d8a887d08812.jpg  \n",
            " extracting: dataset/train/images/pituitary_1279_jpg.rf.5515a4c82ff4beb3a384ae1ca177d8d1.jpg  \n",
            " extracting: dataset/train/images/pituitary_1282_jpg.rf.9ee76eab16909943dc2d105ea0669e10.jpg  \n",
            " extracting: dataset/train/images/pituitary_1294_jpg.rf.d82bd59673650a65f638c0d24c2f27d0.jpg  \n",
            " extracting: dataset/train/images/pituitary_1297_jpg.rf.02e83a77ffc7f4f78606eb31176d8d0d.jpg  \n",
            " extracting: dataset/train/images/pituitary_1298_jpg.rf.3e33e4740658f4e7365d1c88804a3ec2.jpg  \n",
            " extracting: dataset/train/images/pituitary_1299_jpg.rf.e0a6171844c4f1d06a5af3a6037b3ab6.jpg  \n",
            " extracting: dataset/train/images/pituitary_129_jpg.rf.ef0f90d3b37cac8b1c74bf222850f2e3.jpg  \n",
            " extracting: dataset/train/images/pituitary_1309_jpg.rf.6bae60f8182afc580ca187c230fd12b7.jpg  \n",
            " extracting: dataset/train/images/pituitary_130_jpg.rf.b74f2b1f45fd236dfd4929cd284b4da5.jpg  \n",
            " extracting: dataset/train/images/pituitary_1311_jpg.rf.5d3b8acc12524912dc99f8509b6a5f9e.jpg  \n",
            " extracting: dataset/train/images/pituitary_1317_jpg.rf.8c09c8a2c50efed5cd9390131e44288f.jpg  \n",
            " extracting: dataset/train/images/pituitary_131_jpg.rf.d4320a1dce36eb23c3caf8421131c139.jpg  \n",
            " extracting: dataset/train/images/pituitary_1320_jpg.rf.1f8407f3632a8996abe97aff02655eb3.jpg  \n",
            " extracting: dataset/train/images/pituitary_1325_jpg.rf.1761f310e25cf76d90fd44cbab7a4674.jpg  \n",
            " extracting: dataset/train/images/pituitary_1342_jpg.rf.b792feb6aad2cba6c1326b4d6077fef9.jpg  \n",
            " extracting: dataset/train/images/pituitary_1343_jpg.rf.abb4d43d5f4e56c6e6fafc98adcda5fa.jpg  \n",
            " extracting: dataset/train/images/pituitary_1346_jpg.rf.bd82a62829e4af57da80bc166d55a33d.jpg  \n",
            " extracting: dataset/train/images/pituitary_1353_jpg.rf.41935af18f13bf8b58005596af4179fc.jpg  \n",
            " extracting: dataset/train/images/pituitary_1357_jpg.rf.530392e2eb642cefad6f4c0111d493b7.jpg  \n",
            " extracting: dataset/train/images/pituitary_1367_jpg.rf.5914b4867dc4ef5e01a6686aa8cce7e8.jpg  \n",
            " extracting: dataset/train/images/pituitary_137_jpg.rf.9039b0515d9213947be053137f97cf98.jpg  \n",
            " extracting: dataset/train/images/pituitary_1382_jpg.rf.2429a0c6bc4404c7c7647eb9144905db.jpg  \n",
            " extracting: dataset/train/images/pituitary_1383_jpg.rf.c9d98fe5e7fea02b05ab0de87cc2f020.jpg  \n",
            " extracting: dataset/train/images/pituitary_1385_jpg.rf.5764690668e3d45dfa9bed965a76a1ea.jpg  \n",
            " extracting: dataset/train/images/pituitary_1393_jpg.rf.26f9f19de92057cd2100b798e078a9a1.jpg  \n",
            " extracting: dataset/train/images/pituitary_1400_jpg.rf.b81b30c77218502ad804366e9e9c65af.jpg  \n",
            " extracting: dataset/train/images/pituitary_1404_jpg.rf.dbe8debedafd2bfc0fe4803699dc829e.jpg  \n",
            " extracting: dataset/train/images/pituitary_1405_jpg.rf.f8c8c2496cdbaf8a83a97e5f4bcc8f1c.jpg  \n",
            " extracting: dataset/train/images/pituitary_1407_jpg.rf.09b2eaf7e619a9c235e3048c3bd3f0a6.jpg  \n",
            " extracting: dataset/train/images/pituitary_1409_jpg.rf.db632f15e69b86603d45b0a408b638ae.jpg  \n",
            " extracting: dataset/train/images/pituitary_140_jpg.rf.5b80531eceff066df1159ecbfd489f2e.jpg  \n",
            " extracting: dataset/train/images/pituitary_1415_jpg.rf.3dcfacd6d61c498a37ae104a7b68484a.jpg  \n",
            " extracting: dataset/train/images/pituitary_1416_jpg.rf.57cdd2fa75790309df567bde00e3da2b.jpg  \n",
            " extracting: dataset/train/images/pituitary_1421_jpg.rf.5b382942d4944afae4a203eb2ca6eeb8.jpg  \n",
            " extracting: dataset/train/images/pituitary_1427_jpg.rf.5595b63eea9fb4a00d5581ae62ab47ec.jpg  \n",
            " extracting: dataset/train/images/pituitary_1436_jpg.rf.6fbbb593c8e651b7ba90ecc98d688f09.jpg  \n",
            " extracting: dataset/train/images/pituitary_1438_jpg.rf.a92df9ae627e1c9ce38e1dad452a7740.jpg  \n",
            " extracting: dataset/train/images/pituitary_1439_jpg.rf.52e40f4eac3531a59fe34d0037993d9e.jpg  \n",
            " extracting: dataset/train/images/pituitary_1451_jpg.rf.abba75cfa7ccfb3aeac67735105d4d6c.jpg  \n",
            " extracting: dataset/train/images/pituitary_1453_jpg.rf.04b5a645ec6dd0776e475b08b969db22.jpg  \n",
            " extracting: dataset/train/images/pituitary_146_jpg.rf.fb709ef6cc597e964dddb0ca4824f553.jpg  \n",
            " extracting: dataset/train/images/pituitary_147_jpg.rf.d7addc2328755de0d735cd46731b550f.jpg  \n",
            " extracting: dataset/train/images/pituitary_149_jpg.rf.a752b844822a817cadd5cab669a229b0.jpg  \n",
            " extracting: dataset/train/images/pituitary_14_jpg.rf.0ed43606cb64d0d8fb914beb9b3d71b1.jpg  \n",
            " extracting: dataset/train/images/pituitary_152_jpg.rf.fee1aa85a22eb1514164cafefab9ef37.jpg  \n",
            " extracting: dataset/train/images/pituitary_154_jpg.rf.7fa27608b351c3fbefd7a70fd41f6a21.jpg  \n",
            " extracting: dataset/train/images/pituitary_157_jpg.rf.fab3a62e15ce58bd6d8dcb1c462f48e7.jpg  \n",
            " extracting: dataset/train/images/pituitary_158_jpg.rf.77c6fe774b3e1cddd6476bc3bedd447c.jpg  \n",
            " extracting: dataset/train/images/pituitary_168_jpg.rf.aaf63185ace74da1677975f073c19951.jpg  \n",
            " extracting: dataset/train/images/pituitary_16_jpg.rf.b84c67869927f85ff477ae7db6db9a5c.jpg  \n",
            " extracting: dataset/train/images/pituitary_170_jpg.rf.1b460d77ac26e2c707ff8997576dd03b.jpg  \n",
            " extracting: dataset/train/images/pituitary_190_jpg.rf.0a2a25726a4d6ab90420c0ded0a8edfd.jpg  \n",
            " extracting: dataset/train/images/pituitary_19_jpg.rf.13cadca08978ec32b69bed7772dd3ea1.jpg  \n",
            " extracting: dataset/train/images/pituitary_1_jpg.rf.af12f89122c80accfe8e1e761eb065aa.jpg  \n",
            " extracting: dataset/train/images/pituitary_202_jpg.rf.b72bd3452c676440444e734d19732718.jpg  \n",
            " extracting: dataset/train/images/pituitary_20_jpg.rf.5a0ebcd704a580a4392104b5d6d706f8.jpg  \n",
            " extracting: dataset/train/images/pituitary_218_jpg.rf.ba2429e74bd9acb9627ac402c4aeac57.jpg  \n",
            " extracting: dataset/train/images/pituitary_21_jpg.rf.bf154eb052afca2a3503d6ac4e3809df.jpg  \n",
            " extracting: dataset/train/images/pituitary_227_jpg.rf.11303860cdba6f7da8784de7cd0fe35a.jpg  \n",
            " extracting: dataset/train/images/pituitary_230_jpg.rf.1e60732f5bbe4682d05325eeabccc8d8.jpg  \n",
            " extracting: dataset/train/images/pituitary_243_jpg.rf.2207eb779fccb72755c361bc2ad5b425.jpg  \n",
            " extracting: dataset/train/images/pituitary_244_jpg.rf.58478c0560e03a47e4f680a098b10d0a.jpg  \n",
            " extracting: dataset/train/images/pituitary_247_jpg.rf.3747d6cdc2b67c4ee7e8b5f82f23e8be.jpg  \n",
            " extracting: dataset/train/images/pituitary_248_jpg.rf.b518b8c8039ebe11300d73c15514f927.jpg  \n",
            " extracting: dataset/train/images/pituitary_249_jpg.rf.3953374b4c05261b5e7f1ea7460238ff.jpg  \n",
            " extracting: dataset/train/images/pituitary_254_jpg.rf.097b1debae13249fafc0b6f320034392.jpg  \n",
            " extracting: dataset/train/images/pituitary_257_jpg.rf.92412216f685a8c05b8c595de6467c4c.jpg  \n",
            " extracting: dataset/train/images/pituitary_260_jpg.rf.6106032205be1c58d46f2b42244de930.jpg  \n",
            " extracting: dataset/train/images/pituitary_266_jpg.rf.329c14826eb4b5f12fb6922fe2845f7b.jpg  \n",
            " extracting: dataset/train/images/pituitary_267_jpg.rf.825394ca34181ad2fca63f13b1100dc8.jpg  \n",
            " extracting: dataset/train/images/pituitary_268_jpg.rf.dfdb840e120955f6c6c7b07d347e4efc.jpg  \n",
            " extracting: dataset/train/images/pituitary_269_jpg.rf.9035e3b437756afc4755b01d129965b0.jpg  \n",
            " extracting: dataset/train/images/pituitary_271_jpg.rf.703cad670f7f4605236348e3bf169221.jpg  \n",
            " extracting: dataset/train/images/pituitary_276_jpg.rf.88c69022d486420a43436c57652503cc.jpg  \n",
            " extracting: dataset/train/images/pituitary_277_jpg.rf.7575731b5aea84cd117d7395cddbe672.jpg  \n",
            " extracting: dataset/train/images/pituitary_278_jpg.rf.a69bb493a1d79ef1e72a70e7fbdd53e2.jpg  \n",
            " extracting: dataset/train/images/pituitary_280_jpg.rf.27a5e63dca0569f36558ddd3f4198e77.jpg  \n",
            " extracting: dataset/train/images/pituitary_290_jpg.rf.746709f2f5a0fc239520a487f299e6f5.jpg  \n",
            " extracting: dataset/train/images/pituitary_293_jpg.rf.a1b03aec6b4eba10da26c9f1097e220d.jpg  \n",
            " extracting: dataset/train/images/pituitary_295_jpg.rf.33f023252628dc40b0e4f044df06ba0b.jpg  \n",
            " extracting: dataset/train/images/pituitary_2_jpg.rf.b59a4592aebe10effa30a561108513dc.jpg  \n",
            " extracting: dataset/train/images/pituitary_304_jpg.rf.ab83252f4eb6625546b005fa3fd38aab.jpg  \n",
            " extracting: dataset/train/images/pituitary_305_jpg.rf.e7c7c973ebe7f7d0e18aece38e8a2edb.jpg  \n",
            " extracting: dataset/train/images/pituitary_314_jpg.rf.f9614bef9231de2a434382d7f7f5361b.jpg  \n",
            " extracting: dataset/train/images/pituitary_323_jpg.rf.975a7c0b6089397cd94a1629cff04d2d.jpg  \n",
            " extracting: dataset/train/images/pituitary_328_jpg.rf.daf8a18b0450eaef307122de90798b2e.jpg  \n",
            " extracting: dataset/train/images/pituitary_336_jpg.rf.97af5674ebb9533d08e55de1103bd661.jpg  \n",
            " extracting: dataset/train/images/pituitary_339_jpg.rf.5bfb40b325964b3de4951e93b9097a44.jpg  \n",
            " extracting: dataset/train/images/pituitary_345_jpg.rf.ff17a251bfe67f11466b60d43c164990.jpg  \n",
            " extracting: dataset/train/images/pituitary_347_jpg.rf.5b5a6738b4564e26e2ac4a12a83fe71f.jpg  \n",
            " extracting: dataset/train/images/pituitary_349_jpg.rf.f6d0644ef3211c291e4b7ccdb217c48b.jpg  \n",
            " extracting: dataset/train/images/pituitary_352_jpg.rf.3a2546e2cf83cbda2540be0c96ec5ab1.jpg  \n",
            " extracting: dataset/train/images/pituitary_353_jpg.rf.d4c4f71325bfc241e61864a4848251a5.jpg  \n",
            " extracting: dataset/train/images/pituitary_361_jpg.rf.13f649ec4f8142fef3013505e2e3a982.jpg  \n",
            " extracting: dataset/train/images/pituitary_362_jpg.rf.cbd51c6049ef39b3dafdcd32c7122718.jpg  \n",
            " extracting: dataset/train/images/pituitary_366_jpg.rf.17aeda00d23ceea54c56aad7da13f09b.jpg  \n",
            " extracting: dataset/train/images/pituitary_367_jpg.rf.6def2e69ca7ff611b14c49c62d099a33.jpg  \n",
            " extracting: dataset/train/images/pituitary_371_jpg.rf.8363f007153146be61551f3487dc3da4.jpg  \n",
            " extracting: dataset/train/images/pituitary_383_jpg.rf.8f63a70e496e5263199823752e7bc500.jpg  \n",
            " extracting: dataset/train/images/pituitary_394_jpg.rf.824f4f6b04d184e04a5cd5ec4f37bafd.jpg  \n",
            " extracting: dataset/train/images/pituitary_395_jpg.rf.6ef2fc99bbf408189d3afe1c223c6896.jpg  \n",
            " extracting: dataset/train/images/pituitary_396_jpg.rf.9224b7edefe1f5dbac97df7853f3cc66.jpg  \n",
            " extracting: dataset/train/images/pituitary_422_jpg.rf.5e24fad1a51188d2f3751e2ff7ca0a6e.jpg  \n",
            " extracting: dataset/train/images/pituitary_423_jpg.rf.0ba15b78ae75f82c3de5dbc236723790.jpg  \n",
            " extracting: dataset/train/images/pituitary_424_jpg.rf.ec601ac96d52ea49c10314cbad7016a4.jpg  \n",
            " extracting: dataset/train/images/pituitary_425_jpg.rf.657eea891f15b8c4358c3efe83a83aad.jpg  \n",
            " extracting: dataset/train/images/pituitary_429_jpg.rf.6820785128fc5fb59d697c85a276689e.jpg  \n",
            " extracting: dataset/train/images/pituitary_430_jpg.rf.d9cd0a77f58db998cce2763c301ea5d1.jpg  \n",
            " extracting: dataset/train/images/pituitary_434_jpg.rf.82eb679432f78789b1e9a4e1f979cb04.jpg  \n",
            " extracting: dataset/train/images/pituitary_439_jpg.rf.a405ebfce3f37d9cb358fa99999b98f5.jpg  \n",
            " extracting: dataset/train/images/pituitary_442_jpg.rf.08e48ca357ff70abbfa5bc1ce17f45a8.jpg  \n",
            " extracting: dataset/train/images/pituitary_444_jpg.rf.616b3837eb98648e1c60e7920eae79bb.jpg  \n",
            " extracting: dataset/train/images/pituitary_449_jpg.rf.6d75373e9387e79e037bdac0438c0e6f.jpg  \n",
            " extracting: dataset/train/images/pituitary_44_jpg.rf.c48004d2e5932f2334c827524d658c8b.jpg  \n",
            " extracting: dataset/train/images/pituitary_456_jpg.rf.82b37b79c48da0a1cc9156ffb4524ab8.jpg  \n",
            " extracting: dataset/train/images/pituitary_460_jpg.rf.78020dfd1d44b1b20e2c19af6f38ecb4.jpg  \n",
            " extracting: dataset/train/images/pituitary_465_jpg.rf.f3145501ee162dfcbecbafa0153ebefc.jpg  \n",
            " extracting: dataset/train/images/pituitary_46_jpg.rf.df07e1618f94d6bc9394c915dacc133c.jpg  \n",
            " extracting: dataset/train/images/pituitary_473_jpg.rf.e1948b14f933edfeade450f357db08f3.jpg  \n",
            " extracting: dataset/train/images/pituitary_477_jpg.rf.a25e44febf86a9e1df042d6ae6953219.jpg  \n",
            " extracting: dataset/train/images/pituitary_479_jpg.rf.e248bf1844b0fbe2e4cdd89d9ad51d77.jpg  \n",
            " extracting: dataset/train/images/pituitary_47_jpg.rf.98746078a4763afab54d183037b8781a.jpg  \n",
            " extracting: dataset/train/images/pituitary_482_jpg.rf.dd6b990733496ceda8f4fad4a9d438e7.jpg  \n",
            " extracting: dataset/train/images/pituitary_48_jpg.rf.a755a02424ec0b78be5671ea44a66b7e.jpg  \n",
            " extracting: dataset/train/images/pituitary_492_jpg.rf.b5d983179d15d5e552977fd594d6d163.jpg  \n",
            " extracting: dataset/train/images/pituitary_506_jpg.rf.c4855fed19f6ec15b4331f0ef5ca4da9.jpg  \n",
            " extracting: dataset/train/images/pituitary_516_jpg.rf.3145996fbbb24667aac495d31785f94f.jpg  \n",
            " extracting: dataset/train/images/pituitary_519_jpg.rf.f98a7a057186388f5dabbce0af86eac0.jpg  \n",
            " extracting: dataset/train/images/pituitary_51_jpg.rf.c86c7c9cb6f00d5d6a5ebf6374ff55a0.jpg  \n",
            " extracting: dataset/train/images/pituitary_531_jpg.rf.07fdbd86cac067d5937843a2ac0ce0a7.jpg  \n",
            " extracting: dataset/train/images/pituitary_554_jpg.rf.054d1dd57f91606c021fbd0abeb3b08a.jpg  \n",
            " extracting: dataset/train/images/pituitary_555_jpg.rf.dcd99d87df100f580c54629a49640bcf.jpg  \n",
            " extracting: dataset/train/images/pituitary_556_jpg.rf.c19c3633e62b39bac46de6e53e39acc9.jpg  \n",
            " extracting: dataset/train/images/pituitary_559_jpg.rf.c7513b20da94e888e65f8e5f357d8402.jpg  \n",
            " extracting: dataset/train/images/pituitary_55_jpg.rf.4973b5b39b5831b2fae3112a0764d24c.jpg  \n",
            " extracting: dataset/train/images/pituitary_566_jpg.rf.36dc9507f01dda158361fec1e1656203.jpg  \n",
            " extracting: dataset/train/images/pituitary_569_jpg.rf.de7b1ded8ca04e2d0fef9444c91d8ae4.jpg  \n",
            " extracting: dataset/train/images/pituitary_56_jpg.rf.8c01921c919edabed2ba05c9b1adff62.jpg  \n",
            " extracting: dataset/train/images/pituitary_570_jpg.rf.ac3df94d40eb4c020a2656cdded17bb0.jpg  \n",
            " extracting: dataset/train/images/pituitary_571_jpg.rf.9932cf26092b727e163954279e53f3f3.jpg  \n",
            " extracting: dataset/train/images/pituitary_575_jpg.rf.797a6694b0f849b807d6bc0761462b06.jpg  \n",
            " extracting: dataset/train/images/pituitary_583_jpg.rf.1e75ef2db05601e8cbb6b364b50d1b31.jpg  \n",
            " extracting: dataset/train/images/pituitary_587_jpg.rf.1a427f8f40f562ee5fcdaa4d1459d5ed.jpg  \n",
            " extracting: dataset/train/images/pituitary_588_jpg.rf.f2ced73df65f8bb544a762fb33e72f0e.jpg  \n",
            " extracting: dataset/train/images/pituitary_590_jpg.rf.e84608167ffa04939c2bb714fc8380a5.jpg  \n",
            " extracting: dataset/train/images/pituitary_591_jpg.rf.a46d49781587bbfa5b3c684b696a5900.jpg  \n",
            " extracting: dataset/train/images/pituitary_593_jpg.rf.1b51a447283facdc4570727eab5f8c6f.jpg  \n",
            " extracting: dataset/train/images/pituitary_594_jpg.rf.b6ef63eb3d32156cd1c9b998d379d22a.jpg  \n",
            " extracting: dataset/train/images/pituitary_596_jpg.rf.554a600b1f88405d132b160f1229ad36.jpg  \n",
            " extracting: dataset/train/images/pituitary_605_jpg.rf.08e44850b3194acf91105c919598db1e.jpg  \n",
            " extracting: dataset/train/images/pituitary_611_jpg.rf.d8d092e3661b06cb70573facc5447e56.jpg  \n",
            " extracting: dataset/train/images/pituitary_612_jpg.rf.68bf84d673ece7bddabaef4ff4892665.jpg  \n",
            " extracting: dataset/train/images/pituitary_613_jpg.rf.fb80ec77fc161e85db9485b9ca93520d.jpg  \n",
            " extracting: dataset/train/images/pituitary_621_jpg.rf.7c6c4289d87e00f56b49a7eafbac9b93.jpg  \n",
            " extracting: dataset/train/images/pituitary_623_jpg.rf.04bf89049a3932f0a13c6563a08187d6.jpg  \n",
            " extracting: dataset/train/images/pituitary_631_jpg.rf.da60a5e29440dd5838b398dcef899d69.jpg  \n",
            " extracting: dataset/train/images/pituitary_632_jpg.rf.8fdf813e1806f69c947425bbbf6239dd.jpg  \n",
            " extracting: dataset/train/images/pituitary_633_jpg.rf.996b1eb1f3d572ca7f8638174a69f144.jpg  \n",
            " extracting: dataset/train/images/pituitary_635_jpg.rf.9aa64b0eb54322fe8965104ada04de79.jpg  \n",
            " extracting: dataset/train/images/pituitary_636_jpg.rf.4adb9120661b9d4e1728ebe83b4cabc4.jpg  \n",
            " extracting: dataset/train/images/pituitary_653_jpg.rf.2f24641dd8e8005ef537e44e45e62962.jpg  \n",
            " extracting: dataset/train/images/pituitary_659_jpg.rf.0b25241f4ab8b4612623063477d00f86.jpg  \n",
            " extracting: dataset/train/images/pituitary_663_jpg.rf.8b1bb57e2cc41b67d03df8907be1f5c7.jpg  \n",
            " extracting: dataset/train/images/pituitary_665_jpg.rf.7c2423680812f34b609962703ddb9652.jpg  \n",
            " extracting: dataset/train/images/pituitary_67_jpg.rf.ccab68a1f5af9d8a81fbb9083951d784.jpg  \n",
            " extracting: dataset/train/images/pituitary_685_jpg.rf.b58429ffb2d6ab069ea3310111e79cd6.jpg  \n",
            " extracting: dataset/train/images/pituitary_687_jpg.rf.f0006d3aae44dc3214e24824c1266c6b.jpg  \n",
            " extracting: dataset/train/images/pituitary_68_jpg.rf.c4ec1e963b1a57552b91f6e688ece879.jpg  \n",
            " extracting: dataset/train/images/pituitary_694_jpg.rf.19db15b9effa9045595c060a8a99c38f.jpg  \n",
            " extracting: dataset/train/images/pituitary_696_jpg.rf.90761be4dcae375307c1effc13d35364.jpg  \n",
            " extracting: dataset/train/images/pituitary_6_jpg.rf.2ca208e02910662c1dae7d012c5ae6c7.jpg  \n",
            " extracting: dataset/train/images/pituitary_702_jpg.rf.b2a49ec32a88d10d14074e5053a5aa86.jpg  \n",
            " extracting: dataset/train/images/pituitary_709_jpg.rf.d810bc61ee13a6dac8cc402cfdf485b5.jpg  \n",
            " extracting: dataset/train/images/pituitary_711_jpg.rf.1a83fd25d8e6bcdc53877dd2a65d2fdc.jpg  \n",
            " extracting: dataset/train/images/pituitary_718_jpg.rf.b74ac8a3bb7cbac93ba0866225387377.jpg  \n",
            " extracting: dataset/train/images/pituitary_734_jpg.rf.51e8ef459ee7379f127d26e278c13ae2.jpg  \n",
            " extracting: dataset/train/images/pituitary_736_jpg.rf.a6597967353c35a003c6b083d31835e0.jpg  \n",
            " extracting: dataset/train/images/pituitary_738_jpg.rf.79c1878f5f94e3110315261fc09a1401.jpg  \n",
            " extracting: dataset/train/images/pituitary_739_jpg.rf.8989d4f3a5e933c6696f52264341ca55.jpg  \n",
            " extracting: dataset/train/images/pituitary_744_jpg.rf.3ca41b90547fa2979cb8fc0e4a0e8dea.jpg  \n",
            " extracting: dataset/train/images/pituitary_745_jpg.rf.db50f0c0c6d89535fd892b476f3bdc0e.jpg  \n",
            " extracting: dataset/train/images/pituitary_747_jpg.rf.1cd94a1e17168f351aefbd2e1aecaaa4.jpg  \n",
            " extracting: dataset/train/images/pituitary_758_jpg.rf.09c84a5ec214cef23e0b73d5bea36d2a.jpg  \n",
            " extracting: dataset/train/images/pituitary_762_jpg.rf.b5b1ee478fdbc91f610db4cb87371d84.jpg  \n",
            " extracting: dataset/train/images/pituitary_766_jpg.rf.bd99f9b94c920fe79998c62f45f9e47d.jpg  \n",
            " extracting: dataset/train/images/pituitary_768_jpg.rf.e8a430da7c5b0950e7df9462e5e4de26.jpg  \n",
            " extracting: dataset/train/images/pituitary_769_jpg.rf.341618ca603112b874715d16e831a9cd.jpg  \n",
            " extracting: dataset/train/images/pituitary_772_jpg.rf.e8444854ffa17ee1af72ead65993c90f.jpg  \n",
            " extracting: dataset/train/images/pituitary_778_jpg.rf.8157509deead3c5bcd6dca3348413e2c.jpg  \n",
            " extracting: dataset/train/images/pituitary_780_jpg.rf.ad90ddefb46d2bdc021cddfbf05a8ff6.jpg  \n",
            " extracting: dataset/train/images/pituitary_783_jpg.rf.b0dce24d099e49cd200f51d8ef7316e5.jpg  \n",
            " extracting: dataset/train/images/pituitary_784_jpg.rf.35fbd8d5e826518335d6983657dafb52.jpg  \n",
            " extracting: dataset/train/images/pituitary_793_jpg.rf.20ba3769841b919fefdb95de8317f19d.jpg  \n",
            " extracting: dataset/train/images/pituitary_794_jpg.rf.a77dee1f5e8f9d388fd3dfc828405088.jpg  \n",
            " extracting: dataset/train/images/pituitary_796_jpg.rf.9c5dc3279b211487c125bfb7cf39a3b8.jpg  \n",
            " extracting: dataset/train/images/pituitary_803_jpg.rf.04a555485f86b09b1dd47ae855302ce3.jpg  \n",
            " extracting: dataset/train/images/pituitary_806_jpg.rf.df6d80834454a16b6772ea277913b61b.jpg  \n",
            " extracting: dataset/train/images/pituitary_808_jpg.rf.aa0b31166291376ced65a14dde28e85b.jpg  \n",
            " extracting: dataset/train/images/pituitary_810_jpg.rf.88ca170a57be381915c5b28f20dc6c6d.jpg  \n",
            " extracting: dataset/train/images/pituitary_811_jpg.rf.1615ed84247b9d492b270de36e664e8e.jpg  \n",
            " extracting: dataset/train/images/pituitary_812_jpg.rf.8049b42fd2d7555107945f85d74f0cb0.jpg  \n",
            " extracting: dataset/train/images/pituitary_815_jpg.rf.c332e84a90cb5561d3161c88d6d62eca.jpg  \n",
            " extracting: dataset/train/images/pituitary_817_jpg.rf.4bc6eec52131d9d6e2dac873123dd565.jpg  \n",
            " extracting: dataset/train/images/pituitary_820_jpg.rf.d36f05a81b8c5461cb541287889cf77f.jpg  \n",
            " extracting: dataset/train/images/pituitary_831_jpg.rf.591ba244eb69a0d6bd26de903a4df1bf.jpg  \n",
            " extracting: dataset/train/images/pituitary_838_jpg.rf.82b13975e57d46c90838e2b4e6aa77ef.jpg  \n",
            " extracting: dataset/train/images/pituitary_852_jpg.rf.925c3aa87849fb333d0b19214c0206a2.jpg  \n",
            " extracting: dataset/train/images/pituitary_860_jpg.rf.91c08cf0b866472922fc62d1bf8e086b.jpg  \n",
            " extracting: dataset/train/images/pituitary_862_jpg.rf.a469356b04ff392e126c0d56d8eb52e0.jpg  \n",
            " extracting: dataset/train/images/pituitary_874_jpg.rf.363dad0f07212d570140256caa943d3a.jpg  \n",
            " extracting: dataset/train/images/pituitary_883_jpg.rf.41b151d1be030e3197206cc341a8f3b8.jpg  \n",
            " extracting: dataset/train/images/pituitary_884_jpg.rf.a62e2da57ac8687dad3815d5588d1f2e.jpg  \n",
            " extracting: dataset/train/images/pituitary_887_jpg.rf.75504a0b6dbbac193ac3341a4cc59891.jpg  \n",
            " extracting: dataset/train/images/pituitary_88_jpg.rf.d51ea456693c57dd933bd911023fb63d.jpg  \n",
            " extracting: dataset/train/images/pituitary_890_jpg.rf.400ed548e401014b561dd674f5b793d7.jpg  \n",
            " extracting: dataset/train/images/pituitary_898_jpg.rf.f051221be1315f20eb54c3935c612261.jpg  \n",
            " extracting: dataset/train/images/pituitary_89_jpg.rf.d358e9200bb7671e334c71c047f4fd57.jpg  \n",
            " extracting: dataset/train/images/pituitary_903_jpg.rf.d05719ed4f1f14d37d38fdf0096ee538.jpg  \n",
            " extracting: dataset/train/images/pituitary_904_jpg.rf.965691ddd5160a9f36ceb5f45d26ed77.jpg  \n",
            " extracting: dataset/train/images/pituitary_906_jpg.rf.40dddab9d1238b14bb5e21d4d1fbe2ff.jpg  \n",
            " extracting: dataset/train/images/pituitary_907_jpg.rf.475a249eaeaf81f62f79ed057deb2853.jpg  \n",
            " extracting: dataset/train/images/pituitary_908_jpg.rf.18fafad27bf54398b8e7f3915f676f21.jpg  \n",
            " extracting: dataset/train/images/pituitary_91_jpg.rf.881ee090506fae9f6753e96e129e3b8e.jpg  \n",
            " extracting: dataset/train/images/pituitary_921_jpg.rf.4f9bc7ce14afa06a9f462f4b1e052962.jpg  \n",
            " extracting: dataset/train/images/pituitary_924_jpg.rf.f0b6e7474e54b2f2713d932aa462cbe8.jpg  \n",
            " extracting: dataset/train/images/pituitary_925_jpg.rf.1e931a5a900fec6ee905cccd46fda465.jpg  \n",
            " extracting: dataset/train/images/pituitary_927_jpg.rf.4f53bd5d5b60b2094e3075e9dd88ad6c.jpg  \n",
            " extracting: dataset/train/images/pituitary_930_jpg.rf.bab1001bd2e968752716a86bae781090.jpg  \n",
            " extracting: dataset/train/images/pituitary_932_jpg.rf.aa24e9a8430e9d1c448c74ae8e37e70d.jpg  \n",
            " extracting: dataset/train/images/pituitary_940_jpg.rf.54a9faf38d85dc767cf4a9ce0af0d5f0.jpg  \n",
            " extracting: dataset/train/images/pituitary_944_jpg.rf.5e9522eb8d83fac9daf23a4934c1d594.jpg  \n",
            " extracting: dataset/train/images/pituitary_961_jpg.rf.1563674e159c7cb834396022137202dc.jpg  \n",
            " extracting: dataset/train/images/pituitary_965_jpg.rf.9baf87731e4e3899a086fd1d041cf789.jpg  \n",
            " extracting: dataset/train/images/pituitary_966_jpg.rf.bd7d442f6cb99a4f8bed680e0e7c5863.jpg  \n",
            " extracting: dataset/train/images/pituitary_976_jpg.rf.c2692a31bc999aeaeec2fe9e844e173a.jpg  \n",
            " extracting: dataset/train/images/pituitary_977_jpg.rf.5d98843fa265f54b2682dc5c3a75e3a1.jpg  \n",
            " extracting: dataset/train/images/pituitary_997_jpg.rf.e360b7003605a483342546daed1d7f8e.jpg  \n",
            "   creating: dataset/train/labels/\n",
            "  inflating: dataset/train/labels/glioma_1017_jpg.rf.e9c8162c7360385c0a52e4ea3122eb6d.txt  \n",
            "  inflating: dataset/train/labels/glioma_1019_jpg.rf.82e8fd955a28234e5a220cec8c1ad48e.txt  \n",
            "  inflating: dataset/train/labels/glioma_1027_jpg.rf.086418625a593d1f546851fb30c9f752.txt  \n",
            "  inflating: dataset/train/labels/glioma_102_jpg.rf.e184590079f7726ff64daccd83d8ff99.txt  \n",
            "  inflating: dataset/train/labels/glioma_1055_jpg.rf.8d82196b497cb33edea18f562b08e415.txt  \n",
            "  inflating: dataset/train/labels/glioma_1068_jpg.rf.f6a73a18d4221f9595fd64570a953952.txt  \n",
            "  inflating: dataset/train/labels/glioma_1086_jpg.rf.a2785a388f7efbd5f665601ec9147d36.txt  \n",
            "  inflating: dataset/train/labels/glioma_1089_jpg.rf.d43503c2a63af7cd081183f393da6340.txt  \n",
            "  inflating: dataset/train/labels/glioma_1094_jpg.rf.551bf63e880309b6024c7a42d5aac287.txt  \n",
            "  inflating: dataset/train/labels/glioma_1098_jpg.rf.cb1aeac81eec8534e059c33147f60263.txt  \n",
            "  inflating: dataset/train/labels/glioma_1112_jpg.rf.8f37ed9f604563cb38cb6f32ce3acf16.txt  \n",
            "  inflating: dataset/train/labels/glioma_1133_jpg.rf.8f564b9043b1ec8362fc38df344bbe1e.txt  \n",
            "  inflating: dataset/train/labels/glioma_1138_jpg.rf.c6a259e4343f9bfb52cfa69eb60f46c7.txt  \n",
            "  inflating: dataset/train/labels/glioma_1147_jpg.rf.e1dfee64ef3faccf1c0ace058d230551.txt  \n",
            "  inflating: dataset/train/labels/glioma_1162_jpg.rf.b33e79c7a749d4f13d3f435dd3568725.txt  \n",
            "  inflating: dataset/train/labels/glioma_1178_jpg.rf.8051e70e5bfb1972fc4c012824e4277b.txt  \n",
            "  inflating: dataset/train/labels/glioma_1184_jpg.rf.906e3fd4e09c74c76fec491f2d8a1500.txt  \n",
            "  inflating: dataset/train/labels/glioma_1202_jpg.rf.24044ec3eab86394cd061a4a8735a0d9.txt  \n",
            "  inflating: dataset/train/labels/glioma_1203_jpg.rf.939cf76736a044eb5e6561ce4fae3622.txt  \n",
            "  inflating: dataset/train/labels/glioma_120_jpg.rf.7103603cabccecd5d6c0a7d875b2b5d7.txt  \n",
            "  inflating: dataset/train/labels/glioma_1228_jpg.rf.068c264838666499bca0d7060de33af9.txt  \n",
            "  inflating: dataset/train/labels/glioma_1234_jpg.rf.e12dc0cd5003bfa0f9060637d722830e.txt  \n",
            "  inflating: dataset/train/labels/glioma_1235_jpg.rf.2a8808fa4ef7eeca9ee3b039dd233373.txt  \n",
            "  inflating: dataset/train/labels/glioma_1240_jpg.rf.f9ce263457e8d2b30da8d2876f8ac132.txt  \n",
            "  inflating: dataset/train/labels/glioma_1245_jpg.rf.af70f7eae4d5ba34173bf1438035cef7.txt  \n",
            "  inflating: dataset/train/labels/glioma_1250_jpg.rf.9a1f8baf56de178dbb025c4fd17dca41.txt  \n",
            "  inflating: dataset/train/labels/glioma_1266_jpg.rf.8d9c69dba00e64fcf859ffe1b8f34ed7.txt  \n",
            "  inflating: dataset/train/labels/glioma_1272_jpg.rf.634083758e76317aecd2f06cf736ebb4.txt  \n",
            "  inflating: dataset/train/labels/glioma_1287_jpg.rf.e1077018b26898b61ac21fd49f02ecaf.txt  \n",
            "  inflating: dataset/train/labels/glioma_128_jpg.rf.b238fdefc66ce62f90c11aa4ff7cd10f.txt  \n",
            "  inflating: dataset/train/labels/glioma_1291_jpg.rf.568e09a9d9ae3bbff3c21424b305c8c1.txt  \n",
            "  inflating: dataset/train/labels/glioma_1296_jpg.rf.c0e3188a4d00bfba320b904486a84794.txt  \n",
            "  inflating: dataset/train/labels/glioma_1301_jpg.rf.d70f5b0990be3d5ca5d2359623d84a90.txt  \n",
            "  inflating: dataset/train/labels/glioma_1308_jpg.rf.c1b0f96ac0eec1ea12421bd183551845.txt  \n",
            "  inflating: dataset/train/labels/glioma_1321_jpg.rf.b6bfa0f90a94f90db944467b5bfcb3e7.txt  \n",
            "  inflating: dataset/train/labels/glioma_143_jpg.rf.dc5db8c64514a97e1b123fd1971df97e.txt  \n",
            "  inflating: dataset/train/labels/glioma_145_jpg.rf.9125a688625012628983f59e080c1986.txt  \n",
            "  inflating: dataset/train/labels/glioma_155_jpg.rf.74c389093bfd9606949b2729268e8ea3.txt  \n",
            "  inflating: dataset/train/labels/glioma_164_jpg.rf.b9ab54bce6f39937d3defb8979d8c235.txt  \n",
            "  inflating: dataset/train/labels/glioma_169_jpg.rf.9590254d673da02632dff41bd009d841.txt  \n",
            "  inflating: dataset/train/labels/glioma_171_jpg.rf.ca11a72a9de2a480ff956b4306c2ea45.txt  \n",
            "  inflating: dataset/train/labels/glioma_172_jpg.rf.2456b08df0d238e939af32d2a0f31ae8.txt  \n",
            "  inflating: dataset/train/labels/glioma_191_jpg.rf.77be681637a02f58673ed32218116004.txt  \n",
            "  inflating: dataset/train/labels/glioma_206_jpg.rf.177dc5acb15711ae32765dc52ee85d88.txt  \n",
            "  inflating: dataset/train/labels/glioma_22_jpg.rf.991216b0b4606e74817673a45b166a34.txt  \n",
            "  inflating: dataset/train/labels/glioma_238_jpg.rf.51666b7b153f1e603cf1558cf99f7e7d.txt  \n",
            "  inflating: dataset/train/labels/glioma_242_jpg.rf.256e0e57d471234c42179ea208a9681a.txt  \n",
            "  inflating: dataset/train/labels/glioma_259_jpg.rf.60db168e3d887d8db6795dd989766381.txt  \n",
            "  inflating: dataset/train/labels/glioma_268_jpg.rf.e13aa46dca86075dcad2812b595d6266.txt  \n",
            "  inflating: dataset/train/labels/glioma_283_jpg.rf.d2e24030d360608bbb0038c7073d7faf.txt  \n",
            "  inflating: dataset/train/labels/glioma_291_jpg.rf.16b2161cb15e07f201847727c745af10.txt  \n",
            "  inflating: dataset/train/labels/glioma_292_jpg.rf.c765d3750c86ad2dcb6a4cf67c443356.txt  \n",
            "  inflating: dataset/train/labels/glioma_306_jpg.rf.765892c432417034ac160ed314cbdb13.txt  \n",
            "  inflating: dataset/train/labels/glioma_31_jpg.rf.f88f3b4e4a83554f8bde206b1b9bce4f.txt  \n",
            "  inflating: dataset/train/labels/glioma_322_jpg.rf.0fa79c110072428a02bb441c57901d3f.txt  \n",
            "  inflating: dataset/train/labels/glioma_32_jpg.rf.7761ac812b46f02a6b118e996e1fa903.txt  \n",
            "  inflating: dataset/train/labels/glioma_358_jpg.rf.8cd4754751b64828d47510309613f1a0.txt  \n",
            "  inflating: dataset/train/labels/glioma_373_jpg.rf.65525bcdc61e90d20a22fac77a600fab.txt  \n",
            "  inflating: dataset/train/labels/glioma_374_jpg.rf.cd5b6cddcb663677f866adeafb8448a5.txt  \n",
            "  inflating: dataset/train/labels/glioma_38_jpg.rf.8d901e87945afba2f585cad0cb3dc0b0.txt  \n",
            "  inflating: dataset/train/labels/glioma_392_jpg.rf.b7aa80b4d570d52b3122bbafb7961b86.txt  \n",
            "  inflating: dataset/train/labels/glioma_397_jpg.rf.d197c0cc6bd8c5f11c53e6b9a6f064a7.txt  \n",
            "  inflating: dataset/train/labels/glioma_406_jpg.rf.0217d46aaa100c606019773cf9e4af89.txt  \n",
            "  inflating: dataset/train/labels/glioma_414_jpg.rf.f9888de8bd4c5d90586fb849d7d933ed.txt  \n",
            "  inflating: dataset/train/labels/glioma_421_jpg.rf.7beed68f7b101ede47dea94a9236ee04.txt  \n",
            "  inflating: dataset/train/labels/glioma_430_jpg.rf.cb6d4503dbd86e06ed5463751f257c1c.txt  \n",
            "  inflating: dataset/train/labels/glioma_43_jpg.rf.2519d497864ac014f23b6588fec9d1e1.txt  \n",
            "  inflating: dataset/train/labels/glioma_468_jpg.rf.d85e769874f88b31113296c64243faa6.txt  \n",
            "  inflating: dataset/train/labels/glioma_474_jpg.rf.9a407f6530fa06506f37d610565362e1.txt  \n",
            "  inflating: dataset/train/labels/glioma_511_jpg.rf.f84ee5cf0c0f3fc5f6af758d55fdfd58.txt  \n",
            "  inflating: dataset/train/labels/glioma_51_jpg.rf.d45bc240398f7a69aa84fc12190fcffc.txt  \n",
            "  inflating: dataset/train/labels/glioma_522_jpg.rf.f5d4d387b72a07daeecf462fe1f4a151.txt  \n",
            "  inflating: dataset/train/labels/glioma_524_jpg.rf.c18b77690b5c272d1690e6233cb829db.txt  \n",
            "  inflating: dataset/train/labels/glioma_525_jpg.rf.5fc207ce06a7678e3ddffb00c411105a.txt  \n",
            "  inflating: dataset/train/labels/glioma_543_jpg.rf.5e7686edfc83b46e7eddc407a8649497.txt  \n",
            "  inflating: dataset/train/labels/glioma_550_jpg.rf.b52127c0a77a8785f44d94766365a326.txt  \n",
            "  inflating: dataset/train/labels/glioma_551_jpg.rf.aac527f5cb1dcfdfa00a5486b61b973b.txt  \n",
            "  inflating: dataset/train/labels/glioma_573_jpg.rf.8d5e7fb17fd6d7bc7897623a4d958fb5.txt  \n",
            "  inflating: dataset/train/labels/glioma_578_jpg.rf.54b68964d2a5408bbd1bba9919a4488a.txt  \n",
            "  inflating: dataset/train/labels/glioma_587_jpg.rf.b1ce281b86889e8ecc54dc24f999848e.txt  \n",
            "  inflating: dataset/train/labels/glioma_609_jpg.rf.e564f70d7e6adff47de4b52b92e46753.txt  \n",
            "  inflating: dataset/train/labels/glioma_629_jpg.rf.563773926f1e45d0ef9ac57c3cfad830.txt  \n",
            "  inflating: dataset/train/labels/glioma_650_jpg.rf.10b1beda8b03d28b0450af5be9c0b215.txt  \n",
            "  inflating: dataset/train/labels/glioma_665_jpg.rf.c8f631906a0210b39ce82d1f6ee531d9.txt  \n",
            "  inflating: dataset/train/labels/glioma_666_jpg.rf.6e859f6183e409c261f3e872632c0fce.txt  \n",
            "  inflating: dataset/train/labels/glioma_676_jpg.rf.5999615c4abfff4630535bbdd6aa1513.txt  \n",
            "  inflating: dataset/train/labels/glioma_681_jpg.rf.d1b4b734bc39bba36ce0c86fbda8f6a6.txt  \n",
            "  inflating: dataset/train/labels/glioma_69_jpg.rf.2ca2dd339c46bccc173521f578d2064f.txt  \n",
            "  inflating: dataset/train/labels/glioma_70_jpg.rf.c053d9e585343a2d87980ac48b2b827a.txt  \n",
            "  inflating: dataset/train/labels/glioma_722_jpg.rf.0973288dd768103902dbadadb02ff063.txt  \n",
            "  inflating: dataset/train/labels/glioma_742_jpg.rf.6e09f99dae18cc5d6fd136959b8a56c1.txt  \n",
            "  inflating: dataset/train/labels/glioma_747_jpg.rf.1f8daf2cd88200423225788e250f45a9.txt  \n",
            "  inflating: dataset/train/labels/glioma_75_jpg.rf.c501669c78c6538107ceb8bc35e697fd.txt  \n",
            "  inflating: dataset/train/labels/glioma_7_jpg.rf.97275e860ec20218c57eac34d50b0a71.txt  \n",
            "  inflating: dataset/train/labels/glioma_804_jpg.rf.af5471fdc77fbc4a413dbb31ff9eb86e.txt  \n",
            "  inflating: dataset/train/labels/glioma_825_jpg.rf.0f916bb26b412f9c87cc9085f38cee95.txt  \n",
            "  inflating: dataset/train/labels/glioma_833_jpg.rf.ab3b5c3c265e2605f1cd4f34ab2b0346.txt  \n",
            "  inflating: dataset/train/labels/glioma_835_jpg.rf.7c101a77efb377960f7739ae8d47f4db.txt  \n",
            "  inflating: dataset/train/labels/glioma_840_jpg.rf.c3ff4bfac5b858b60fa4abbe4187122a.txt  \n",
            "  inflating: dataset/train/labels/glioma_853_jpg.rf.420b3efeee3bbe33f57e7314e6484261.txt  \n",
            "  inflating: dataset/train/labels/glioma_866_jpg.rf.3559912bc574797266bd2d82940a4f24.txt  \n",
            "  inflating: dataset/train/labels/glioma_872_jpg.rf.c696c3481aae25c0b7481f76d14b4bd8.txt  \n",
            "  inflating: dataset/train/labels/glioma_876_jpg.rf.96560adf8bbf1d8c9ea1645f2b2960ad.txt  \n",
            "  inflating: dataset/train/labels/glioma_904_jpg.rf.46fbdba7d5697ea773c86f0214380230.txt  \n",
            "  inflating: dataset/train/labels/glioma_906_jpg.rf.3b56fc6141078c119069f74ca103cd22.txt  \n",
            "  inflating: dataset/train/labels/glioma_928_jpg.rf.33d6096c98c85b2194255bf91a96ea9d.txt  \n",
            "  inflating: dataset/train/labels/glioma_930_jpg.rf.eb6881f20608f5482378962913095da7.txt  \n",
            "  inflating: dataset/train/labels/glioma_931_jpg.rf.496020fa7ebc596da1a2b90a23bc480a.txt  \n",
            "  inflating: dataset/train/labels/glioma_933_jpg.rf.6691f90d0b86b8a81e91b978f4d02543.txt  \n",
            "  inflating: dataset/train/labels/glioma_934_jpg.rf.674c8b35f954ed7e155fa02c2ca2ff6e.txt  \n",
            "  inflating: dataset/train/labels/glioma_954_jpg.rf.04aaccb21c824c5136b2c4287d081084.txt  \n",
            "  inflating: dataset/train/labels/glioma_958_jpg.rf.92fbd1032fa0f107a734c9406bcae14d.txt  \n",
            "  inflating: dataset/train/labels/glioma_968_jpg.rf.fb2711bdd5ae6a219be3cffb99dc8a76.txt  \n",
            "  inflating: dataset/train/labels/glioma_97_jpg.rf.1467ac8594412f669ecab1c802dd5b11.txt  \n",
            "  inflating: dataset/train/labels/glioma_995_jpg.rf.00d546e672f09dd5c1bf2a43ba7b12d7.txt  \n",
            "  inflating: dataset/train/labels/glioma_997_jpg.rf.aece92de49507ccb7b5347ab9ed3d2a6.txt  \n",
            "  inflating: dataset/train/labels/meningioma_1000_jpg.rf.7d1a913ffb25cbc331813216988f7d31.txt  \n",
            "  inflating: dataset/train/labels/meningioma_1001_jpg.rf.fde013aa3c439d99212a7d990b512ae5.txt  \n",
            "  inflating: dataset/train/labels/meningioma_1003_jpg.rf.1cb046de3a4bc224cd1d63fb5fa5561f.txt  \n",
            "  inflating: dataset/train/labels/meningioma_1004_jpg.rf.e6ea0dc9f1e9e7f35281a91921fe074f.txt  \n",
            "  inflating: dataset/train/labels/meningioma_1007_jpg.rf.ffe02981abf20346e75abd3116b7e7f8.txt  \n",
            "  inflating: dataset/train/labels/meningioma_1009_jpg.rf.ba64dab555f9db8c7cc741ba034cbb87.txt  \n",
            "  inflating: dataset/train/labels/meningioma_1010_jpg.rf.044a5f2a213d383278109005dc031b33.txt  \n",
            "  inflating: dataset/train/labels/meningioma_1012_jpg.rf.e686ff582be55e834ec527869f50864f.txt  \n",
            "  inflating: dataset/train/labels/meningioma_1014_jpg.rf.2493d1c9bf7a58d2dfc3de2615ece4c3.txt  \n",
            "  inflating: dataset/train/labels/meningioma_1015_jpg.rf.abcccdb24ad80043a632867065191281.txt  \n",
            "  inflating: dataset/train/labels/meningioma_1016_jpg.rf.2b21457a05a3201e9b08576501489bec.txt  \n",
            "  inflating: dataset/train/labels/meningioma_101_jpg.rf.bbe32c57f14ff5362085ea9560be430b.txt  \n",
            "  inflating: dataset/train/labels/meningioma_1020_jpg.rf.c083f0e6892b08d794d09d0ad935bdd5.txt  \n",
            "  inflating: dataset/train/labels/meningioma_1023_jpg.rf.0b349ec40ab73941437bf03ac0be8172.txt  \n",
            "  inflating: dataset/train/labels/meningioma_1030_jpg.rf.7a3c8c1da556e3207c3779e303396f0d.txt  \n",
            "  inflating: dataset/train/labels/meningioma_1031_jpg.rf.92d5d9e4f499a8616701629db1bbf8e6.txt  \n",
            "  inflating: dataset/train/labels/meningioma_1032_jpg.rf.6f42b84ac1d4bc6443068a2d2dfe4b84.txt  \n",
            "  inflating: dataset/train/labels/meningioma_1035_jpg.rf.58891050d5fd164eb576e2d84e454e55.txt  \n",
            "  inflating: dataset/train/labels/meningioma_1040_jpg.rf.d34a9c9b9fecc69c30ac22cda6a360d0.txt  \n",
            "  inflating: dataset/train/labels/meningioma_1045_jpg.rf.a442ced151630611c1f69c29f1092f16.txt  \n",
            "  inflating: dataset/train/labels/meningioma_1048_jpg.rf.a4b0c3d62dc06cc46a19fa7457356dbf.txt  \n",
            "  inflating: dataset/train/labels/meningioma_1051_jpg.rf.a2b35bd71479146c9668177cf6dfa968.txt  \n",
            "  inflating: dataset/train/labels/meningioma_1052_jpg.rf.14993d2fea569cfcd8576a5561bba274.txt  \n",
            "  inflating: dataset/train/labels/meningioma_1053_jpg.rf.4f69cbaaa68a46b0b815f148e856f8fb.txt  \n",
            "  inflating: dataset/train/labels/meningioma_1059_jpg.rf.5a113046c4f1d04fcb0006334bc4dfa4.txt  \n",
            "  inflating: dataset/train/labels/meningioma_1060_jpg.rf.4c8e2b30da96f1af674121a47179569a.txt  \n",
            "  inflating: dataset/train/labels/meningioma_1065_jpg.rf.94e621066008493dd5ee10ce79315285.txt  \n",
            "  inflating: dataset/train/labels/meningioma_1066_jpg.rf.773e235a5cfc4324e08c7ce96fdea0d0.txt  \n",
            "  inflating: dataset/train/labels/meningioma_1067_jpg.rf.2876f08236a9221433638d0e01ceef85.txt  \n",
            "  inflating: dataset/train/labels/meningioma_1068_jpg.rf.56ce8e8d23c966bcd11f7ebf532d6758.txt  \n",
            "  inflating: dataset/train/labels/meningioma_1070_jpg.rf.4668f737aa70d5a5247262ac4da10b1c.txt  \n",
            "  inflating: dataset/train/labels/meningioma_1072_jpg.rf.a7c68a0d0357e08de8b940f3c6c69ed4.txt  \n",
            "  inflating: dataset/train/labels/meningioma_1074_jpg.rf.4265a6452bdf3c1cda388f9715be74ec.txt  \n",
            "  inflating: dataset/train/labels/meningioma_1076_jpg.rf.4fa57284674e5fbf07d6446ff67d0a76.txt  \n",
            "  inflating: dataset/train/labels/meningioma_1078_jpg.rf.e7a7699f068544f9b7a533ebbb720370.txt  \n",
            "  inflating: dataset/train/labels/meningioma_1079_jpg.rf.802709b4226820338bef07534cabe5b6.txt  \n",
            "  inflating: dataset/train/labels/meningioma_107_jpg.rf.e7aa167ea25f4a30545e10d9c49dab1c.txt  \n",
            "  inflating: dataset/train/labels/meningioma_1080_jpg.rf.3a0757250f80255641179b21f7699c23.txt  \n",
            "  inflating: dataset/train/labels/meningioma_1083_jpg.rf.2f6bc4256771a58ea2c38f4575492a37.txt  \n",
            "  inflating: dataset/train/labels/meningioma_1084_jpg.rf.69b1369e04677a79ce178ebf0ae6acef.txt  \n",
            "  inflating: dataset/train/labels/meningioma_1085_jpg.rf.4b6969bbe6585cddc76c5ff75db16419.txt  \n",
            "  inflating: dataset/train/labels/meningioma_1087_jpg.rf.ec345f0d4e2591a385d025fd56355338.txt  \n",
            "  inflating: dataset/train/labels/meningioma_1089_jpg.rf.f54cf30e0349963e05581513239496ff.txt  \n",
            "  inflating: dataset/train/labels/meningioma_1090_jpg.rf.9d3299b5fd5a44dabaf15f5cebb667b7.txt  \n",
            "  inflating: dataset/train/labels/meningioma_1096_jpg.rf.2f3bef8bace06fb786fb681257c62474.txt  \n",
            "  inflating: dataset/train/labels/meningioma_1098_jpg.rf.bad8fc08770434b25e8f030f21da68bc.txt  \n",
            "  inflating: dataset/train/labels/meningioma_109_jpg.rf.6ff787bbabfb4abb1d63f6229bec9d86.txt  \n",
            "  inflating: dataset/train/labels/meningioma_1100_jpg.rf.44e77aef5e60423e99363a50dde7c098.txt  \n",
            "  inflating: dataset/train/labels/meningioma_1102_jpg.rf.588063b0c4e40f8648a5e85d2311e934.txt  \n",
            "  inflating: dataset/train/labels/meningioma_1103_jpg.rf.8f9a1d7d54389a3e56587b3abd7e4a36.txt  \n",
            "  inflating: dataset/train/labels/meningioma_1106_jpg.rf.751088b4b26b417a4b5d5b929f5e97d6.txt  \n",
            "  inflating: dataset/train/labels/meningioma_1111_jpg.rf.1709916c1c9859685ba40cef729bb7f6.txt  \n",
            "  inflating: dataset/train/labels/meningioma_1112_jpg.rf.55affbed2a2a8f759558a699fcde8fbc.txt  \n",
            "  inflating: dataset/train/labels/meningioma_1113_jpg.rf.99f2d7ddab48cce9571a0ec22df5cbcb.txt  \n",
            "  inflating: dataset/train/labels/meningioma_1114_jpg.rf.70aa64238b40505cfa6927e34a60b319.txt  \n",
            "  inflating: dataset/train/labels/meningioma_1117_jpg.rf.832473951bbfed07f891ff5349a9b819.txt  \n",
            "  inflating: dataset/train/labels/meningioma_1118_jpg.rf.00df375c7507bc402d95140278e74d13.txt  \n",
            "  inflating: dataset/train/labels/meningioma_1122_jpg.rf.1a44798635ceb2bc4b570beec2cf7ea0.txt  \n",
            "  inflating: dataset/train/labels/meningioma_1124_jpg.rf.4ec7681bb682d00c5ed8dd047e15ff1c.txt  \n",
            "  inflating: dataset/train/labels/meningioma_1128_jpg.rf.33c271ae0482d8d0c866b985152e5d7c.txt  \n",
            "  inflating: dataset/train/labels/meningioma_1132_jpg.rf.3f13f5f1cd2e75b3fe60876f63dc8d9d.txt  \n",
            "  inflating: dataset/train/labels/meningioma_1134_jpg.rf.d1abfc3ea3ca3e76d4889b36dad0d49a.txt  \n",
            "  inflating: dataset/train/labels/meningioma_1135_jpg.rf.96c32e08e93d0c34f85aa42a34c39adb.txt  \n",
            "  inflating: dataset/train/labels/meningioma_113_jpg.rf.d837df7cfe8a79f90887240e07a400bc.txt  \n",
            "  inflating: dataset/train/labels/meningioma_1140_jpg.rf.9afd4adb92c2a3f956dbd1115192027f.txt  \n",
            "  inflating: dataset/train/labels/meningioma_1143_jpg.rf.fd2206bcbf5454f4e75604686abb0d14.txt  \n",
            "  inflating: dataset/train/labels/meningioma_1147_jpg.rf.48ec0ae1b9ac50e1614190b9198cfe29.txt  \n",
            "  inflating: dataset/train/labels/meningioma_1148_jpg.rf.73e39019ddab5614fcc3f395e46b9055.txt  \n",
            "  inflating: dataset/train/labels/meningioma_114_jpg.rf.a1ded52e9d64ed06651b5ed131aeaa0c.txt  \n",
            "  inflating: dataset/train/labels/meningioma_1153_jpg.rf.cd5615803871925f83c0420197f243ba.txt  \n",
            "  inflating: dataset/train/labels/meningioma_1155_jpg.rf.ced6cc01c1c8b004d25be59a290543fe.txt  \n",
            "  inflating: dataset/train/labels/meningioma_1156_jpg.rf.f71077e31f20a93c484e7ddd86182e0b.txt  \n",
            "  inflating: dataset/train/labels/meningioma_1166_jpg.rf.57f037b5856750e964733a2977579ea6.txt  \n",
            "  inflating: dataset/train/labels/meningioma_1170_jpg.rf.4e7ec9732af49483ae31b420b7535076.txt  \n",
            "  inflating: dataset/train/labels/meningioma_1172_jpg.rf.387dace0d8e88e7cef6f4bfce64f9950.txt  \n",
            "  inflating: dataset/train/labels/meningioma_1174_jpg.rf.2c00e9bdab30a5c4781a12ee9cc4b70e.txt  \n",
            "  inflating: dataset/train/labels/meningioma_1175_jpg.rf.a4b25fbfaa57544d4497a754fca96349.txt  \n",
            "  inflating: dataset/train/labels/meningioma_1178_jpg.rf.d28ae433a62770aae96bb76711418137.txt  \n",
            "  inflating: dataset/train/labels/meningioma_117_jpg.rf.77f8453394784a23e30b31d223402581.txt  \n",
            "  inflating: dataset/train/labels/meningioma_1182_jpg.rf.d85a3afcf0d3a41ae22a54759995262b.txt  \n",
            "  inflating: dataset/train/labels/meningioma_1183_jpg.rf.057d898ba6a98d81499ebed48dd2092c.txt  \n",
            "  inflating: dataset/train/labels/meningioma_1185_jpg.rf.af26d6157a2ec8fdb58a10c755004c7b.txt  \n",
            "  inflating: dataset/train/labels/meningioma_1186_jpg.rf.7869ac51125badc585db39632755a7b2.txt  \n",
            "  inflating: dataset/train/labels/meningioma_1190_jpg.rf.27bccd5efee03a8fc9bb672aa6b37ae2.txt  \n",
            "  inflating: dataset/train/labels/meningioma_1191_jpg.rf.0edb2454f9d379939ea919d290234976.txt  \n",
            "  inflating: dataset/train/labels/meningioma_1193_jpg.rf.49df5c82a94488415585a7bfe197efa3.txt  \n",
            "  inflating: dataset/train/labels/meningioma_1195_jpg.rf.baa094c6182811a33bf00b56230f0076.txt  \n",
            "  inflating: dataset/train/labels/meningioma_119_jpg.rf.06fde9ac4afe2efe00a09a7ae5bd4d86.txt  \n",
            "  inflating: dataset/train/labels/meningioma_1200_jpg.rf.8f1194582c8142887ff4537a9e41c294.txt  \n",
            "  inflating: dataset/train/labels/meningioma_1201_jpg.rf.4155c14224b63c3a4bbf6d570a2a4089.txt  \n",
            "  inflating: dataset/train/labels/meningioma_1203_jpg.rf.ea73368d12a64afd50a073deb28d8c85.txt  \n",
            "  inflating: dataset/train/labels/meningioma_120_jpg.rf.f86ba2e7977ba292b26c91f2564d946a.txt  \n",
            "  inflating: dataset/train/labels/meningioma_1210_jpg.rf.9ae7dc5b727491b6603d19416676a7c8.txt  \n",
            "  inflating: dataset/train/labels/meningioma_1212_jpg.rf.72220ada901dcb13a50fcfd9483ee956.txt  \n",
            "  inflating: dataset/train/labels/meningioma_1213_jpg.rf.eaf464518ae3b4ddfd8fab1b463488ff.txt  \n",
            "  inflating: dataset/train/labels/meningioma_1216_jpg.rf.d335d6016339209d47e5d8f8dec8bd94.txt  \n",
            "  inflating: dataset/train/labels/meningioma_1217_jpg.rf.0cb80af7145df29181ef3cac3d1bc97c.txt  \n",
            "  inflating: dataset/train/labels/meningioma_1218_jpg.rf.70d19d5f1c589e82b7a550f40c050d8d.txt  \n",
            "  inflating: dataset/train/labels/meningioma_1219_jpg.rf.26fccbbb32420cd0d8cf9863581e07fc.txt  \n",
            "  inflating: dataset/train/labels/meningioma_121_jpg.rf.b9e651b0f4137c1e04a396a7a9916c8e.txt  \n",
            "  inflating: dataset/train/labels/meningioma_1220_jpg.rf.163bb25095405d38a11f58b0fb559c0b.txt  \n",
            "  inflating: dataset/train/labels/meningioma_1221_jpg.rf.2a11834e4b5c5e41285d66b4cfcb145b.txt  \n",
            "  inflating: dataset/train/labels/meningioma_1222_jpg.rf.9b429516036c0c217d28b2f31c6a5e96.txt  \n",
            "  inflating: dataset/train/labels/meningioma_1226_jpg.rf.f41e67d851db2685d1d25dd24f66c0cb.txt  \n",
            "  inflating: dataset/train/labels/meningioma_1228_jpg.rf.41c6248102786ac9f81c7766dea2e533.txt  \n",
            "  inflating: dataset/train/labels/meningioma_1229_jpg.rf.0aa5cbaccff4748808ae2405084740d8.txt  \n",
            "  inflating: dataset/train/labels/meningioma_1231_jpg.rf.797541a0db0d6bfa39d05b5258dc1a62.txt  \n",
            "  inflating: dataset/train/labels/meningioma_1233_jpg.rf.d62273e91257dbcb25bdaac2b1cd42af.txt  \n",
            "  inflating: dataset/train/labels/meningioma_1234_jpg.rf.0c1c2a6eb11bffeb99e313f5685f9b87.txt  \n",
            "  inflating: dataset/train/labels/meningioma_1235_jpg.rf.6d4ea4c1965d6fbaeac495438bc29a62.txt  \n",
            "  inflating: dataset/train/labels/meningioma_1238_jpg.rf.aa11a97dcc906233d23146878f680035.txt  \n",
            "  inflating: dataset/train/labels/meningioma_123_jpg.rf.c29d83d98b001d6d6e7b78f54b6d49a2.txt  \n",
            "  inflating: dataset/train/labels/meningioma_1240_jpg.rf.bb1dde42e7da8408dd9c186ac62d5851.txt  \n",
            "  inflating: dataset/train/labels/meningioma_1242_jpg.rf.ddf04a2d94430995ea1db196c804f82f.txt  \n",
            "  inflating: dataset/train/labels/meningioma_1243_jpg.rf.0024eff03061b426a5f4a93cc1b539cd.txt  \n",
            "  inflating: dataset/train/labels/meningioma_1246_jpg.rf.e2f48408dbcb4e50aeecd4cc5e474810.txt  \n",
            "  inflating: dataset/train/labels/meningioma_1247_jpg.rf.00e0f4e30131a58467c0e39e9a2c116b.txt  \n",
            "  inflating: dataset/train/labels/meningioma_1248_jpg.rf.45c69bcc998b7e4017e52df239bbdf25.txt  \n",
            "  inflating: dataset/train/labels/meningioma_1249_jpg.rf.5ae9d159cbf1096b85e4ab138757395f.txt  \n",
            "  inflating: dataset/train/labels/meningioma_124_jpg.rf.8a419a96444e607f9c72a4bc201ae450.txt  \n",
            "  inflating: dataset/train/labels/meningioma_1250_jpg.rf.a13f606fa448cebff1712b9bf916612d.txt  \n",
            "  inflating: dataset/train/labels/meningioma_1253_jpg.rf.70975c6f55c4c21066457e676970e75e.txt  \n",
            "  inflating: dataset/train/labels/meningioma_1255_jpg.rf.f1ab0ba8c39a1ba9c030649227ad01f4.txt  \n",
            "  inflating: dataset/train/labels/meningioma_1256_jpg.rf.9b22b2792f72a75a8a7b76642ee9d16b.txt  \n",
            "  inflating: dataset/train/labels/meningioma_1257_jpg.rf.0d49d28de8e385dd6136991e338f717c.txt  \n",
            "  inflating: dataset/train/labels/meningioma_1260_jpg.rf.f0c19e070e97740180d65df6c38328fc.txt  \n",
            "  inflating: dataset/train/labels/meningioma_1266_jpg.rf.2d5efd21994b67cbb4c4cf9924c0f69c.txt  \n",
            "  inflating: dataset/train/labels/meningioma_1269_jpg.rf.ba78521135708aa900973fc31f1144e9.txt  \n",
            "  inflating: dataset/train/labels/meningioma_1270_jpg.rf.52292b8e1c211d973a3c1d69c5760c8a.txt  \n",
            "  inflating: dataset/train/labels/meningioma_1273_jpg.rf.12fa45977214058a757f65051de1375d.txt  \n",
            "  inflating: dataset/train/labels/meningioma_1278_jpg.rf.d27b8dbcb2956e71f0126b393b1cbce1.txt  \n",
            "  inflating: dataset/train/labels/meningioma_1280_jpg.rf.1ed02c7f20cb4cbcd709e7e327e36016.txt  \n",
            "  inflating: dataset/train/labels/meningioma_1281_jpg.rf.156dc24e062ef1db758b7923891a7474.txt  \n",
            "  inflating: dataset/train/labels/meningioma_1282_jpg.rf.99fa3552b33841ac55cc812908286092.txt  \n",
            "  inflating: dataset/train/labels/meningioma_1284_jpg.rf.13ea1ec76331a5f34ea578c65da10b34.txt  \n",
            "  inflating: dataset/train/labels/meningioma_1288_jpg.rf.10a95ee965de909a0ce88b151be0b2a5.txt  \n",
            "  inflating: dataset/train/labels/meningioma_128_jpg.rf.deb65a97938a2a7dc37a805d079be91b.txt  \n",
            "  inflating: dataset/train/labels/meningioma_1293_jpg.rf.e049b30f9e558ef58d2dd2e36efff796.txt  \n",
            "  inflating: dataset/train/labels/meningioma_1297_jpg.rf.a9a4f7f04148883e328de995b2b18a61.txt  \n",
            "  inflating: dataset/train/labels/meningioma_129_jpg.rf.02cf3f9072386c01e700156af5c8f3a1.txt  \n",
            "  inflating: dataset/train/labels/meningioma_1300_jpg.rf.1205de8340edfbe7473552dc47010138.txt  \n",
            "  inflating: dataset/train/labels/meningioma_1302_jpg.rf.10de898012e1339a4c22606b83b043b4.txt  \n",
            "  inflating: dataset/train/labels/meningioma_1304_jpg.rf.3cc1edb70fa94f01abceb8f53626f67b.txt  \n",
            "  inflating: dataset/train/labels/meningioma_1307_jpg.rf.1562868b20f5f63c07ec0c9eb9121700.txt  \n",
            "  inflating: dataset/train/labels/meningioma_1309_jpg.rf.ee481dab5fe1ae7fc95ea7e08b26c527.txt  \n",
            "  inflating: dataset/train/labels/meningioma_1314_jpg.rf.c32e34e618110632797a08297c872af6.txt  \n",
            "  inflating: dataset/train/labels/meningioma_1318_jpg.rf.c6a8e0e52fae3f2a948ece1d1763f2e9.txt  \n",
            "  inflating: dataset/train/labels/meningioma_1319_jpg.rf.51b10a74243da6bcaa41ebce7532006a.txt  \n",
            "  inflating: dataset/train/labels/meningioma_131_jpg.rf.329462423b5af575a155d8550d9a86d4.txt  \n",
            "  inflating: dataset/train/labels/meningioma_1323_jpg.rf.edfca5eda6a7b4f9f60ff05875a85e07.txt  \n",
            "  inflating: dataset/train/labels/meningioma_1325_jpg.rf.18e89aa29db803d79031b821371c4547.txt  \n",
            "  inflating: dataset/train/labels/meningioma_1327_jpg.rf.891a49425ffbef5b5bd6302460f585b7.txt  \n",
            "  inflating: dataset/train/labels/meningioma_1330_jpg.rf.02353bdbcb7627a1b4a1741b9141ef77.txt  \n",
            "  inflating: dataset/train/labels/meningioma_1334_jpg.rf.68293f534238588578159ed8a1d3fc01.txt  \n",
            "  inflating: dataset/train/labels/meningioma_1336_jpg.rf.7f86928168516cd98a36481db162a727.txt  \n",
            "  inflating: dataset/train/labels/meningioma_1337_jpg.rf.c81937fe1f8849e01b1bcd05bca0f9bb.txt  \n",
            "  inflating: dataset/train/labels/meningioma_1339_jpg.rf.12cd92a3d2c6168d417bfa9e4cb04e0f.txt  \n",
            "  inflating: dataset/train/labels/meningioma_133_jpg.rf.021d728df447ca3e72cc69e7021989cf.txt  \n",
            "  inflating: dataset/train/labels/meningioma_134_jpg.rf.974249c3aefbd2743a3134e9f4340fe8.txt  \n",
            "  inflating: dataset/train/labels/meningioma_136_jpg.rf.8491175983470b61181aad86eb939f8d.txt  \n",
            "  inflating: dataset/train/labels/meningioma_138_jpg.rf.6b7cc548f3be2b200133aaaf73d5a989.txt  \n",
            "  inflating: dataset/train/labels/meningioma_139_jpg.rf.dadc43b47996c23ec8abd05dd8a078aa.txt  \n",
            "  inflating: dataset/train/labels/meningioma_13_jpg.rf.727015dd5081c9f7bdf36ed3c332d3b0.txt  \n",
            "  inflating: dataset/train/labels/meningioma_141_jpg.rf.37375ab0537220a06979363c6e8b436f.txt  \n",
            "  inflating: dataset/train/labels/meningioma_147_jpg.rf.1bbf03ae4cebe580fa339f3085bf854b.txt  \n",
            "  inflating: dataset/train/labels/meningioma_148_jpg.rf.9c6edd3b213eac261b1f461446504426.txt  \n",
            "  inflating: dataset/train/labels/meningioma_150_jpg.rf.915d57f9d6458e1bba3a5c845c4733e4.txt  \n",
            "  inflating: dataset/train/labels/meningioma_155_jpg.rf.acfb1ac57a47166618309233d3e09e69.txt  \n",
            "  inflating: dataset/train/labels/meningioma_157_jpg.rf.95baa4a5180aafeffe6faf5835bc5640.txt  \n",
            "  inflating: dataset/train/labels/meningioma_158_jpg.rf.3b1a3d322fc03483cb5d55d34fcd06fe.txt  \n",
            "  inflating: dataset/train/labels/meningioma_15_jpg.rf.c775bc7ccfce970398cfe67992d093c0.txt  \n",
            "  inflating: dataset/train/labels/meningioma_161_jpg.rf.508b6ec1ca195f8c4cf6e18d2231c18a.txt  \n",
            "  inflating: dataset/train/labels/meningioma_164_jpg.rf.18bcc2cfacce09aeb37398bd7348338c.txt  \n",
            "  inflating: dataset/train/labels/meningioma_168_jpg.rf.635b9d1dafc64618f2c47d441d871c9c.txt  \n",
            "  inflating: dataset/train/labels/meningioma_169_jpg.rf.3496fb138a70dfd25edb4dbb8e71707b.txt  \n",
            "  inflating: dataset/train/labels/meningioma_16_jpg.rf.3b75c52fda07e7e121003a4072050f85.txt  \n",
            "  inflating: dataset/train/labels/meningioma_172_jpg.rf.83f3bee4b2b5beaba084c353a4dfbcac.txt  \n",
            "  inflating: dataset/train/labels/meningioma_174_jpg.rf.c253ac6b03709518b654cf1b846071f9.txt  \n",
            "  inflating: dataset/train/labels/meningioma_177_jpg.rf.e7ede347ec9366cd135aa5bd36114613.txt  \n",
            "  inflating: dataset/train/labels/meningioma_178_jpg.rf.e5b442aac6c5a60c61666ed825384b75.txt  \n",
            "  inflating: dataset/train/labels/meningioma_17_jpg.rf.33c492fb91cb99e37ebf159300435fb3.txt  \n",
            "  inflating: dataset/train/labels/meningioma_183_jpg.rf.b20d10aa9ae9bfc0ceb27a22dfe7a79b.txt  \n",
            "  inflating: dataset/train/labels/meningioma_185_jpg.rf.b5013a5b232b32fe0e1daa6e17db4db2.txt  \n",
            "  inflating: dataset/train/labels/meningioma_187_jpg.rf.63e58c7b1736a9c3757b1e9189626f4d.txt  \n",
            "  inflating: dataset/train/labels/meningioma_188_jpg.rf.ad553d9d0fcd6f1f07783d01dfb01c0e.txt  \n",
            "  inflating: dataset/train/labels/meningioma_189_jpg.rf.41e99170113b9892ffc42d2040231ad3.txt  \n",
            "  inflating: dataset/train/labels/meningioma_190_jpg.rf.906cfd2d2b77ca580dfa533136bfd3d6.txt  \n",
            "  inflating: dataset/train/labels/meningioma_193_jpg.rf.cd3c98530272aa6d76dde14b5d616170.txt  \n",
            "  inflating: dataset/train/labels/meningioma_194_jpg.rf.864f7369d244ae80533620bf0b7da929.txt  \n",
            "  inflating: dataset/train/labels/meningioma_195_jpg.rf.5da508c5656d120630a308e8b43e8f31.txt  \n",
            "  inflating: dataset/train/labels/meningioma_196_jpg.rf.0d1f270cff963f8af36775e06432849e.txt  \n",
            "  inflating: dataset/train/labels/meningioma_1_jpg.rf.8fe63137629c18c074aaabfb2a3e894b.txt  \n",
            "  inflating: dataset/train/labels/meningioma_201_jpg.rf.409fa0316610f1968bcde41bd4fdde82.txt  \n",
            "  inflating: dataset/train/labels/meningioma_203_jpg.rf.ea11dc83894c1cd9262ca4d2f1854c40.txt  \n",
            "  inflating: dataset/train/labels/meningioma_206_jpg.rf.9882ab4219a33378e9c675ce3bbec31e.txt  \n",
            "  inflating: dataset/train/labels/meningioma_207_jpg.rf.ec599da579dc73bfd4ec3df0f38ad3ea.txt  \n",
            "  inflating: dataset/train/labels/meningioma_208_jpg.rf.bb4e862db738cdae1cc9735e19d325f9.txt  \n",
            "  inflating: dataset/train/labels/meningioma_212_jpg.rf.6c87b0e325bd617d8ed1c66ac7b51ed7.txt  \n",
            "  inflating: dataset/train/labels/meningioma_214_jpg.rf.58765a6eda9a22c4c5f72441afcffe16.txt  \n",
            "  inflating: dataset/train/labels/meningioma_21_jpg.rf.3ace59adf69f17644279d0b596137f15.txt  \n",
            "  inflating: dataset/train/labels/meningioma_221_jpg.rf.44c1c392df7f6dcaa653659e2795cd16.txt  \n",
            "  inflating: dataset/train/labels/meningioma_222_jpg.rf.bf76ef8786bdbe5ab070a12f63e910ec.txt  \n",
            "  inflating: dataset/train/labels/meningioma_223_jpg.rf.7755bf1b15746ddda3a67acee86065a4.txt  \n",
            "  inflating: dataset/train/labels/meningioma_225_jpg.rf.9522022bbfd91e2a307e855ac319cf27.txt  \n",
            "  inflating: dataset/train/labels/meningioma_227_jpg.rf.4a7a3e2651fd45c158c3e68964d11b9c.txt  \n",
            "  inflating: dataset/train/labels/meningioma_229_jpg.rf.6d5f3567ad234507f8f06db5ef936904.txt  \n",
            "  inflating: dataset/train/labels/meningioma_233_jpg.rf.562fc7538b29b3e4bbbcd93914b6184a.txt  \n",
            "  inflating: dataset/train/labels/meningioma_234_jpg.rf.0915b44eb766c431160ad46afd99459b.txt  \n",
            "  inflating: dataset/train/labels/meningioma_236_jpg.rf.d0a91e9cf09e27f767732c6a048d5cf4.txt  \n",
            "  inflating: dataset/train/labels/meningioma_242_jpg.rf.bb47982bb3a184a34afaa4af3f515297.txt  \n",
            "  inflating: dataset/train/labels/meningioma_243_jpg.rf.4747fd8e9adea5a5e441a25e9766e79f.txt  \n",
            "  inflating: dataset/train/labels/meningioma_244_jpg.rf.e970a39499aa75aa0489214377c629bb.txt  \n",
            "  inflating: dataset/train/labels/meningioma_245_jpg.rf.54a22411ef95106132d6b451b999f237.txt  \n",
            "  inflating: dataset/train/labels/meningioma_248_jpg.rf.fe0cf0a2c04f7908bd73bd4b02e4b593.txt  \n",
            "  inflating: dataset/train/labels/meningioma_24_jpg.rf.d073867a8955cd6b216dd7aeb2cef01f.txt  \n",
            "  inflating: dataset/train/labels/meningioma_251_jpg.rf.145a2002914f88da42e14d95530f0d40.txt  \n",
            "  inflating: dataset/train/labels/meningioma_25_jpg.rf.3859c503774a53bb0c6b5b9349562c6a.txt  \n",
            "  inflating: dataset/train/labels/meningioma_263_jpg.rf.70ea095866132fa8c4c048652b93160d.txt  \n",
            "  inflating: dataset/train/labels/meningioma_265_jpg.rf.5a36f83e627e6671d5fdbe3b7350f507.txt  \n",
            "  inflating: dataset/train/labels/meningioma_267_jpg.rf.c0d24862e06bde52ce0edc7bcc1ccdb0.txt  \n",
            "  inflating: dataset/train/labels/meningioma_268_jpg.rf.07f94afad2493d6b141167b69db8872e.txt  \n",
            "  inflating: dataset/train/labels/meningioma_269_jpg.rf.f4edec265e7781710c266b9f18689699.txt  \n",
            "  inflating: dataset/train/labels/meningioma_26_jpg.rf.1981aadadf8d535dd33976028033af2f.txt  \n",
            "  inflating: dataset/train/labels/meningioma_273_jpg.rf.4f3ebc5e793c8df72fa7e3f2a6ab4300.txt  \n",
            "  inflating: dataset/train/labels/meningioma_276_jpg.rf.f323a2ceb3ad7b4aa1035c79703b484d.txt  \n",
            "  inflating: dataset/train/labels/meningioma_278_jpg.rf.906e83c42f513908e0900c8e9a7d0c96.txt  \n",
            "  inflating: dataset/train/labels/meningioma_279_jpg.rf.e860a0c1bf6f9ec8620c7acf49275b51.txt  \n",
            "  inflating: dataset/train/labels/meningioma_280_jpg.rf.d16ce0cd86f7e265c2855bcec0ba02dc.txt  \n",
            "  inflating: dataset/train/labels/meningioma_282_jpg.rf.1811919494221b71a1588d2369276964.txt  \n",
            "  inflating: dataset/train/labels/meningioma_285_jpg.rf.7ca8f304a112af21e3be1a85ff7013c2.txt  \n",
            "  inflating: dataset/train/labels/meningioma_287_jpg.rf.529be63aca7c413145676b931780dd5a.txt  \n",
            "  inflating: dataset/train/labels/meningioma_288_jpg.rf.b74605bf97d174a49dd10f4b8eac6f61.txt  \n",
            "  inflating: dataset/train/labels/meningioma_28_jpg.rf.5740a4a22b8762f5a72b269492ab7fa4.txt  \n",
            "  inflating: dataset/train/labels/meningioma_291_jpg.rf.67a09bb39c59f41619642204571e81e9.txt  \n",
            "  inflating: dataset/train/labels/meningioma_293_jpg.rf.a778044b24dee6cb4185db5940e68f45.txt  \n",
            "  inflating: dataset/train/labels/meningioma_294_jpg.rf.00a8bb2e998110e2e598b32410f39c36.txt  \n",
            "  inflating: dataset/train/labels/meningioma_295_jpg.rf.ecfaa49157a1d1af65a80a1e4f3de438.txt  \n",
            "  inflating: dataset/train/labels/meningioma_296_jpg.rf.e05cac0bfbbb945d3085883297be7250.txt  \n",
            "  inflating: dataset/train/labels/meningioma_298_jpg.rf.b5ac77f011d2981a009a80aad06b7698.txt  \n",
            "  inflating: dataset/train/labels/meningioma_29_jpg.rf.825107bd32c60b88179abca3df1f2626.txt  \n",
            "  inflating: dataset/train/labels/meningioma_303_jpg.rf.45ab9e2c08f02f6b0b3c3b603849533e.txt  \n",
            "  inflating: dataset/train/labels/meningioma_305_jpg.rf.9e09718f7740bb58ca86ca2cb326ae19.txt  \n",
            "  inflating: dataset/train/labels/meningioma_307_jpg.rf.8143061fb57344c2c378054537a0a684.txt  \n",
            "  inflating: dataset/train/labels/meningioma_308_jpg.rf.69600117582e60b8e7cf3652c3f8723c.txt  \n",
            "  inflating: dataset/train/labels/meningioma_309_jpg.rf.6742ac5df60d2958e7c477983331edeb.txt  \n",
            "  inflating: dataset/train/labels/meningioma_310_jpg.rf.324dc73989291cfcacf2f7ff6f1f9b71.txt  \n",
            "  inflating: dataset/train/labels/meningioma_312_jpg.rf.556f795ceb5e9714556ad461c6ee13cc.txt  \n",
            "  inflating: dataset/train/labels/meningioma_315_jpg.rf.1558af67cab54d586b4e13360f744f4e.txt  \n",
            "  inflating: dataset/train/labels/meningioma_316_jpg.rf.0c8dc01bd2d691310062457ae79ff838.txt  \n",
            "  inflating: dataset/train/labels/meningioma_318_jpg.rf.497f2dcaefcfdfe088110cffe3a48de1.txt  \n",
            "  inflating: dataset/train/labels/meningioma_319_jpg.rf.9cc88ece353c5431b9f49d7ed6c83ad1.txt  \n",
            "  inflating: dataset/train/labels/meningioma_321_jpg.rf.b1cfa7c615784cba70af554d007661e6.txt  \n",
            "  inflating: dataset/train/labels/meningioma_324_jpg.rf.83f214ddcbd720384a07b055b2bf80f8.txt  \n",
            "  inflating: dataset/train/labels/meningioma_325_jpg.rf.cecf06691481e910dde208a823f0d390.txt  \n",
            "  inflating: dataset/train/labels/meningioma_32_jpg.rf.285d8b29222db9307c04425a78c79906.txt  \n",
            "  inflating: dataset/train/labels/meningioma_330_jpg.rf.107d9e0f4a751aec4daa7dfd7bf00651.txt  \n",
            "  inflating: dataset/train/labels/meningioma_331_jpg.rf.c123e69b071dd856fd282204f9ec4e36.txt  \n",
            "  inflating: dataset/train/labels/meningioma_335_jpg.rf.12da04a9c19ee36f151374f3ac713c00.txt  \n",
            "  inflating: dataset/train/labels/meningioma_339_jpg.rf.cff4058c77d39aed72094f2e4e8379c9.txt  \n",
            "  inflating: dataset/train/labels/meningioma_342_jpg.rf.30a0372c2bafc1ec4a44fb86c84c1595.txt  \n",
            "  inflating: dataset/train/labels/meningioma_343_jpg.rf.8088aa8dac38e2d92a21c145367ed44f.txt  \n",
            "  inflating: dataset/train/labels/meningioma_346_jpg.rf.af45eb1c56f185c1b4fce658d886cb91.txt  \n",
            "  inflating: dataset/train/labels/meningioma_347_jpg.rf.86020889954b4fd005848f8754283ac6.txt  \n",
            "  inflating: dataset/train/labels/meningioma_348_jpg.rf.25efab9a82aaf1259c0f26f7099043ef.txt  \n",
            "  inflating: dataset/train/labels/meningioma_352_jpg.rf.213b1364407537a1d99b40f6dac769e6.txt  \n",
            "  inflating: dataset/train/labels/meningioma_353_jpg.rf.4215a46028d3e38d036b938e9e354f36.txt  \n",
            "  inflating: dataset/train/labels/meningioma_354_jpg.rf.d1dd20379826d7f54c46dcaac8eafc7b.txt  \n",
            "  inflating: dataset/train/labels/meningioma_355_jpg.rf.239a9f8e75698f9fbc93ab2fc445a9e0.txt  \n",
            "  inflating: dataset/train/labels/meningioma_357_jpg.rf.10be996a2e3eccdc6053635c56dbc251.txt  \n",
            "  inflating: dataset/train/labels/meningioma_35_jpg.rf.7c99aa29547ebcb3a8cb8a78c95ad76a.txt  \n",
            "  inflating: dataset/train/labels/meningioma_368_jpg.rf.9d74c6881f81c543b1c9a5cef74a6537.txt  \n",
            "  inflating: dataset/train/labels/meningioma_369_jpg.rf.d25fc9f492912f89e7238146037486ae.txt  \n",
            "  inflating: dataset/train/labels/meningioma_36_jpg.rf.996bfe8810804c5883a07d7490228fc7.txt  \n",
            "  inflating: dataset/train/labels/meningioma_371_jpg.rf.6ed100fc09c2a6066a7a698a7a861797.txt  \n",
            "  inflating: dataset/train/labels/meningioma_373_jpg.rf.354639fefd78a22876823d0bf7a6f6fd.txt  \n",
            "  inflating: dataset/train/labels/meningioma_375_jpg.rf.380d15275cfa0e4d376525ae9c86a507.txt  \n",
            "  inflating: dataset/train/labels/meningioma_376_jpg.rf.6827fa15d7a0b9c9cd36899d88322bdb.txt  \n",
            "  inflating: dataset/train/labels/meningioma_37_jpg.rf.b2a0ecc4fada033eaa5ee146a455199a.txt  \n",
            "  inflating: dataset/train/labels/meningioma_380_jpg.rf.652b62b36dab539852cff2f08c8a5393.txt  \n",
            "  inflating: dataset/train/labels/meningioma_383_jpg.rf.fe267a92271133c9b424231cc42a4d75.txt  \n",
            "  inflating: dataset/train/labels/meningioma_384_jpg.rf.1156717de547acc9888b45144028e2f3.txt  \n",
            "  inflating: dataset/train/labels/meningioma_386_jpg.rf.837a2af568f580f346a797f1bd5015cc.txt  \n",
            "  inflating: dataset/train/labels/meningioma_387_jpg.rf.c3679e9a4edb18beff1a99e34d3ae1ac.txt  \n",
            "  inflating: dataset/train/labels/meningioma_389_jpg.rf.adc59025d8dcaf58d6282ece4b441894.txt  \n",
            "  inflating: dataset/train/labels/meningioma_38_jpg.rf.22795e9373a4bd458b54a3de93be2f5e.txt  \n",
            "  inflating: dataset/train/labels/meningioma_390_jpg.rf.c5b1c9b2922f764d06855e61fc5c58c3.txt  \n",
            "  inflating: dataset/train/labels/meningioma_391_jpg.rf.c05273c79dfe211092dbc147bc57f96c.txt  \n",
            "  inflating: dataset/train/labels/meningioma_392_jpg.rf.a7e384c4a7b1146a935811a2c04e47b4.txt  \n",
            "  inflating: dataset/train/labels/meningioma_393_jpg.rf.c0dcd6a2fc9b23f09b0b84434e1b9d2c.txt  \n",
            "  inflating: dataset/train/labels/meningioma_394_jpg.rf.4ca21de47040fe0b43602f04a53ea7a2.txt  \n",
            "  inflating: dataset/train/labels/meningioma_398_jpg.rf.f303a581bba88e387c4a1ab8dbbdd418.txt  \n",
            "  inflating: dataset/train/labels/meningioma_3_jpg.rf.3d6ab426da351985af9403198a44e6f0.txt  \n",
            "  inflating: dataset/train/labels/meningioma_401_jpg.rf.e82a83f493a3fdbb2c7f4ec1fb0c9397.txt  \n",
            "  inflating: dataset/train/labels/meningioma_404_jpg.rf.ba25e246493ae95304b44879ab3b0993.txt  \n",
            "  inflating: dataset/train/labels/meningioma_409_jpg.rf.0d2497cdc7a5fafcdf8bf31fe8ad6187.txt  \n",
            "  inflating: dataset/train/labels/meningioma_40_jpg.rf.7ad694be151e1fa090b4a3fbd76ebd19.txt  \n",
            "  inflating: dataset/train/labels/meningioma_410_jpg.rf.ff44de7d5514fa24f683f3fbdc2ddea2.txt  \n",
            "  inflating: dataset/train/labels/meningioma_412_jpg.rf.e9cb10656771b59ce7c885fd2bfb6665.txt  \n",
            "  inflating: dataset/train/labels/meningioma_413_jpg.rf.0b5e8a0df6f7e0d1078df73df40a5282.txt  \n",
            "  inflating: dataset/train/labels/meningioma_414_jpg.rf.c45065060612ffb5230efc91b8a37077.txt  \n",
            "  inflating: dataset/train/labels/meningioma_415_jpg.rf.8960d1e0deb57ffc78750398cb7410f5.txt  \n",
            "  inflating: dataset/train/labels/meningioma_416_jpg.rf.866c061a7ee26cf195ca2da8ca8c1bbb.txt  \n",
            "  inflating: dataset/train/labels/meningioma_417_jpg.rf.5700fd5fe6db8ff5c5d04ea89f2c725f.txt  \n",
            "  inflating: dataset/train/labels/meningioma_422_jpg.rf.64309a5daa9377b99e71a899a5df1545.txt  \n",
            "  inflating: dataset/train/labels/meningioma_424_jpg.rf.6e971bda062dbe09e62cc3939de38b3f.txt  \n",
            "  inflating: dataset/train/labels/meningioma_427_jpg.rf.912d9eb73f6ae6d1019c74b3b8354217.txt  \n",
            "  inflating: dataset/train/labels/meningioma_428_jpg.rf.161b483f1c43282a19796f3db11ba607.txt  \n",
            "  inflating: dataset/train/labels/meningioma_429_jpg.rf.0d5ef81bd8b9fdd961db041d8946521d.txt  \n",
            "  inflating: dataset/train/labels/meningioma_42_jpg.rf.df463390abf4bbd6c6247719aa9f343e.txt  \n",
            "  inflating: dataset/train/labels/meningioma_433_jpg.rf.cc9be7ad738961f244c51f16f48e0952.txt  \n",
            "  inflating: dataset/train/labels/meningioma_434_jpg.rf.41d1adce2e2d5db119a6c77cc817431c.txt  \n",
            "  inflating: dataset/train/labels/meningioma_436_jpg.rf.9e2e85a0b53904aa65f8228572b35c0d.txt  \n",
            "  inflating: dataset/train/labels/meningioma_439_jpg.rf.cd2b2f184edf026b7af7d9bbfbcb01ea.txt  \n",
            "  inflating: dataset/train/labels/meningioma_444_jpg.rf.559f84664eb2667a915cc1d2b04b6a35.txt  \n",
            "  inflating: dataset/train/labels/meningioma_446_jpg.rf.586ea523102745fbd6d7d19556a4f4a9.txt  \n",
            "  inflating: dataset/train/labels/meningioma_448_jpg.rf.1624fad6647f76ff99bbe9525307fb12.txt  \n",
            "  inflating: dataset/train/labels/meningioma_449_jpg.rf.8add6f9e9b0a0427a42f614fa15f4873.txt  \n",
            "  inflating: dataset/train/labels/meningioma_44_jpg.rf.d68bafeba821518a369f13fd8cdb6352.txt  \n",
            "  inflating: dataset/train/labels/meningioma_453_jpg.rf.2fd2488ba079b893c3bb2b3d3781169d.txt  \n",
            "  inflating: dataset/train/labels/meningioma_45_jpg.rf.2d368d1eba2e3ea378de1c0d80a69384.txt  \n",
            "  inflating: dataset/train/labels/meningioma_460_jpg.rf.0faac894ebf5dec9e5112ced6dc5bbb2.txt  \n",
            "  inflating: dataset/train/labels/meningioma_464_jpg.rf.72b9f6a7351545cdf5398bcad1c048db.txt  \n",
            "  inflating: dataset/train/labels/meningioma_466_jpg.rf.59370219c28541ae27c863a2a39e37d3.txt  \n",
            "  inflating: dataset/train/labels/meningioma_46_jpg.rf.259eebd958cd27bed31605e0c64f2f20.txt  \n",
            "  inflating: dataset/train/labels/meningioma_472_jpg.rf.d44d687ede2de30583e62debe2da1b3e.txt  \n",
            "  inflating: dataset/train/labels/meningioma_473_jpg.rf.064ae57ceafe17ae32c5e4b6792bac84.txt  \n",
            "  inflating: dataset/train/labels/meningioma_474_jpg.rf.3489d5edbb9f106b58990bec025051c4.txt  \n",
            "  inflating: dataset/train/labels/meningioma_476_jpg.rf.ac008da4fff8d67aa78155ae1559070d.txt  \n",
            "  inflating: dataset/train/labels/meningioma_477_jpg.rf.44cfb7a6c54822440200eded86616949.txt  \n",
            "  inflating: dataset/train/labels/meningioma_480_jpg.rf.b6fd52131c70a1432cf16cd5e85a66d7.txt  \n",
            "  inflating: dataset/train/labels/meningioma_482_jpg.rf.04fa49e7085ab5dde5a0a4a1bc568640.txt  \n",
            "  inflating: dataset/train/labels/meningioma_483_jpg.rf.6743ebb5c74f7bdc9dc9621091b3289e.txt  \n",
            "  inflating: dataset/train/labels/meningioma_484_jpg.rf.b0dacc7c4c7d73ebaf772cea4de6c25f.txt  \n",
            "  inflating: dataset/train/labels/meningioma_488_jpg.rf.be14c24d736712fc769e96c3dc43a9b5.txt  \n",
            "  inflating: dataset/train/labels/meningioma_489_jpg.rf.37968ddddd2f75afc081ab00dde4b5f7.txt  \n",
            "  inflating: dataset/train/labels/meningioma_48_jpg.rf.da899f1a3060508acbeb2337243a27e2.txt  \n",
            "  inflating: dataset/train/labels/meningioma_490_jpg.rf.6092ab74f399ae350d9849c8cdd7f9c7.txt  \n",
            "  inflating: dataset/train/labels/meningioma_491_jpg.rf.be7be58f14d635bfb1ab62f692fa769b.txt  \n",
            "  inflating: dataset/train/labels/meningioma_493_jpg.rf.5edb6c24fcbc2ed7b03ae367dfcb8310.txt  \n",
            "  inflating: dataset/train/labels/meningioma_494_jpg.rf.6aeec65410ac017d0e8c5976fce0240d.txt  \n",
            "  inflating: dataset/train/labels/meningioma_502_jpg.rf.c6df0ca015dbbe0d5e7633f9c0d182ee.txt  \n",
            "  inflating: dataset/train/labels/meningioma_507_jpg.rf.3ab0fbe484326ef59f316b41b30d9efa.txt  \n",
            "  inflating: dataset/train/labels/meningioma_50_jpg.rf.721cdea6a4bd1e234b5c4c8d1193e4ca.txt  \n",
            "  inflating: dataset/train/labels/meningioma_513_jpg.rf.9ccd3e3625158e49d46d039ad5808006.txt  \n",
            "  inflating: dataset/train/labels/meningioma_514_jpg.rf.08f3be6e13bf87f0076d19fd9d664713.txt  \n",
            "  inflating: dataset/train/labels/meningioma_515_jpg.rf.d9184003696ba2a2afbff43d9c3dcdd3.txt  \n",
            "  inflating: dataset/train/labels/meningioma_517_jpg.rf.10c6b3b1eaec17a29c6747d5d7ff1d64.txt  \n",
            "  inflating: dataset/train/labels/meningioma_518_jpg.rf.299c80c7b531ee4bc9516f9d56b9d8a6.txt  \n",
            "  inflating: dataset/train/labels/meningioma_519_jpg.rf.27dd49fc9a19ce97581a27273a6d1221.txt  \n",
            "  inflating: dataset/train/labels/meningioma_520_jpg.rf.7fbfefe2feacebd4d94756793fc247c8.txt  \n",
            "  inflating: dataset/train/labels/meningioma_521_jpg.rf.853bd92eb03865e2659557a1711049ed.txt  \n",
            "  inflating: dataset/train/labels/meningioma_522_jpg.rf.0c38e3e33969438df0c18f91c110f383.txt  \n",
            "  inflating: dataset/train/labels/meningioma_523_jpg.rf.517e6cbcb701c14604ae34affef7c00c.txt  \n",
            "  inflating: dataset/train/labels/meningioma_524_jpg.rf.a311e8b2041f1fb8c56c2c2802051b9f.txt  \n",
            "  inflating: dataset/train/labels/meningioma_526_jpg.rf.98e109530bc9b3ede3d6e6cd4a06050e.txt  \n",
            "  inflating: dataset/train/labels/meningioma_528_jpg.rf.c6ccc990406c8012aaaa3c50c95f6d67.txt  \n",
            "  inflating: dataset/train/labels/meningioma_529_jpg.rf.a6ea6dcd0a7c56497af0ec165691ab54.txt  \n",
            "  inflating: dataset/train/labels/meningioma_52_jpg.rf.4a8391d57ddb2c67dc8d98451864097d.txt  \n",
            "  inflating: dataset/train/labels/meningioma_533_jpg.rf.e7f45a29603110012328144c889cfe92.txt  \n",
            "  inflating: dataset/train/labels/meningioma_534_jpg.rf.c365b24bcbf97d11d9e4f4455d01ee21.txt  \n",
            "  inflating: dataset/train/labels/meningioma_538_jpg.rf.91e4e9efdf3e2b632698f6440151bf76.txt  \n",
            "  inflating: dataset/train/labels/meningioma_539_jpg.rf.e4c5df4d0671e681b399e45e61d4c045.txt  \n",
            "  inflating: dataset/train/labels/meningioma_540_jpg.rf.c7dba9ffd13a4576620ef3aeb2b60ea8.txt  \n",
            "  inflating: dataset/train/labels/meningioma_541_jpg.rf.c1db947b3ecf13b05b7b3835311108d4.txt  \n",
            "  inflating: dataset/train/labels/meningioma_542_jpg.rf.92dd64a6a4b2245e6093bcc5ce499996.txt  \n",
            "  inflating: dataset/train/labels/meningioma_543_jpg.rf.e11bae3ffd29e3d4d0394811c4dab3d3.txt  \n",
            "  inflating: dataset/train/labels/meningioma_544_jpg.rf.4f027eb4b90a9d8ce0b3d0370b2d0ee8.txt  \n",
            "  inflating: dataset/train/labels/meningioma_547_jpg.rf.ce87498c81d59d6499864d02df593180.txt  \n",
            "  inflating: dataset/train/labels/meningioma_54_jpg.rf.1dd6aae7268ff34d84f1f68345d76d55.txt  \n",
            "  inflating: dataset/train/labels/meningioma_550_jpg.rf.ca4731d8127acac06e1dea56d5435e81.txt  \n",
            "  inflating: dataset/train/labels/meningioma_559_jpg.rf.3029834e51a6d167b8e6748b5568f9a2.txt  \n",
            "  inflating: dataset/train/labels/meningioma_55_jpg.rf.ef13fdd7d8b8b5c722d124c14792f38c.txt  \n",
            "  inflating: dataset/train/labels/meningioma_561_jpg.rf.544bf3fac642cba5ff23b9ec6f8fa39d.txt  \n",
            "  inflating: dataset/train/labels/meningioma_563_jpg.rf.59a3d1f3acc64eb02c78fc903dfb0131.txt  \n",
            "  inflating: dataset/train/labels/meningioma_564_jpg.rf.b6b6cf99462359a70869fe1bb7fa9fa6.txt  \n",
            "  inflating: dataset/train/labels/meningioma_567_jpg.rf.a077d99c54ffc0d725d9c939a64ce443.txt  \n",
            "  inflating: dataset/train/labels/meningioma_568_jpg.rf.da5760c7a2646e5b13017db24de54fc0.txt  \n",
            "  inflating: dataset/train/labels/meningioma_56_jpg.rf.809e46b330e6d1e7c74a8b41330f8f6b.txt  \n",
            "  inflating: dataset/train/labels/meningioma_570_jpg.rf.c130b179632a9532bb06613135c32198.txt  \n",
            "  inflating: dataset/train/labels/meningioma_574_jpg.rf.4ca0e76d06d797a8c04c8fd1ba93920c.txt  \n",
            "  inflating: dataset/train/labels/meningioma_576_jpg.rf.a80c7eb8b77fd82159b02c1e1016302e.txt  \n",
            "  inflating: dataset/train/labels/meningioma_579_jpg.rf.a7c1d0c81b19c57993e14a81467a476c.txt  \n",
            "  inflating: dataset/train/labels/meningioma_581_jpg.rf.4bd38adddc1dd0fbb79a50fe5b8e5ae2.txt  \n",
            "  inflating: dataset/train/labels/meningioma_584_jpg.rf.3d0ed1863e116fea7147a0411f1bab22.txt  \n",
            "  inflating: dataset/train/labels/meningioma_585_jpg.rf.5df72b5d661e615e520bf19ed05752f1.txt  \n",
            "  inflating: dataset/train/labels/meningioma_586_jpg.rf.c6df8e1a1d04176dd3e40a189f302541.txt  \n",
            "  inflating: dataset/train/labels/meningioma_588_jpg.rf.2b39f2bd67146ad3088d621a41d0a05e.txt  \n",
            "  inflating: dataset/train/labels/meningioma_589_jpg.rf.fda7c1b1ed0f72c6d6a9481f18456800.txt  \n",
            "  inflating: dataset/train/labels/meningioma_58_jpg.rf.c8da92b3031d934b3a6d1f5112ceb8a9.txt  \n",
            "  inflating: dataset/train/labels/meningioma_591_jpg.rf.1b4d49fb2b304dcd2b55198a822cbf4c.txt  \n",
            "  inflating: dataset/train/labels/meningioma_595_jpg.rf.f15dadf0809ff36a66a0c8033e9bbf55.txt  \n",
            "  inflating: dataset/train/labels/meningioma_596_jpg.rf.2bd3b511718f9c6ee0d6f6d7412bcdca.txt  \n",
            "  inflating: dataset/train/labels/meningioma_59_jpg.rf.7bf46225ac5d454cd6dffd88c0f87292.txt  \n",
            "  inflating: dataset/train/labels/meningioma_600_jpg.rf.bcfce2eb6680e0d3cef1551d7b220d17.txt  \n",
            "  inflating: dataset/train/labels/meningioma_602_jpg.rf.b3e6e4fd5cead908876400224522aa10.txt  \n",
            "  inflating: dataset/train/labels/meningioma_604_jpg.rf.fdde13d8bcbcc37cf77dddac72ea4473.txt  \n",
            "  inflating: dataset/train/labels/meningioma_607_jpg.rf.b71b24fb77c564166eb943d15cd4227d.txt  \n",
            "  inflating: dataset/train/labels/meningioma_609_jpg.rf.21581131a9d2e16d620e817ef8c7b45a.txt  \n",
            "  inflating: dataset/train/labels/meningioma_60_jpg.rf.a47faa6b698489797b47f30b2843c808.txt  \n",
            "  inflating: dataset/train/labels/meningioma_610_jpg.rf.71aea8f2dade25d544127c39f9ffa853.txt  \n",
            "  inflating: dataset/train/labels/meningioma_611_jpg.rf.778b7a643288d48813a2e60816f4984b.txt  \n",
            "  inflating: dataset/train/labels/meningioma_612_jpg.rf.5738942da01398e9ef50f2af4c2b6abc.txt  \n",
            "  inflating: dataset/train/labels/meningioma_613_jpg.rf.6e9fb5591584d14420eac5bc1de48fb1.txt  \n",
            "  inflating: dataset/train/labels/meningioma_619_jpg.rf.af5f2dfb03ff7e55d859f594d46e3fb4.txt  \n",
            "  inflating: dataset/train/labels/meningioma_61_jpg.rf.2ccd18e873063f2ed8d54852e9f66835.txt  \n",
            "  inflating: dataset/train/labels/meningioma_620_jpg.rf.af565f7c3124996c1d9594651cfaa4b6.txt  \n",
            "  inflating: dataset/train/labels/meningioma_621_jpg.rf.b758e3cf7da80d29c16e6dff067cc8d5.txt  \n",
            "  inflating: dataset/train/labels/meningioma_624_jpg.rf.cbc39b6ccc13403b879e6bd5da8ac1c8.txt  \n",
            "  inflating: dataset/train/labels/meningioma_628_jpg.rf.da955dca643c52e3d4a4f329f3d37691.txt  \n",
            "  inflating: dataset/train/labels/meningioma_62_jpg.rf.23ac77d0e5264c24c31a81aaffe72da1.txt  \n",
            "  inflating: dataset/train/labels/meningioma_632_jpg.rf.dd4d5f3b65a708524ef06243820fcfc7.txt  \n",
            "  inflating: dataset/train/labels/meningioma_634_jpg.rf.cd9e521055f68556b8f9a9ea93728570.txt  \n",
            "  inflating: dataset/train/labels/meningioma_635_jpg.rf.e7958e76d41287c740310856504b0d09.txt  \n",
            "  inflating: dataset/train/labels/meningioma_638_jpg.rf.63183096ef023fd6179343f832e5b918.txt  \n",
            "  inflating: dataset/train/labels/meningioma_63_jpg.rf.09d8adece431eaa739db4cd3fa47f681.txt  \n",
            "  inflating: dataset/train/labels/meningioma_642_jpg.rf.09043d103ae2772f37af631bcd68d68b.txt  \n",
            "  inflating: dataset/train/labels/meningioma_643_jpg.rf.f1067b5da9fdf37eebfe7428ede57db9.txt  \n",
            "  inflating: dataset/train/labels/meningioma_644_jpg.rf.93b14cb013900c51110739a4f35aed5a.txt  \n",
            "  inflating: dataset/train/labels/meningioma_649_jpg.rf.59cc37b24e1f372295b7c48fac71bf1d.txt  \n",
            "  inflating: dataset/train/labels/meningioma_64_jpg.rf.b86f2a96ab8c4293e2ceb0fdbb133b31.txt  \n",
            "  inflating: dataset/train/labels/meningioma_650_jpg.rf.38720ae0943d811da766d773196f79d7.txt  \n",
            "  inflating: dataset/train/labels/meningioma_654_jpg.rf.404dce2eaf6f78e861d07817c3b35726.txt  \n",
            "  inflating: dataset/train/labels/meningioma_655_jpg.rf.cf9d5d2a5864514a6ad7a2242a5dc5b7.txt  \n",
            "  inflating: dataset/train/labels/meningioma_656_jpg.rf.8dd8eac691401cc5e8034bcdb6c17947.txt  \n",
            "  inflating: dataset/train/labels/meningioma_657_jpg.rf.f7be9f7383153fc39c77db5d4cc6d494.txt  \n",
            "  inflating: dataset/train/labels/meningioma_662_jpg.rf.d4f24820353a5f90136f3af5fc78abe1.txt  \n",
            "  inflating: dataset/train/labels/meningioma_663_jpg.rf.b2eda9c3f28966f572db633e17e208e7.txt  \n",
            "  inflating: dataset/train/labels/meningioma_664_jpg.rf.ff9460f4f6c62598a5aee99e4d8c37fb.txt  \n",
            "  inflating: dataset/train/labels/meningioma_665_jpg.rf.7056b93302386a73501f7bb6ff942e86.txt  \n",
            "  inflating: dataset/train/labels/meningioma_670_jpg.rf.9c4266b8cfdf1bc50f734cbe3bd3001e.txt  \n",
            "  inflating: dataset/train/labels/meningioma_676_jpg.rf.417d404a992e4b8c747988d47c2c187d.txt  \n",
            "  inflating: dataset/train/labels/meningioma_677_jpg.rf.533e48c81a54f8bb29c2015e3b47fdad.txt  \n",
            "  inflating: dataset/train/labels/meningioma_679_jpg.rf.f458e94fa924d231104129922eba2c88.txt  \n",
            "  inflating: dataset/train/labels/meningioma_67_jpg.rf.cf0e297102a253cf6dec00388ddc0dbd.txt  \n",
            "  inflating: dataset/train/labels/meningioma_680_jpg.rf.475d66392704f6dd55109b35b1ef83d0.txt  \n",
            "  inflating: dataset/train/labels/meningioma_682_jpg.rf.6c46b2c43697cb3e5ca427fe271b97b8.txt  \n",
            "  inflating: dataset/train/labels/meningioma_687_jpg.rf.5473cc1be3fcdf393453a61818b59489.txt  \n",
            "  inflating: dataset/train/labels/meningioma_689_jpg.rf.f4110e21ea8ba8fdd8b2a45a6127a7c6.txt  \n",
            "  inflating: dataset/train/labels/meningioma_691_jpg.rf.bdb3a062031fa746e4b1a2a169b623cd.txt  \n",
            "  inflating: dataset/train/labels/meningioma_693_jpg.rf.8d77500198a65eae38bcf876f27db18a.txt  \n",
            "  inflating: dataset/train/labels/meningioma_695_jpg.rf.e887b2b087c43c663ead6aeb47cdd2cd.txt  \n",
            "  inflating: dataset/train/labels/meningioma_697_jpg.rf.6a0d07ddc26f2bb36cfae5b191fa355e.txt  \n",
            "  inflating: dataset/train/labels/meningioma_6_jpg.rf.603953160e491ab150a61d29f46b19ba.txt  \n",
            "  inflating: dataset/train/labels/meningioma_703_jpg.rf.fa5de94af7d0569d7fc7378d9e8989cb.txt  \n",
            "  inflating: dataset/train/labels/meningioma_705_jpg.rf.b959b9d793a44ce971728270d18a65f9.txt  \n",
            "  inflating: dataset/train/labels/meningioma_706_jpg.rf.356d881738b9c3dae8217173a2fdb6fb.txt  \n",
            "  inflating: dataset/train/labels/meningioma_707_jpg.rf.45ba1e9cd6b073aacc11936ced9d3564.txt  \n",
            "  inflating: dataset/train/labels/meningioma_710_jpg.rf.1bba5ad4daee6917d9520f832a0986db.txt  \n",
            "  inflating: dataset/train/labels/meningioma_711_jpg.rf.924f1f4a9927e0df7cdb4c153f1807a3.txt  \n",
            "  inflating: dataset/train/labels/meningioma_715_jpg.rf.8484cbfc38f4634be33682c7b5689447.txt  \n",
            "  inflating: dataset/train/labels/meningioma_721_jpg.rf.05fe462c247fc4420215c6bb81f2dee3.txt  \n",
            "  inflating: dataset/train/labels/meningioma_722_jpg.rf.3c4e161a2881cd894720e0fad851f02e.txt  \n",
            "  inflating: dataset/train/labels/meningioma_724_jpg.rf.c1f50a65dca460a9519a5403ca08c051.txt  \n",
            "  inflating: dataset/train/labels/meningioma_730_jpg.rf.7a7eb7713a398036f262a80ed94cbd38.txt  \n",
            "  inflating: dataset/train/labels/meningioma_733_jpg.rf.3df47e74401e0b8871f177d0087ceef2.txt  \n",
            "  inflating: dataset/train/labels/meningioma_734_jpg.rf.79af18bc94491cc52fb5a9aefdf4b086.txt  \n",
            "  inflating: dataset/train/labels/meningioma_739_jpg.rf.8910b4c1875118d65ea9d926d2e48a51.txt  \n",
            "  inflating: dataset/train/labels/meningioma_73_jpg.rf.737b7d02c5566539f8c6e99c61f1bb42.txt  \n",
            "  inflating: dataset/train/labels/meningioma_743_jpg.rf.29f2a64907548d96d90e32fdd31b4f7a.txt  \n",
            "  inflating: dataset/train/labels/meningioma_748_jpg.rf.589414d2dd21bdf2b0752f6fa1959865.txt  \n",
            "  inflating: dataset/train/labels/meningioma_749_jpg.rf.deaf1e32a98b5b9178da63bfdfd3adcd.txt  \n",
            "  inflating: dataset/train/labels/meningioma_74_jpg.rf.4c1509a1bf13127b77e02ea40b34a427.txt  \n",
            "  inflating: dataset/train/labels/meningioma_750_jpg.rf.c72fdecfe3066b14d46b56e7aa0696cb.txt  \n",
            "  inflating: dataset/train/labels/meningioma_754_jpg.rf.73b480a8d4e044d99b9d007126448ddd.txt  \n",
            "  inflating: dataset/train/labels/meningioma_756_jpg.rf.d642735914e417b8a9c80818bd8cd2e1.txt  \n",
            "  inflating: dataset/train/labels/meningioma_757_jpg.rf.ba3c9be419657e1322b9c5643a89b7cf.txt  \n",
            "  inflating: dataset/train/labels/meningioma_758_jpg.rf.773269389e2b3a0c0ed1bfb45ef85194.txt  \n",
            "  inflating: dataset/train/labels/meningioma_759_jpg.rf.b186884d401c9c2a145b3edbdb9cbc6b.txt  \n",
            "  inflating: dataset/train/labels/meningioma_75_jpg.rf.998b577f22c41bf95b3d94ea7291bc60.txt  \n",
            "  inflating: dataset/train/labels/meningioma_763_jpg.rf.1c8ffb9bde0747266e603f26ee870ff7.txt  \n",
            "  inflating: dataset/train/labels/meningioma_765_jpg.rf.e0c6baaa13d375dbd6d0846072f92991.txt  \n",
            "  inflating: dataset/train/labels/meningioma_769_jpg.rf.7ac42da7e1dc2978e8313f1e60c01b28.txt  \n",
            "  inflating: dataset/train/labels/meningioma_76_jpg.rf.3427bb5bb263d4465461817effb5e971.txt  \n",
            "  inflating: dataset/train/labels/meningioma_773_jpg.rf.c5ae9781857e9a783562dae0412f873b.txt  \n",
            "  inflating: dataset/train/labels/meningioma_776_jpg.rf.1987625f340e41a7ef8d410a4c5345bd.txt  \n",
            "  inflating: dataset/train/labels/meningioma_778_jpg.rf.517be6186911fd3f299f5449516854bc.txt  \n",
            "  inflating: dataset/train/labels/meningioma_779_jpg.rf.1e1082dfcadaedbd005b5cfc6e06cef2.txt  \n",
            "  inflating: dataset/train/labels/meningioma_780_jpg.rf.904948ed49d53687f8a8acebf49a0815.txt  \n",
            "  inflating: dataset/train/labels/meningioma_781_jpg.rf.9d44a2d15a217600ca07c83785ab7d78.txt  \n",
            "  inflating: dataset/train/labels/meningioma_782_jpg.rf.f20f3818a42dad9ea5ba2054824bfca2.txt  \n",
            "  inflating: dataset/train/labels/meningioma_786_jpg.rf.4545a165f3399b982d74912b510c9f53.txt  \n",
            "  inflating: dataset/train/labels/meningioma_787_jpg.rf.b4fc7fd76dd101524b5e2c01bc4a0dfc.txt  \n",
            "  inflating: dataset/train/labels/meningioma_78_jpg.rf.07af0e5349f5e4efc929f994180c1be0.txt  \n",
            "  inflating: dataset/train/labels/meningioma_790_jpg.rf.7d370c98335e54bf435ff2f8b34a8057.txt  \n",
            "  inflating: dataset/train/labels/meningioma_792_jpg.rf.5cd51b220e3a65606c72bd389a656e38.txt  \n",
            "  inflating: dataset/train/labels/meningioma_793_jpg.rf.2b1cddb8721fff606bf90a695ccdf926.txt  \n",
            "  inflating: dataset/train/labels/meningioma_794_jpg.rf.e6ea105c447a297c2c57171da676b416.txt  \n",
            "  inflating: dataset/train/labels/meningioma_795_jpg.rf.a130b311d97ea40681adadbd4f7f83d0.txt  \n",
            "  inflating: dataset/train/labels/meningioma_797_jpg.rf.23361b2204143a425ec4e7e6404ce7e2.txt  \n",
            "  inflating: dataset/train/labels/meningioma_799_jpg.rf.abfe4fca6e0fec153d7e13b1d72d3e9d.txt  \n",
            "  inflating: dataset/train/labels/meningioma_800_jpg.rf.4f2b2bb0491e2960a62f39eb8778e6c0.txt  \n",
            "  inflating: dataset/train/labels/meningioma_801_jpg.rf.30da0e61ac1939f9b4fe7cf248e7c52a.txt  \n",
            "  inflating: dataset/train/labels/meningioma_808_jpg.rf.c59cb929710e36802c760ffcf7ca54d0.txt  \n",
            "  inflating: dataset/train/labels/meningioma_80_jpg.rf.17987ac34f90df8305d1dc9b50dd699e.txt  \n",
            "  inflating: dataset/train/labels/meningioma_810_jpg.rf.ffd97c6d77251529eeafdfdf4f979311.txt  \n",
            "  inflating: dataset/train/labels/meningioma_813_jpg.rf.e5959302a70a1844bb3144fcf1b0b91e.txt  \n",
            "  inflating: dataset/train/labels/meningioma_814_jpg.rf.7674a61b20ed610f9161984286c835f1.txt  \n",
            "  inflating: dataset/train/labels/meningioma_816_jpg.rf.41e7d64675086d1443640f50c7d819b2.txt  \n",
            "  inflating: dataset/train/labels/meningioma_817_jpg.rf.e627f4d8fe10890aa4f608d3811e4590.txt  \n",
            "  inflating: dataset/train/labels/meningioma_818_jpg.rf.d0a0db73578541a04e423e37c4d5cd79.txt  \n",
            "  inflating: dataset/train/labels/meningioma_819_jpg.rf.1c4d8ddf0a750bc950fdc47787721f29.txt  \n",
            "  inflating: dataset/train/labels/meningioma_824_jpg.rf.26b93675bd6dfd2006c07da6e9a019c7.txt  \n",
            "  inflating: dataset/train/labels/meningioma_825_jpg.rf.5e76f113bc28e95dbcfb942b481cecdb.txt  \n",
            "  inflating: dataset/train/labels/meningioma_826_jpg.rf.076b51e8b7ba356f11c7b349609c5525.txt  \n",
            "  inflating: dataset/train/labels/meningioma_827_jpg.rf.670af4536eb3590bcdb1da7671ee42ca.txt  \n",
            "  inflating: dataset/train/labels/meningioma_82_jpg.rf.6b1e9e5be4b73bc434d17e0e13e84de6.txt  \n",
            "  inflating: dataset/train/labels/meningioma_831_jpg.rf.bccd9759553dd64c3a8cb41a949c891a.txt  \n",
            "  inflating: dataset/train/labels/meningioma_832_jpg.rf.fd82f5dbaee24efbdc588181a51e6f83.txt  \n",
            "  inflating: dataset/train/labels/meningioma_838_jpg.rf.2d5eef8fbdae0dcbf0bef31653539856.txt  \n",
            "  inflating: dataset/train/labels/meningioma_83_jpg.rf.f192667a12f8afbb947d1dd73900b479.txt  \n",
            "  inflating: dataset/train/labels/meningioma_841_jpg.rf.92cdd28efd0005f37f5fc4618171e0bf.txt  \n",
            "  inflating: dataset/train/labels/meningioma_842_jpg.rf.00a12ad362ae2288f7cde416c23d8398.txt  \n",
            "  inflating: dataset/train/labels/meningioma_84_jpg.rf.7a9467dec032dadf408874a66b87290f.txt  \n",
            "  inflating: dataset/train/labels/meningioma_850_jpg.rf.686648740b5e30aad18a2f3ef8f47bfa.txt  \n",
            "  inflating: dataset/train/labels/meningioma_851_jpg.rf.5cb883da6643e552e4b05b22f1f665de.txt  \n",
            "  inflating: dataset/train/labels/meningioma_855_jpg.rf.9b568c373f7607287c9cdeb016adbd31.txt  \n",
            "  inflating: dataset/train/labels/meningioma_857_jpg.rf.6e1f4690f5fb1e4bb99f4db4e0537fa2.txt  \n",
            "  inflating: dataset/train/labels/meningioma_862_jpg.rf.1672e0dd16941edd679221b38446a162.txt  \n",
            "  inflating: dataset/train/labels/meningioma_863_jpg.rf.2fd01da1491a8a5933977e3bd3555770.txt  \n",
            "  inflating: dataset/train/labels/meningioma_864_jpg.rf.dd99018be6b80c0479ba358d9a1e6987.txt  \n",
            "  inflating: dataset/train/labels/meningioma_866_jpg.rf.6eeaba9ea919ac847aacf7795c4bb3d7.txt  \n",
            "  inflating: dataset/train/labels/meningioma_867_jpg.rf.c0d07726c11b7a84a5fa4d1fc0a8505f.txt  \n",
            "  inflating: dataset/train/labels/meningioma_86_jpg.rf.bdd9bf4edaeff7e33264907091feeccd.txt  \n",
            "  inflating: dataset/train/labels/meningioma_872_jpg.rf.bcff08f393b9f39298578cc9457afffd.txt  \n",
            "  inflating: dataset/train/labels/meningioma_877_jpg.rf.8fc9d1b7e41e2834ef89ac3f91e5a904.txt  \n",
            "  inflating: dataset/train/labels/meningioma_87_jpg.rf.928b0a02f9d0dc428ccf1f93b32ba5b1.txt  \n",
            "  inflating: dataset/train/labels/meningioma_882_jpg.rf.62b9c653266173b287c6db075d91cba7.txt  \n",
            "  inflating: dataset/train/labels/meningioma_889_jpg.rf.08457415fb8ec9d28c77b345a9bd7d65.txt  \n",
            "  inflating: dataset/train/labels/meningioma_88_jpg.rf.332e67d3b8a04d003440021b24a68513.txt  \n",
            "  inflating: dataset/train/labels/meningioma_890_jpg.rf.05a58515fbe955ab1ae2d37ad3daaa0e.txt  \n",
            "  inflating: dataset/train/labels/meningioma_893_jpg.rf.ad34383d7ff8913bb6e72a1927545be6.txt  \n",
            "  inflating: dataset/train/labels/meningioma_895_jpg.rf.cd674dc2a4dcf9c84b154127e7f4b4ba.txt  \n",
            "  inflating: dataset/train/labels/meningioma_896_jpg.rf.1088dce4543b6291543f15f3c9a5ef53.txt  \n",
            "  inflating: dataset/train/labels/meningioma_89_jpg.rf.61ea1b4ff41f662a28949d16950c6421.txt  \n",
            "  inflating: dataset/train/labels/meningioma_901_jpg.rf.7f26f443a85ace9eeb2e372adf5b737d.txt  \n",
            "  inflating: dataset/train/labels/meningioma_902_jpg.rf.af8246b7a7175ed27a22a9b5b3903e29.txt  \n",
            "  inflating: dataset/train/labels/meningioma_907_jpg.rf.cf7ab510a25d17937023d07ccae71e02.txt  \n",
            "  inflating: dataset/train/labels/meningioma_909_jpg.rf.72f13ab313d2747c0db59bdf355aef90.txt  \n",
            "  inflating: dataset/train/labels/meningioma_90_jpg.rf.2e48363cd4f2775781b567750ba0a8ec.txt  \n",
            "  inflating: dataset/train/labels/meningioma_913_jpg.rf.8fa76a39c193b325ce78fe62c88ce2c2.txt  \n",
            "  inflating: dataset/train/labels/meningioma_915_jpg.rf.894868f40fb5390d4c33e6add7de9f91.txt  \n",
            "  inflating: dataset/train/labels/meningioma_918_jpg.rf.0fb57031d3b738bba61a44e015a5b599.txt  \n",
            "  inflating: dataset/train/labels/meningioma_91_jpg.rf.9376f3bcef6ca61b2d4f0dde0d35a9b0.txt  \n",
            "  inflating: dataset/train/labels/meningioma_924_jpg.rf.ef23b2a126ea5c99ead25e46dcbb67e6.txt  \n",
            "  inflating: dataset/train/labels/meningioma_927_jpg.rf.cbacd1260191ac36578f05e816b8c57d.txt  \n",
            "  inflating: dataset/train/labels/meningioma_928_jpg.rf.96de23ec912f5e9577454bb308e525ec.txt  \n",
            "  inflating: dataset/train/labels/meningioma_930_jpg.rf.3b9a5d494e6e35298128d8f161035599.txt  \n",
            "  inflating: dataset/train/labels/meningioma_935_jpg.rf.2820d1d475b4a80653760ac515bcf47f.txt  \n",
            "  inflating: dataset/train/labels/meningioma_937_jpg.rf.8da0c940919adb2db3045845d5a731e6.txt  \n",
            "  inflating: dataset/train/labels/meningioma_938_jpg.rf.75091399cacd01137cc375d1b22a2226.txt  \n",
            "  inflating: dataset/train/labels/meningioma_944_jpg.rf.86b8a982d384dfff1deeaa03e63e97db.txt  \n",
            "  inflating: dataset/train/labels/meningioma_951_jpg.rf.e84a2abc82bdc0027172e5a35751d18b.txt  \n",
            "  inflating: dataset/train/labels/meningioma_956_jpg.rf.9ee1ac6777f67d3063c09f82c8eadc4e.txt  \n",
            "  inflating: dataset/train/labels/meningioma_958_jpg.rf.c45c2745072466a253c58e32f0360c49.txt  \n",
            "  inflating: dataset/train/labels/meningioma_95_jpg.rf.ed230bc3cdc5214e8911b1958cf547e3.txt  \n",
            "  inflating: dataset/train/labels/meningioma_962_jpg.rf.dc5529c452baf31a925796b88183ea0b.txt  \n",
            "  inflating: dataset/train/labels/meningioma_963_jpg.rf.800aef1153806722d0e4d993d82b5e7a.txt  \n",
            "  inflating: dataset/train/labels/meningioma_966_jpg.rf.dfd07b48092925cf2259d36bd0fcc9de.txt  \n",
            "  inflating: dataset/train/labels/meningioma_973_jpg.rf.943daf56bd33c4c8f1fb7d7d0ef1b3c7.txt  \n",
            "  inflating: dataset/train/labels/meningioma_975_jpg.rf.bdfc4fcf94b141c9c8d2bf7a744d9277.txt  \n",
            "  inflating: dataset/train/labels/meningioma_977_jpg.rf.f89e77a026487c0b1cdeeecb49527c3b.txt  \n",
            "  inflating: dataset/train/labels/meningioma_978_jpg.rf.859219f93f4a72a54f3288e6b6c81966.txt  \n",
            "  inflating: dataset/train/labels/meningioma_979_jpg.rf.44c72a79df7eff5605e3bcf92a2ff76f.txt  \n",
            "  inflating: dataset/train/labels/meningioma_983_jpg.rf.d9b0a28a097dc6b2bb1de1e2a293f3a1.txt  \n",
            "  inflating: dataset/train/labels/meningioma_985_jpg.rf.9ebf503edb96cf82d825b2e7feb5fa22.txt  \n",
            "  inflating: dataset/train/labels/meningioma_986_jpg.rf.bcacf1010002848f9f3dd0c9dd22fb3d.txt  \n",
            "  inflating: dataset/train/labels/meningioma_989_jpg.rf.d71f7461ce2b6395ac9695c8409cd1b1.txt  \n",
            "  inflating: dataset/train/labels/meningioma_990_jpg.rf.3a632e7778835f0f11faabb40fbe1e14.txt  \n",
            "  inflating: dataset/train/labels/meningioma_992_jpg.rf.7ecd4a2363705b5217df4eb8f7b620e5.txt  \n",
            "  inflating: dataset/train/labels/meningioma_993_jpg.rf.4bf82291957b6780725ba736bfbb4ae0.txt  \n",
            "  inflating: dataset/train/labels/meningioma_999_jpg.rf.9a1bd463e0eb5ae3e65d1773be3fb557.txt  \n",
            "  inflating: dataset/train/labels/meningioma_99_jpg.rf.14fda29cfbc391267067f1a140776f9e.txt  \n",
            "  inflating: dataset/train/labels/no_tumor_1003_jpg.rf.ca58e56b3b9ad01726995fbbcc918d2e.txt  \n",
            "  inflating: dataset/train/labels/no_tumor_1012_jpg.rf.b7971dea3b79562d4e76cd9c3e6bbad6.txt  \n",
            "  inflating: dataset/train/labels/no_tumor_1016_jpg.rf.22d6bf440fb27d5a0063e14837c92063.txt  \n",
            "  inflating: dataset/train/labels/no_tumor_1018_jpg.rf.c9bdfc0aea430a8912cd74990a571a82.txt  \n",
            "  inflating: dataset/train/labels/no_tumor_1021_jpg.rf.61b4d9a8483a617a2cdd62ec51c14fad.txt  \n",
            "  inflating: dataset/train/labels/no_tumor_1026_jpg.rf.83e346e70562719b1c3f8aea62bd9851.txt  \n",
            "  inflating: dataset/train/labels/no_tumor_1035_jpg.rf.941b4172d4aa02042c2c81a3141e0a21.txt  \n",
            "  inflating: dataset/train/labels/no_tumor_1039_jpg.rf.01d362e9945468a352a542a18c38ded1.txt  \n",
            "  inflating: dataset/train/labels/no_tumor_1041_jpg.rf.c2ad0c6c5b3237dcb37ed3bef1ba557e.txt  \n",
            "  inflating: dataset/train/labels/no_tumor_1043_jpg.rf.768608bacb8494c0c420893bbca2d2bb.txt  \n",
            "  inflating: dataset/train/labels/no_tumor_1045_jpg.rf.2634e2ce15ebbd1c21f43d70e8044f8f.txt  \n",
            "  inflating: dataset/train/labels/no_tumor_1047_jpg.rf.ed67610c342788ec00422487b200bbf9.txt  \n",
            "  inflating: dataset/train/labels/no_tumor_104_jpg.rf.0a5b31958b139304c4900f74655fe82a.txt  \n",
            "  inflating: dataset/train/labels/no_tumor_1050_jpg.rf.b94da538ccc63eb4220a4679c5b88f84.txt  \n",
            "  inflating: dataset/train/labels/no_tumor_1063_jpg.rf.e575e66c2e8aa6c6e9c216345f903903.txt  \n",
            "  inflating: dataset/train/labels/no_tumor_1068_jpg.rf.2d663ba9dee8887033595f92974557c5.txt  \n",
            "  inflating: dataset/train/labels/no_tumor_1073_jpg.rf.5bc35117e317c026e72719bc078cbd8c.txt  \n",
            "  inflating: dataset/train/labels/no_tumor_1076_jpg.rf.e03e9eb43a8219576ea9bdfba94286a8.txt  \n",
            "  inflating: dataset/train/labels/no_tumor_1079_jpg.rf.ae610d05451e54ff6492a5e213ebd372.txt  \n",
            "  inflating: dataset/train/labels/no_tumor_1085_jpg.rf.c4e0c79ffc9f4a82cbf6a27f594bd1ce.txt  \n",
            "  inflating: dataset/train/labels/no_tumor_1088_jpg.rf.9a5310703a4cb1600585cfc4dae70d87.txt  \n",
            "  inflating: dataset/train/labels/no_tumor_1093_jpg.rf.aea4c307a9ae60e321de8879b8adae27.txt  \n",
            "  inflating: dataset/train/labels/no_tumor_1097_jpg.rf.b3571980c32bb0bbc585546737e42911.txt  \n",
            "  inflating: dataset/train/labels/no_tumor_1103_jpg.rf.f5d51689f9a518c267c2095c9ee98bf7.txt  \n",
            "  inflating: dataset/train/labels/no_tumor_1106_jpg.rf.dfcf916a9ad1e56db2b383bf96b7d3a1.txt  \n",
            "  inflating: dataset/train/labels/no_tumor_1109_jpg.rf.0d377d882c8c3f51af56b9bb8b0e94bc.txt  \n",
            "  inflating: dataset/train/labels/no_tumor_1110_jpg.rf.5ef14a66f4b645da81196e7d1bedce90.txt  \n",
            "  inflating: dataset/train/labels/no_tumor_1113_jpg.rf.152593fcacfb8267ecd4d1e1e23db8df.txt  \n",
            "  inflating: dataset/train/labels/no_tumor_1116_jpg.rf.58d57065c60fae62176fd8277ddfe6c0.txt  \n",
            "  inflating: dataset/train/labels/no_tumor_1119_jpg.rf.2fa94dbebd5be8ff3ad5504ae5696283.txt  \n",
            "  inflating: dataset/train/labels/no_tumor_1122_jpg.rf.b62a4d7cc6933fd7161d203f8dd61875.txt  \n",
            "  inflating: dataset/train/labels/no_tumor_112_jpg.rf.afdc41cfb3f5fbb0c626fcff74f2d6e5.txt  \n",
            "  inflating: dataset/train/labels/no_tumor_1134_jpg.rf.f989b6be2ae9b43f993f1fc48226c543.txt  \n",
            "  inflating: dataset/train/labels/no_tumor_1150_jpg.rf.bfa6fdc786739c464c97021f77121c14.txt  \n",
            "  inflating: dataset/train/labels/no_tumor_1151_jpg.rf.e8eda5e163fcddbba2f31c6899580c60.txt  \n",
            "  inflating: dataset/train/labels/no_tumor_1153_jpg.rf.44296b2708ffccf2650bd2dc305fc38f.txt  \n",
            "  inflating: dataset/train/labels/no_tumor_1157_jpg.rf.93f41da013b86c9dac838699ebbce758.txt  \n",
            "  inflating: dataset/train/labels/no_tumor_1161_jpg.rf.23a09be682c8e138645caada39912a77.txt  \n",
            "  inflating: dataset/train/labels/no_tumor_1164_jpg.rf.2085addc8c6247f6a10f11b511934dad.txt  \n",
            "  inflating: dataset/train/labels/no_tumor_1165_jpg.rf.f38988976fdc19e33a97bbe70c2f6b4d.txt  \n",
            "  inflating: dataset/train/labels/no_tumor_1166_jpg.rf.bb020c54afc3cd6465502dbdee48498d.txt  \n",
            "  inflating: dataset/train/labels/no_tumor_1173_jpg.rf.2e0c5f4207c5dab093b02e496d167c21.txt  \n",
            "  inflating: dataset/train/labels/no_tumor_1181_jpg.rf.4844a18e544d81a4a8d457c1aecd81d6.txt  \n",
            "  inflating: dataset/train/labels/no_tumor_1185_jpg.rf.09e469acb79f84102d395895ccb4448f.txt  \n",
            "  inflating: dataset/train/labels/no_tumor_1189_jpg.rf.04fbe8d541bd28cb54c7d60e26dcbf39.txt  \n",
            "  inflating: dataset/train/labels/no_tumor_1194_jpg.rf.b859799f8592ced142814a48f957bd8f.txt  \n",
            "  inflating: dataset/train/labels/no_tumor_1199_jpg.rf.4393a40d3e4df6d09fb975007d791262.txt  \n",
            "  inflating: dataset/train/labels/no_tumor_1201_jpg.rf.e820255ccf963e6a269f91b4a3b01f96.txt  \n",
            "  inflating: dataset/train/labels/no_tumor_1210_jpg.rf.4ce02806ade4c1f448b354d2e6bc60cc.txt  \n",
            "  inflating: dataset/train/labels/no_tumor_1215_jpg.rf.5839678b4f833068a54ee551626d4cac.txt  \n",
            "  inflating: dataset/train/labels/no_tumor_1219_jpg.rf.bf1a0afdac11cb575f085015b217dde1.txt  \n",
            "  inflating: dataset/train/labels/no_tumor_1230_jpg.rf.5f3d6666b43025b644dab292f6eb8ff9.txt  \n",
            "  inflating: dataset/train/labels/no_tumor_1234_jpg.rf.4577c6af2f27decf51e4ac1e50db0ffc.txt  \n",
            "  inflating: dataset/train/labels/no_tumor_1236_jpg.rf.01d7018db8ae13fa4802a8bfe1223802.txt  \n",
            "  inflating: dataset/train/labels/no_tumor_1237_jpg.rf.2b4e1824fadb8f068b44eaa43a7ea4fe.txt  \n",
            "  inflating: dataset/train/labels/no_tumor_1240_jpg.rf.93c186048aafd4f9d3d9645598ced549.txt  \n",
            "  inflating: dataset/train/labels/no_tumor_1243_jpg.rf.b4b500790d955abc0273d6a16c7f44ed.txt  \n",
            "  inflating: dataset/train/labels/no_tumor_1249_jpg.rf.1dccd19ead5174dc182d485cc86987f4.txt  \n",
            "  inflating: dataset/train/labels/no_tumor_1251_jpg.rf.93d7f42c965eb13ed1d52349e5b56fb3.txt  \n",
            "  inflating: dataset/train/labels/no_tumor_1264_jpg.rf.3a4558975d3e7aa529cc9e050b1e1848.txt  \n",
            "  inflating: dataset/train/labels/no_tumor_1265_jpg.rf.7c655129f792360998c6cfc59a897dbd.txt  \n",
            "  inflating: dataset/train/labels/no_tumor_1268_jpg.rf.03feb40a0d97c4e14933706c2e16650a.txt  \n",
            " extracting: dataset/train/labels/no_tumor_1269_jpg.rf.31e38784a67488327242347cfd4272c7.txt  \n",
            "  inflating: dataset/train/labels/no_tumor_126_jpg.rf.50e10f563b8a940f1503c7dfb8cb6021.txt  \n",
            "  inflating: dataset/train/labels/no_tumor_1270_jpg.rf.aae2c4b0b4078a911cd5da3fa71df696.txt  \n",
            "  inflating: dataset/train/labels/no_tumor_1271_jpg.rf.99b32784706552b3695ed804e917a16e.txt  \n",
            "  inflating: dataset/train/labels/no_tumor_1274_jpg.rf.c2404902f22f468344490f6ff78ba834.txt  \n",
            "  inflating: dataset/train/labels/no_tumor_1278_jpg.rf.9034ecaec68ef1ff513b5ff8dcee2f29.txt  \n",
            "  inflating: dataset/train/labels/no_tumor_1286_jpg.rf.38e2168e35ca2f5248bb5cf844bd4d6c.txt  \n",
            "  inflating: dataset/train/labels/no_tumor_1288_jpg.rf.1716523f611f167a31ab8005753b985a.txt  \n",
            "  inflating: dataset/train/labels/no_tumor_1293_jpg.rf.3df5863ade1128b66f3e6b4f2b8f315e.txt  \n",
            "  inflating: dataset/train/labels/no_tumor_1297_jpg.rf.cebfcd4925e57647d14e1a8e00483656.txt  \n",
            "  inflating: dataset/train/labels/no_tumor_1299_jpg.rf.8d948ae0c5437d8623e4fe493c15c2ee.txt  \n",
            "  inflating: dataset/train/labels/no_tumor_1307_jpg.rf.f2f1e5658568cbbd1c93200f711417f8.txt  \n",
            "  inflating: dataset/train/labels/no_tumor_1309_jpg.rf.e92527e498844db62f674a25860351b4.txt  \n",
            "  inflating: dataset/train/labels/no_tumor_1311_jpg.rf.c6c0423f3d4034c8fcbcbd41e48ed85a.txt  \n",
            "  inflating: dataset/train/labels/no_tumor_1323_jpg.rf.59b092af128d8d7f9d04c316d4811758.txt  \n",
            "  inflating: dataset/train/labels/no_tumor_1324_jpg.rf.8b5ac2d74686f5c90de46d2eb3330aab.txt  \n",
            "  inflating: dataset/train/labels/no_tumor_1325_jpg.rf.8874659d760783bb23c854f7112a65c6.txt  \n",
            "  inflating: dataset/train/labels/no_tumor_1326_jpg.rf.c8d7b79cda542c39fd6eb18013033052.txt  \n",
            "  inflating: dataset/train/labels/no_tumor_1329_jpg.rf.ed51351bbf3314cae8f567028b040f9c.txt  \n",
            "  inflating: dataset/train/labels/no_tumor_1330_jpg.rf.abd26941bb64c1899fa212b1f68d3f7f.txt  \n",
            "  inflating: dataset/train/labels/no_tumor_1335_jpg.rf.3e841ba4e367e2d16e91b62f5842b676.txt  \n",
            "  inflating: dataset/train/labels/no_tumor_133_jpg.rf.5ba6a2d7428c5cde907cad8ca09cbe1e.txt  \n",
            "  inflating: dataset/train/labels/no_tumor_1346_jpg.rf.2e4aff010471355370cfa24a13c46516.txt  \n",
            "  inflating: dataset/train/labels/no_tumor_1347_jpg.rf.4cc2aa0cb2d8f0cafbb11a0003f585d4.txt  \n",
            "  inflating: dataset/train/labels/no_tumor_1351_jpg.rf.315a5f4d14e57f0c2ac119c53b2f93b0.txt  \n",
            "  inflating: dataset/train/labels/no_tumor_1356_jpg.rf.84735d5194d7ebaa17bc10f797435335.txt  \n",
            "  inflating: dataset/train/labels/no_tumor_1361_jpg.rf.dcc128bcd57fc4fa43ce8678c6e26195.txt  \n",
            "  inflating: dataset/train/labels/no_tumor_1362_jpg.rf.229adcfa099b098f15ea935f83547cbc.txt  \n",
            "  inflating: dataset/train/labels/no_tumor_1373_jpg.rf.372716bfc4c92c896ac991f0f21236f1.txt  \n",
            "  inflating: dataset/train/labels/no_tumor_1375_jpg.rf.1cc6e4c7fced24a8e2b20c22761f5e10.txt  \n",
            "  inflating: dataset/train/labels/no_tumor_1376_jpg.rf.aff2f8a1edbd73173f348c43503fb461.txt  \n",
            "  inflating: dataset/train/labels/no_tumor_1377_jpg.rf.f1b71258d44b9c64d7d2ead7ca7db5d2.txt  \n",
            "  inflating: dataset/train/labels/no_tumor_1378_jpg.rf.c502c2a66eead244e8ca6d8131d565cd.txt  \n",
            "  inflating: dataset/train/labels/no_tumor_1380_jpg.rf.d6704acef295a7c6a4afcb53e296262a.txt  \n",
            "  inflating: dataset/train/labels/no_tumor_1381_jpg.rf.78b44b23406690cab08efe18368e6604.txt  \n",
            "  inflating: dataset/train/labels/no_tumor_1382_jpg.rf.e8ca4a15c262a636d8b9c58b2277075a.txt  \n",
            "  inflating: dataset/train/labels/no_tumor_1383_jpg.rf.83d5b9dea50a4b1c805b3dfeb523b25c.txt  \n",
            "  inflating: dataset/train/labels/no_tumor_1394_jpg.rf.83a0a101fe4ccf798e97875961c04b3e.txt  \n",
            "  inflating: dataset/train/labels/no_tumor_1400_jpg.rf.5ed2264c2a9b0cae5c362cf5b987c8dd.txt  \n",
            "  inflating: dataset/train/labels/no_tumor_1401_jpg.rf.000dba443c62539495f338739308ce48.txt  \n",
            "  inflating: dataset/train/labels/no_tumor_1402_jpg.rf.a1a01c9623bf180dc9b357d86dc4291f.txt  \n",
            "  inflating: dataset/train/labels/no_tumor_1413_jpg.rf.1095330fc65a8662ec34c0ea74cac1d5.txt  \n",
            "  inflating: dataset/train/labels/no_tumor_1416_jpg.rf.e065f249274ba4c40ba6bdf7f90fe905.txt  \n",
            "  inflating: dataset/train/labels/no_tumor_1417_jpg.rf.dc51cc6b0a36c02be55b38e6b9b32867.txt  \n",
            "  inflating: dataset/train/labels/no_tumor_1419_jpg.rf.c7cf6fd7c231be0e42dc2ca5eb18430f.txt  \n",
            "  inflating: dataset/train/labels/no_tumor_1422_jpg.rf.f3bccc45e3099fbc62a02c4e79bc41e8.txt  \n",
            "  inflating: dataset/train/labels/no_tumor_1425_jpg.rf.7c8c30642d016c43386e127ca373dcad.txt  \n",
            "  inflating: dataset/train/labels/no_tumor_1430_jpg.rf.f747c66cb2015e28af93695f56c4123c.txt  \n",
            "  inflating: dataset/train/labels/no_tumor_1431_jpg.rf.31ed63148b3b70de02b425d019b3e184.txt  \n",
            "  inflating: dataset/train/labels/no_tumor_1432_jpg.rf.7adef0d175984efb42ffcd714fd528b8.txt  \n",
            "  inflating: dataset/train/labels/no_tumor_1433_jpg.rf.fd4f5655710fdb8bfb173cddb544f739.txt  \n",
            "  inflating: dataset/train/labels/no_tumor_1435_jpg.rf.4d1db0e9166cc45301b63de06e43ab13.txt  \n",
            "  inflating: dataset/train/labels/no_tumor_1439_jpg.rf.72e74396f032409e041fc1df4f420341.txt  \n",
            "  inflating: dataset/train/labels/no_tumor_1442_jpg.rf.68f522d6b1930f8d28efa7fb256f86f3.txt  \n",
            "  inflating: dataset/train/labels/no_tumor_1447_jpg.rf.196ca26893868d7b806177223b3913a9.txt  \n",
            "  inflating: dataset/train/labels/no_tumor_1448_jpg.rf.ced72720cad2eba824730db111df41c7.txt  \n",
            "  inflating: dataset/train/labels/no_tumor_1451_jpg.rf.eb7c7aab2538f6b08a2c11bd63c85cf6.txt  \n",
            "  inflating: dataset/train/labels/no_tumor_1452_jpg.rf.734f56566ba7be411cbcc8f199aec5a2.txt  \n",
            "  inflating: dataset/train/labels/no_tumor_1453_jpg.rf.ac4e86994b9ecdd730c6b7af61541d0b.txt  \n",
            "  inflating: dataset/train/labels/no_tumor_1454_jpg.rf.916adb111444c20987e20200b9798eb7.txt  \n",
            "  inflating: dataset/train/labels/no_tumor_1457_jpg.rf.d5ebbc52838c88699a3a448e97dc8f3e.txt  \n",
            "  inflating: dataset/train/labels/no_tumor_1459_jpg.rf.3ec5293033dd8e30ae6254fe65a55a32.txt  \n",
            "  inflating: dataset/train/labels/no_tumor_1470_jpg.rf.c24b57bab59623fe01a2eb0857080204.txt  \n",
            "  inflating: dataset/train/labels/no_tumor_1472_jpg.rf.102fd8634b82df155f610ee066c01c79.txt  \n",
            "  inflating: dataset/train/labels/no_tumor_1473_jpg.rf.1888a952f485fcdd9a22c1a8d536464d.txt  \n",
            "  inflating: dataset/train/labels/no_tumor_1474_jpg.rf.a67e418775a445c14987df93fab3b9b9.txt  \n",
            "  inflating: dataset/train/labels/no_tumor_1476_jpg.rf.cfb6cda0a1a3752d413d69b1a345a80c.txt  \n",
            "  inflating: dataset/train/labels/no_tumor_1477_jpg.rf.e715b48cc76a3249b447c1d9bb61cefa.txt  \n",
            "  inflating: dataset/train/labels/no_tumor_1483_jpg.rf.3bebb7373057a2a28118160040aae5ab.txt  \n",
            "  inflating: dataset/train/labels/no_tumor_1489_jpg.rf.fb55d4577b51a754ceaf9d50f00e839f.txt  \n",
            "  inflating: dataset/train/labels/no_tumor_1493_jpg.rf.3d4d7b8079dcba963e761cc65fc20050.txt  \n",
            "  inflating: dataset/train/labels/no_tumor_1495_jpg.rf.239bffb0f85441405a6dca078ecfe55a.txt  \n",
            "  inflating: dataset/train/labels/no_tumor_1507_jpg.rf.adadc9ac716d2a79305a533c3243079c.txt  \n",
            "  inflating: dataset/train/labels/no_tumor_1508_jpg.rf.e6ab7615bdeff09399d095c91a83cdd2.txt  \n",
            "  inflating: dataset/train/labels/no_tumor_1512_jpg.rf.8b644a04d389b653dd2fe946abb3e5b9.txt  \n",
            "  inflating: dataset/train/labels/no_tumor_1519_jpg.rf.5c6ac517d7c17eb648b83d17b19f5f66.txt  \n",
            "  inflating: dataset/train/labels/no_tumor_1532_jpg.rf.e4162f45c4274d225354927c0bf0bf41.txt  \n",
            "  inflating: dataset/train/labels/no_tumor_1541_jpg.rf.b396228703adc2b73f23b0c59f938896.txt  \n",
            "  inflating: dataset/train/labels/no_tumor_1545_jpg.rf.bf569f9e3aba1e5489fa0772468e125e.txt  \n",
            "  inflating: dataset/train/labels/no_tumor_1546_jpg.rf.b78874b776c0b0dcccc9e8b6688a9342.txt  \n",
            "  inflating: dataset/train/labels/no_tumor_1556_jpg.rf.f1971f5978217035ed2789638b8338f1.txt  \n",
            "  inflating: dataset/train/labels/no_tumor_1559_jpg.rf.c32373b116b9af904e4a8bd66e7ea912.txt  \n",
            "  inflating: dataset/train/labels/no_tumor_155_jpg.rf.54d5ebea1c684e3d14de058e4bf6fde2.txt  \n",
            "  inflating: dataset/train/labels/no_tumor_1561_jpg.rf.505e7b45cfce48a858123334c9861cd9.txt  \n",
            "  inflating: dataset/train/labels/no_tumor_1565_jpg.rf.1dc6b0996167862af8d243634c16d21b.txt  \n",
            "  inflating: dataset/train/labels/no_tumor_1569_jpg.rf.bf40473a0dff4ca83c9b478a28bdede1.txt  \n",
            "  inflating: dataset/train/labels/no_tumor_156_jpg.rf.8e6c8f1ea47b6317d6dafd806860be0e.txt  \n",
            "  inflating: dataset/train/labels/no_tumor_1573_jpg.rf.b38a4104755fedebfa3b321f128d9ba2.txt  \n",
            "  inflating: dataset/train/labels/no_tumor_1575_jpg.rf.0e7e8b3ba221748d0a98cea2a64e0884.txt  \n",
            "  inflating: dataset/train/labels/no_tumor_1576_jpg.rf.f40f2fbc5959b46ed7957a6541c25796.txt  \n",
            "  inflating: dataset/train/labels/no_tumor_1580_jpg.rf.aaba3214d5a10194e779a588d0e66111.txt  \n",
            "  inflating: dataset/train/labels/no_tumor_1581_jpg.rf.40be983b8bd605821acec8cc8402aa4e.txt  \n",
            "  inflating: dataset/train/labels/no_tumor_164_jpg.rf.f1cbb148817bc208fb2fd22b93ed1d11.txt  \n",
            "  inflating: dataset/train/labels/no_tumor_167_jpg.rf.c78f406de3d2740c6a21a1c26b4d4e73.txt  \n",
            "  inflating: dataset/train/labels/no_tumor_172_jpg.rf.2c442fd363c927d59e8aa8c598e69627.txt  \n",
            "  inflating: dataset/train/labels/no_tumor_176_jpg.rf.211bf548ffa63887aed9bdc6bedaf2f9.txt  \n",
            "  inflating: dataset/train/labels/no_tumor_179_jpg.rf.51137690d76851f497229fd88100f252.txt  \n",
            "  inflating: dataset/train/labels/no_tumor_17_jpg.rf.47d32fcac83806a34fc6a14db18749a2.txt  \n",
            "  inflating: dataset/train/labels/no_tumor_180_jpg.rf.80963b71820faab90764f54326ac1e9b.txt  \n",
            "  inflating: dataset/train/labels/no_tumor_189_jpg.rf.c0a3c0c0acd9fd607260aa439b1cd052.txt  \n",
            "  inflating: dataset/train/labels/no_tumor_18_jpg.rf.1351a2b7f858de523903135931f21c2a.txt  \n",
            "  inflating: dataset/train/labels/no_tumor_190_jpg.rf.3e274d72918e1261f2026ca38e812191.txt  \n",
            "  inflating: dataset/train/labels/no_tumor_196_jpg.rf.1e91801e190a5630099c4f0b1712d055.txt  \n",
            "  inflating: dataset/train/labels/no_tumor_200_jpg.rf.bf30423dc21f714b7bbd4110858906d5.txt  \n",
            "  inflating: dataset/train/labels/no_tumor_207_jpg.rf.ab0bc1fc0bdedb26fb4e6efaf3ffa7d0.txt  \n",
            "  inflating: dataset/train/labels/no_tumor_208_jpg.rf.0854557a52f738f8a9a581ade19e84ab.txt  \n",
            "  inflating: dataset/train/labels/no_tumor_210_jpg.rf.fdb3c871e7fc31c638d1ae4622f6655f.txt  \n",
            "  inflating: dataset/train/labels/no_tumor_213_jpg.rf.5fb5763e8dca1c6bc8582a6a1564923b.txt  \n",
            "  inflating: dataset/train/labels/no_tumor_219_jpg.rf.0ac815ea3b5b31e24563422dbb80ef9f.txt  \n",
            "  inflating: dataset/train/labels/no_tumor_21_jpg.rf.68d32f400194ee91591f670f61f75e97.txt  \n",
            "  inflating: dataset/train/labels/no_tumor_222_jpg.rf.7cfb27d35a17497886dfe1ac98b66b0a.txt  \n",
            "  inflating: dataset/train/labels/no_tumor_227_jpg.rf.2630c3fc56c36439fdbd417a8a5f80cd.txt  \n",
            "  inflating: dataset/train/labels/no_tumor_239_jpg.rf.995bb1e62cc872f5b99f60049f4538ea.txt  \n",
            "  inflating: dataset/train/labels/no_tumor_242_jpg.rf.c3c5cfd0c409b9da686e4c1293d8387f.txt  \n",
            "  inflating: dataset/train/labels/no_tumor_24_jpg.rf.56a57531ca8771673942fcda3a057476.txt  \n",
            "  inflating: dataset/train/labels/no_tumor_260_jpg.rf.7adf1abb3a08574120ddc279e6e20b7a.txt  \n",
            "  inflating: dataset/train/labels/no_tumor_267_jpg.rf.1777a070b9a982e5caab5d474fca9a83.txt  \n",
            "  inflating: dataset/train/labels/no_tumor_274_jpg.rf.f693719103f198d85158ae961580ca22.txt  \n",
            "  inflating: dataset/train/labels/no_tumor_276_jpg.rf.d476d381801066dc7a20fad9afad261d.txt  \n",
            "  inflating: dataset/train/labels/no_tumor_283_jpg.rf.c1f48ded5592810a26b5ac0c952bcdd0.txt  \n",
            "  inflating: dataset/train/labels/no_tumor_284_jpg.rf.57bee1e0851a952694da7bb2a0ef6bba.txt  \n",
            "  inflating: dataset/train/labels/no_tumor_286_jpg.rf.a9c95712666ac1b7533b54b74db673d9.txt  \n",
            "  inflating: dataset/train/labels/no_tumor_290_jpg.rf.2bee78120c05553de5a52635b2069407.txt  \n",
            "  inflating: dataset/train/labels/no_tumor_296_jpg.rf.37d6dc5e9f6875ae8972c9433efdc70a.txt  \n",
            "  inflating: dataset/train/labels/no_tumor_299_jpg.rf.66a673d2d2eb2d956c9a091ef13d86f5.txt  \n",
            "  inflating: dataset/train/labels/no_tumor_29_jpg.rf.415c4d89bdc13859bce8dbbc6ffaebe9.txt  \n",
            "  inflating: dataset/train/labels/no_tumor_303_jpg.rf.f1d183452b4a78c0253cb066fccb1a73.txt  \n",
            "  inflating: dataset/train/labels/no_tumor_305_jpg.rf.623856d34ef56ecd633363860b2d9ad7.txt  \n",
            "  inflating: dataset/train/labels/no_tumor_306_jpg.rf.a0b6f5a007474d22a0c7825b30c12c6c.txt  \n",
            "  inflating: dataset/train/labels/no_tumor_309_jpg.rf.3ec73e764da0737e99f9f61b9291f071.txt  \n",
            "  inflating: dataset/train/labels/no_tumor_30_jpg.rf.df215710a36490ef52b7ddfaf254c1c3.txt  \n",
            "  inflating: dataset/train/labels/no_tumor_310_jpg.rf.a8f3513a653d2a692f87c5d8258e3f1c.txt  \n",
            "  inflating: dataset/train/labels/no_tumor_311_jpg.rf.388252fafa6495c8b4145e06ca0e8de8.txt  \n",
            "  inflating: dataset/train/labels/no_tumor_317_jpg.rf.afef93f5d3b5262f3678932ddee5b46b.txt  \n",
            "  inflating: dataset/train/labels/no_tumor_320_jpg.rf.6331f45ffb2aa6fe05cfbfba5099f6a8.txt  \n",
            "  inflating: dataset/train/labels/no_tumor_322_jpg.rf.2fe54f865378e08b70e06b2390b270b4.txt  \n",
            "  inflating: dataset/train/labels/no_tumor_327_jpg.rf.e1977eb52d77e222443eeb2210f3c866.txt  \n",
            "  inflating: dataset/train/labels/no_tumor_333_jpg.rf.fccfc15a10aea59ee0201b416b5fbc54.txt  \n",
            "  inflating: dataset/train/labels/no_tumor_335_jpg.rf.f11a35fa3ac8d95b235c8b46fadc5b78.txt  \n",
            "  inflating: dataset/train/labels/no_tumor_336_jpg.rf.78b6f4ef91b6e79e6700b815776ebfde.txt  \n",
            "  inflating: dataset/train/labels/no_tumor_338_jpg.rf.259a23e52f11bd4eb5bd299ad97384f5.txt  \n",
            "  inflating: dataset/train/labels/no_tumor_341_jpg.rf.d3651edbbab9c178118e77b014f0a3e2.txt  \n",
            "  inflating: dataset/train/labels/no_tumor_348_jpg.rf.1112060eb60097e07cd73c275b65ff65.txt  \n",
            "  inflating: dataset/train/labels/no_tumor_349_jpg.rf.7b928feaaaf67a568893890d8a32e000.txt  \n",
            "  inflating: dataset/train/labels/no_tumor_35_jpg.rf.d1f833fc882625a34f9cf3355684c5ca.txt  \n",
            "  inflating: dataset/train/labels/no_tumor_373_jpg.rf.a188d69877e9751e707aee187398a132.txt  \n",
            "  inflating: dataset/train/labels/no_tumor_374_jpg.rf.45c3f5586a1f96c321c3e6a6be475732.txt  \n",
            "  inflating: dataset/train/labels/no_tumor_375_jpg.rf.eead8a79da1860512c9cdf4efca3f35d.txt  \n",
            "  inflating: dataset/train/labels/no_tumor_380_jpg.rf.fe6399bad33fea5225c6bd50d4c81c70.txt  \n",
            "  inflating: dataset/train/labels/no_tumor_385_jpg.rf.22dc244d1caab351dc502564fc7bd6eb.txt  \n",
            "  inflating: dataset/train/labels/no_tumor_387_jpg.rf.ad82d352798e21ef135f50de4648f1bb.txt  \n",
            "  inflating: dataset/train/labels/no_tumor_389_jpg.rf.eb17318825b175228ac172bb0919a71b.txt  \n",
            "  inflating: dataset/train/labels/no_tumor_395_jpg.rf.8611304494e5f48b2b5bdee1681f17d0.txt  \n",
            "  inflating: dataset/train/labels/no_tumor_396_jpg.rf.0f6d1025712d20cca572bfa8c64230c1.txt  \n",
            "  inflating: dataset/train/labels/no_tumor_399_jpg.rf.12423815ac8b4f1096421062d46820ef.txt  \n",
            "  inflating: dataset/train/labels/no_tumor_400_jpg.rf.9ef016ab9dfe63e92695bcb66c66c089.txt  \n",
            "  inflating: dataset/train/labels/no_tumor_405_jpg.rf.615ee173a7516905e28a71c8075814a2.txt  \n",
            "  inflating: dataset/train/labels/no_tumor_406_jpg.rf.7f1557f0e11ab67ae8859c327f09cf52.txt  \n",
            "  inflating: dataset/train/labels/no_tumor_411_jpg.rf.8fb8cd910f986e91aca953f4badb7285.txt  \n",
            "  inflating: dataset/train/labels/no_tumor_416_jpg.rf.119864a2eece4b1ae1e956cbff256020.txt  \n",
            "  inflating: dataset/train/labels/no_tumor_418_jpg.rf.021290cda78c439d6aed179ac586ff2f.txt  \n",
            "  inflating: dataset/train/labels/no_tumor_420_jpg.rf.9d4673b08e0deb85104ac03184eda772.txt  \n",
            "  inflating: dataset/train/labels/no_tumor_425_jpg.rf.eab331fe4f59d72d7195457e063b6984.txt  \n",
            "  inflating: dataset/train/labels/no_tumor_430_jpg.rf.af0e9f050f5cb81fc5df3cd867d32523.txt  \n",
            "  inflating: dataset/train/labels/no_tumor_431_jpg.rf.0cc13fdd0db962d5639a5f9838e4c3f1.txt  \n",
            "  inflating: dataset/train/labels/no_tumor_443_jpg.rf.8ffd94924fb070a55ce7861f5c886b1a.txt  \n",
            "  inflating: dataset/train/labels/no_tumor_457_jpg.rf.96965937cd4c3ab8c2fedc376e998dff.txt  \n",
            "  inflating: dataset/train/labels/no_tumor_468_jpg.rf.87ab342161dd8d47ec77853a0f40c082.txt  \n",
            "  inflating: dataset/train/labels/no_tumor_473_jpg.rf.ab7cc6c12b14c280edd149b89eb4c0a4.txt  \n",
            "  inflating: dataset/train/labels/no_tumor_478_jpg.rf.0e731f5755f2d591a070899df0b3ff5e.txt  \n",
            "  inflating: dataset/train/labels/no_tumor_481_jpg.rf.0f3734afa1d75ea772750755d55d62af.txt  \n",
            "  inflating: dataset/train/labels/no_tumor_485_jpg.rf.5ae3d38860013bc53cd9c2cdfcade36c.txt  \n",
            "  inflating: dataset/train/labels/no_tumor_486_jpg.rf.38c0a3771298af140f9f9478009f49e9.txt  \n",
            "  inflating: dataset/train/labels/no_tumor_494_jpg.rf.9f9b8be926799f2ba7432c713322cab4.txt  \n",
            "  inflating: dataset/train/labels/no_tumor_495_jpg.rf.6030ead7e7ef3a585bb591f6faf2d6d3.txt  \n",
            "  inflating: dataset/train/labels/no_tumor_497_jpg.rf.3dce37a56846d15bc699907a4c1c9b95.txt  \n",
            "  inflating: dataset/train/labels/no_tumor_49_jpg.rf.a8e07dbbfe5a0821086a6ccc24660e90.txt  \n",
            "  inflating: dataset/train/labels/no_tumor_501_jpg.rf.610416c16f005a275b291a88667b3da8.txt  \n",
            "  inflating: dataset/train/labels/no_tumor_503_jpg.rf.8be8b938f08f25a3b87dabb10ba3479b.txt  \n",
            "  inflating: dataset/train/labels/no_tumor_504_jpg.rf.99db000945bf9a63531ca67a073103a9.txt  \n",
            "  inflating: dataset/train/labels/no_tumor_511_jpg.rf.dbad514c8da7679e7d36013b01603994.txt  \n",
            "  inflating: dataset/train/labels/no_tumor_514_jpg.rf.02c3008b022bc4f5131db4e22b270151.txt  \n",
            "  inflating: dataset/train/labels/no_tumor_520_jpg.rf.fc16e6841011ce8509393b2aadb6cc94.txt  \n",
            "  inflating: dataset/train/labels/no_tumor_528_jpg.rf.2f7cbf60ef5d3076d1ecfd0d19ef67f2.txt  \n",
            "  inflating: dataset/train/labels/no_tumor_533_jpg.rf.e7545dd4398fa1863e69fc810d45f00d.txt  \n",
            "  inflating: dataset/train/labels/no_tumor_537_jpg.rf.3c3948a2805863d154f8598fe987c0b8.txt  \n",
            "  inflating: dataset/train/labels/no_tumor_538_jpg.rf.680e5f1c88286ecbd7433465e9b95b6d.txt  \n",
            "  inflating: dataset/train/labels/no_tumor_548_jpg.rf.a685799991738819ef4bb650fb0d2b0d.txt  \n",
            "  inflating: dataset/train/labels/no_tumor_556_jpg.rf.cf153f32249e1cbd3a50e594af847272.txt  \n",
            "  inflating: dataset/train/labels/no_tumor_561_jpg.rf.c16698e26038ed97694d74a15d2569f0.txt  \n",
            "  inflating: dataset/train/labels/no_tumor_562_jpg.rf.b1accdd9f942a6de159878b3030cdf77.txt  \n",
            "  inflating: dataset/train/labels/no_tumor_565_jpg.rf.2dce997df5c8f3cbba9643fc34441982.txt  \n",
            "  inflating: dataset/train/labels/no_tumor_569_jpg.rf.d69b8399f1fa77b1ec9bcf3d54aefeff.txt  \n",
            "  inflating: dataset/train/labels/no_tumor_571_jpg.rf.72120d0d854cfcc43244b23eb0fdc68d.txt  \n",
            "  inflating: dataset/train/labels/no_tumor_574_jpg.rf.ee8c2c9fb8a2e5f61947a418397ea6f3.txt  \n",
            "  inflating: dataset/train/labels/no_tumor_575_jpg.rf.a5853181a5746931772f8b504a0bc0d6.txt  \n",
            "  inflating: dataset/train/labels/no_tumor_582_jpg.rf.6272f3e2fef0ce02f3da23ae0b9eee8a.txt  \n",
            "  inflating: dataset/train/labels/no_tumor_585_jpg.rf.4867c6150a77abfc2d2d2d301476842d.txt  \n",
            " extracting: dataset/train/labels/no_tumor_586_jpg.rf.50372a07323a4714564e4b908b5a1116.txt  \n",
            "  inflating: dataset/train/labels/no_tumor_587_jpg.rf.bb4bece0c4ba89ffadc4a9da5d780b7d.txt  \n",
            "  inflating: dataset/train/labels/no_tumor_58_jpg.rf.65cbd9ab986d64b73ec16aa4de1e42b3.txt  \n",
            "  inflating: dataset/train/labels/no_tumor_591_jpg.rf.3a2c2b34baf0239f388124c41cfb62f6.txt  \n",
            "  inflating: dataset/train/labels/no_tumor_592_jpg.rf.0adc931c62c4951d4dd81208bad39abe.txt  \n",
            "  inflating: dataset/train/labels/no_tumor_593_jpg.rf.4dd8f671d519a783966a473992fd0ff7.txt  \n",
            "  inflating: dataset/train/labels/no_tumor_596_jpg.rf.92f8a442689340d2b8113102da65715a.txt  \n",
            "  inflating: dataset/train/labels/no_tumor_59_jpg.rf.a2e5ff8661d742cbbc78771fb353c0bd.txt  \n",
            "  inflating: dataset/train/labels/no_tumor_601_jpg.rf.daafa5bad1f585f666ca475a583d1649.txt  \n",
            "  inflating: dataset/train/labels/no_tumor_604_jpg.rf.e46636be9851360d96c76efc8f4737eb.txt  \n",
            "  inflating: dataset/train/labels/no_tumor_605_jpg.rf.e722600b49a9c1465deaaf5c11599292.txt  \n",
            "  inflating: dataset/train/labels/no_tumor_610_jpg.rf.1ad423b5823a71bf739a909d7065f5cd.txt  \n",
            "  inflating: dataset/train/labels/no_tumor_618_jpg.rf.a08db1dab87bee477f3488ad5eb6db9d.txt  \n",
            "  inflating: dataset/train/labels/no_tumor_61_jpg.rf.2b8a81a6ad68256a0cc0204cbc55df6a.txt  \n",
            "  inflating: dataset/train/labels/no_tumor_620_jpg.rf.51dba070e5a707ac43bd34654ceafeac.txt  \n",
            "  inflating: dataset/train/labels/no_tumor_621_jpg.rf.a0a66d600fae4ac3b1d5c32d5874a44b.txt  \n",
            "  inflating: dataset/train/labels/no_tumor_625_jpg.rf.aed2835c83bf66f675373c82b57c5c31.txt  \n",
            "  inflating: dataset/train/labels/no_tumor_626_jpg.rf.c4963381a2b8040382ae0377da47eed6.txt  \n",
            "  inflating: dataset/train/labels/no_tumor_629_jpg.rf.cc48853638d4ce0d87287949d88c7017.txt  \n",
            "  inflating: dataset/train/labels/no_tumor_634_jpg.rf.e499d2363eec7206db37a25261614a96.txt  \n",
            "  inflating: dataset/train/labels/no_tumor_638_jpg.rf.db54847287e9389b62df0d9f36400b01.txt  \n",
            "  inflating: dataset/train/labels/no_tumor_63_jpg.rf.5e35816038fc7e40a994a0c4e4662af2.txt  \n",
            "  inflating: dataset/train/labels/no_tumor_640_jpg.rf.778d020be48fc5d6f89b1fdaa06531a4.txt  \n",
            "  inflating: dataset/train/labels/no_tumor_645_jpg.rf.5e93bce74d68b35fea04c9d974780756.txt  \n",
            "  inflating: dataset/train/labels/no_tumor_647_jpg.rf.4d9de8ba991de3cc3d843f7ac1be439f.txt  \n",
            "  inflating: dataset/train/labels/no_tumor_648_jpg.rf.3e7e3446c7067277676a9836e10d6268.txt  \n",
            "  inflating: dataset/train/labels/no_tumor_651_jpg.rf.7c9d697b92618d41918baf26f4775792.txt  \n",
            "  inflating: dataset/train/labels/no_tumor_654_jpg.rf.c957b406a5c2a9e8d5086833ec6dc2d4.txt  \n",
            "  inflating: dataset/train/labels/no_tumor_660_jpg.rf.cb1947392bd4a291a0946800828d5b32.txt  \n",
            "  inflating: dataset/train/labels/no_tumor_67_jpg.rf.854da953d4dd93973810d6a4a48a76a7.txt  \n",
            "  inflating: dataset/train/labels/no_tumor_681_jpg.rf.94265d115335a33089086c847502207d.txt  \n",
            "  inflating: dataset/train/labels/no_tumor_685_jpg.rf.21ba95b172a0c436158e88b93d905103.txt  \n",
            "  inflating: dataset/train/labels/no_tumor_687_jpg.rf.face2646c55ed57ed58e91d9156eff77.txt  \n",
            "  inflating: dataset/train/labels/no_tumor_689_jpg.rf.b93d4818eca1c52a004e876d2ff69881.txt  \n",
            "  inflating: dataset/train/labels/no_tumor_698_jpg.rf.3c0efb1fb3525c0ef805bb505130b347.txt  \n",
            "  inflating: dataset/train/labels/no_tumor_707_jpg.rf.9f001918fd06a04a23472fdf5114234a.txt  \n",
            "  inflating: dataset/train/labels/no_tumor_712_jpg.rf.7c9beb139eaeef812a1e03655d4ebe6a.txt  \n",
            "  inflating: dataset/train/labels/no_tumor_716_jpg.rf.68ab707e5d1310f0a3edb3cb5c1b8bb0.txt  \n",
            "  inflating: dataset/train/labels/no_tumor_720_jpg.rf.0ae4144b6b9d6f92f062e0572363fbb6.txt  \n",
            "  inflating: dataset/train/labels/no_tumor_731_jpg.rf.9edfa6052c902c46fd00b63f823cfa52.txt  \n",
            "  inflating: dataset/train/labels/no_tumor_732_jpg.rf.3c474029a8875f7f6d2e0f57a1cd7c55.txt  \n",
            "  inflating: dataset/train/labels/no_tumor_735_jpg.rf.6eb79526e7a1ec95bbf273ee36be52f6.txt  \n",
            "  inflating: dataset/train/labels/no_tumor_738_jpg.rf.0b4c4930b7a5b70b20147eaa1f5a7a11.txt  \n",
            "  inflating: dataset/train/labels/no_tumor_745_jpg.rf.df9f5a625523af59167a8285947fb905.txt  \n",
            "  inflating: dataset/train/labels/no_tumor_749_jpg.rf.d4602efed782d5dabb2361c2a4de72d6.txt  \n",
            "  inflating: dataset/train/labels/no_tumor_74_jpg.rf.9a21362dc700814773b0d227d15ac891.txt  \n",
            "  inflating: dataset/train/labels/no_tumor_760_jpg.rf.14f46320e06349f1e4171f5db2632b08.txt  \n",
            "  inflating: dataset/train/labels/no_tumor_762_jpg.rf.8c71bc2d60f76136bec76600a41d3877.txt  \n",
            "  inflating: dataset/train/labels/no_tumor_765_jpg.rf.350e4653aca3276394180480ff9af8e1.txt  \n",
            "  inflating: dataset/train/labels/no_tumor_773_jpg.rf.6681967d8c8a2ce49d1313c51ceb8cc5.txt  \n",
            "  inflating: dataset/train/labels/no_tumor_775_jpg.rf.98fc07ae197572e72d3548128762e85e.txt  \n",
            "  inflating: dataset/train/labels/no_tumor_776_jpg.rf.d61b6a7cbab2784da79110fcf613ff50.txt  \n",
            "  inflating: dataset/train/labels/no_tumor_779_jpg.rf.43be10e011c63f87810a9c2bef9a85ec.txt  \n",
            "  inflating: dataset/train/labels/no_tumor_785_jpg.rf.d6e18a06d2588adc74b2b0d25ba1a284.txt  \n",
            "  inflating: dataset/train/labels/no_tumor_78_jpg.rf.fd979dc240879db328f9abd46febcda1.txt  \n",
            "  inflating: dataset/train/labels/no_tumor_79_jpg.rf.8fe0bbf863e0fd69e6c270dc17cfaa33.txt  \n",
            "  inflating: dataset/train/labels/no_tumor_800_jpg.rf.34213a8e819214ca6c72747b3d60f7cd.txt  \n",
            "  inflating: dataset/train/labels/no_tumor_802_jpg.rf.07031c4a1ce5d9c87a5b5ebd754a9373.txt  \n",
            "  inflating: dataset/train/labels/no_tumor_805_jpg.rf.07d98ea520cc63e0d83d9fb307511dc0.txt  \n",
            "  inflating: dataset/train/labels/no_tumor_806_jpg.rf.5fa03bd512516cf1ce20038a8c541e60.txt  \n",
            "  inflating: dataset/train/labels/no_tumor_807_jpg.rf.dd6ddcf5e5077e00e91fd88c16d59b66.txt  \n",
            "  inflating: dataset/train/labels/no_tumor_812_jpg.rf.895d53fe327f2d4123f787e9282daeb0.txt  \n",
            "  inflating: dataset/train/labels/no_tumor_814_jpg.rf.c75d6c6bb5fa8e38659cedf59e3397b3.txt  \n",
            "  inflating: dataset/train/labels/no_tumor_828_jpg.rf.0bd5c0221ab1fcd8f6bcd598e21b57fe.txt  \n",
            "  inflating: dataset/train/labels/no_tumor_833_jpg.rf.b51277ee33ce606516cd652c21a0dc1c.txt  \n",
            "  inflating: dataset/train/labels/no_tumor_836_jpg.rf.878282f4c1456375918927d69b540a5d.txt  \n",
            "  inflating: dataset/train/labels/no_tumor_83_jpg.rf.bb18a612f96e88b50dde87c657ec7e3c.txt  \n",
            "  inflating: dataset/train/labels/no_tumor_853_jpg.rf.df2688e747560d27e3c9c72248d72e86.txt  \n",
            "  inflating: dataset/train/labels/no_tumor_862_jpg.rf.6d84906a002e464197e58c97dfedfef8.txt  \n",
            "  inflating: dataset/train/labels/no_tumor_867_jpg.rf.3dbcb4d0ee6596fd6d8ab68c5415a5ac.txt  \n",
            "  inflating: dataset/train/labels/no_tumor_871_jpg.rf.87ed23d46cc3aac75b4492934b5fcc70.txt  \n",
            "  inflating: dataset/train/labels/no_tumor_877_jpg.rf.6851911587ed126a7e017d207218587b.txt  \n",
            "  inflating: dataset/train/labels/no_tumor_879_jpg.rf.517729c6fffe4c7a86303c1f4a188bfa.txt  \n",
            "  inflating: dataset/train/labels/no_tumor_880_jpg.rf.c42192f2b2f546c0b1da245173dd798a.txt  \n",
            "  inflating: dataset/train/labels/no_tumor_881_jpg.rf.e4296a6bf08b8dae6ca3436cdbff68c4.txt  \n",
            "  inflating: dataset/train/labels/no_tumor_89_jpg.rf.398cd55c56a5c5f50ff65af2f58dd786.txt  \n",
            "  inflating: dataset/train/labels/no_tumor_904_jpg.rf.73f0ee7d9426dddcb49489d5e4676928.txt  \n",
            "  inflating: dataset/train/labels/no_tumor_908_jpg.rf.9bbefb96c10c839d7171dd77ac375ae9.txt  \n",
            "  inflating: dataset/train/labels/no_tumor_911_jpg.rf.f77b93652a845784009750beb39c975e.txt  \n",
            "  inflating: dataset/train/labels/no_tumor_914_jpg.rf.6714544aee2bde5213fd2c366dff62aa.txt  \n",
            "  inflating: dataset/train/labels/no_tumor_915_jpg.rf.9b3b8ca77f41c0d77cd67d05d4b39bf1.txt  \n",
            "  inflating: dataset/train/labels/no_tumor_920_jpg.rf.2b10abebde1cf6bca35139c4fe34478c.txt  \n",
            "  inflating: dataset/train/labels/no_tumor_929_jpg.rf.63219c6184a9bdb453363be4b565aef3.txt  \n",
            "  inflating: dataset/train/labels/no_tumor_931_jpg.rf.ffb60f469124cdfbed04bbe984f31e5d.txt  \n",
            "  inflating: dataset/train/labels/no_tumor_932_jpg.rf.a6dc07dc604c03e84f7224782a6cdce9.txt  \n",
            "  inflating: dataset/train/labels/no_tumor_933_jpg.rf.8b05b7afabac3913cd00c02647db3ba1.txt  \n",
            "  inflating: dataset/train/labels/no_tumor_934_jpg.rf.d1cd0942b91c29942b34b7693c96adb8.txt  \n",
            "  inflating: dataset/train/labels/no_tumor_938_jpg.rf.d85a3c7a932c98324f94183a3fa474df.txt  \n",
            "  inflating: dataset/train/labels/no_tumor_93_jpg.rf.13d48d1c7e4e1c3ee53905aeeb209954.txt  \n",
            "  inflating: dataset/train/labels/no_tumor_942_jpg.rf.9b41316c63dbbfe3cc70d4c00b7731f0.txt  \n",
            "  inflating: dataset/train/labels/no_tumor_943_jpg.rf.c4dac8a9c6ddf9426be125b7b0f0451c.txt  \n",
            "  inflating: dataset/train/labels/no_tumor_946_jpg.rf.acff3e0b54e52725b59dcd9d5c087d5d.txt  \n",
            "  inflating: dataset/train/labels/no_tumor_952_jpg.rf.a1dcc6df253b1c01e83bbd0e286f53a2.txt  \n",
            "  inflating: dataset/train/labels/no_tumor_953_jpg.rf.1063d26159b9c94d15ccfbe511e2c205.txt  \n",
            "  inflating: dataset/train/labels/no_tumor_954_jpg.rf.8a26f6a4b5c76af83e319aa59046e063.txt  \n",
            "  inflating: dataset/train/labels/no_tumor_960_jpg.rf.f968706e3f72df5eb006f51fcdec01b0.txt  \n",
            "  inflating: dataset/train/labels/no_tumor_962_jpg.rf.93b0a71bab0f484781718745cad89ce6.txt  \n",
            "  inflating: dataset/train/labels/no_tumor_964_jpg.rf.ea28617a5fc122af4ae1edca3b76736b.txt  \n",
            "  inflating: dataset/train/labels/no_tumor_965_jpg.rf.6383ea435c57a0f8c20c243f1bf1da4e.txt  \n",
            "  inflating: dataset/train/labels/no_tumor_973_jpg.rf.090d284c0592a1cfe32f4348c26d126c.txt  \n",
            "  inflating: dataset/train/labels/no_tumor_97_jpg.rf.932de25b4dfeb8a7b4bab146c57b1a3b.txt  \n",
            "  inflating: dataset/train/labels/no_tumor_981_jpg.rf.e258da99bf1289a94401dcc2087cf8ad.txt  \n",
            "  inflating: dataset/train/labels/no_tumor_982_jpg.rf.63ad40d046a68124bca367b4e8d111d3.txt  \n",
            "  inflating: dataset/train/labels/no_tumor_990_jpg.rf.838e5ce486898fa879a92f2ca6486e66.txt  \n",
            "  inflating: dataset/train/labels/no_tumor_992_jpg.rf.9c52cd6b6948f0c7d4731a65ec2350b5.txt  \n",
            "  inflating: dataset/train/labels/no_tumor_993_jpg.rf.c0637b498814ce64ba8545dc094d7c86.txt  \n",
            "  inflating: dataset/train/labels/no_tumor_9_jpg.rf.f12a0c01706e830ae6441bb9eab92796.txt  \n",
            "  inflating: dataset/train/labels/pituitary_1000_jpg.rf.87b6ed5c31e7807f6d56b021c8cb29fe.txt  \n",
            "  inflating: dataset/train/labels/pituitary_1001_jpg.rf.a32d180f7e9b3dd0a8937bd8d4c4e9cf.txt  \n",
            "  inflating: dataset/train/labels/pituitary_1007_jpg.rf.4a3248f929f3d8ae3e31523ed6192801.txt  \n",
            "  inflating: dataset/train/labels/pituitary_1008_jpg.rf.a49115bac111dfcb2fc969dfec889eed.txt  \n",
            "  inflating: dataset/train/labels/pituitary_1010_jpg.rf.4b32ede821cc21169ee7ee87c7475f8b.txt  \n",
            "  inflating: dataset/train/labels/pituitary_1018_jpg.rf.9af1cd98be92950c3709176ced7d3429.txt  \n",
            "  inflating: dataset/train/labels/pituitary_1020_jpg.rf.449f45cd336cfeb937a13c9c387e7356.txt  \n",
            "  inflating: dataset/train/labels/pituitary_1022_jpg.rf.e70b5b495dbc0b6532f7b3e9f300a41f.txt  \n",
            "  inflating: dataset/train/labels/pituitary_1024_jpg.rf.3109ab187ccbc49368a10fad74be2637.txt  \n",
            "  inflating: dataset/train/labels/pituitary_1027_jpg.rf.61b9436cbddca07208253f7fb77dea3c.txt  \n",
            "  inflating: dataset/train/labels/pituitary_1030_jpg.rf.f6c51f77adf6afb8cc8fd9e6ec491e09.txt  \n",
            "  inflating: dataset/train/labels/pituitary_1033_jpg.rf.f3674beb04a997d22e70560719dad517.txt  \n",
            "  inflating: dataset/train/labels/pituitary_1037_jpg.rf.a38b08772f44b8ad09754454fd42bbbd.txt  \n",
            "  inflating: dataset/train/labels/pituitary_1038_jpg.rf.d8fa0cf57747c0fa5270fce9ff9003cd.txt  \n",
            "  inflating: dataset/train/labels/pituitary_1039_jpg.rf.da3dee214dabb24e4dd95db2b53ec015.txt  \n",
            "  inflating: dataset/train/labels/pituitary_103_jpg.rf.bff7d4ea3ad4757eb75a3204a97b2285.txt  \n",
            "  inflating: dataset/train/labels/pituitary_1042_jpg.rf.1c6a9f22d4656dc9f913e1321233be2b.txt  \n",
            "  inflating: dataset/train/labels/pituitary_1043_jpg.rf.a163864940ddf165696dbf3e6dfb023b.txt  \n",
            "  inflating: dataset/train/labels/pituitary_1046_jpg.rf.f872802679457eba8f1480eec2edd187.txt  \n",
            "  inflating: dataset/train/labels/pituitary_1048_jpg.rf.e0a7a7ae59a3bcab9321f03916485255.txt  \n",
            "  inflating: dataset/train/labels/pituitary_1055_jpg.rf.b2cbc7e12e37e185ffde132b856e015b.txt  \n",
            "  inflating: dataset/train/labels/pituitary_1057_jpg.rf.166c4d1bdc9c781dde190da9df26d7e7.txt  \n",
            "  inflating: dataset/train/labels/pituitary_1061_jpg.rf.73c2839491aecd2d6740e17c1e01a08a.txt  \n",
            "  inflating: dataset/train/labels/pituitary_1064_jpg.rf.c806771afa32d21b6cc68e8707be8385.txt  \n",
            "  inflating: dataset/train/labels/pituitary_1066_jpg.rf.40ddf908fa6d7c77f89bb79611c83c1c.txt  \n",
            "  inflating: dataset/train/labels/pituitary_1068_jpg.rf.edaf0b6b7d3b2985eda979ed6e841982.txt  \n",
            "  inflating: dataset/train/labels/pituitary_1078_jpg.rf.2cd1f412ca11bb69c6e684468ef5b211.txt  \n",
            "  inflating: dataset/train/labels/pituitary_1085_jpg.rf.ad625462177f73ddc314dd946a6292e2.txt  \n",
            "  inflating: dataset/train/labels/pituitary_1086_jpg.rf.e461d34577ac01919ecd443eaf3afedc.txt  \n",
            "  inflating: dataset/train/labels/pituitary_1087_jpg.rf.0b03feac0d2d2fc41b4f53e85d277900.txt  \n",
            "  inflating: dataset/train/labels/pituitary_1089_jpg.rf.438fabf0bedd684773e3815fa8a7a8e3.txt  \n",
            "  inflating: dataset/train/labels/pituitary_108_jpg.rf.5397b1416484ec98e6414987d43d61cc.txt  \n",
            "  inflating: dataset/train/labels/pituitary_1094_jpg.rf.833e049db147a7177baebf5cdc393524.txt  \n",
            "  inflating: dataset/train/labels/pituitary_1097_jpg.rf.0f165631ce19d548e025c85fc9e2fca4.txt  \n",
            "  inflating: dataset/train/labels/pituitary_1101_jpg.rf.81ca54811968652994121d9bcb03111a.txt  \n",
            "  inflating: dataset/train/labels/pituitary_1106_jpg.rf.1785103e32d63c2ab746fd9dfb252c4d.txt  \n",
            "  inflating: dataset/train/labels/pituitary_1111_jpg.rf.1e35a2f8c97d6330c6b2b4c6e7ca38d7.txt  \n",
            "  inflating: dataset/train/labels/pituitary_1123_jpg.rf.50c7e80ccada2e22eea54c10f71e0912.txt  \n",
            "  inflating: dataset/train/labels/pituitary_1124_jpg.rf.bd04ab69a51815d24906c9e24006d994.txt  \n",
            "  inflating: dataset/train/labels/pituitary_113_jpg.rf.9a22b4ebeb1132033df1f5184951f6eb.txt  \n",
            "  inflating: dataset/train/labels/pituitary_1148_jpg.rf.456fb9d350403fbe6095508093ddce49.txt  \n",
            "  inflating: dataset/train/labels/pituitary_114_jpg.rf.dab702f45daa231783befdf032cae55c.txt  \n",
            "  inflating: dataset/train/labels/pituitary_1154_jpg.rf.9d49b645823074628f245c88261978b5.txt  \n",
            "  inflating: dataset/train/labels/pituitary_1156_jpg.rf.340429492dabd20decb93296340a4784.txt  \n",
            "  inflating: dataset/train/labels/pituitary_1157_jpg.rf.0132b9505df20e32dc69fcbd92ee1836.txt  \n",
            "  inflating: dataset/train/labels/pituitary_1159_jpg.rf.2936724d8bee85db78948a74c27b0d29.txt  \n",
            "  inflating: dataset/train/labels/pituitary_115_jpg.rf.77b0cc9480438967db7c8deda08a62b0.txt  \n",
            "  inflating: dataset/train/labels/pituitary_1172_jpg.rf.d312a113e17b3f68e9897d65a9d2e041.txt  \n",
            "  inflating: dataset/train/labels/pituitary_1177_jpg.rf.35da09d3f616eeda96cb4e7609a423db.txt  \n",
            "  inflating: dataset/train/labels/pituitary_117_jpg.rf.316195f2b634ae24bd774f008c7cdecb.txt  \n",
            "  inflating: dataset/train/labels/pituitary_1181_jpg.rf.f46ac8ce835c7328a64bf0a3a7771e79.txt  \n",
            "  inflating: dataset/train/labels/pituitary_1185_jpg.rf.253c079ad4d367de0f6ec0da6dc8cbca.txt  \n",
            "  inflating: dataset/train/labels/pituitary_1188_jpg.rf.d22566a2b264e6995db3a783b303c8b9.txt  \n",
            "  inflating: dataset/train/labels/pituitary_1190_jpg.rf.963946bd2bef92d19723fee9372dd82b.txt  \n",
            "  inflating: dataset/train/labels/pituitary_1192_jpg.rf.e520aff8ee9f8ed1160c1abf6a275310.txt  \n",
            "  inflating: dataset/train/labels/pituitary_11_jpg.rf.bde1d9fcca94f9c92d0378690a700e61.txt  \n",
            "  inflating: dataset/train/labels/pituitary_1206_jpg.rf.3d813be76058ce3c9d5727a3d008d368.txt  \n",
            "  inflating: dataset/train/labels/pituitary_1207_jpg.rf.339dcbf52551b285173535c6c18a040c.txt  \n",
            "  inflating: dataset/train/labels/pituitary_1218_jpg.rf.801de0f57e180b2c6e1c3b0e8bafd838.txt  \n",
            "  inflating: dataset/train/labels/pituitary_121_jpg.rf.69678d105c4c8461021505f8762dead2.txt  \n",
            "  inflating: dataset/train/labels/pituitary_1220_jpg.rf.1a93ee08b6d68356a334faad2b900af7.txt  \n",
            "  inflating: dataset/train/labels/pituitary_1221_jpg.rf.891bfdf98be9c47ae57159fdd7d4a04d.txt  \n",
            "  inflating: dataset/train/labels/pituitary_1223_jpg.rf.b184096945c1565e9fb3c73a728f5ab6.txt  \n",
            "  inflating: dataset/train/labels/pituitary_1229_jpg.rf.000e21b8b7af9ca02db46d4ad97efae6.txt  \n",
            "  inflating: dataset/train/labels/pituitary_122_jpg.rf.e52e614ac450befa4d4ac6cfe48d24f2.txt  \n",
            "  inflating: dataset/train/labels/pituitary_1236_jpg.rf.d041da130c5eede6ef69dc356eb82620.txt  \n",
            "  inflating: dataset/train/labels/pituitary_1238_jpg.rf.75ded478842a9b689f4c0ad285632be3.txt  \n",
            "  inflating: dataset/train/labels/pituitary_123_jpg.rf.d0a1253fd1f3514c43961eb46b896114.txt  \n",
            "  inflating: dataset/train/labels/pituitary_1242_jpg.rf.78cb91ce4d04f66626021099d15dc5bd.txt  \n",
            "  inflating: dataset/train/labels/pituitary_1243_jpg.rf.152fbf5411e4e723cefde32d1a3cfd59.txt  \n",
            "  inflating: dataset/train/labels/pituitary_1246_jpg.rf.2e7d2e5e4d236ada1bf5963f7eec30dc.txt  \n",
            "  inflating: dataset/train/labels/pituitary_124_jpg.rf.02166d4ed6c79fa7861917ce569a6ebd.txt  \n",
            "  inflating: dataset/train/labels/pituitary_1255_jpg.rf.2d1042294b687a6f11d87ee0921e4c9a.txt  \n",
            "  inflating: dataset/train/labels/pituitary_1258_jpg.rf.eeb5bc277dade8567e70a7dacad158c8.txt  \n",
            "  inflating: dataset/train/labels/pituitary_1259_jpg.rf.e03d0d37b7d24d62f1085443a377b89d.txt  \n",
            "  inflating: dataset/train/labels/pituitary_125_jpg.rf.c80cf3b7a4c900b8e4325de9303fb3de.txt  \n",
            "  inflating: dataset/train/labels/pituitary_1261_jpg.rf.492393a04066b17cdb6b60d080852e1d.txt  \n",
            "  inflating: dataset/train/labels/pituitary_126_jpg.rf.58f3c6bafb3e0a5c0461d8a887d08812.txt  \n",
            "  inflating: dataset/train/labels/pituitary_1279_jpg.rf.5515a4c82ff4beb3a384ae1ca177d8d1.txt  \n",
            "  inflating: dataset/train/labels/pituitary_1282_jpg.rf.9ee76eab16909943dc2d105ea0669e10.txt  \n",
            "  inflating: dataset/train/labels/pituitary_1294_jpg.rf.d82bd59673650a65f638c0d24c2f27d0.txt  \n",
            "  inflating: dataset/train/labels/pituitary_1297_jpg.rf.02e83a77ffc7f4f78606eb31176d8d0d.txt  \n",
            "  inflating: dataset/train/labels/pituitary_1298_jpg.rf.3e33e4740658f4e7365d1c88804a3ec2.txt  \n",
            "  inflating: dataset/train/labels/pituitary_1299_jpg.rf.e0a6171844c4f1d06a5af3a6037b3ab6.txt  \n",
            "  inflating: dataset/train/labels/pituitary_129_jpg.rf.ef0f90d3b37cac8b1c74bf222850f2e3.txt  \n",
            "  inflating: dataset/train/labels/pituitary_1309_jpg.rf.6bae60f8182afc580ca187c230fd12b7.txt  \n",
            "  inflating: dataset/train/labels/pituitary_130_jpg.rf.b74f2b1f45fd236dfd4929cd284b4da5.txt  \n",
            "  inflating: dataset/train/labels/pituitary_1311_jpg.rf.5d3b8acc12524912dc99f8509b6a5f9e.txt  \n",
            "  inflating: dataset/train/labels/pituitary_1317_jpg.rf.8c09c8a2c50efed5cd9390131e44288f.txt  \n",
            "  inflating: dataset/train/labels/pituitary_131_jpg.rf.d4320a1dce36eb23c3caf8421131c139.txt  \n",
            "  inflating: dataset/train/labels/pituitary_1320_jpg.rf.1f8407f3632a8996abe97aff02655eb3.txt  \n",
            "  inflating: dataset/train/labels/pituitary_1325_jpg.rf.1761f310e25cf76d90fd44cbab7a4674.txt  \n",
            "  inflating: dataset/train/labels/pituitary_1342_jpg.rf.b792feb6aad2cba6c1326b4d6077fef9.txt  \n",
            "  inflating: dataset/train/labels/pituitary_1343_jpg.rf.abb4d43d5f4e56c6e6fafc98adcda5fa.txt  \n",
            "  inflating: dataset/train/labels/pituitary_1346_jpg.rf.bd82a62829e4af57da80bc166d55a33d.txt  \n",
            "  inflating: dataset/train/labels/pituitary_1353_jpg.rf.41935af18f13bf8b58005596af4179fc.txt  \n",
            "  inflating: dataset/train/labels/pituitary_1357_jpg.rf.530392e2eb642cefad6f4c0111d493b7.txt  \n",
            "  inflating: dataset/train/labels/pituitary_1367_jpg.rf.5914b4867dc4ef5e01a6686aa8cce7e8.txt  \n",
            "  inflating: dataset/train/labels/pituitary_137_jpg.rf.9039b0515d9213947be053137f97cf98.txt  \n",
            "  inflating: dataset/train/labels/pituitary_1382_jpg.rf.2429a0c6bc4404c7c7647eb9144905db.txt  \n",
            "  inflating: dataset/train/labels/pituitary_1383_jpg.rf.c9d98fe5e7fea02b05ab0de87cc2f020.txt  \n",
            "  inflating: dataset/train/labels/pituitary_1385_jpg.rf.5764690668e3d45dfa9bed965a76a1ea.txt  \n",
            "  inflating: dataset/train/labels/pituitary_1393_jpg.rf.26f9f19de92057cd2100b798e078a9a1.txt  \n",
            "  inflating: dataset/train/labels/pituitary_1400_jpg.rf.b81b30c77218502ad804366e9e9c65af.txt  \n",
            "  inflating: dataset/train/labels/pituitary_1404_jpg.rf.dbe8debedafd2bfc0fe4803699dc829e.txt  \n",
            "  inflating: dataset/train/labels/pituitary_1405_jpg.rf.f8c8c2496cdbaf8a83a97e5f4bcc8f1c.txt  \n",
            "  inflating: dataset/train/labels/pituitary_1407_jpg.rf.09b2eaf7e619a9c235e3048c3bd3f0a6.txt  \n",
            "  inflating: dataset/train/labels/pituitary_1409_jpg.rf.db632f15e69b86603d45b0a408b638ae.txt  \n",
            "  inflating: dataset/train/labels/pituitary_140_jpg.rf.5b80531eceff066df1159ecbfd489f2e.txt  \n",
            "  inflating: dataset/train/labels/pituitary_1415_jpg.rf.3dcfacd6d61c498a37ae104a7b68484a.txt  \n",
            "  inflating: dataset/train/labels/pituitary_1416_jpg.rf.57cdd2fa75790309df567bde00e3da2b.txt  \n",
            "  inflating: dataset/train/labels/pituitary_1421_jpg.rf.5b382942d4944afae4a203eb2ca6eeb8.txt  \n",
            "  inflating: dataset/train/labels/pituitary_1427_jpg.rf.5595b63eea9fb4a00d5581ae62ab47ec.txt  \n",
            "  inflating: dataset/train/labels/pituitary_1436_jpg.rf.6fbbb593c8e651b7ba90ecc98d688f09.txt  \n",
            "  inflating: dataset/train/labels/pituitary_1438_jpg.rf.a92df9ae627e1c9ce38e1dad452a7740.txt  \n",
            "  inflating: dataset/train/labels/pituitary_1439_jpg.rf.52e40f4eac3531a59fe34d0037993d9e.txt  \n",
            "  inflating: dataset/train/labels/pituitary_1451_jpg.rf.abba75cfa7ccfb3aeac67735105d4d6c.txt  \n",
            "  inflating: dataset/train/labels/pituitary_1453_jpg.rf.04b5a645ec6dd0776e475b08b969db22.txt  \n",
            "  inflating: dataset/train/labels/pituitary_146_jpg.rf.fb709ef6cc597e964dddb0ca4824f553.txt  \n",
            "  inflating: dataset/train/labels/pituitary_147_jpg.rf.d7addc2328755de0d735cd46731b550f.txt  \n",
            "  inflating: dataset/train/labels/pituitary_149_jpg.rf.a752b844822a817cadd5cab669a229b0.txt  \n",
            "  inflating: dataset/train/labels/pituitary_14_jpg.rf.0ed43606cb64d0d8fb914beb9b3d71b1.txt  \n",
            "  inflating: dataset/train/labels/pituitary_152_jpg.rf.fee1aa85a22eb1514164cafefab9ef37.txt  \n",
            "  inflating: dataset/train/labels/pituitary_154_jpg.rf.7fa27608b351c3fbefd7a70fd41f6a21.txt  \n",
            "  inflating: dataset/train/labels/pituitary_157_jpg.rf.fab3a62e15ce58bd6d8dcb1c462f48e7.txt  \n",
            "  inflating: dataset/train/labels/pituitary_158_jpg.rf.77c6fe774b3e1cddd6476bc3bedd447c.txt  \n",
            "  inflating: dataset/train/labels/pituitary_168_jpg.rf.aaf63185ace74da1677975f073c19951.txt  \n",
            "  inflating: dataset/train/labels/pituitary_16_jpg.rf.b84c67869927f85ff477ae7db6db9a5c.txt  \n",
            "  inflating: dataset/train/labels/pituitary_170_jpg.rf.1b460d77ac26e2c707ff8997576dd03b.txt  \n",
            "  inflating: dataset/train/labels/pituitary_190_jpg.rf.0a2a25726a4d6ab90420c0ded0a8edfd.txt  \n",
            "  inflating: dataset/train/labels/pituitary_19_jpg.rf.13cadca08978ec32b69bed7772dd3ea1.txt  \n",
            "  inflating: dataset/train/labels/pituitary_1_jpg.rf.af12f89122c80accfe8e1e761eb065aa.txt  \n",
            "  inflating: dataset/train/labels/pituitary_202_jpg.rf.b72bd3452c676440444e734d19732718.txt  \n",
            "  inflating: dataset/train/labels/pituitary_20_jpg.rf.5a0ebcd704a580a4392104b5d6d706f8.txt  \n",
            "  inflating: dataset/train/labels/pituitary_218_jpg.rf.ba2429e74bd9acb9627ac402c4aeac57.txt  \n",
            "  inflating: dataset/train/labels/pituitary_21_jpg.rf.bf154eb052afca2a3503d6ac4e3809df.txt  \n",
            "  inflating: dataset/train/labels/pituitary_227_jpg.rf.11303860cdba6f7da8784de7cd0fe35a.txt  \n",
            "  inflating: dataset/train/labels/pituitary_230_jpg.rf.1e60732f5bbe4682d05325eeabccc8d8.txt  \n",
            "  inflating: dataset/train/labels/pituitary_243_jpg.rf.2207eb779fccb72755c361bc2ad5b425.txt  \n",
            "  inflating: dataset/train/labels/pituitary_244_jpg.rf.58478c0560e03a47e4f680a098b10d0a.txt  \n",
            "  inflating: dataset/train/labels/pituitary_247_jpg.rf.3747d6cdc2b67c4ee7e8b5f82f23e8be.txt  \n",
            "  inflating: dataset/train/labels/pituitary_248_jpg.rf.b518b8c8039ebe11300d73c15514f927.txt  \n",
            "  inflating: dataset/train/labels/pituitary_249_jpg.rf.3953374b4c05261b5e7f1ea7460238ff.txt  \n",
            "  inflating: dataset/train/labels/pituitary_254_jpg.rf.097b1debae13249fafc0b6f320034392.txt  \n",
            "  inflating: dataset/train/labels/pituitary_257_jpg.rf.92412216f685a8c05b8c595de6467c4c.txt  \n",
            "  inflating: dataset/train/labels/pituitary_260_jpg.rf.6106032205be1c58d46f2b42244de930.txt  \n",
            "  inflating: dataset/train/labels/pituitary_266_jpg.rf.329c14826eb4b5f12fb6922fe2845f7b.txt  \n",
            "  inflating: dataset/train/labels/pituitary_267_jpg.rf.825394ca34181ad2fca63f13b1100dc8.txt  \n",
            "  inflating: dataset/train/labels/pituitary_268_jpg.rf.dfdb840e120955f6c6c7b07d347e4efc.txt  \n",
            "  inflating: dataset/train/labels/pituitary_269_jpg.rf.9035e3b437756afc4755b01d129965b0.txt  \n",
            "  inflating: dataset/train/labels/pituitary_271_jpg.rf.703cad670f7f4605236348e3bf169221.txt  \n",
            "  inflating: dataset/train/labels/pituitary_276_jpg.rf.88c69022d486420a43436c57652503cc.txt  \n",
            "  inflating: dataset/train/labels/pituitary_277_jpg.rf.7575731b5aea84cd117d7395cddbe672.txt  \n",
            "  inflating: dataset/train/labels/pituitary_278_jpg.rf.a69bb493a1d79ef1e72a70e7fbdd53e2.txt  \n",
            "  inflating: dataset/train/labels/pituitary_280_jpg.rf.27a5e63dca0569f36558ddd3f4198e77.txt  \n",
            "  inflating: dataset/train/labels/pituitary_290_jpg.rf.746709f2f5a0fc239520a487f299e6f5.txt  \n",
            "  inflating: dataset/train/labels/pituitary_293_jpg.rf.a1b03aec6b4eba10da26c9f1097e220d.txt  \n",
            "  inflating: dataset/train/labels/pituitary_295_jpg.rf.33f023252628dc40b0e4f044df06ba0b.txt  \n",
            "  inflating: dataset/train/labels/pituitary_2_jpg.rf.b59a4592aebe10effa30a561108513dc.txt  \n",
            "  inflating: dataset/train/labels/pituitary_304_jpg.rf.ab83252f4eb6625546b005fa3fd38aab.txt  \n",
            "  inflating: dataset/train/labels/pituitary_305_jpg.rf.e7c7c973ebe7f7d0e18aece38e8a2edb.txt  \n",
            "  inflating: dataset/train/labels/pituitary_314_jpg.rf.f9614bef9231de2a434382d7f7f5361b.txt  \n",
            "  inflating: dataset/train/labels/pituitary_323_jpg.rf.975a7c0b6089397cd94a1629cff04d2d.txt  \n",
            "  inflating: dataset/train/labels/pituitary_328_jpg.rf.daf8a18b0450eaef307122de90798b2e.txt  \n",
            "  inflating: dataset/train/labels/pituitary_336_jpg.rf.97af5674ebb9533d08e55de1103bd661.txt  \n",
            "  inflating: dataset/train/labels/pituitary_339_jpg.rf.5bfb40b325964b3de4951e93b9097a44.txt  \n",
            "  inflating: dataset/train/labels/pituitary_345_jpg.rf.ff17a251bfe67f11466b60d43c164990.txt  \n",
            "  inflating: dataset/train/labels/pituitary_347_jpg.rf.5b5a6738b4564e26e2ac4a12a83fe71f.txt  \n",
            "  inflating: dataset/train/labels/pituitary_349_jpg.rf.f6d0644ef3211c291e4b7ccdb217c48b.txt  \n",
            "  inflating: dataset/train/labels/pituitary_352_jpg.rf.3a2546e2cf83cbda2540be0c96ec5ab1.txt  \n",
            "  inflating: dataset/train/labels/pituitary_353_jpg.rf.d4c4f71325bfc241e61864a4848251a5.txt  \n",
            "  inflating: dataset/train/labels/pituitary_361_jpg.rf.13f649ec4f8142fef3013505e2e3a982.txt  \n",
            "  inflating: dataset/train/labels/pituitary_362_jpg.rf.cbd51c6049ef39b3dafdcd32c7122718.txt  \n",
            "  inflating: dataset/train/labels/pituitary_366_jpg.rf.17aeda00d23ceea54c56aad7da13f09b.txt  \n",
            "  inflating: dataset/train/labels/pituitary_367_jpg.rf.6def2e69ca7ff611b14c49c62d099a33.txt  \n",
            "  inflating: dataset/train/labels/pituitary_371_jpg.rf.8363f007153146be61551f3487dc3da4.txt  \n",
            "  inflating: dataset/train/labels/pituitary_383_jpg.rf.8f63a70e496e5263199823752e7bc500.txt  \n",
            "  inflating: dataset/train/labels/pituitary_394_jpg.rf.824f4f6b04d184e04a5cd5ec4f37bafd.txt  \n",
            "  inflating: dataset/train/labels/pituitary_395_jpg.rf.6ef2fc99bbf408189d3afe1c223c6896.txt  \n",
            "  inflating: dataset/train/labels/pituitary_396_jpg.rf.9224b7edefe1f5dbac97df7853f3cc66.txt  \n",
            "  inflating: dataset/train/labels/pituitary_422_jpg.rf.5e24fad1a51188d2f3751e2ff7ca0a6e.txt  \n",
            "  inflating: dataset/train/labels/pituitary_423_jpg.rf.0ba15b78ae75f82c3de5dbc236723790.txt  \n",
            "  inflating: dataset/train/labels/pituitary_424_jpg.rf.ec601ac96d52ea49c10314cbad7016a4.txt  \n",
            "  inflating: dataset/train/labels/pituitary_425_jpg.rf.657eea891f15b8c4358c3efe83a83aad.txt  \n",
            "  inflating: dataset/train/labels/pituitary_429_jpg.rf.6820785128fc5fb59d697c85a276689e.txt  \n",
            "  inflating: dataset/train/labels/pituitary_430_jpg.rf.d9cd0a77f58db998cce2763c301ea5d1.txt  \n",
            "  inflating: dataset/train/labels/pituitary_434_jpg.rf.82eb679432f78789b1e9a4e1f979cb04.txt  \n",
            "  inflating: dataset/train/labels/pituitary_439_jpg.rf.a405ebfce3f37d9cb358fa99999b98f5.txt  \n",
            "  inflating: dataset/train/labels/pituitary_442_jpg.rf.08e48ca357ff70abbfa5bc1ce17f45a8.txt  \n",
            "  inflating: dataset/train/labels/pituitary_444_jpg.rf.616b3837eb98648e1c60e7920eae79bb.txt  \n",
            "  inflating: dataset/train/labels/pituitary_449_jpg.rf.6d75373e9387e79e037bdac0438c0e6f.txt  \n",
            "  inflating: dataset/train/labels/pituitary_44_jpg.rf.c48004d2e5932f2334c827524d658c8b.txt  \n",
            "  inflating: dataset/train/labels/pituitary_456_jpg.rf.82b37b79c48da0a1cc9156ffb4524ab8.txt  \n",
            "  inflating: dataset/train/labels/pituitary_460_jpg.rf.78020dfd1d44b1b20e2c19af6f38ecb4.txt  \n",
            "  inflating: dataset/train/labels/pituitary_465_jpg.rf.f3145501ee162dfcbecbafa0153ebefc.txt  \n",
            "  inflating: dataset/train/labels/pituitary_46_jpg.rf.df07e1618f94d6bc9394c915dacc133c.txt  \n",
            "  inflating: dataset/train/labels/pituitary_473_jpg.rf.e1948b14f933edfeade450f357db08f3.txt  \n",
            "  inflating: dataset/train/labels/pituitary_477_jpg.rf.a25e44febf86a9e1df042d6ae6953219.txt  \n",
            "  inflating: dataset/train/labels/pituitary_479_jpg.rf.e248bf1844b0fbe2e4cdd89d9ad51d77.txt  \n",
            "  inflating: dataset/train/labels/pituitary_47_jpg.rf.98746078a4763afab54d183037b8781a.txt  \n",
            "  inflating: dataset/train/labels/pituitary_482_jpg.rf.dd6b990733496ceda8f4fad4a9d438e7.txt  \n",
            "  inflating: dataset/train/labels/pituitary_48_jpg.rf.a755a02424ec0b78be5671ea44a66b7e.txt  \n",
            "  inflating: dataset/train/labels/pituitary_492_jpg.rf.b5d983179d15d5e552977fd594d6d163.txt  \n",
            "  inflating: dataset/train/labels/pituitary_506_jpg.rf.c4855fed19f6ec15b4331f0ef5ca4da9.txt  \n",
            "  inflating: dataset/train/labels/pituitary_516_jpg.rf.3145996fbbb24667aac495d31785f94f.txt  \n",
            "  inflating: dataset/train/labels/pituitary_519_jpg.rf.f98a7a057186388f5dabbce0af86eac0.txt  \n",
            "  inflating: dataset/train/labels/pituitary_51_jpg.rf.c86c7c9cb6f00d5d6a5ebf6374ff55a0.txt  \n",
            "  inflating: dataset/train/labels/pituitary_531_jpg.rf.07fdbd86cac067d5937843a2ac0ce0a7.txt  \n",
            "  inflating: dataset/train/labels/pituitary_554_jpg.rf.054d1dd57f91606c021fbd0abeb3b08a.txt  \n",
            "  inflating: dataset/train/labels/pituitary_555_jpg.rf.dcd99d87df100f580c54629a49640bcf.txt  \n",
            "  inflating: dataset/train/labels/pituitary_556_jpg.rf.c19c3633e62b39bac46de6e53e39acc9.txt  \n",
            "  inflating: dataset/train/labels/pituitary_559_jpg.rf.c7513b20da94e888e65f8e5f357d8402.txt  \n",
            "  inflating: dataset/train/labels/pituitary_55_jpg.rf.4973b5b39b5831b2fae3112a0764d24c.txt  \n",
            "  inflating: dataset/train/labels/pituitary_566_jpg.rf.36dc9507f01dda158361fec1e1656203.txt  \n",
            "  inflating: dataset/train/labels/pituitary_569_jpg.rf.de7b1ded8ca04e2d0fef9444c91d8ae4.txt  \n",
            "  inflating: dataset/train/labels/pituitary_56_jpg.rf.8c01921c919edabed2ba05c9b1adff62.txt  \n",
            "  inflating: dataset/train/labels/pituitary_570_jpg.rf.ac3df94d40eb4c020a2656cdded17bb0.txt  \n",
            "  inflating: dataset/train/labels/pituitary_571_jpg.rf.9932cf26092b727e163954279e53f3f3.txt  \n",
            "  inflating: dataset/train/labels/pituitary_575_jpg.rf.797a6694b0f849b807d6bc0761462b06.txt  \n",
            "  inflating: dataset/train/labels/pituitary_583_jpg.rf.1e75ef2db05601e8cbb6b364b50d1b31.txt  \n",
            "  inflating: dataset/train/labels/pituitary_587_jpg.rf.1a427f8f40f562ee5fcdaa4d1459d5ed.txt  \n",
            "  inflating: dataset/train/labels/pituitary_588_jpg.rf.f2ced73df65f8bb544a762fb33e72f0e.txt  \n",
            "  inflating: dataset/train/labels/pituitary_590_jpg.rf.e84608167ffa04939c2bb714fc8380a5.txt  \n",
            "  inflating: dataset/train/labels/pituitary_591_jpg.rf.a46d49781587bbfa5b3c684b696a5900.txt  \n",
            "  inflating: dataset/train/labels/pituitary_593_jpg.rf.1b51a447283facdc4570727eab5f8c6f.txt  \n",
            "  inflating: dataset/train/labels/pituitary_594_jpg.rf.b6ef63eb3d32156cd1c9b998d379d22a.txt  \n",
            "  inflating: dataset/train/labels/pituitary_596_jpg.rf.554a600b1f88405d132b160f1229ad36.txt  \n",
            "  inflating: dataset/train/labels/pituitary_605_jpg.rf.08e44850b3194acf91105c919598db1e.txt  \n",
            "  inflating: dataset/train/labels/pituitary_611_jpg.rf.d8d092e3661b06cb70573facc5447e56.txt  \n",
            "  inflating: dataset/train/labels/pituitary_612_jpg.rf.68bf84d673ece7bddabaef4ff4892665.txt  \n",
            "  inflating: dataset/train/labels/pituitary_613_jpg.rf.fb80ec77fc161e85db9485b9ca93520d.txt  \n",
            "  inflating: dataset/train/labels/pituitary_621_jpg.rf.7c6c4289d87e00f56b49a7eafbac9b93.txt  \n",
            "  inflating: dataset/train/labels/pituitary_623_jpg.rf.04bf89049a3932f0a13c6563a08187d6.txt  \n",
            "  inflating: dataset/train/labels/pituitary_631_jpg.rf.da60a5e29440dd5838b398dcef899d69.txt  \n",
            "  inflating: dataset/train/labels/pituitary_632_jpg.rf.8fdf813e1806f69c947425bbbf6239dd.txt  \n",
            "  inflating: dataset/train/labels/pituitary_633_jpg.rf.996b1eb1f3d572ca7f8638174a69f144.txt  \n",
            "  inflating: dataset/train/labels/pituitary_635_jpg.rf.9aa64b0eb54322fe8965104ada04de79.txt  \n",
            "  inflating: dataset/train/labels/pituitary_636_jpg.rf.4adb9120661b9d4e1728ebe83b4cabc4.txt  \n",
            "  inflating: dataset/train/labels/pituitary_653_jpg.rf.2f24641dd8e8005ef537e44e45e62962.txt  \n",
            "  inflating: dataset/train/labels/pituitary_659_jpg.rf.0b25241f4ab8b4612623063477d00f86.txt  \n",
            "  inflating: dataset/train/labels/pituitary_663_jpg.rf.8b1bb57e2cc41b67d03df8907be1f5c7.txt  \n",
            "  inflating: dataset/train/labels/pituitary_665_jpg.rf.7c2423680812f34b609962703ddb9652.txt  \n",
            "  inflating: dataset/train/labels/pituitary_67_jpg.rf.ccab68a1f5af9d8a81fbb9083951d784.txt  \n",
            "  inflating: dataset/train/labels/pituitary_685_jpg.rf.b58429ffb2d6ab069ea3310111e79cd6.txt  \n",
            "  inflating: dataset/train/labels/pituitary_687_jpg.rf.f0006d3aae44dc3214e24824c1266c6b.txt  \n",
            "  inflating: dataset/train/labels/pituitary_68_jpg.rf.c4ec1e963b1a57552b91f6e688ece879.txt  \n",
            "  inflating: dataset/train/labels/pituitary_694_jpg.rf.19db15b9effa9045595c060a8a99c38f.txt  \n",
            "  inflating: dataset/train/labels/pituitary_696_jpg.rf.90761be4dcae375307c1effc13d35364.txt  \n",
            "  inflating: dataset/train/labels/pituitary_6_jpg.rf.2ca208e02910662c1dae7d012c5ae6c7.txt  \n",
            "  inflating: dataset/train/labels/pituitary_702_jpg.rf.b2a49ec32a88d10d14074e5053a5aa86.txt  \n",
            "  inflating: dataset/train/labels/pituitary_709_jpg.rf.d810bc61ee13a6dac8cc402cfdf485b5.txt  \n",
            "  inflating: dataset/train/labels/pituitary_711_jpg.rf.1a83fd25d8e6bcdc53877dd2a65d2fdc.txt  \n",
            "  inflating: dataset/train/labels/pituitary_718_jpg.rf.b74ac8a3bb7cbac93ba0866225387377.txt  \n",
            "  inflating: dataset/train/labels/pituitary_734_jpg.rf.51e8ef459ee7379f127d26e278c13ae2.txt  \n",
            "  inflating: dataset/train/labels/pituitary_736_jpg.rf.a6597967353c35a003c6b083d31835e0.txt  \n",
            "  inflating: dataset/train/labels/pituitary_738_jpg.rf.79c1878f5f94e3110315261fc09a1401.txt  \n",
            "  inflating: dataset/train/labels/pituitary_739_jpg.rf.8989d4f3a5e933c6696f52264341ca55.txt  \n",
            "  inflating: dataset/train/labels/pituitary_744_jpg.rf.3ca41b90547fa2979cb8fc0e4a0e8dea.txt  \n",
            "  inflating: dataset/train/labels/pituitary_745_jpg.rf.db50f0c0c6d89535fd892b476f3bdc0e.txt  \n",
            "  inflating: dataset/train/labels/pituitary_747_jpg.rf.1cd94a1e17168f351aefbd2e1aecaaa4.txt  \n",
            "  inflating: dataset/train/labels/pituitary_758_jpg.rf.09c84a5ec214cef23e0b73d5bea36d2a.txt  \n",
            "  inflating: dataset/train/labels/pituitary_762_jpg.rf.b5b1ee478fdbc91f610db4cb87371d84.txt  \n",
            "  inflating: dataset/train/labels/pituitary_766_jpg.rf.bd99f9b94c920fe79998c62f45f9e47d.txt  \n",
            "  inflating: dataset/train/labels/pituitary_768_jpg.rf.e8a430da7c5b0950e7df9462e5e4de26.txt  \n",
            "  inflating: dataset/train/labels/pituitary_769_jpg.rf.341618ca603112b874715d16e831a9cd.txt  \n",
            "  inflating: dataset/train/labels/pituitary_772_jpg.rf.e8444854ffa17ee1af72ead65993c90f.txt  \n",
            "  inflating: dataset/train/labels/pituitary_778_jpg.rf.8157509deead3c5bcd6dca3348413e2c.txt  \n",
            "  inflating: dataset/train/labels/pituitary_780_jpg.rf.ad90ddefb46d2bdc021cddfbf05a8ff6.txt  \n",
            "  inflating: dataset/train/labels/pituitary_783_jpg.rf.b0dce24d099e49cd200f51d8ef7316e5.txt  \n",
            "  inflating: dataset/train/labels/pituitary_784_jpg.rf.35fbd8d5e826518335d6983657dafb52.txt  \n",
            "  inflating: dataset/train/labels/pituitary_793_jpg.rf.20ba3769841b919fefdb95de8317f19d.txt  \n",
            "  inflating: dataset/train/labels/pituitary_794_jpg.rf.a77dee1f5e8f9d388fd3dfc828405088.txt  \n",
            "  inflating: dataset/train/labels/pituitary_796_jpg.rf.9c5dc3279b211487c125bfb7cf39a3b8.txt  \n",
            "  inflating: dataset/train/labels/pituitary_803_jpg.rf.04a555485f86b09b1dd47ae855302ce3.txt  \n",
            "  inflating: dataset/train/labels/pituitary_806_jpg.rf.df6d80834454a16b6772ea277913b61b.txt  \n",
            "  inflating: dataset/train/labels/pituitary_808_jpg.rf.aa0b31166291376ced65a14dde28e85b.txt  \n",
            "  inflating: dataset/train/labels/pituitary_810_jpg.rf.88ca170a57be381915c5b28f20dc6c6d.txt  \n",
            "  inflating: dataset/train/labels/pituitary_811_jpg.rf.1615ed84247b9d492b270de36e664e8e.txt  \n",
            "  inflating: dataset/train/labels/pituitary_812_jpg.rf.8049b42fd2d7555107945f85d74f0cb0.txt  \n",
            "  inflating: dataset/train/labels/pituitary_815_jpg.rf.c332e84a90cb5561d3161c88d6d62eca.txt  \n",
            "  inflating: dataset/train/labels/pituitary_817_jpg.rf.4bc6eec52131d9d6e2dac873123dd565.txt  \n",
            "  inflating: dataset/train/labels/pituitary_820_jpg.rf.d36f05a81b8c5461cb541287889cf77f.txt  \n",
            "  inflating: dataset/train/labels/pituitary_831_jpg.rf.591ba244eb69a0d6bd26de903a4df1bf.txt  \n",
            "  inflating: dataset/train/labels/pituitary_838_jpg.rf.82b13975e57d46c90838e2b4e6aa77ef.txt  \n",
            "  inflating: dataset/train/labels/pituitary_852_jpg.rf.925c3aa87849fb333d0b19214c0206a2.txt  \n",
            "  inflating: dataset/train/labels/pituitary_860_jpg.rf.91c08cf0b866472922fc62d1bf8e086b.txt  \n",
            "  inflating: dataset/train/labels/pituitary_862_jpg.rf.a469356b04ff392e126c0d56d8eb52e0.txt  \n",
            "  inflating: dataset/train/labels/pituitary_874_jpg.rf.363dad0f07212d570140256caa943d3a.txt  \n",
            "  inflating: dataset/train/labels/pituitary_883_jpg.rf.41b151d1be030e3197206cc341a8f3b8.txt  \n",
            "  inflating: dataset/train/labels/pituitary_884_jpg.rf.a62e2da57ac8687dad3815d5588d1f2e.txt  \n",
            "  inflating: dataset/train/labels/pituitary_887_jpg.rf.75504a0b6dbbac193ac3341a4cc59891.txt  \n",
            "  inflating: dataset/train/labels/pituitary_88_jpg.rf.d51ea456693c57dd933bd911023fb63d.txt  \n",
            "  inflating: dataset/train/labels/pituitary_890_jpg.rf.400ed548e401014b561dd674f5b793d7.txt  \n",
            "  inflating: dataset/train/labels/pituitary_898_jpg.rf.f051221be1315f20eb54c3935c612261.txt  \n",
            "  inflating: dataset/train/labels/pituitary_89_jpg.rf.d358e9200bb7671e334c71c047f4fd57.txt  \n",
            "  inflating: dataset/train/labels/pituitary_903_jpg.rf.d05719ed4f1f14d37d38fdf0096ee538.txt  \n",
            "  inflating: dataset/train/labels/pituitary_904_jpg.rf.965691ddd5160a9f36ceb5f45d26ed77.txt  \n",
            "  inflating: dataset/train/labels/pituitary_906_jpg.rf.40dddab9d1238b14bb5e21d4d1fbe2ff.txt  \n",
            "  inflating: dataset/train/labels/pituitary_907_jpg.rf.475a249eaeaf81f62f79ed057deb2853.txt  \n",
            "  inflating: dataset/train/labels/pituitary_908_jpg.rf.18fafad27bf54398b8e7f3915f676f21.txt  \n",
            "  inflating: dataset/train/labels/pituitary_91_jpg.rf.881ee090506fae9f6753e96e129e3b8e.txt  \n",
            "  inflating: dataset/train/labels/pituitary_921_jpg.rf.4f9bc7ce14afa06a9f462f4b1e052962.txt  \n",
            "  inflating: dataset/train/labels/pituitary_924_jpg.rf.f0b6e7474e54b2f2713d932aa462cbe8.txt  \n",
            "  inflating: dataset/train/labels/pituitary_925_jpg.rf.1e931a5a900fec6ee905cccd46fda465.txt  \n",
            "  inflating: dataset/train/labels/pituitary_927_jpg.rf.4f53bd5d5b60b2094e3075e9dd88ad6c.txt  \n",
            "  inflating: dataset/train/labels/pituitary_930_jpg.rf.bab1001bd2e968752716a86bae781090.txt  \n",
            "  inflating: dataset/train/labels/pituitary_932_jpg.rf.aa24e9a8430e9d1c448c74ae8e37e70d.txt  \n",
            "  inflating: dataset/train/labels/pituitary_940_jpg.rf.54a9faf38d85dc767cf4a9ce0af0d5f0.txt  \n",
            "  inflating: dataset/train/labels/pituitary_944_jpg.rf.5e9522eb8d83fac9daf23a4934c1d594.txt  \n",
            "  inflating: dataset/train/labels/pituitary_961_jpg.rf.1563674e159c7cb834396022137202dc.txt  \n",
            "  inflating: dataset/train/labels/pituitary_965_jpg.rf.9baf87731e4e3899a086fd1d041cf789.txt  \n",
            "  inflating: dataset/train/labels/pituitary_966_jpg.rf.bd7d442f6cb99a4f8bed680e0e7c5863.txt  \n",
            "  inflating: dataset/train/labels/pituitary_976_jpg.rf.c2692a31bc999aeaeec2fe9e844e173a.txt  \n",
            "  inflating: dataset/train/labels/pituitary_977_jpg.rf.5d98843fa265f54b2682dc5c3a75e3a1.txt  \n",
            "  inflating: dataset/train/labels/pituitary_997_jpg.rf.e360b7003605a483342546daed1d7f8e.txt  \n",
            "   creating: dataset/valid/\n",
            "   creating: dataset/valid/images/\n",
            " extracting: dataset/valid/images/glioma_1022_jpg.rf.ab6956aa8c8a25f994539c5cf6227064.jpg  \n",
            " extracting: dataset/valid/images/glioma_104_jpg.rf.f5deabc016a8b3a913888b09baebacee.jpg  \n",
            " extracting: dataset/valid/images/glioma_1088_jpg.rf.5542c8b3dc2add56cd7303d7007e3ae8.jpg  \n",
            " extracting: dataset/valid/images/glioma_1109_jpg.rf.710d66962bf0db65050c34e750be6e7a.jpg  \n",
            " extracting: dataset/valid/images/glioma_1164_jpg.rf.4f2cfa1dc0e93548eeef3f9c30e3b7ee.jpg  \n",
            " extracting: dataset/valid/images/glioma_1226_jpg.rf.b459e0d24ecd906c121e9be1b88907c4.jpg  \n",
            " extracting: dataset/valid/images/glioma_1238_jpg.rf.e7fec135cbd5bafba3674a18b0b85818.jpg  \n",
            " extracting: dataset/valid/images/glioma_1254_jpg.rf.809e3b791a236a04a1445e2c5f7d979e.jpg  \n",
            " extracting: dataset/valid/images/glioma_1255_jpg.rf.ede8d4e550bf157ed2c9faf53dbeef4c.jpg  \n",
            " extracting: dataset/valid/images/glioma_1265_jpg.rf.0ceada97135f316a54f843aed7d1703e.jpg  \n",
            " extracting: dataset/valid/images/glioma_1275_jpg.rf.b57270922a310c95831b5373c35f7e1f.jpg  \n",
            " extracting: dataset/valid/images/glioma_12_jpg.rf.f146c6663e2614eba9da724a1c495acd.jpg  \n",
            " extracting: dataset/valid/images/glioma_1305_jpg.rf.9e8e8139db1dc7b685a00a340c0dcafd.jpg  \n",
            " extracting: dataset/valid/images/glioma_154_jpg.rf.d6b8dbf3c9061876f1ee6dbbe6113664.jpg  \n",
            " extracting: dataset/valid/images/glioma_167_jpg.rf.da25e4d04a053b942c6c5211a14397b3.jpg  \n",
            " extracting: dataset/valid/images/glioma_201_jpg.rf.a847f9af4f209d6323a0c4e4f07d63f1.jpg  \n",
            " extracting: dataset/valid/images/glioma_217_jpg.rf.8f0465bb2b7c3b57b0df37ff73a0259c.jpg  \n",
            " extracting: dataset/valid/images/glioma_334_jpg.rf.08fe123f3cb4647ece300fc6aa648214.jpg  \n",
            " extracting: dataset/valid/images/glioma_383_jpg.rf.c56f80ec1efa67d854350344b04f391d.jpg  \n",
            " extracting: dataset/valid/images/glioma_40_jpg.rf.a578edbb1cfe59a55b8377cdf4e46f16.jpg  \n",
            " extracting: dataset/valid/images/glioma_428_jpg.rf.2d27302e3d74586debc5ab63e605671f.jpg  \n",
            " extracting: dataset/valid/images/glioma_477_jpg.rf.fac2810f0b518f328de3369818336daf.jpg  \n",
            " extracting: dataset/valid/images/glioma_545_jpg.rf.1b2c558abef09235677541b8709a12b2.jpg  \n",
            " extracting: dataset/valid/images/glioma_620_jpg.rf.aad32c4d1721799b3ad1149352cd3af5.jpg  \n",
            " extracting: dataset/valid/images/glioma_639_jpg.rf.b9c17f063e393ff2952e662a4af07ee2.jpg  \n",
            " extracting: dataset/valid/images/glioma_73_jpg.rf.c59c51554d141873ad71c7482447e854.jpg  \n",
            " extracting: dataset/valid/images/glioma_76_jpg.rf.525d4172ac7731bdb68a73504014ffcc.jpg  \n",
            " extracting: dataset/valid/images/glioma_937_jpg.rf.ae7c14cefc5df10cfd7a4a4c34ddfdf4.jpg  \n",
            " extracting: dataset/valid/images/glioma_948_jpg.rf.f28cc5f42f837b7e005ffb2c740b8160.jpg  \n",
            " extracting: dataset/valid/images/glioma_964_jpg.rf.fc8440cfc0c94c2d452edebb7f71f0c5.jpg  \n",
            " extracting: dataset/valid/images/meningioma_1018_jpg.rf.31a71a9999537db1e0651387f1c2d102.jpg  \n",
            " extracting: dataset/valid/images/meningioma_1025_jpg.rf.642e70889054d7e7f3048e46948630a1.jpg  \n",
            " extracting: dataset/valid/images/meningioma_1044_jpg.rf.312ef7316cddb11bd721766f1712eced.jpg  \n",
            " extracting: dataset/valid/images/meningioma_108_jpg.rf.4b7febff023e20c52b0bda99f20322aa.jpg  \n",
            " extracting: dataset/valid/images/meningioma_1123_jpg.rf.51f067df444ea84a088907c87805bdbe.jpg  \n",
            " extracting: dataset/valid/images/meningioma_1125_jpg.rf.a8bfa701cc1fe4ce49a9e261ca79d4dd.jpg  \n",
            " extracting: dataset/valid/images/meningioma_115_jpg.rf.98156ea3bf9d25bbe5bc18bc6cc483b8.jpg  \n",
            " extracting: dataset/valid/images/meningioma_1173_jpg.rf.b612f4d2f294a442496a0c61719c2c4b.jpg  \n",
            " extracting: dataset/valid/images/meningioma_1184_jpg.rf.788f4bed9003550b08637f1f22bff24c.jpg  \n",
            " extracting: dataset/valid/images/meningioma_1189_jpg.rf.b46edce8b68e411674c47b753789fff6.jpg  \n",
            " extracting: dataset/valid/images/meningioma_1196_jpg.rf.1ea0c6622f1af2932f65b9ae6d07b1f4.jpg  \n",
            " extracting: dataset/valid/images/meningioma_1198_jpg.rf.aa562bb4304e3a28543e0715ddf77190.jpg  \n",
            " extracting: dataset/valid/images/meningioma_1202_jpg.rf.8006550acebd969ce2579747633630cc.jpg  \n",
            " extracting: dataset/valid/images/meningioma_1205_jpg.rf.7a3551dd2ce9a35906dc1ae386c37e2d.jpg  \n",
            " extracting: dataset/valid/images/meningioma_1208_jpg.rf.48b72738c07709590a0bde122c672a67.jpg  \n",
            " extracting: dataset/valid/images/meningioma_1211_jpg.rf.7800f5eeb077d1398a44ce7edfbdec8c.jpg  \n",
            " extracting: dataset/valid/images/meningioma_1215_jpg.rf.b507c5e7df19598a05db96b13cc71c75.jpg  \n",
            " extracting: dataset/valid/images/meningioma_1223_jpg.rf.5ca4caf12a46da940adeba0c67a7f2b8.jpg  \n",
            " extracting: dataset/valid/images/meningioma_122_jpg.rf.b8f33c11af9abf5b2d3a732f436b74e9.jpg  \n",
            " extracting: dataset/valid/images/meningioma_1232_jpg.rf.461290cf338a9e9c13e2e11757d97c9a.jpg  \n",
            " extracting: dataset/valid/images/meningioma_1241_jpg.rf.addad1eea8a59b7111e1a2c2ab052b97.jpg  \n",
            " extracting: dataset/valid/images/meningioma_1244_jpg.rf.d7d2600434c1faab0d4d353498543e2d.jpg  \n",
            " extracting: dataset/valid/images/meningioma_1245_jpg.rf.a4b95728201624d4cf56e70a12fa288f.jpg  \n",
            " extracting: dataset/valid/images/meningioma_1276_jpg.rf.7bae1a07294c81b208e6eb56c40ee365.jpg  \n",
            " extracting: dataset/valid/images/meningioma_1285_jpg.rf.16719575be6242b178b7258a6f12e940.jpg  \n",
            " extracting: dataset/valid/images/meningioma_1287_jpg.rf.05edb14dc7377ce1acf214e91375d452.jpg  \n",
            " extracting: dataset/valid/images/meningioma_1299_jpg.rf.215ba961935cafb3806427e0c46c4b39.jpg  \n",
            " extracting: dataset/valid/images/meningioma_1306_jpg.rf.9bb2c50d97af1fa023cb90661ffbad81.jpg  \n",
            " extracting: dataset/valid/images/meningioma_1315_jpg.rf.a6dae6a57801e04a0b060c32542d2276.jpg  \n",
            " extracting: dataset/valid/images/meningioma_1317_jpg.rf.9afa257fe8f51e66ba43459099b5c27e.jpg  \n",
            " extracting: dataset/valid/images/meningioma_1324_jpg.rf.4d5bff39778ccec03a572bb2f000e6b3.jpg  \n",
            " extracting: dataset/valid/images/meningioma_132_jpg.rf.2133ab6c2698ba0e76b75643b73b3fa6.jpg  \n",
            " extracting: dataset/valid/images/meningioma_142_jpg.rf.bc16b000d35742306f2a1788dbb00a1d.jpg  \n",
            " extracting: dataset/valid/images/meningioma_145_jpg.rf.af82b78e0d994f43a916bc2bf6527cf5.jpg  \n",
            " extracting: dataset/valid/images/meningioma_146_jpg.rf.29c24314852b50f3f04a4de7735c8261.jpg  \n",
            " extracting: dataset/valid/images/meningioma_14_jpg.rf.1d5c9e2741a6af8a523f877d2e1d0050.jpg  \n",
            " extracting: dataset/valid/images/meningioma_160_jpg.rf.04837c098df7a5f0184c80af849b8401.jpg  \n",
            " extracting: dataset/valid/images/meningioma_179_jpg.rf.2f2fd849ee977f3d5c781dddb57725e8.jpg  \n",
            " extracting: dataset/valid/images/meningioma_181_jpg.rf.a07e8ed8c0b3ee827c1e67d3fd60241b.jpg  \n",
            " extracting: dataset/valid/images/meningioma_184_jpg.rf.a0cf04543cb6542980ef171f2a9a2fc7.jpg  \n",
            " extracting: dataset/valid/images/meningioma_199_jpg.rf.ab708827b573d2f27462da723fc4209e.jpg  \n",
            " extracting: dataset/valid/images/meningioma_200_jpg.rf.1c8b789dd67a69f1e6fdd3c44f5fdb56.jpg  \n",
            " extracting: dataset/valid/images/meningioma_209_jpg.rf.0fa4494baf364d68baff0ad0730987a9.jpg  \n",
            " extracting: dataset/valid/images/meningioma_211_jpg.rf.6131e84721c8c3c95f46a3c158e27b1d.jpg  \n",
            " extracting: dataset/valid/images/meningioma_213_jpg.rf.24e73bf7cbf7beef2c82aeba6d81623c.jpg  \n",
            " extracting: dataset/valid/images/meningioma_220_jpg.rf.6b95313f6e1d3412f2809acf3d1f87ce.jpg  \n",
            " extracting: dataset/valid/images/meningioma_228_jpg.rf.2728d4bdea8f0dd8d364538ad2f939b0.jpg  \n",
            " extracting: dataset/valid/images/meningioma_230_jpg.rf.5d11a5fb2c30e4f584732d516838c23c.jpg  \n",
            " extracting: dataset/valid/images/meningioma_237_jpg.rf.446ceb32c2ae6efa17f77c23969dd9ee.jpg  \n",
            " extracting: dataset/valid/images/meningioma_241_jpg.rf.1a532ae953b9a685d99d20cb4e59f433.jpg  \n",
            " extracting: dataset/valid/images/meningioma_247_jpg.rf.4e654fe42faa65584d0d20217100cbe4.jpg  \n",
            " extracting: dataset/valid/images/meningioma_252_jpg.rf.77f7e2a406897946dc65db7a52515195.jpg  \n",
            " extracting: dataset/valid/images/meningioma_253_jpg.rf.e3e4cd09323e06fa5183418d371c3b1d.jpg  \n",
            " extracting: dataset/valid/images/meningioma_257_jpg.rf.a6b03ddbfee225035425cf2886ab5ee3.jpg  \n",
            " extracting: dataset/valid/images/meningioma_274_jpg.rf.e9a45742a67a9992a8fee774e8feb986.jpg  \n",
            " extracting: dataset/valid/images/meningioma_277_jpg.rf.80a7f9edd64bd084710a1abf65be1fe5.jpg  \n",
            " extracting: dataset/valid/images/meningioma_284_jpg.rf.a29a234784d4b2a3011332b28523ccda.jpg  \n",
            " extracting: dataset/valid/images/meningioma_311_jpg.rf.59ad21f3f40ec08bf507e0c81b11bb27.jpg  \n",
            " extracting: dataset/valid/images/meningioma_326_jpg.rf.06ff6187aa7b2837ab2ca0f1f6409133.jpg  \n",
            " extracting: dataset/valid/images/meningioma_327_jpg.rf.ae5ab1c26ed22d282ec65d161fcd34ba.jpg  \n",
            " extracting: dataset/valid/images/meningioma_332_jpg.rf.01427d915fbaf63631281218b34e67e0.jpg  \n",
            " extracting: dataset/valid/images/meningioma_336_jpg.rf.03306e22d13f8033ad873bfcd32f019f.jpg  \n",
            " extracting: dataset/valid/images/meningioma_337_jpg.rf.38c432304d491168a629d5114392583f.jpg  \n",
            " extracting: dataset/valid/images/meningioma_338_jpg.rf.d28d419f8acd2d514b7863bad0cbdaf7.jpg  \n",
            " extracting: dataset/valid/images/meningioma_340_jpg.rf.85d39b3cfc1e67bc21ade37d06bed6fd.jpg  \n",
            " extracting: dataset/valid/images/meningioma_350_jpg.rf.0e927d84952deb34014816419a8ae64f.jpg  \n",
            " extracting: dataset/valid/images/meningioma_351_jpg.rf.b26dc300f6a32c38d64ebedd50e55c72.jpg  \n",
            " extracting: dataset/valid/images/meningioma_356_jpg.rf.f31001a90c81278e3f9935663f2d9cdb.jpg  \n",
            " extracting: dataset/valid/images/meningioma_370_jpg.rf.dbec04b254ffcba58a97515c4fb72485.jpg  \n",
            " extracting: dataset/valid/images/meningioma_400_jpg.rf.2be92a05ad5b03f94b6ed8b649d80970.jpg  \n",
            " extracting: dataset/valid/images/meningioma_407_jpg.rf.563353fae3c19585fa4879834974c35f.jpg  \n",
            " extracting: dataset/valid/images/meningioma_408_jpg.rf.ac070051268f08ebd57d8502cdcc62d6.jpg  \n",
            " extracting: dataset/valid/images/meningioma_432_jpg.rf.142ba8cd81a1ad3e876b9d2df40ac99b.jpg  \n",
            " extracting: dataset/valid/images/meningioma_438_jpg.rf.e8882ab433abd2ee8224b53ded6202cb.jpg  \n",
            " extracting: dataset/valid/images/meningioma_43_jpg.rf.c5fbad305e63343f4b1773e5d501adff.jpg  \n",
            " extracting: dataset/valid/images/meningioma_450_jpg.rf.515eabc644cd7fbbc451a9430cb0c271.jpg  \n",
            " extracting: dataset/valid/images/meningioma_452_jpg.rf.c18054003dbe7d88c7abd13d59e7393a.jpg  \n",
            " extracting: dataset/valid/images/meningioma_454_jpg.rf.9d896f5e69af0c2576a586c91b62253f.jpg  \n",
            " extracting: dataset/valid/images/meningioma_478_jpg.rf.842f69b991ae31cdee33ef6d08c55234.jpg  \n",
            " extracting: dataset/valid/images/meningioma_47_jpg.rf.0d318bff47238418444d43c002c2c905.jpg  \n",
            " extracting: dataset/valid/images/meningioma_496_jpg.rf.987dbb12751d93d7f893d0d37257d99c.jpg  \n",
            " extracting: dataset/valid/images/meningioma_499_jpg.rf.99ced13e332182c9382940d425e0e264.jpg  \n",
            " extracting: dataset/valid/images/meningioma_501_jpg.rf.89fc4fb7d64c4588946d015bbe4ce49c.jpg  \n",
            " extracting: dataset/valid/images/meningioma_503_jpg.rf.4b1927dc404e63ec1a63ae20ca889b5a.jpg  \n",
            " extracting: dataset/valid/images/meningioma_509_jpg.rf.8c179b9af1225f1f5ad521b9eb9ef3b3.jpg  \n",
            " extracting: dataset/valid/images/meningioma_516_jpg.rf.d0c5109527e9f3f694079e4e9355ac35.jpg  \n",
            " extracting: dataset/valid/images/meningioma_536_jpg.rf.747123a0e95af24c44d486deaf727fdc.jpg  \n",
            " extracting: dataset/valid/images/meningioma_549_jpg.rf.2b62f4012f34e83fdfb0ac188771e854.jpg  \n",
            " extracting: dataset/valid/images/meningioma_556_jpg.rf.7bccbc4cfc4d63e56ade8e3edcf93605.jpg  \n",
            " extracting: dataset/valid/images/meningioma_562_jpg.rf.c8a317a7417995899a34f894c9523495.jpg  \n",
            " extracting: dataset/valid/images/meningioma_565_jpg.rf.436f153ae0c432014185002101529a09.jpg  \n",
            " extracting: dataset/valid/images/meningioma_601_jpg.rf.c97e495c3e58d52ca6f9466d72f66518.jpg  \n",
            " extracting: dataset/valid/images/meningioma_614_jpg.rf.8b6217c6cc9fdaebaeb2771e1c71c472.jpg  \n",
            " extracting: dataset/valid/images/meningioma_617_jpg.rf.64d2c7b7d10a36c41ef0772efa7f062c.jpg  \n",
            " extracting: dataset/valid/images/meningioma_640_jpg.rf.c49efacb21a5ec7e1efec01e86923605.jpg  \n",
            " extracting: dataset/valid/images/meningioma_652_jpg.rf.f1a511d2df8ad06444bd0743863fb44a.jpg  \n",
            " extracting: dataset/valid/images/meningioma_659_jpg.rf.b5f1d60fb87bb0bddcd7488bcb7cc9bd.jpg  \n",
            " extracting: dataset/valid/images/meningioma_65_jpg.rf.190091d77c284bec2d2a19c2d594bbab.jpg  \n",
            " extracting: dataset/valid/images/meningioma_667_jpg.rf.7b3840dc68d4c7f6edb9076b107db22a.jpg  \n",
            " extracting: dataset/valid/images/meningioma_688_jpg.rf.e946d6c6088c00542065b3b8090ff62b.jpg  \n",
            " extracting: dataset/valid/images/meningioma_696_jpg.rf.e950f810702b1395b235c5cdc8f9384b.jpg  \n",
            " extracting: dataset/valid/images/meningioma_698_jpg.rf.fff3af97210a4990caca2d2fa374dc6a.jpg  \n",
            " extracting: dataset/valid/images/meningioma_708_jpg.rf.afb26cf275398fa63ffe426a34326bd2.jpg  \n",
            " extracting: dataset/valid/images/meningioma_712_jpg.rf.181bd43be4347f25b904af5623d21bcc.jpg  \n",
            " extracting: dataset/valid/images/meningioma_728_jpg.rf.50b25c5f02105fade2a41b733bd29cd2.jpg  \n",
            " extracting: dataset/valid/images/meningioma_735_jpg.rf.89b58d53957ab395f0a3916069c1b977.jpg  \n",
            " extracting: dataset/valid/images/meningioma_741_jpg.rf.7351a474636fe6a0f0b35845374a39bb.jpg  \n",
            " extracting: dataset/valid/images/meningioma_742_jpg.rf.593293cfccc56c9bb359c85404e113bc.jpg  \n",
            " extracting: dataset/valid/images/meningioma_745_jpg.rf.ff942852f698de3cedfd6569e42587a3.jpg  \n",
            " extracting: dataset/valid/images/meningioma_764_jpg.rf.f19fea213f59d95c947d6f8ede946a2f.jpg  \n",
            " extracting: dataset/valid/images/meningioma_772_jpg.rf.032d80719301deb415065e7cc2b9306e.jpg  \n",
            " extracting: dataset/valid/images/meningioma_789_jpg.rf.1bb9fd320e1cdf0acaf638afdc6c0955.jpg  \n",
            " extracting: dataset/valid/images/meningioma_79_jpg.rf.0d8ed387436af1ccbecc77149d1b098c.jpg  \n",
            " extracting: dataset/valid/images/meningioma_803_jpg.rf.ed6dc1faa416cc5e15683263e42dc714.jpg  \n",
            " extracting: dataset/valid/images/meningioma_823_jpg.rf.ba2e94412b6bd773e0aa3dd7560f2331.jpg  \n",
            " extracting: dataset/valid/images/meningioma_835_jpg.rf.8cdc87734332846800ce1774edfdfd5b.jpg  \n",
            " extracting: dataset/valid/images/meningioma_836_jpg.rf.ed2528da9d3789aa436154d02c60f7bf.jpg  \n",
            " extracting: dataset/valid/images/meningioma_840_jpg.rf.c0d963f29e0bee565588a01d34e0fca8.jpg  \n",
            " extracting: dataset/valid/images/meningioma_848_jpg.rf.eb602cae880b865a51e899ba88593e67.jpg  \n",
            " extracting: dataset/valid/images/meningioma_849_jpg.rf.03cac650e89f33cf6a0e1d4f57c745ce.jpg  \n",
            " extracting: dataset/valid/images/meningioma_860_jpg.rf.090b2389cdfec5fada884008555b1a82.jpg  \n",
            " extracting: dataset/valid/images/meningioma_865_jpg.rf.870d1d3447e552366f47eccf0c57a8f7.jpg  \n",
            " extracting: dataset/valid/images/meningioma_871_jpg.rf.3783e22c8481fa2bfd8e0ce0a8b1b24a.jpg  \n",
            " extracting: dataset/valid/images/meningioma_875_jpg.rf.4720e8a8acbf9c3398270b4c74aa7f0d.jpg  \n",
            " extracting: dataset/valid/images/meningioma_878_jpg.rf.4487f4ab0d6afba1cd025d0052a1ef67.jpg  \n",
            " extracting: dataset/valid/images/meningioma_884_jpg.rf.42401315a4eb27916b3b79b99e835899.jpg  \n",
            " extracting: dataset/valid/images/meningioma_887_jpg.rf.f4aea839efb9519489a36649a8f89b05.jpg  \n",
            " extracting: dataset/valid/images/meningioma_894_jpg.rf.f5e917b9f2acd2761973efb74826bcea.jpg  \n",
            " extracting: dataset/valid/images/meningioma_8_jpg.rf.cfef3b130d130b6cb51385d8589cc45f.jpg  \n",
            " extracting: dataset/valid/images/meningioma_906_jpg.rf.ba523c9e3efbfe87629e4851889cd4a8.jpg  \n",
            " extracting: dataset/valid/images/meningioma_908_jpg.rf.11ee7d1420dfa545edd3223c85debd32.jpg  \n",
            " extracting: dataset/valid/images/meningioma_911_jpg.rf.58a107efd4513c76e7e82c00e6cdf40f.jpg  \n",
            " extracting: dataset/valid/images/meningioma_916_jpg.rf.486f441b6c2dfcf3cb01db035ac92889.jpg  \n",
            " extracting: dataset/valid/images/meningioma_921_jpg.rf.8c06075a71d54ee1e4f321aef96662ab.jpg  \n",
            " extracting: dataset/valid/images/meningioma_92_jpg.rf.419f05266e9cec2a0cee373d87679329.jpg  \n",
            " extracting: dataset/valid/images/meningioma_945_jpg.rf.321c5e911f77a86199621386abaf461d.jpg  \n",
            " extracting: dataset/valid/images/meningioma_950_jpg.rf.76630619b029f672853d569224775be8.jpg  \n",
            " extracting: dataset/valid/images/meningioma_960_jpg.rf.c012468e3499961dd54bd347dca969ab.jpg  \n",
            " extracting: dataset/valid/images/meningioma_964_jpg.rf.dc11bf8d914d64dafa7915955dab2a0f.jpg  \n",
            " extracting: dataset/valid/images/meningioma_965_jpg.rf.dce38666413e6b6147fb853df960c294.jpg  \n",
            " extracting: dataset/valid/images/meningioma_984_jpg.rf.e983f95359483021910289163782e42a.jpg  \n",
            " extracting: dataset/valid/images/meningioma_991_jpg.rf.931c156f35137b76b908565975f019af.jpg  \n",
            " extracting: dataset/valid/images/meningioma_994_jpg.rf.9001dc4787284f16f6b1ae12e5e8ffd7.jpg  \n",
            " extracting: dataset/valid/images/meningioma_996_jpg.rf.60e56ad8f2e53ec66cb63d5f0bca3b50.jpg  \n",
            " extracting: dataset/valid/images/no_tumor_1002_jpg.rf.eb7141382aa74daadf933293752fc0e9.jpg  \n",
            " extracting: dataset/valid/images/no_tumor_1007_jpg.rf.353ec7f8439cfce18e6427ff90b0227d.jpg  \n",
            " extracting: dataset/valid/images/no_tumor_1031_jpg.rf.1813fcf1fb0b41bdb976e8d18fe1883f.jpg  \n",
            " extracting: dataset/valid/images/no_tumor_1065_jpg.rf.1ec3b70d96fb8b78a04d1d441e06b212.jpg  \n",
            " extracting: dataset/valid/images/no_tumor_1067_jpg.rf.6759483b515ce59d018e993929253c0c.jpg  \n",
            " extracting: dataset/valid/images/no_tumor_1081_jpg.rf.3fee39a6990fb23d44eea30539f59a86.jpg  \n",
            " extracting: dataset/valid/images/no_tumor_1099_jpg.rf.cd73f9b21c76fee7d8351df787a3a187.jpg  \n",
            " extracting: dataset/valid/images/no_tumor_1111_jpg.rf.bcdda948159a5b6c6b9692d7153b122a.jpg  \n",
            " extracting: dataset/valid/images/no_tumor_1130_jpg.rf.2db8f0176c51e5a76901704547e8d1c7.jpg  \n",
            " extracting: dataset/valid/images/no_tumor_117_jpg.rf.a77886592d46f8676d3f88224317d8bf.jpg  \n",
            " extracting: dataset/valid/images/no_tumor_1208_jpg.rf.98f94430f7427d8b40b37347d0a47511.jpg  \n",
            " extracting: dataset/valid/images/no_tumor_1213_jpg.rf.9c3c499dac7a19cc19fb3e7048a2b68d.jpg  \n",
            " extracting: dataset/valid/images/no_tumor_1217_jpg.rf.51b55faf0f84152be6e3badb4a17dc26.jpg  \n",
            " extracting: dataset/valid/images/no_tumor_1218_jpg.rf.346335503c22e7b3c561b3e653f9bf5c.jpg  \n",
            " extracting: dataset/valid/images/no_tumor_1223_jpg.rf.7e04a1d8bdac4b0d82a00fb230faab4e.jpg  \n",
            " extracting: dataset/valid/images/no_tumor_1224_jpg.rf.b32a1e11c44daa95b6dd7a247bce0915.jpg  \n",
            " extracting: dataset/valid/images/no_tumor_1227_jpg.rf.20a2974c7b09a97daee67d10bbef77f8.jpg  \n",
            " extracting: dataset/valid/images/no_tumor_1239_jpg.rf.e7f49a10e3c51a2f4716aced909a6879.jpg  \n",
            " extracting: dataset/valid/images/no_tumor_1263_jpg.rf.278209afdaccffa333898c2a9806d076.jpg  \n",
            " extracting: dataset/valid/images/no_tumor_1284_jpg.rf.65e8ae14b72a58c15f86a06096c198c9.jpg  \n",
            " extracting: dataset/valid/images/no_tumor_1289_jpg.rf.88f9d17ca2ac7c8cc8d7b15fc82d832a.jpg  \n",
            " extracting: dataset/valid/images/no_tumor_1344_jpg.rf.6997999a2a135b672fd204796d5722cb.jpg  \n",
            " extracting: dataset/valid/images/no_tumor_1345_jpg.rf.4f408dfee96035c8070afc955b7dfc7d.jpg  \n",
            " extracting: dataset/valid/images/no_tumor_1348_jpg.rf.3560eb8c558f6b4596d9556129c45b03.jpg  \n",
            " extracting: dataset/valid/images/no_tumor_1352_jpg.rf.03f11683c6e52a9c00f61c09aa474a26.jpg  \n",
            " extracting: dataset/valid/images/no_tumor_1363_jpg.rf.483ea5869df59e48dc024e3271938801.jpg  \n",
            " extracting: dataset/valid/images/no_tumor_136_jpg.rf.78af9cb227bc4cf835b9e27085dc118e.jpg  \n",
            " extracting: dataset/valid/images/no_tumor_1384_jpg.rf.2b3633eb69760763da3edb53def51fcc.jpg  \n",
            " extracting: dataset/valid/images/no_tumor_1386_jpg.rf.04f978ef6b137d199b27baeb69b47fd6.jpg  \n",
            " extracting: dataset/valid/images/no_tumor_1396_jpg.rf.164ed037bd3b4078bf95bfebfbe2f577.jpg  \n",
            " extracting: dataset/valid/images/no_tumor_1410_jpg.rf.4dc51a0a8672ccb40ab19e2ac0d45d24.jpg  \n",
            " extracting: dataset/valid/images/no_tumor_1436_jpg.rf.f9dfa062fa7fe2faad9bf6f2339bc801.jpg  \n",
            " extracting: dataset/valid/images/no_tumor_1446_jpg.rf.2bd824b13bed9b4682994b744ea84bd3.jpg  \n",
            " extracting: dataset/valid/images/no_tumor_1449_jpg.rf.23f0a67b927372d9d62fa82ae384d29d.jpg  \n",
            " extracting: dataset/valid/images/no_tumor_1471_jpg.rf.70f8826cb6dd5840e3f3e8cdab81914e.jpg  \n",
            " extracting: dataset/valid/images/no_tumor_1498_jpg.rf.0cc5de5358026d422cca78938a1b524c.jpg  \n",
            " extracting: dataset/valid/images/no_tumor_1516_jpg.rf.d295bf54bf757e4c11e3227514b24927.jpg  \n",
            " extracting: dataset/valid/images/no_tumor_1526_jpg.rf.f04364a9a0677f4c5afa9c6722332652.jpg  \n",
            " extracting: dataset/valid/images/no_tumor_1527_jpg.rf.48e4573bae8fb915b51adb01bbb9ee74.jpg  \n",
            " extracting: dataset/valid/images/no_tumor_153_jpg.rf.c20634846bf0ce46b0448de73a93b798.jpg  \n",
            " extracting: dataset/valid/images/no_tumor_1540_jpg.rf.f77cfa5a2c91216f53de79005f23a689.jpg  \n",
            " extracting: dataset/valid/images/no_tumor_1543_jpg.rf.f3ad98a16dad21108457852f884f3620.jpg  \n",
            " extracting: dataset/valid/images/no_tumor_1560_jpg.rf.c6bdac2fa89008814012673fe60d3508.jpg  \n",
            " extracting: dataset/valid/images/no_tumor_1566_jpg.rf.f57ac5bf9b8a5026a8f5ff3726afe00a.jpg  \n",
            " extracting: dataset/valid/images/no_tumor_1585_jpg.rf.8f7ba4467c93dde0aab4f224746fdbb5.jpg  \n",
            " extracting: dataset/valid/images/no_tumor_160_jpg.rf.7625f9c90ed889d0c404d10336754e20.jpg  \n",
            " extracting: dataset/valid/images/no_tumor_163_jpg.rf.b26bfb07fbe3a327ceee190d2a903c1b.jpg  \n",
            " extracting: dataset/valid/images/no_tumor_171_jpg.rf.c1116241df77b03e6d4ab77a910b4ac0.jpg  \n",
            " extracting: dataset/valid/images/no_tumor_183_jpg.rf.aaa5d2efc50933db68c8052329d6fd4b.jpg  \n",
            " extracting: dataset/valid/images/no_tumor_185_jpg.rf.e9332674f3901590135928591ee7b443.jpg  \n",
            " extracting: dataset/valid/images/no_tumor_194_jpg.rf.a826cac67a65f27a35b74ea688103344.jpg  \n",
            " extracting: dataset/valid/images/no_tumor_197_jpg.rf.d86f7d9652a73b11fa6a21d1c9cd60c5.jpg  \n",
            " extracting: dataset/valid/images/no_tumor_206_jpg.rf.c3e7e854c21aa7a726c844abaacfa985.jpg  \n",
            " extracting: dataset/valid/images/no_tumor_216_jpg.rf.81d70848b85647aaacd54e6327c689f9.jpg  \n",
            " extracting: dataset/valid/images/no_tumor_217_jpg.rf.8f847ed9bd96be84f764ece15d91b6e6.jpg  \n",
            " extracting: dataset/valid/images/no_tumor_236_jpg.rf.85c9441997ad78e26443f19c05332dd9.jpg  \n",
            " extracting: dataset/valid/images/no_tumor_302_jpg.rf.de592ff09d80dfcb17d95a8ede53d1e4.jpg  \n",
            " extracting: dataset/valid/images/no_tumor_329_jpg.rf.070fe5b5666fe2889a0516d4e93f09db.jpg  \n",
            " extracting: dataset/valid/images/no_tumor_32_jpg.rf.0fb9b63cf476fafec16401c5822419ea.jpg  \n",
            " extracting: dataset/valid/images/no_tumor_355_jpg.rf.84477c90ae6a91a6d7d46575f37742c5.jpg  \n",
            " extracting: dataset/valid/images/no_tumor_359_jpg.rf.572476bc6f188b37294cd551c73bff36.jpg  \n",
            " extracting: dataset/valid/images/no_tumor_362_jpg.rf.a97885865534be610f8dbbd58e56a432.jpg  \n",
            " extracting: dataset/valid/images/no_tumor_367_jpg.rf.94625e3cea0d1413b37479452bfc4db0.jpg  \n",
            " extracting: dataset/valid/images/no_tumor_368_jpg.rf.eb89db210e555ab0c35246d0a8c794b7.jpg  \n",
            " extracting: dataset/valid/images/no_tumor_370_jpg.rf.a375d8d09f8ea0274c2972816b7289d0.jpg  \n",
            " extracting: dataset/valid/images/no_tumor_384_jpg.rf.add95791956e5b87c5a99cbdcebc52f3.jpg  \n",
            " extracting: dataset/valid/images/no_tumor_388_jpg.rf.6ae31956bef019bd6b92745808f5e29c.jpg  \n",
            " extracting: dataset/valid/images/no_tumor_392_jpg.rf.cd8a53dff0db8fe15f7b7198b14e04bd.jpg  \n",
            " extracting: dataset/valid/images/no_tumor_40_jpg.rf.08020a56bb66d390b1f9061b27f9ada3.jpg  \n",
            " extracting: dataset/valid/images/no_tumor_41_jpg.rf.fc79c11369566f35c789381021daacea.jpg  \n",
            " extracting: dataset/valid/images/no_tumor_429_jpg.rf.ad8f82a83a75c8f3ea069bacb15b2667.jpg  \n",
            " extracting: dataset/valid/images/no_tumor_436_jpg.rf.94fb51400d8e9579600f4640fa4a1842.jpg  \n",
            " extracting: dataset/valid/images/no_tumor_456_jpg.rf.90e088657683fff3d66e7f5375a7599d.jpg  \n",
            " extracting: dataset/valid/images/no_tumor_50_jpg.rf.3be65f9c232a4652ded849dbc661cddd.jpg  \n",
            " extracting: dataset/valid/images/no_tumor_535_jpg.rf.a70887aedbcf0828ad42060326e941f2.jpg  \n",
            " extracting: dataset/valid/images/no_tumor_546_jpg.rf.cd7b37e7b4749b28f6d52c8ad6889292.jpg  \n",
            " extracting: dataset/valid/images/no_tumor_580_jpg.rf.a6973334fe566d120d5e89e43012ee12.jpg  \n",
            " extracting: dataset/valid/images/no_tumor_613_jpg.rf.03e2f7f23767650797806734a2466921.jpg  \n",
            " extracting: dataset/valid/images/no_tumor_615_jpg.rf.69a773dbaf49fcd6b71f890fdb8fc5e7.jpg  \n",
            " extracting: dataset/valid/images/no_tumor_622_jpg.rf.4ec6d2dee2d9178e74a0031e87d9d48b.jpg  \n",
            " extracting: dataset/valid/images/no_tumor_62_jpg.rf.ef72cd835b012e3ecc8829d4a0fae30d.jpg  \n",
            " extracting: dataset/valid/images/no_tumor_639_jpg.rf.9a390098e900f70cc25290f5c2b2acfc.jpg  \n",
            " extracting: dataset/valid/images/no_tumor_642_jpg.rf.512324112aae0a5ec37a1d955b6ec2d9.jpg  \n",
            " extracting: dataset/valid/images/no_tumor_643_jpg.rf.73be8e13c31c16c3f3de6d73d81f5a41.jpg  \n",
            " extracting: dataset/valid/images/no_tumor_64_jpg.rf.c37f888a9cd7193a8282b28ad1e821b1.jpg  \n",
            " extracting: dataset/valid/images/no_tumor_65_jpg.rf.d0c617db44ca384b082d71b7bf4407c0.jpg  \n",
            " extracting: dataset/valid/images/no_tumor_665_jpg.rf.be649898c2cdde1292dc507e28da0927.jpg  \n",
            " extracting: dataset/valid/images/no_tumor_675_jpg.rf.1ad1f8846e1d8537cb1f0d83afce820d.jpg  \n",
            " extracting: dataset/valid/images/no_tumor_677_jpg.rf.c3e61ad4137f047ad843e240c03858c8.jpg  \n",
            " extracting: dataset/valid/images/no_tumor_683_jpg.rf.c44df82d787ccf30e1d50529d8beb588.jpg  \n",
            " extracting: dataset/valid/images/no_tumor_741_jpg.rf.8295ca43d5df8144af439d0869af0881.jpg  \n",
            " extracting: dataset/valid/images/no_tumor_771_jpg.rf.e40daaf725f1f6817dfeeeff5c66a145.jpg  \n",
            " extracting: dataset/valid/images/no_tumor_777_jpg.rf.6d02a1ac2cd70272de1cc347ff43fa0e.jpg  \n",
            " extracting: dataset/valid/images/no_tumor_778_jpg.rf.85b0a33e447c7fb1160ae25e6f255cbe.jpg  \n",
            " extracting: dataset/valid/images/no_tumor_782_jpg.rf.82c6b020ac0f81fe14e28a880febfec3.jpg  \n",
            " extracting: dataset/valid/images/no_tumor_789_jpg.rf.7bbf779a54237b93b2a590d5de20ee59.jpg  \n",
            " extracting: dataset/valid/images/no_tumor_798_jpg.rf.d1d5b7d9bd8c9372eae7268d7d74f60a.jpg  \n",
            " extracting: dataset/valid/images/no_tumor_803_jpg.rf.7e7b6949454153f02fece110715ba2bf.jpg  \n",
            " extracting: dataset/valid/images/no_tumor_820_jpg.rf.09b1e08174791ce390a1d64357d82f1d.jpg  \n",
            " extracting: dataset/valid/images/no_tumor_844_jpg.rf.5c4388e5461f6ba4346218e13e6ed9a8.jpg  \n",
            " extracting: dataset/valid/images/no_tumor_84_jpg.rf.e0c80858940cf7d4e12b89756f9f71b3.jpg  \n",
            " extracting: dataset/valid/images/no_tumor_854_jpg.rf.3753a0769e4956bf721130cd6f9caa83.jpg  \n",
            " extracting: dataset/valid/images/no_tumor_855_jpg.rf.a52d1a3997edfe6d0d665a98b8a88694.jpg  \n",
            " extracting: dataset/valid/images/no_tumor_890_jpg.rf.eb4da32fb507e2296f266fc017910798.jpg  \n",
            " extracting: dataset/valid/images/no_tumor_892_jpg.rf.895906826facdd5d906e9f997092d56d.jpg  \n",
            " extracting: dataset/valid/images/no_tumor_905_jpg.rf.1c4afb0f72368adba5f7fdb315c90e62.jpg  \n",
            " extracting: dataset/valid/images/no_tumor_907_jpg.rf.74a36007d3ef39b6458b7ddee7582e1b.jpg  \n",
            " extracting: dataset/valid/images/no_tumor_951_jpg.rf.1176685798923047beda3f04c8486b0c.jpg  \n",
            " extracting: dataset/valid/images/no_tumor_956_jpg.rf.320de10ee7815a41f6c73642dc7bc722.jpg  \n",
            " extracting: dataset/valid/images/no_tumor_957_jpg.rf.449e467036fb02ccb06154af2e28e7f7.jpg  \n",
            " extracting: dataset/valid/images/no_tumor_966_jpg.rf.46c7980a932d6269c724c002a73fe69a.jpg  \n",
            " extracting: dataset/valid/images/no_tumor_969_jpg.rf.c177054ee4015cf9d5171c5618e3ef6d.jpg  \n",
            " extracting: dataset/valid/images/no_tumor_995_jpg.rf.b3de5dbbc16cdd0204f064fe483c1c37.jpg  \n",
            " extracting: dataset/valid/images/no_tumor_996_jpg.rf.408890d2c8475c8c401a82afec20f035.jpg  \n",
            " extracting: dataset/valid/images/no_tumor_999_jpg.rf.d1687a97dc2837381fbe3a7371f3c99c.jpg  \n",
            " extracting: dataset/valid/images/pituitary_1009_jpg.rf.e179a6d77c8a0ce652c26b7aee667ceb.jpg  \n",
            " extracting: dataset/valid/images/pituitary_1026_jpg.rf.fa615e9c25e6aa3a263f679407b4a1a5.jpg  \n",
            " extracting: dataset/valid/images/pituitary_1044_jpg.rf.19d7eda33009adc9b1db6bd9083d8b98.jpg  \n",
            " extracting: dataset/valid/images/pituitary_1067_jpg.rf.0c9002bc461810e986834b904ca24f6e.jpg  \n",
            " extracting: dataset/valid/images/pituitary_1076_jpg.rf.6a8c3f73b891ffe6f81cf8e03582dafc.jpg  \n",
            " extracting: dataset/valid/images/pituitary_1092_jpg.rf.1d6a0ba11712209997009f547c16d238.jpg  \n",
            " extracting: dataset/valid/images/pituitary_1098_jpg.rf.d91b94211cbec86e864f47fd77a81eb3.jpg  \n",
            " extracting: dataset/valid/images/pituitary_1104_jpg.rf.77a4b9e4245dc05bc100a23e1cd0acb9.jpg  \n",
            " extracting: dataset/valid/images/pituitary_1107_jpg.rf.f59ef80dcd2a4136de36124616bc435c.jpg  \n",
            " extracting: dataset/valid/images/pituitary_1108_jpg.rf.a7bf774d2fb15ba62f47d79f33b74a24.jpg  \n",
            " extracting: dataset/valid/images/pituitary_1121_jpg.rf.b4704ff58bc42db83bf464df9c19e75b.jpg  \n",
            " extracting: dataset/valid/images/pituitary_1127_jpg.rf.aeffce333eb2c5de56ffdb1d587c0369.jpg  \n",
            " extracting: dataset/valid/images/pituitary_1152_jpg.rf.e47bd8fa3a9c1e4f829b69cb4375d7d8.jpg  \n",
            " extracting: dataset/valid/images/pituitary_1165_jpg.rf.94e81c2cb82675782dc4e5921be405ab.jpg  \n",
            " extracting: dataset/valid/images/pituitary_1171_jpg.rf.c6eef3d6c3ec7831fbcf0fc0aca4fb3b.jpg  \n",
            " extracting: dataset/valid/images/pituitary_1180_jpg.rf.ae6aa98e15f082e177ac2090c74ef02b.jpg  \n",
            " extracting: dataset/valid/images/pituitary_1197_jpg.rf.07965526c920bba41c1d5b7dd0089f1f.jpg  \n",
            " extracting: dataset/valid/images/pituitary_1198_jpg.rf.11d1c54285218a5b1dde50d508cfc794.jpg  \n",
            " extracting: dataset/valid/images/pituitary_1208_jpg.rf.f6af8616dfe73e7f284d9db3de136782.jpg  \n",
            " extracting: dataset/valid/images/pituitary_1222_jpg.rf.9560cfc6b55c48f9aa1692716de4e245.jpg  \n",
            " extracting: dataset/valid/images/pituitary_1247_jpg.rf.0f885c770dfeadef6da09d14a0aec1b9.jpg  \n",
            " extracting: dataset/valid/images/pituitary_1260_jpg.rf.962d995dae3c5e32c701d1b778f74d41.jpg  \n",
            " extracting: dataset/valid/images/pituitary_1262_jpg.rf.467185be0f99bf9b3d421767f440bf2b.jpg  \n",
            " extracting: dataset/valid/images/pituitary_1270_jpg.rf.625c288b1b6b7e19298316b10041e618.jpg  \n",
            " extracting: dataset/valid/images/pituitary_1293_jpg.rf.227ec5924fa283fc25b48a0b5ddcd1f9.jpg  \n",
            " extracting: dataset/valid/images/pituitary_1295_jpg.rf.a63887af4973fc134e57b1af4e60c675.jpg  \n",
            " extracting: dataset/valid/images/pituitary_1315_jpg.rf.0aebcf4347718666c98f20beea90aa41.jpg  \n",
            " extracting: dataset/valid/images/pituitary_1330_jpg.rf.7d13fca1123687a5db40fceeb350552a.jpg  \n",
            " extracting: dataset/valid/images/pituitary_1345_jpg.rf.537cc53b8da80358a6a661da0d61d3d5.jpg  \n",
            " extracting: dataset/valid/images/pituitary_1350_jpg.rf.98e44dd4b49fc352d659f065614ad9a0.jpg  \n",
            " extracting: dataset/valid/images/pituitary_1351_jpg.rf.ee8fe8c699b2b99e01c7f41d69410e98.jpg  \n",
            " extracting: dataset/valid/images/pituitary_1376_jpg.rf.36043ee2f3fc026f1ae2062299c0b505.jpg  \n",
            " extracting: dataset/valid/images/pituitary_1380_jpg.rf.d2cddf63eb15ae086dba6d9296236f71.jpg  \n",
            " extracting: dataset/valid/images/pituitary_1386_jpg.rf.b4cdf1145d81200512ff6d610473eceb.jpg  \n",
            " extracting: dataset/valid/images/pituitary_139_jpg.rf.6b793346b7668ed1f42c419b54999916.jpg  \n",
            " extracting: dataset/valid/images/pituitary_1437_jpg.rf.f58b5bec741ad04c78c44c2c5e2c430a.jpg  \n",
            " extracting: dataset/valid/images/pituitary_1440_jpg.rf.914705ce7e047c1b93557f9724dd6a4e.jpg  \n",
            " extracting: dataset/valid/images/pituitary_1448_jpg.rf.11d6d3135dfcef91d320133d2b2fd2e3.jpg  \n",
            " extracting: dataset/valid/images/pituitary_1449_jpg.rf.a391cc17ec28a458bf5d8e86a0ea1b8f.jpg  \n",
            " extracting: dataset/valid/images/pituitary_1456_jpg.rf.65fea9431b09018b4afdc9e26a3102ec.jpg  \n",
            " extracting: dataset/valid/images/pituitary_156_jpg.rf.169d34a242c1aab392535e0612a1fbd5.jpg  \n",
            " extracting: dataset/valid/images/pituitary_171_jpg.rf.6290ddd1131aafcb4bce1167db5f19ea.jpg  \n",
            " extracting: dataset/valid/images/pituitary_189_jpg.rf.649a81cb433ea19e0f07aa8b00f2554d.jpg  \n",
            " extracting: dataset/valid/images/pituitary_197_jpg.rf.39d697f7e73591c428e6546b826ac68f.jpg  \n",
            " extracting: dataset/valid/images/pituitary_207_jpg.rf.e268e6d86155a9c9017e1b816eea0eef.jpg  \n",
            " extracting: dataset/valid/images/pituitary_214_jpg.rf.b4ada692026dbea30c65e447f3430d69.jpg  \n",
            " extracting: dataset/valid/images/pituitary_259_jpg.rf.e7a8af82dc71e9fcc2edb0a15ec476c4.jpg  \n",
            " extracting: dataset/valid/images/pituitary_263_jpg.rf.915b29f4bfea50f135f1647859387a5f.jpg  \n",
            " extracting: dataset/valid/images/pituitary_288_jpg.rf.e802e126c7930bed0d6d3d7a0b83e900.jpg  \n",
            " extracting: dataset/valid/images/pituitary_311_jpg.rf.1204ad349fb21342fb37d4aaa6130976.jpg  \n",
            " extracting: dataset/valid/images/pituitary_338_jpg.rf.eeeb860df08888c687e8ffead7165ca1.jpg  \n",
            " extracting: dataset/valid/images/pituitary_34_jpg.rf.dd47d9c32ae228342cda345fd308c1ca.jpg  \n",
            " extracting: dataset/valid/images/pituitary_354_jpg.rf.9d4d3a32f68c95b22b9e370a0b4efa8d.jpg  \n",
            " extracting: dataset/valid/images/pituitary_36_jpg.rf.fd6705c944dab1fb3962524d35ddcf2f.jpg  \n",
            " extracting: dataset/valid/images/pituitary_403_jpg.rf.d573650d6ff7a0154fc704d7607ef9a5.jpg  \n",
            " extracting: dataset/valid/images/pituitary_404_jpg.rf.677d57ac4ee3c3fb96ce4efe22e9063f.jpg  \n",
            " extracting: dataset/valid/images/pituitary_411_jpg.rf.748049333a6fce2222cf7511835be3fb.jpg  \n",
            " extracting: dataset/valid/images/pituitary_470_jpg.rf.f1f9b1c6cfca246fb2d1a8cc708a417d.jpg  \n",
            " extracting: dataset/valid/images/pituitary_472_jpg.rf.d78e5d88f668fdb2d584e8cbc431c106.jpg  \n",
            " extracting: dataset/valid/images/pituitary_475_jpg.rf.81c6fdd17bdff50b43b76b75a97e3543.jpg  \n",
            " extracting: dataset/valid/images/pituitary_493_jpg.rf.37401d79404f9906aaa99e85f7c88fe2.jpg  \n",
            " extracting: dataset/valid/images/pituitary_497_jpg.rf.aaef3a2853a5dd9e8309eca35811b527.jpg  \n",
            " extracting: dataset/valid/images/pituitary_533_jpg.rf.92c341f51cb080a7059811307a860796.jpg  \n",
            " extracting: dataset/valid/images/pituitary_542_jpg.rf.c739efdaa53527636057bc1fcb68526c.jpg  \n",
            " extracting: dataset/valid/images/pituitary_546_jpg.rf.72f5354a69759a3b37185b519178955d.jpg  \n",
            " extracting: dataset/valid/images/pituitary_565_jpg.rf.d6cf0d552749c62f69b1cf1d3bc4d12c.jpg  \n",
            " extracting: dataset/valid/images/pituitary_567_jpg.rf.bb5b6ca6391cac363f1a1a69d33c07b5.jpg  \n",
            " extracting: dataset/valid/images/pituitary_589_jpg.rf.ef5f8bc3b105320502868193ab191c87.jpg  \n",
            " extracting: dataset/valid/images/pituitary_60_jpg.rf.1a4b4517ce496f69b86facecb4296981.jpg  \n",
            " extracting: dataset/valid/images/pituitary_626_jpg.rf.a1620fbfeae1bf27ab8d1e35ca5f321f.jpg  \n",
            " extracting: dataset/valid/images/pituitary_639_jpg.rf.acc1152352e1d325b776d5728c807413.jpg  \n",
            " extracting: dataset/valid/images/pituitary_640_jpg.rf.e4c12aca7b7c313222602aebf557be0d.jpg  \n",
            " extracting: dataset/valid/images/pituitary_649_jpg.rf.7e31ac2655ed36becd74b70a2e8cc828.jpg  \n",
            " extracting: dataset/valid/images/pituitary_657_jpg.rf.9a5199697d475febd4cfe5f0056a66dc.jpg  \n",
            " extracting: dataset/valid/images/pituitary_692_jpg.rf.9029e220dbb8f8bb70ce68e8a83c806f.jpg  \n",
            " extracting: dataset/valid/images/pituitary_698_jpg.rf.d435e3f15b867ebf52a22a63aaea5a5d.jpg  \n",
            " extracting: dataset/valid/images/pituitary_700_jpg.rf.a321c78a245b0d7fa88bd88befa55ccb.jpg  \n",
            " extracting: dataset/valid/images/pituitary_705_jpg.rf.5937ed706720a93c4b3420ed66df3e54.jpg  \n",
            " extracting: dataset/valid/images/pituitary_710_jpg.rf.289de300deb1a862a2afb4354da1f7fc.jpg  \n",
            " extracting: dataset/valid/images/pituitary_721_jpg.rf.9fd4133fe7ecaa1e04eafd2005a1acf2.jpg  \n",
            " extracting: dataset/valid/images/pituitary_733_jpg.rf.31501bcc82220ca2f87df8d1ccc85da2.jpg  \n",
            " extracting: dataset/valid/images/pituitary_735_jpg.rf.8a8dd2f2ac0c494dc0aae8398042c87f.jpg  \n",
            " extracting: dataset/valid/images/pituitary_742_jpg.rf.d607bca9083caa3adad6e52ccd02d54c.jpg  \n",
            " extracting: dataset/valid/images/pituitary_746_jpg.rf.cdd8dbf8f485107bd5c72e7ac134ce13.jpg  \n",
            " extracting: dataset/valid/images/pituitary_748_jpg.rf.747584aa30b5d6e4463549cf7e44fe74.jpg  \n",
            " extracting: dataset/valid/images/pituitary_752_jpg.rf.68e1176f678b63c866968b1a53dd0a16.jpg  \n",
            " extracting: dataset/valid/images/pituitary_774_jpg.rf.edd6e4ca6dcef76261f4ed6f57264e2f.jpg  \n",
            " extracting: dataset/valid/images/pituitary_775_jpg.rf.136418ce384ae4b66c20095012be9481.jpg  \n",
            " extracting: dataset/valid/images/pituitary_777_jpg.rf.e6602fb2d738e4c622b2a7fa4b569073.jpg  \n",
            " extracting: dataset/valid/images/pituitary_781_jpg.rf.5343e96691d37277402dafb1a48ead92.jpg  \n",
            " extracting: dataset/valid/images/pituitary_782_jpg.rf.7827aa6732810e05fe211ce5e688cb01.jpg  \n",
            " extracting: dataset/valid/images/pituitary_785_jpg.rf.f221f95749e78883efbf98b858af826b.jpg  \n",
            " extracting: dataset/valid/images/pituitary_7_jpg.rf.b42b94a81cba4fc6ff7c6de77efcfe2a.jpg  \n",
            " extracting: dataset/valid/images/pituitary_805_jpg.rf.695fc45c8441c4e2f33286a3c0954637.jpg  \n",
            " extracting: dataset/valid/images/pituitary_818_jpg.rf.aef4102ca82d145dcf9797b039db2c82.jpg  \n",
            " extracting: dataset/valid/images/pituitary_828_jpg.rf.348b0e189d063776ac400fd9ea5fde9a.jpg  \n",
            " extracting: dataset/valid/images/pituitary_878_jpg.rf.208922f4eef293b44c8ab463033157a6.jpg  \n",
            " extracting: dataset/valid/images/pituitary_885_jpg.rf.f255cf825b37083846017c6d4d24b9bd.jpg  \n",
            " extracting: dataset/valid/images/pituitary_889_jpg.rf.2c119b815694de488c965a9cdfa23261.jpg  \n",
            " extracting: dataset/valid/images/pituitary_910_jpg.rf.f12685eb37f15d08ce604a496f526b3d.jpg  \n",
            " extracting: dataset/valid/images/pituitary_911_jpg.rf.4f4db29616e6d538754dc7b63191190e.jpg  \n",
            " extracting: dataset/valid/images/pituitary_912_jpg.rf.8ee8f5860ad33785a7c479732467305a.jpg  \n",
            " extracting: dataset/valid/images/pituitary_917_jpg.rf.592ab4188f0cec2e64fc2e75213cef11.jpg  \n",
            " extracting: dataset/valid/images/pituitary_933_jpg.rf.365b22a61ed488ab4dc23230d772900e.jpg  \n",
            " extracting: dataset/valid/images/pituitary_937_jpg.rf.e4d8a601c65d84971df3794dd86bba7e.jpg  \n",
            " extracting: dataset/valid/images/pituitary_990_jpg.rf.33995d119eb8785c89eaef7e652c2ca2.jpg  \n",
            "   creating: dataset/valid/labels/\n",
            "  inflating: dataset/valid/labels/glioma_1022_jpg.rf.ab6956aa8c8a25f994539c5cf6227064.txt  \n",
            "  inflating: dataset/valid/labels/glioma_104_jpg.rf.f5deabc016a8b3a913888b09baebacee.txt  \n",
            "  inflating: dataset/valid/labels/glioma_1088_jpg.rf.5542c8b3dc2add56cd7303d7007e3ae8.txt  \n",
            "  inflating: dataset/valid/labels/glioma_1109_jpg.rf.710d66962bf0db65050c34e750be6e7a.txt  \n",
            "  inflating: dataset/valid/labels/glioma_1164_jpg.rf.4f2cfa1dc0e93548eeef3f9c30e3b7ee.txt  \n",
            "  inflating: dataset/valid/labels/glioma_1226_jpg.rf.b459e0d24ecd906c121e9be1b88907c4.txt  \n",
            "  inflating: dataset/valid/labels/glioma_1238_jpg.rf.e7fec135cbd5bafba3674a18b0b85818.txt  \n",
            "  inflating: dataset/valid/labels/glioma_1254_jpg.rf.809e3b791a236a04a1445e2c5f7d979e.txt  \n",
            "  inflating: dataset/valid/labels/glioma_1255_jpg.rf.ede8d4e550bf157ed2c9faf53dbeef4c.txt  \n",
            "  inflating: dataset/valid/labels/glioma_1265_jpg.rf.0ceada97135f316a54f843aed7d1703e.txt  \n",
            "  inflating: dataset/valid/labels/glioma_1275_jpg.rf.b57270922a310c95831b5373c35f7e1f.txt  \n",
            "  inflating: dataset/valid/labels/glioma_12_jpg.rf.f146c6663e2614eba9da724a1c495acd.txt  \n",
            "  inflating: dataset/valid/labels/glioma_1305_jpg.rf.9e8e8139db1dc7b685a00a340c0dcafd.txt  \n",
            "  inflating: dataset/valid/labels/glioma_154_jpg.rf.d6b8dbf3c9061876f1ee6dbbe6113664.txt  \n",
            "  inflating: dataset/valid/labels/glioma_167_jpg.rf.da25e4d04a053b942c6c5211a14397b3.txt  \n",
            "  inflating: dataset/valid/labels/glioma_201_jpg.rf.a847f9af4f209d6323a0c4e4f07d63f1.txt  \n",
            "  inflating: dataset/valid/labels/glioma_217_jpg.rf.8f0465bb2b7c3b57b0df37ff73a0259c.txt  \n",
            "  inflating: dataset/valid/labels/glioma_334_jpg.rf.08fe123f3cb4647ece300fc6aa648214.txt  \n",
            "  inflating: dataset/valid/labels/glioma_383_jpg.rf.c56f80ec1efa67d854350344b04f391d.txt  \n",
            "  inflating: dataset/valid/labels/glioma_40_jpg.rf.a578edbb1cfe59a55b8377cdf4e46f16.txt  \n",
            "  inflating: dataset/valid/labels/glioma_428_jpg.rf.2d27302e3d74586debc5ab63e605671f.txt  \n",
            "  inflating: dataset/valid/labels/glioma_477_jpg.rf.fac2810f0b518f328de3369818336daf.txt  \n",
            "  inflating: dataset/valid/labels/glioma_545_jpg.rf.1b2c558abef09235677541b8709a12b2.txt  \n",
            "  inflating: dataset/valid/labels/glioma_620_jpg.rf.aad32c4d1721799b3ad1149352cd3af5.txt  \n",
            "  inflating: dataset/valid/labels/glioma_639_jpg.rf.b9c17f063e393ff2952e662a4af07ee2.txt  \n",
            "  inflating: dataset/valid/labels/glioma_73_jpg.rf.c59c51554d141873ad71c7482447e854.txt  \n",
            "  inflating: dataset/valid/labels/glioma_76_jpg.rf.525d4172ac7731bdb68a73504014ffcc.txt  \n",
            "  inflating: dataset/valid/labels/glioma_937_jpg.rf.ae7c14cefc5df10cfd7a4a4c34ddfdf4.txt  \n",
            "  inflating: dataset/valid/labels/glioma_948_jpg.rf.f28cc5f42f837b7e005ffb2c740b8160.txt  \n",
            "  inflating: dataset/valid/labels/glioma_964_jpg.rf.fc8440cfc0c94c2d452edebb7f71f0c5.txt  \n",
            "  inflating: dataset/valid/labels/meningioma_1018_jpg.rf.31a71a9999537db1e0651387f1c2d102.txt  \n",
            "  inflating: dataset/valid/labels/meningioma_1025_jpg.rf.642e70889054d7e7f3048e46948630a1.txt  \n",
            "  inflating: dataset/valid/labels/meningioma_1044_jpg.rf.312ef7316cddb11bd721766f1712eced.txt  \n",
            "  inflating: dataset/valid/labels/meningioma_108_jpg.rf.4b7febff023e20c52b0bda99f20322aa.txt  \n",
            "  inflating: dataset/valid/labels/meningioma_1123_jpg.rf.51f067df444ea84a088907c87805bdbe.txt  \n",
            "  inflating: dataset/valid/labels/meningioma_1125_jpg.rf.a8bfa701cc1fe4ce49a9e261ca79d4dd.txt  \n",
            "  inflating: dataset/valid/labels/meningioma_115_jpg.rf.98156ea3bf9d25bbe5bc18bc6cc483b8.txt  \n",
            "  inflating: dataset/valid/labels/meningioma_1173_jpg.rf.b612f4d2f294a442496a0c61719c2c4b.txt  \n",
            "  inflating: dataset/valid/labels/meningioma_1184_jpg.rf.788f4bed9003550b08637f1f22bff24c.txt  \n",
            "  inflating: dataset/valid/labels/meningioma_1189_jpg.rf.b46edce8b68e411674c47b753789fff6.txt  \n",
            "  inflating: dataset/valid/labels/meningioma_1196_jpg.rf.1ea0c6622f1af2932f65b9ae6d07b1f4.txt  \n",
            "  inflating: dataset/valid/labels/meningioma_1198_jpg.rf.aa562bb4304e3a28543e0715ddf77190.txt  \n",
            "  inflating: dataset/valid/labels/meningioma_1202_jpg.rf.8006550acebd969ce2579747633630cc.txt  \n",
            "  inflating: dataset/valid/labels/meningioma_1205_jpg.rf.7a3551dd2ce9a35906dc1ae386c37e2d.txt  \n",
            "  inflating: dataset/valid/labels/meningioma_1208_jpg.rf.48b72738c07709590a0bde122c672a67.txt  \n",
            "  inflating: dataset/valid/labels/meningioma_1211_jpg.rf.7800f5eeb077d1398a44ce7edfbdec8c.txt  \n",
            "  inflating: dataset/valid/labels/meningioma_1215_jpg.rf.b507c5e7df19598a05db96b13cc71c75.txt  \n",
            "  inflating: dataset/valid/labels/meningioma_1223_jpg.rf.5ca4caf12a46da940adeba0c67a7f2b8.txt  \n",
            "  inflating: dataset/valid/labels/meningioma_122_jpg.rf.b8f33c11af9abf5b2d3a732f436b74e9.txt  \n",
            "  inflating: dataset/valid/labels/meningioma_1232_jpg.rf.461290cf338a9e9c13e2e11757d97c9a.txt  \n",
            "  inflating: dataset/valid/labels/meningioma_1241_jpg.rf.addad1eea8a59b7111e1a2c2ab052b97.txt  \n",
            "  inflating: dataset/valid/labels/meningioma_1244_jpg.rf.d7d2600434c1faab0d4d353498543e2d.txt  \n",
            "  inflating: dataset/valid/labels/meningioma_1245_jpg.rf.a4b95728201624d4cf56e70a12fa288f.txt  \n",
            "  inflating: dataset/valid/labels/meningioma_1276_jpg.rf.7bae1a07294c81b208e6eb56c40ee365.txt  \n",
            "  inflating: dataset/valid/labels/meningioma_1285_jpg.rf.16719575be6242b178b7258a6f12e940.txt  \n",
            "  inflating: dataset/valid/labels/meningioma_1287_jpg.rf.05edb14dc7377ce1acf214e91375d452.txt  \n",
            "  inflating: dataset/valid/labels/meningioma_1299_jpg.rf.215ba961935cafb3806427e0c46c4b39.txt  \n",
            "  inflating: dataset/valid/labels/meningioma_1306_jpg.rf.9bb2c50d97af1fa023cb90661ffbad81.txt  \n",
            "  inflating: dataset/valid/labels/meningioma_1315_jpg.rf.a6dae6a57801e04a0b060c32542d2276.txt  \n",
            "  inflating: dataset/valid/labels/meningioma_1317_jpg.rf.9afa257fe8f51e66ba43459099b5c27e.txt  \n",
            "  inflating: dataset/valid/labels/meningioma_1324_jpg.rf.4d5bff39778ccec03a572bb2f000e6b3.txt  \n",
            "  inflating: dataset/valid/labels/meningioma_132_jpg.rf.2133ab6c2698ba0e76b75643b73b3fa6.txt  \n",
            "  inflating: dataset/valid/labels/meningioma_142_jpg.rf.bc16b000d35742306f2a1788dbb00a1d.txt  \n",
            "  inflating: dataset/valid/labels/meningioma_145_jpg.rf.af82b78e0d994f43a916bc2bf6527cf5.txt  \n",
            "  inflating: dataset/valid/labels/meningioma_146_jpg.rf.29c24314852b50f3f04a4de7735c8261.txt  \n",
            "  inflating: dataset/valid/labels/meningioma_14_jpg.rf.1d5c9e2741a6af8a523f877d2e1d0050.txt  \n",
            "  inflating: dataset/valid/labels/meningioma_160_jpg.rf.04837c098df7a5f0184c80af849b8401.txt  \n",
            "  inflating: dataset/valid/labels/meningioma_179_jpg.rf.2f2fd849ee977f3d5c781dddb57725e8.txt  \n",
            "  inflating: dataset/valid/labels/meningioma_181_jpg.rf.a07e8ed8c0b3ee827c1e67d3fd60241b.txt  \n",
            "  inflating: dataset/valid/labels/meningioma_184_jpg.rf.a0cf04543cb6542980ef171f2a9a2fc7.txt  \n",
            "  inflating: dataset/valid/labels/meningioma_199_jpg.rf.ab708827b573d2f27462da723fc4209e.txt  \n",
            "  inflating: dataset/valid/labels/meningioma_200_jpg.rf.1c8b789dd67a69f1e6fdd3c44f5fdb56.txt  \n",
            "  inflating: dataset/valid/labels/meningioma_209_jpg.rf.0fa4494baf364d68baff0ad0730987a9.txt  \n",
            "  inflating: dataset/valid/labels/meningioma_211_jpg.rf.6131e84721c8c3c95f46a3c158e27b1d.txt  \n",
            "  inflating: dataset/valid/labels/meningioma_213_jpg.rf.24e73bf7cbf7beef2c82aeba6d81623c.txt  \n",
            "  inflating: dataset/valid/labels/meningioma_220_jpg.rf.6b95313f6e1d3412f2809acf3d1f87ce.txt  \n",
            "  inflating: dataset/valid/labels/meningioma_228_jpg.rf.2728d4bdea8f0dd8d364538ad2f939b0.txt  \n",
            "  inflating: dataset/valid/labels/meningioma_230_jpg.rf.5d11a5fb2c30e4f584732d516838c23c.txt  \n",
            "  inflating: dataset/valid/labels/meningioma_237_jpg.rf.446ceb32c2ae6efa17f77c23969dd9ee.txt  \n",
            "  inflating: dataset/valid/labels/meningioma_241_jpg.rf.1a532ae953b9a685d99d20cb4e59f433.txt  \n",
            "  inflating: dataset/valid/labels/meningioma_247_jpg.rf.4e654fe42faa65584d0d20217100cbe4.txt  \n",
            "  inflating: dataset/valid/labels/meningioma_252_jpg.rf.77f7e2a406897946dc65db7a52515195.txt  \n",
            "  inflating: dataset/valid/labels/meningioma_253_jpg.rf.e3e4cd09323e06fa5183418d371c3b1d.txt  \n",
            "  inflating: dataset/valid/labels/meningioma_257_jpg.rf.a6b03ddbfee225035425cf2886ab5ee3.txt  \n",
            "  inflating: dataset/valid/labels/meningioma_274_jpg.rf.e9a45742a67a9992a8fee774e8feb986.txt  \n",
            "  inflating: dataset/valid/labels/meningioma_277_jpg.rf.80a7f9edd64bd084710a1abf65be1fe5.txt  \n",
            "  inflating: dataset/valid/labels/meningioma_284_jpg.rf.a29a234784d4b2a3011332b28523ccda.txt  \n",
            "  inflating: dataset/valid/labels/meningioma_311_jpg.rf.59ad21f3f40ec08bf507e0c81b11bb27.txt  \n",
            "  inflating: dataset/valid/labels/meningioma_326_jpg.rf.06ff6187aa7b2837ab2ca0f1f6409133.txt  \n",
            "  inflating: dataset/valid/labels/meningioma_327_jpg.rf.ae5ab1c26ed22d282ec65d161fcd34ba.txt  \n",
            "  inflating: dataset/valid/labels/meningioma_332_jpg.rf.01427d915fbaf63631281218b34e67e0.txt  \n",
            "  inflating: dataset/valid/labels/meningioma_336_jpg.rf.03306e22d13f8033ad873bfcd32f019f.txt  \n",
            "  inflating: dataset/valid/labels/meningioma_337_jpg.rf.38c432304d491168a629d5114392583f.txt  \n",
            "  inflating: dataset/valid/labels/meningioma_338_jpg.rf.d28d419f8acd2d514b7863bad0cbdaf7.txt  \n",
            "  inflating: dataset/valid/labels/meningioma_340_jpg.rf.85d39b3cfc1e67bc21ade37d06bed6fd.txt  \n",
            "  inflating: dataset/valid/labels/meningioma_350_jpg.rf.0e927d84952deb34014816419a8ae64f.txt  \n",
            "  inflating: dataset/valid/labels/meningioma_351_jpg.rf.b26dc300f6a32c38d64ebedd50e55c72.txt  \n",
            "  inflating: dataset/valid/labels/meningioma_356_jpg.rf.f31001a90c81278e3f9935663f2d9cdb.txt  \n",
            "  inflating: dataset/valid/labels/meningioma_370_jpg.rf.dbec04b254ffcba58a97515c4fb72485.txt  \n",
            "  inflating: dataset/valid/labels/meningioma_400_jpg.rf.2be92a05ad5b03f94b6ed8b649d80970.txt  \n",
            "  inflating: dataset/valid/labels/meningioma_407_jpg.rf.563353fae3c19585fa4879834974c35f.txt  \n",
            "  inflating: dataset/valid/labels/meningioma_408_jpg.rf.ac070051268f08ebd57d8502cdcc62d6.txt  \n",
            "  inflating: dataset/valid/labels/meningioma_432_jpg.rf.142ba8cd81a1ad3e876b9d2df40ac99b.txt  \n",
            "  inflating: dataset/valid/labels/meningioma_438_jpg.rf.e8882ab433abd2ee8224b53ded6202cb.txt  \n",
            "  inflating: dataset/valid/labels/meningioma_43_jpg.rf.c5fbad305e63343f4b1773e5d501adff.txt  \n",
            "  inflating: dataset/valid/labels/meningioma_450_jpg.rf.515eabc644cd7fbbc451a9430cb0c271.txt  \n",
            "  inflating: dataset/valid/labels/meningioma_452_jpg.rf.c18054003dbe7d88c7abd13d59e7393a.txt  \n",
            "  inflating: dataset/valid/labels/meningioma_454_jpg.rf.9d896f5e69af0c2576a586c91b62253f.txt  \n",
            "  inflating: dataset/valid/labels/meningioma_478_jpg.rf.842f69b991ae31cdee33ef6d08c55234.txt  \n",
            "  inflating: dataset/valid/labels/meningioma_47_jpg.rf.0d318bff47238418444d43c002c2c905.txt  \n",
            "  inflating: dataset/valid/labels/meningioma_496_jpg.rf.987dbb12751d93d7f893d0d37257d99c.txt  \n",
            "  inflating: dataset/valid/labels/meningioma_499_jpg.rf.99ced13e332182c9382940d425e0e264.txt  \n",
            "  inflating: dataset/valid/labels/meningioma_501_jpg.rf.89fc4fb7d64c4588946d015bbe4ce49c.txt  \n",
            "  inflating: dataset/valid/labels/meningioma_503_jpg.rf.4b1927dc404e63ec1a63ae20ca889b5a.txt  \n",
            "  inflating: dataset/valid/labels/meningioma_509_jpg.rf.8c179b9af1225f1f5ad521b9eb9ef3b3.txt  \n",
            "  inflating: dataset/valid/labels/meningioma_516_jpg.rf.d0c5109527e9f3f694079e4e9355ac35.txt  \n",
            "  inflating: dataset/valid/labels/meningioma_536_jpg.rf.747123a0e95af24c44d486deaf727fdc.txt  \n",
            "  inflating: dataset/valid/labels/meningioma_549_jpg.rf.2b62f4012f34e83fdfb0ac188771e854.txt  \n",
            "  inflating: dataset/valid/labels/meningioma_556_jpg.rf.7bccbc4cfc4d63e56ade8e3edcf93605.txt  \n",
            "  inflating: dataset/valid/labels/meningioma_562_jpg.rf.c8a317a7417995899a34f894c9523495.txt  \n",
            "  inflating: dataset/valid/labels/meningioma_565_jpg.rf.436f153ae0c432014185002101529a09.txt  \n",
            "  inflating: dataset/valid/labels/meningioma_601_jpg.rf.c97e495c3e58d52ca6f9466d72f66518.txt  \n",
            "  inflating: dataset/valid/labels/meningioma_614_jpg.rf.8b6217c6cc9fdaebaeb2771e1c71c472.txt  \n",
            "  inflating: dataset/valid/labels/meningioma_617_jpg.rf.64d2c7b7d10a36c41ef0772efa7f062c.txt  \n",
            "  inflating: dataset/valid/labels/meningioma_640_jpg.rf.c49efacb21a5ec7e1efec01e86923605.txt  \n",
            "  inflating: dataset/valid/labels/meningioma_652_jpg.rf.f1a511d2df8ad06444bd0743863fb44a.txt  \n",
            "  inflating: dataset/valid/labels/meningioma_659_jpg.rf.b5f1d60fb87bb0bddcd7488bcb7cc9bd.txt  \n",
            "  inflating: dataset/valid/labels/meningioma_65_jpg.rf.190091d77c284bec2d2a19c2d594bbab.txt  \n",
            "  inflating: dataset/valid/labels/meningioma_667_jpg.rf.7b3840dc68d4c7f6edb9076b107db22a.txt  \n",
            "  inflating: dataset/valid/labels/meningioma_688_jpg.rf.e946d6c6088c00542065b3b8090ff62b.txt  \n",
            "  inflating: dataset/valid/labels/meningioma_696_jpg.rf.e950f810702b1395b235c5cdc8f9384b.txt  \n",
            "  inflating: dataset/valid/labels/meningioma_698_jpg.rf.fff3af97210a4990caca2d2fa374dc6a.txt  \n",
            "  inflating: dataset/valid/labels/meningioma_708_jpg.rf.afb26cf275398fa63ffe426a34326bd2.txt  \n",
            "  inflating: dataset/valid/labels/meningioma_712_jpg.rf.181bd43be4347f25b904af5623d21bcc.txt  \n",
            "  inflating: dataset/valid/labels/meningioma_728_jpg.rf.50b25c5f02105fade2a41b733bd29cd2.txt  \n",
            "  inflating: dataset/valid/labels/meningioma_735_jpg.rf.89b58d53957ab395f0a3916069c1b977.txt  \n",
            "  inflating: dataset/valid/labels/meningioma_741_jpg.rf.7351a474636fe6a0f0b35845374a39bb.txt  \n",
            "  inflating: dataset/valid/labels/meningioma_742_jpg.rf.593293cfccc56c9bb359c85404e113bc.txt  \n",
            "  inflating: dataset/valid/labels/meningioma_745_jpg.rf.ff942852f698de3cedfd6569e42587a3.txt  \n",
            "  inflating: dataset/valid/labels/meningioma_764_jpg.rf.f19fea213f59d95c947d6f8ede946a2f.txt  \n",
            "  inflating: dataset/valid/labels/meningioma_772_jpg.rf.032d80719301deb415065e7cc2b9306e.txt  \n",
            "  inflating: dataset/valid/labels/meningioma_789_jpg.rf.1bb9fd320e1cdf0acaf638afdc6c0955.txt  \n",
            "  inflating: dataset/valid/labels/meningioma_79_jpg.rf.0d8ed387436af1ccbecc77149d1b098c.txt  \n",
            "  inflating: dataset/valid/labels/meningioma_803_jpg.rf.ed6dc1faa416cc5e15683263e42dc714.txt  \n",
            "  inflating: dataset/valid/labels/meningioma_823_jpg.rf.ba2e94412b6bd773e0aa3dd7560f2331.txt  \n",
            "  inflating: dataset/valid/labels/meningioma_835_jpg.rf.8cdc87734332846800ce1774edfdfd5b.txt  \n",
            "  inflating: dataset/valid/labels/meningioma_836_jpg.rf.ed2528da9d3789aa436154d02c60f7bf.txt  \n",
            "  inflating: dataset/valid/labels/meningioma_840_jpg.rf.c0d963f29e0bee565588a01d34e0fca8.txt  \n",
            "  inflating: dataset/valid/labels/meningioma_848_jpg.rf.eb602cae880b865a51e899ba88593e67.txt  \n",
            "  inflating: dataset/valid/labels/meningioma_849_jpg.rf.03cac650e89f33cf6a0e1d4f57c745ce.txt  \n",
            "  inflating: dataset/valid/labels/meningioma_860_jpg.rf.090b2389cdfec5fada884008555b1a82.txt  \n",
            "  inflating: dataset/valid/labels/meningioma_865_jpg.rf.870d1d3447e552366f47eccf0c57a8f7.txt  \n",
            "  inflating: dataset/valid/labels/meningioma_871_jpg.rf.3783e22c8481fa2bfd8e0ce0a8b1b24a.txt  \n",
            "  inflating: dataset/valid/labels/meningioma_875_jpg.rf.4720e8a8acbf9c3398270b4c74aa7f0d.txt  \n",
            "  inflating: dataset/valid/labels/meningioma_878_jpg.rf.4487f4ab0d6afba1cd025d0052a1ef67.txt  \n",
            "  inflating: dataset/valid/labels/meningioma_884_jpg.rf.42401315a4eb27916b3b79b99e835899.txt  \n",
            "  inflating: dataset/valid/labels/meningioma_887_jpg.rf.f4aea839efb9519489a36649a8f89b05.txt  \n",
            "  inflating: dataset/valid/labels/meningioma_894_jpg.rf.f5e917b9f2acd2761973efb74826bcea.txt  \n",
            "  inflating: dataset/valid/labels/meningioma_8_jpg.rf.cfef3b130d130b6cb51385d8589cc45f.txt  \n",
            "  inflating: dataset/valid/labels/meningioma_906_jpg.rf.ba523c9e3efbfe87629e4851889cd4a8.txt  \n",
            "  inflating: dataset/valid/labels/meningioma_908_jpg.rf.11ee7d1420dfa545edd3223c85debd32.txt  \n",
            "  inflating: dataset/valid/labels/meningioma_911_jpg.rf.58a107efd4513c76e7e82c00e6cdf40f.txt  \n",
            "  inflating: dataset/valid/labels/meningioma_916_jpg.rf.486f441b6c2dfcf3cb01db035ac92889.txt  \n",
            "  inflating: dataset/valid/labels/meningioma_921_jpg.rf.8c06075a71d54ee1e4f321aef96662ab.txt  \n",
            "  inflating: dataset/valid/labels/meningioma_92_jpg.rf.419f05266e9cec2a0cee373d87679329.txt  \n",
            "  inflating: dataset/valid/labels/meningioma_945_jpg.rf.321c5e911f77a86199621386abaf461d.txt  \n",
            "  inflating: dataset/valid/labels/meningioma_950_jpg.rf.76630619b029f672853d569224775be8.txt  \n",
            "  inflating: dataset/valid/labels/meningioma_960_jpg.rf.c012468e3499961dd54bd347dca969ab.txt  \n",
            "  inflating: dataset/valid/labels/meningioma_964_jpg.rf.dc11bf8d914d64dafa7915955dab2a0f.txt  \n",
            "  inflating: dataset/valid/labels/meningioma_965_jpg.rf.dce38666413e6b6147fb853df960c294.txt  \n",
            "  inflating: dataset/valid/labels/meningioma_984_jpg.rf.e983f95359483021910289163782e42a.txt  \n",
            "  inflating: dataset/valid/labels/meningioma_991_jpg.rf.931c156f35137b76b908565975f019af.txt  \n",
            "  inflating: dataset/valid/labels/meningioma_994_jpg.rf.9001dc4787284f16f6b1ae12e5e8ffd7.txt  \n",
            "  inflating: dataset/valid/labels/meningioma_996_jpg.rf.60e56ad8f2e53ec66cb63d5f0bca3b50.txt  \n",
            "  inflating: dataset/valid/labels/no_tumor_1002_jpg.rf.eb7141382aa74daadf933293752fc0e9.txt  \n",
            "  inflating: dataset/valid/labels/no_tumor_1007_jpg.rf.353ec7f8439cfce18e6427ff90b0227d.txt  \n",
            "  inflating: dataset/valid/labels/no_tumor_1031_jpg.rf.1813fcf1fb0b41bdb976e8d18fe1883f.txt  \n",
            "  inflating: dataset/valid/labels/no_tumor_1065_jpg.rf.1ec3b70d96fb8b78a04d1d441e06b212.txt  \n",
            "  inflating: dataset/valid/labels/no_tumor_1067_jpg.rf.6759483b515ce59d018e993929253c0c.txt  \n",
            "  inflating: dataset/valid/labels/no_tumor_1081_jpg.rf.3fee39a6990fb23d44eea30539f59a86.txt  \n",
            "  inflating: dataset/valid/labels/no_tumor_1099_jpg.rf.cd73f9b21c76fee7d8351df787a3a187.txt  \n",
            "  inflating: dataset/valid/labels/no_tumor_1111_jpg.rf.bcdda948159a5b6c6b9692d7153b122a.txt  \n",
            "  inflating: dataset/valid/labels/no_tumor_1130_jpg.rf.2db8f0176c51e5a76901704547e8d1c7.txt  \n",
            "  inflating: dataset/valid/labels/no_tumor_117_jpg.rf.a77886592d46f8676d3f88224317d8bf.txt  \n",
            "  inflating: dataset/valid/labels/no_tumor_1208_jpg.rf.98f94430f7427d8b40b37347d0a47511.txt  \n",
            "  inflating: dataset/valid/labels/no_tumor_1213_jpg.rf.9c3c499dac7a19cc19fb3e7048a2b68d.txt  \n",
            "  inflating: dataset/valid/labels/no_tumor_1217_jpg.rf.51b55faf0f84152be6e3badb4a17dc26.txt  \n",
            "  inflating: dataset/valid/labels/no_tumor_1218_jpg.rf.346335503c22e7b3c561b3e653f9bf5c.txt  \n",
            "  inflating: dataset/valid/labels/no_tumor_1223_jpg.rf.7e04a1d8bdac4b0d82a00fb230faab4e.txt  \n",
            "  inflating: dataset/valid/labels/no_tumor_1224_jpg.rf.b32a1e11c44daa95b6dd7a247bce0915.txt  \n",
            "  inflating: dataset/valid/labels/no_tumor_1227_jpg.rf.20a2974c7b09a97daee67d10bbef77f8.txt  \n",
            "  inflating: dataset/valid/labels/no_tumor_1239_jpg.rf.e7f49a10e3c51a2f4716aced909a6879.txt  \n",
            "  inflating: dataset/valid/labels/no_tumor_1263_jpg.rf.278209afdaccffa333898c2a9806d076.txt  \n",
            "  inflating: dataset/valid/labels/no_tumor_1284_jpg.rf.65e8ae14b72a58c15f86a06096c198c9.txt  \n",
            "  inflating: dataset/valid/labels/no_tumor_1289_jpg.rf.88f9d17ca2ac7c8cc8d7b15fc82d832a.txt  \n",
            "  inflating: dataset/valid/labels/no_tumor_1344_jpg.rf.6997999a2a135b672fd204796d5722cb.txt  \n",
            "  inflating: dataset/valid/labels/no_tumor_1345_jpg.rf.4f408dfee96035c8070afc955b7dfc7d.txt  \n",
            "  inflating: dataset/valid/labels/no_tumor_1348_jpg.rf.3560eb8c558f6b4596d9556129c45b03.txt  \n",
            "  inflating: dataset/valid/labels/no_tumor_1352_jpg.rf.03f11683c6e52a9c00f61c09aa474a26.txt  \n",
            "  inflating: dataset/valid/labels/no_tumor_1363_jpg.rf.483ea5869df59e48dc024e3271938801.txt  \n",
            "  inflating: dataset/valid/labels/no_tumor_136_jpg.rf.78af9cb227bc4cf835b9e27085dc118e.txt  \n",
            "  inflating: dataset/valid/labels/no_tumor_1384_jpg.rf.2b3633eb69760763da3edb53def51fcc.txt  \n",
            "  inflating: dataset/valid/labels/no_tumor_1386_jpg.rf.04f978ef6b137d199b27baeb69b47fd6.txt  \n",
            "  inflating: dataset/valid/labels/no_tumor_1396_jpg.rf.164ed037bd3b4078bf95bfebfbe2f577.txt  \n",
            "  inflating: dataset/valid/labels/no_tumor_1410_jpg.rf.4dc51a0a8672ccb40ab19e2ac0d45d24.txt  \n",
            "  inflating: dataset/valid/labels/no_tumor_1436_jpg.rf.f9dfa062fa7fe2faad9bf6f2339bc801.txt  \n",
            "  inflating: dataset/valid/labels/no_tumor_1446_jpg.rf.2bd824b13bed9b4682994b744ea84bd3.txt  \n",
            "  inflating: dataset/valid/labels/no_tumor_1449_jpg.rf.23f0a67b927372d9d62fa82ae384d29d.txt  \n",
            "  inflating: dataset/valid/labels/no_tumor_1471_jpg.rf.70f8826cb6dd5840e3f3e8cdab81914e.txt  \n",
            "  inflating: dataset/valid/labels/no_tumor_1498_jpg.rf.0cc5de5358026d422cca78938a1b524c.txt  \n",
            "  inflating: dataset/valid/labels/no_tumor_1516_jpg.rf.d295bf54bf757e4c11e3227514b24927.txt  \n",
            "  inflating: dataset/valid/labels/no_tumor_1526_jpg.rf.f04364a9a0677f4c5afa9c6722332652.txt  \n",
            "  inflating: dataset/valid/labels/no_tumor_1527_jpg.rf.48e4573bae8fb915b51adb01bbb9ee74.txt  \n",
            "  inflating: dataset/valid/labels/no_tumor_153_jpg.rf.c20634846bf0ce46b0448de73a93b798.txt  \n",
            "  inflating: dataset/valid/labels/no_tumor_1540_jpg.rf.f77cfa5a2c91216f53de79005f23a689.txt  \n",
            "  inflating: dataset/valid/labels/no_tumor_1543_jpg.rf.f3ad98a16dad21108457852f884f3620.txt  \n",
            "  inflating: dataset/valid/labels/no_tumor_1560_jpg.rf.c6bdac2fa89008814012673fe60d3508.txt  \n",
            "  inflating: dataset/valid/labels/no_tumor_1566_jpg.rf.f57ac5bf9b8a5026a8f5ff3726afe00a.txt  \n",
            "  inflating: dataset/valid/labels/no_tumor_1585_jpg.rf.8f7ba4467c93dde0aab4f224746fdbb5.txt  \n",
            "  inflating: dataset/valid/labels/no_tumor_160_jpg.rf.7625f9c90ed889d0c404d10336754e20.txt  \n",
            "  inflating: dataset/valid/labels/no_tumor_163_jpg.rf.b26bfb07fbe3a327ceee190d2a903c1b.txt  \n",
            "  inflating: dataset/valid/labels/no_tumor_171_jpg.rf.c1116241df77b03e6d4ab77a910b4ac0.txt  \n",
            "  inflating: dataset/valid/labels/no_tumor_183_jpg.rf.aaa5d2efc50933db68c8052329d6fd4b.txt  \n",
            "  inflating: dataset/valid/labels/no_tumor_185_jpg.rf.e9332674f3901590135928591ee7b443.txt  \n",
            "  inflating: dataset/valid/labels/no_tumor_194_jpg.rf.a826cac67a65f27a35b74ea688103344.txt  \n",
            "  inflating: dataset/valid/labels/no_tumor_197_jpg.rf.d86f7d9652a73b11fa6a21d1c9cd60c5.txt  \n",
            "  inflating: dataset/valid/labels/no_tumor_206_jpg.rf.c3e7e854c21aa7a726c844abaacfa985.txt  \n",
            "  inflating: dataset/valid/labels/no_tumor_216_jpg.rf.81d70848b85647aaacd54e6327c689f9.txt  \n",
            "  inflating: dataset/valid/labels/no_tumor_217_jpg.rf.8f847ed9bd96be84f764ece15d91b6e6.txt  \n",
            "  inflating: dataset/valid/labels/no_tumor_236_jpg.rf.85c9441997ad78e26443f19c05332dd9.txt  \n",
            "  inflating: dataset/valid/labels/no_tumor_302_jpg.rf.de592ff09d80dfcb17d95a8ede53d1e4.txt  \n",
            "  inflating: dataset/valid/labels/no_tumor_329_jpg.rf.070fe5b5666fe2889a0516d4e93f09db.txt  \n",
            "  inflating: dataset/valid/labels/no_tumor_32_jpg.rf.0fb9b63cf476fafec16401c5822419ea.txt  \n",
            "  inflating: dataset/valid/labels/no_tumor_355_jpg.rf.84477c90ae6a91a6d7d46575f37742c5.txt  \n",
            "  inflating: dataset/valid/labels/no_tumor_359_jpg.rf.572476bc6f188b37294cd551c73bff36.txt  \n",
            "  inflating: dataset/valid/labels/no_tumor_362_jpg.rf.a97885865534be610f8dbbd58e56a432.txt  \n",
            "  inflating: dataset/valid/labels/no_tumor_367_jpg.rf.94625e3cea0d1413b37479452bfc4db0.txt  \n",
            "  inflating: dataset/valid/labels/no_tumor_368_jpg.rf.eb89db210e555ab0c35246d0a8c794b7.txt  \n",
            "  inflating: dataset/valid/labels/no_tumor_370_jpg.rf.a375d8d09f8ea0274c2972816b7289d0.txt  \n",
            "  inflating: dataset/valid/labels/no_tumor_384_jpg.rf.add95791956e5b87c5a99cbdcebc52f3.txt  \n",
            "  inflating: dataset/valid/labels/no_tumor_388_jpg.rf.6ae31956bef019bd6b92745808f5e29c.txt  \n",
            "  inflating: dataset/valid/labels/no_tumor_392_jpg.rf.cd8a53dff0db8fe15f7b7198b14e04bd.txt  \n",
            "  inflating: dataset/valid/labels/no_tumor_40_jpg.rf.08020a56bb66d390b1f9061b27f9ada3.txt  \n",
            "  inflating: dataset/valid/labels/no_tumor_41_jpg.rf.fc79c11369566f35c789381021daacea.txt  \n",
            "  inflating: dataset/valid/labels/no_tumor_429_jpg.rf.ad8f82a83a75c8f3ea069bacb15b2667.txt  \n",
            "  inflating: dataset/valid/labels/no_tumor_436_jpg.rf.94fb51400d8e9579600f4640fa4a1842.txt  \n",
            "  inflating: dataset/valid/labels/no_tumor_456_jpg.rf.90e088657683fff3d66e7f5375a7599d.txt  \n",
            "  inflating: dataset/valid/labels/no_tumor_50_jpg.rf.3be65f9c232a4652ded849dbc661cddd.txt  \n",
            "  inflating: dataset/valid/labels/no_tumor_535_jpg.rf.a70887aedbcf0828ad42060326e941f2.txt  \n",
            "  inflating: dataset/valid/labels/no_tumor_546_jpg.rf.cd7b37e7b4749b28f6d52c8ad6889292.txt  \n",
            "  inflating: dataset/valid/labels/no_tumor_580_jpg.rf.a6973334fe566d120d5e89e43012ee12.txt  \n",
            "  inflating: dataset/valid/labels/no_tumor_613_jpg.rf.03e2f7f23767650797806734a2466921.txt  \n",
            "  inflating: dataset/valid/labels/no_tumor_615_jpg.rf.69a773dbaf49fcd6b71f890fdb8fc5e7.txt  \n",
            "  inflating: dataset/valid/labels/no_tumor_622_jpg.rf.4ec6d2dee2d9178e74a0031e87d9d48b.txt  \n",
            "  inflating: dataset/valid/labels/no_tumor_62_jpg.rf.ef72cd835b012e3ecc8829d4a0fae30d.txt  \n",
            "  inflating: dataset/valid/labels/no_tumor_639_jpg.rf.9a390098e900f70cc25290f5c2b2acfc.txt  \n",
            "  inflating: dataset/valid/labels/no_tumor_642_jpg.rf.512324112aae0a5ec37a1d955b6ec2d9.txt  \n",
            "  inflating: dataset/valid/labels/no_tumor_643_jpg.rf.73be8e13c31c16c3f3de6d73d81f5a41.txt  \n",
            "  inflating: dataset/valid/labels/no_tumor_64_jpg.rf.c37f888a9cd7193a8282b28ad1e821b1.txt  \n",
            "  inflating: dataset/valid/labels/no_tumor_65_jpg.rf.d0c617db44ca384b082d71b7bf4407c0.txt  \n",
            "  inflating: dataset/valid/labels/no_tumor_665_jpg.rf.be649898c2cdde1292dc507e28da0927.txt  \n",
            "  inflating: dataset/valid/labels/no_tumor_675_jpg.rf.1ad1f8846e1d8537cb1f0d83afce820d.txt  \n",
            "  inflating: dataset/valid/labels/no_tumor_677_jpg.rf.c3e61ad4137f047ad843e240c03858c8.txt  \n",
            "  inflating: dataset/valid/labels/no_tumor_683_jpg.rf.c44df82d787ccf30e1d50529d8beb588.txt  \n",
            "  inflating: dataset/valid/labels/no_tumor_741_jpg.rf.8295ca43d5df8144af439d0869af0881.txt  \n",
            "  inflating: dataset/valid/labels/no_tumor_771_jpg.rf.e40daaf725f1f6817dfeeeff5c66a145.txt  \n",
            "  inflating: dataset/valid/labels/no_tumor_777_jpg.rf.6d02a1ac2cd70272de1cc347ff43fa0e.txt  \n",
            "  inflating: dataset/valid/labels/no_tumor_778_jpg.rf.85b0a33e447c7fb1160ae25e6f255cbe.txt  \n",
            "  inflating: dataset/valid/labels/no_tumor_782_jpg.rf.82c6b020ac0f81fe14e28a880febfec3.txt  \n",
            "  inflating: dataset/valid/labels/no_tumor_789_jpg.rf.7bbf779a54237b93b2a590d5de20ee59.txt  \n",
            "  inflating: dataset/valid/labels/no_tumor_798_jpg.rf.d1d5b7d9bd8c9372eae7268d7d74f60a.txt  \n",
            "  inflating: dataset/valid/labels/no_tumor_803_jpg.rf.7e7b6949454153f02fece110715ba2bf.txt  \n",
            "  inflating: dataset/valid/labels/no_tumor_820_jpg.rf.09b1e08174791ce390a1d64357d82f1d.txt  \n",
            "  inflating: dataset/valid/labels/no_tumor_844_jpg.rf.5c4388e5461f6ba4346218e13e6ed9a8.txt  \n",
            "  inflating: dataset/valid/labels/no_tumor_84_jpg.rf.e0c80858940cf7d4e12b89756f9f71b3.txt  \n",
            "  inflating: dataset/valid/labels/no_tumor_854_jpg.rf.3753a0769e4956bf721130cd6f9caa83.txt  \n",
            "  inflating: dataset/valid/labels/no_tumor_855_jpg.rf.a52d1a3997edfe6d0d665a98b8a88694.txt  \n",
            "  inflating: dataset/valid/labels/no_tumor_890_jpg.rf.eb4da32fb507e2296f266fc017910798.txt  \n",
            "  inflating: dataset/valid/labels/no_tumor_892_jpg.rf.895906826facdd5d906e9f997092d56d.txt  \n",
            "  inflating: dataset/valid/labels/no_tumor_905_jpg.rf.1c4afb0f72368adba5f7fdb315c90e62.txt  \n",
            "  inflating: dataset/valid/labels/no_tumor_907_jpg.rf.74a36007d3ef39b6458b7ddee7582e1b.txt  \n",
            "  inflating: dataset/valid/labels/no_tumor_951_jpg.rf.1176685798923047beda3f04c8486b0c.txt  \n",
            "  inflating: dataset/valid/labels/no_tumor_956_jpg.rf.320de10ee7815a41f6c73642dc7bc722.txt  \n",
            "  inflating: dataset/valid/labels/no_tumor_957_jpg.rf.449e467036fb02ccb06154af2e28e7f7.txt  \n",
            "  inflating: dataset/valid/labels/no_tumor_966_jpg.rf.46c7980a932d6269c724c002a73fe69a.txt  \n",
            "  inflating: dataset/valid/labels/no_tumor_969_jpg.rf.c177054ee4015cf9d5171c5618e3ef6d.txt  \n",
            "  inflating: dataset/valid/labels/no_tumor_995_jpg.rf.b3de5dbbc16cdd0204f064fe483c1c37.txt  \n",
            "  inflating: dataset/valid/labels/no_tumor_996_jpg.rf.408890d2c8475c8c401a82afec20f035.txt  \n",
            "  inflating: dataset/valid/labels/no_tumor_999_jpg.rf.d1687a97dc2837381fbe3a7371f3c99c.txt  \n",
            "  inflating: dataset/valid/labels/pituitary_1009_jpg.rf.e179a6d77c8a0ce652c26b7aee667ceb.txt  \n",
            "  inflating: dataset/valid/labels/pituitary_1026_jpg.rf.fa615e9c25e6aa3a263f679407b4a1a5.txt  \n",
            "  inflating: dataset/valid/labels/pituitary_1044_jpg.rf.19d7eda33009adc9b1db6bd9083d8b98.txt  \n",
            "  inflating: dataset/valid/labels/pituitary_1067_jpg.rf.0c9002bc461810e986834b904ca24f6e.txt  \n",
            "  inflating: dataset/valid/labels/pituitary_1076_jpg.rf.6a8c3f73b891ffe6f81cf8e03582dafc.txt  \n",
            "  inflating: dataset/valid/labels/pituitary_1092_jpg.rf.1d6a0ba11712209997009f547c16d238.txt  \n",
            "  inflating: dataset/valid/labels/pituitary_1098_jpg.rf.d91b94211cbec86e864f47fd77a81eb3.txt  \n",
            "  inflating: dataset/valid/labels/pituitary_1104_jpg.rf.77a4b9e4245dc05bc100a23e1cd0acb9.txt  \n",
            "  inflating: dataset/valid/labels/pituitary_1107_jpg.rf.f59ef80dcd2a4136de36124616bc435c.txt  \n",
            "  inflating: dataset/valid/labels/pituitary_1108_jpg.rf.a7bf774d2fb15ba62f47d79f33b74a24.txt  \n",
            "  inflating: dataset/valid/labels/pituitary_1121_jpg.rf.b4704ff58bc42db83bf464df9c19e75b.txt  \n",
            "  inflating: dataset/valid/labels/pituitary_1127_jpg.rf.aeffce333eb2c5de56ffdb1d587c0369.txt  \n",
            "  inflating: dataset/valid/labels/pituitary_1152_jpg.rf.e47bd8fa3a9c1e4f829b69cb4375d7d8.txt  \n",
            "  inflating: dataset/valid/labels/pituitary_1165_jpg.rf.94e81c2cb82675782dc4e5921be405ab.txt  \n",
            "  inflating: dataset/valid/labels/pituitary_1171_jpg.rf.c6eef3d6c3ec7831fbcf0fc0aca4fb3b.txt  \n",
            "  inflating: dataset/valid/labels/pituitary_1180_jpg.rf.ae6aa98e15f082e177ac2090c74ef02b.txt  \n",
            "  inflating: dataset/valid/labels/pituitary_1197_jpg.rf.07965526c920bba41c1d5b7dd0089f1f.txt  \n",
            "  inflating: dataset/valid/labels/pituitary_1198_jpg.rf.11d1c54285218a5b1dde50d508cfc794.txt  \n",
            "  inflating: dataset/valid/labels/pituitary_1208_jpg.rf.f6af8616dfe73e7f284d9db3de136782.txt  \n",
            "  inflating: dataset/valid/labels/pituitary_1222_jpg.rf.9560cfc6b55c48f9aa1692716de4e245.txt  \n",
            "  inflating: dataset/valid/labels/pituitary_1247_jpg.rf.0f885c770dfeadef6da09d14a0aec1b9.txt  \n",
            "  inflating: dataset/valid/labels/pituitary_1260_jpg.rf.962d995dae3c5e32c701d1b778f74d41.txt  \n",
            "  inflating: dataset/valid/labels/pituitary_1262_jpg.rf.467185be0f99bf9b3d421767f440bf2b.txt  \n",
            "  inflating: dataset/valid/labels/pituitary_1270_jpg.rf.625c288b1b6b7e19298316b10041e618.txt  \n",
            "  inflating: dataset/valid/labels/pituitary_1293_jpg.rf.227ec5924fa283fc25b48a0b5ddcd1f9.txt  \n",
            "  inflating: dataset/valid/labels/pituitary_1295_jpg.rf.a63887af4973fc134e57b1af4e60c675.txt  \n",
            "  inflating: dataset/valid/labels/pituitary_1315_jpg.rf.0aebcf4347718666c98f20beea90aa41.txt  \n",
            "  inflating: dataset/valid/labels/pituitary_1330_jpg.rf.7d13fca1123687a5db40fceeb350552a.txt  \n",
            "  inflating: dataset/valid/labels/pituitary_1345_jpg.rf.537cc53b8da80358a6a661da0d61d3d5.txt  \n",
            "  inflating: dataset/valid/labels/pituitary_1350_jpg.rf.98e44dd4b49fc352d659f065614ad9a0.txt  \n",
            "  inflating: dataset/valid/labels/pituitary_1351_jpg.rf.ee8fe8c699b2b99e01c7f41d69410e98.txt  \n",
            "  inflating: dataset/valid/labels/pituitary_1376_jpg.rf.36043ee2f3fc026f1ae2062299c0b505.txt  \n",
            "  inflating: dataset/valid/labels/pituitary_1380_jpg.rf.d2cddf63eb15ae086dba6d9296236f71.txt  \n",
            "  inflating: dataset/valid/labels/pituitary_1386_jpg.rf.b4cdf1145d81200512ff6d610473eceb.txt  \n",
            "  inflating: dataset/valid/labels/pituitary_139_jpg.rf.6b793346b7668ed1f42c419b54999916.txt  \n",
            "  inflating: dataset/valid/labels/pituitary_1437_jpg.rf.f58b5bec741ad04c78c44c2c5e2c430a.txt  \n",
            "  inflating: dataset/valid/labels/pituitary_1440_jpg.rf.914705ce7e047c1b93557f9724dd6a4e.txt  \n",
            "  inflating: dataset/valid/labels/pituitary_1448_jpg.rf.11d6d3135dfcef91d320133d2b2fd2e3.txt  \n",
            "  inflating: dataset/valid/labels/pituitary_1449_jpg.rf.a391cc17ec28a458bf5d8e86a0ea1b8f.txt  \n",
            "  inflating: dataset/valid/labels/pituitary_1456_jpg.rf.65fea9431b09018b4afdc9e26a3102ec.txt  \n",
            "  inflating: dataset/valid/labels/pituitary_156_jpg.rf.169d34a242c1aab392535e0612a1fbd5.txt  \n",
            "  inflating: dataset/valid/labels/pituitary_171_jpg.rf.6290ddd1131aafcb4bce1167db5f19ea.txt  \n",
            "  inflating: dataset/valid/labels/pituitary_189_jpg.rf.649a81cb433ea19e0f07aa8b00f2554d.txt  \n",
            "  inflating: dataset/valid/labels/pituitary_197_jpg.rf.39d697f7e73591c428e6546b826ac68f.txt  \n",
            "  inflating: dataset/valid/labels/pituitary_207_jpg.rf.e268e6d86155a9c9017e1b816eea0eef.txt  \n",
            "  inflating: dataset/valid/labels/pituitary_214_jpg.rf.b4ada692026dbea30c65e447f3430d69.txt  \n",
            "  inflating: dataset/valid/labels/pituitary_259_jpg.rf.e7a8af82dc71e9fcc2edb0a15ec476c4.txt  \n",
            "  inflating: dataset/valid/labels/pituitary_263_jpg.rf.915b29f4bfea50f135f1647859387a5f.txt  \n",
            "  inflating: dataset/valid/labels/pituitary_288_jpg.rf.e802e126c7930bed0d6d3d7a0b83e900.txt  \n",
            "  inflating: dataset/valid/labels/pituitary_311_jpg.rf.1204ad349fb21342fb37d4aaa6130976.txt  \n",
            "  inflating: dataset/valid/labels/pituitary_338_jpg.rf.eeeb860df08888c687e8ffead7165ca1.txt  \n",
            "  inflating: dataset/valid/labels/pituitary_34_jpg.rf.dd47d9c32ae228342cda345fd308c1ca.txt  \n",
            "  inflating: dataset/valid/labels/pituitary_354_jpg.rf.9d4d3a32f68c95b22b9e370a0b4efa8d.txt  \n",
            "  inflating: dataset/valid/labels/pituitary_36_jpg.rf.fd6705c944dab1fb3962524d35ddcf2f.txt  \n",
            "  inflating: dataset/valid/labels/pituitary_403_jpg.rf.d573650d6ff7a0154fc704d7607ef9a5.txt  \n",
            "  inflating: dataset/valid/labels/pituitary_404_jpg.rf.677d57ac4ee3c3fb96ce4efe22e9063f.txt  \n",
            "  inflating: dataset/valid/labels/pituitary_411_jpg.rf.748049333a6fce2222cf7511835be3fb.txt  \n",
            "  inflating: dataset/valid/labels/pituitary_470_jpg.rf.f1f9b1c6cfca246fb2d1a8cc708a417d.txt  \n",
            "  inflating: dataset/valid/labels/pituitary_472_jpg.rf.d78e5d88f668fdb2d584e8cbc431c106.txt  \n",
            "  inflating: dataset/valid/labels/pituitary_475_jpg.rf.81c6fdd17bdff50b43b76b75a97e3543.txt  \n",
            "  inflating: dataset/valid/labels/pituitary_493_jpg.rf.37401d79404f9906aaa99e85f7c88fe2.txt  \n",
            "  inflating: dataset/valid/labels/pituitary_497_jpg.rf.aaef3a2853a5dd9e8309eca35811b527.txt  \n",
            "  inflating: dataset/valid/labels/pituitary_533_jpg.rf.92c341f51cb080a7059811307a860796.txt  \n",
            "  inflating: dataset/valid/labels/pituitary_542_jpg.rf.c739efdaa53527636057bc1fcb68526c.txt  \n",
            "  inflating: dataset/valid/labels/pituitary_546_jpg.rf.72f5354a69759a3b37185b519178955d.txt  \n",
            "  inflating: dataset/valid/labels/pituitary_565_jpg.rf.d6cf0d552749c62f69b1cf1d3bc4d12c.txt  \n",
            "  inflating: dataset/valid/labels/pituitary_567_jpg.rf.bb5b6ca6391cac363f1a1a69d33c07b5.txt  \n",
            "  inflating: dataset/valid/labels/pituitary_589_jpg.rf.ef5f8bc3b105320502868193ab191c87.txt  \n",
            "  inflating: dataset/valid/labels/pituitary_60_jpg.rf.1a4b4517ce496f69b86facecb4296981.txt  \n",
            "  inflating: dataset/valid/labels/pituitary_626_jpg.rf.a1620fbfeae1bf27ab8d1e35ca5f321f.txt  \n",
            "  inflating: dataset/valid/labels/pituitary_639_jpg.rf.acc1152352e1d325b776d5728c807413.txt  \n",
            "  inflating: dataset/valid/labels/pituitary_640_jpg.rf.e4c12aca7b7c313222602aebf557be0d.txt  \n",
            "  inflating: dataset/valid/labels/pituitary_649_jpg.rf.7e31ac2655ed36becd74b70a2e8cc828.txt  \n",
            "  inflating: dataset/valid/labels/pituitary_657_jpg.rf.9a5199697d475febd4cfe5f0056a66dc.txt  \n",
            "  inflating: dataset/valid/labels/pituitary_692_jpg.rf.9029e220dbb8f8bb70ce68e8a83c806f.txt  \n",
            "  inflating: dataset/valid/labels/pituitary_698_jpg.rf.d435e3f15b867ebf52a22a63aaea5a5d.txt  \n",
            "  inflating: dataset/valid/labels/pituitary_700_jpg.rf.a321c78a245b0d7fa88bd88befa55ccb.txt  \n",
            "  inflating: dataset/valid/labels/pituitary_705_jpg.rf.5937ed706720a93c4b3420ed66df3e54.txt  \n",
            "  inflating: dataset/valid/labels/pituitary_710_jpg.rf.289de300deb1a862a2afb4354da1f7fc.txt  \n",
            "  inflating: dataset/valid/labels/pituitary_721_jpg.rf.9fd4133fe7ecaa1e04eafd2005a1acf2.txt  \n",
            "  inflating: dataset/valid/labels/pituitary_733_jpg.rf.31501bcc82220ca2f87df8d1ccc85da2.txt  \n",
            "  inflating: dataset/valid/labels/pituitary_735_jpg.rf.8a8dd2f2ac0c494dc0aae8398042c87f.txt  \n",
            "  inflating: dataset/valid/labels/pituitary_742_jpg.rf.d607bca9083caa3adad6e52ccd02d54c.txt  \n",
            "  inflating: dataset/valid/labels/pituitary_746_jpg.rf.cdd8dbf8f485107bd5c72e7ac134ce13.txt  \n",
            "  inflating: dataset/valid/labels/pituitary_748_jpg.rf.747584aa30b5d6e4463549cf7e44fe74.txt  \n",
            "  inflating: dataset/valid/labels/pituitary_752_jpg.rf.68e1176f678b63c866968b1a53dd0a16.txt  \n",
            "  inflating: dataset/valid/labels/pituitary_774_jpg.rf.edd6e4ca6dcef76261f4ed6f57264e2f.txt  \n",
            "  inflating: dataset/valid/labels/pituitary_775_jpg.rf.136418ce384ae4b66c20095012be9481.txt  \n",
            "  inflating: dataset/valid/labels/pituitary_777_jpg.rf.e6602fb2d738e4c622b2a7fa4b569073.txt  \n",
            "  inflating: dataset/valid/labels/pituitary_781_jpg.rf.5343e96691d37277402dafb1a48ead92.txt  \n",
            "  inflating: dataset/valid/labels/pituitary_782_jpg.rf.7827aa6732810e05fe211ce5e688cb01.txt  \n",
            "  inflating: dataset/valid/labels/pituitary_785_jpg.rf.f221f95749e78883efbf98b858af826b.txt  \n",
            "  inflating: dataset/valid/labels/pituitary_7_jpg.rf.b42b94a81cba4fc6ff7c6de77efcfe2a.txt  \n",
            "  inflating: dataset/valid/labels/pituitary_805_jpg.rf.695fc45c8441c4e2f33286a3c0954637.txt  \n",
            "  inflating: dataset/valid/labels/pituitary_818_jpg.rf.aef4102ca82d145dcf9797b039db2c82.txt  \n",
            "  inflating: dataset/valid/labels/pituitary_828_jpg.rf.348b0e189d063776ac400fd9ea5fde9a.txt  \n",
            "  inflating: dataset/valid/labels/pituitary_878_jpg.rf.208922f4eef293b44c8ab463033157a6.txt  \n",
            "  inflating: dataset/valid/labels/pituitary_885_jpg.rf.f255cf825b37083846017c6d4d24b9bd.txt  \n",
            "  inflating: dataset/valid/labels/pituitary_889_jpg.rf.2c119b815694de488c965a9cdfa23261.txt  \n",
            "  inflating: dataset/valid/labels/pituitary_910_jpg.rf.f12685eb37f15d08ce604a496f526b3d.txt  \n",
            "  inflating: dataset/valid/labels/pituitary_911_jpg.rf.4f4db29616e6d538754dc7b63191190e.txt  \n",
            "  inflating: dataset/valid/labels/pituitary_912_jpg.rf.8ee8f5860ad33785a7c479732467305a.txt  \n",
            "  inflating: dataset/valid/labels/pituitary_917_jpg.rf.592ab4188f0cec2e64fc2e75213cef11.txt  \n",
            "  inflating: dataset/valid/labels/pituitary_933_jpg.rf.365b22a61ed488ab4dc23230d772900e.txt  \n",
            "  inflating: dataset/valid/labels/pituitary_937_jpg.rf.e4d8a601c65d84971df3794dd86bba7e.txt  \n",
            "  inflating: dataset/valid/labels/pituitary_990_jpg.rf.33995d119eb8785c89eaef7e652c2ca2.txt  \n"
          ]
        }
      ]
    },
    {
      "cell_type": "code",
      "source": [
        "!ls dataset"
      ],
      "metadata": {
        "colab": {
          "base_uri": "https://localhost:8080/"
        },
        "id": "ZFVTITvVoOK2",
        "outputId": "a1d90cc7-f7a9-4ddd-a485-84815ebcd130"
      },
      "execution_count": 11,
      "outputs": [
        {
          "output_type": "stream",
          "name": "stdout",
          "text": [
            "data.yaml  README.dataset.txt  README.roboflow.txt  test  train  valid\n"
          ]
        }
      ]
    },
    {
      "cell_type": "code",
      "source": [
        "!mkdir -p /content/datasets"
      ],
      "metadata": {
        "id": "oucx4nKjpkh3"
      },
      "execution_count": 15,
      "outputs": []
    },
    {
      "cell_type": "code",
      "source": [
        "!mv /content/dataset /content/datasets/"
      ],
      "metadata": {
        "id": "Yed_Qpampord"
      },
      "execution_count": 16,
      "outputs": []
    },
    {
      "cell_type": "code",
      "source": [
        "from ultralytics import YOLO\n",
        "\n",
        "# Load a pretrained YOLO11n model\n",
        "model = YOLO(\"yolo11n.pt\")\n",
        "\n",
        "# Train the model on the dataset for 100 epochs\n",
        "train_results = model.train(\n",
        "    data=\"/content/datasets/dataset/data.yaml\",  # Path to dataset configuration file\n",
        "    epochs=100,  # Number of training epochs\n",
        "    imgsz=640,  # Image size for training\n",
        "    device=\"0\"  # Device to run on (e.g., 'cpu', 0, [0,1,2,3])\n",
        ")"
      ],
      "metadata": {
        "colab": {
          "base_uri": "https://localhost:8080/"
        },
        "id": "MuJvefpCll07",
        "outputId": "82918768-d8b5-44cc-8438-6e431573e020"
      },
      "execution_count": 17,
      "outputs": [
        {
          "output_type": "stream",
          "name": "stdout",
          "text": [
            "Ultralytics 8.3.127 🚀 Python-3.11.12 torch-2.6.0+cu124 CUDA:0 (Tesla T4, 15095MiB)\n",
            "\u001b[34m\u001b[1mengine/trainer: \u001b[0magnostic_nms=False, amp=True, augment=False, auto_augment=randaugment, batch=16, bgr=0.0, box=7.5, cache=False, cfg=None, classes=None, close_mosaic=10, cls=0.5, conf=None, copy_paste=0.0, copy_paste_mode=flip, cos_lr=False, cutmix=0.0, data=/content/datasets/dataset/data.yaml, degrees=0.0, deterministic=True, device=cuda:0, dfl=1.5, dnn=False, dropout=0.0, dynamic=False, embed=None, epochs=100, erasing=0.4, exist_ok=False, fliplr=0.5, flipud=0.0, format=torchscript, fraction=1.0, freeze=None, half=False, hsv_h=0.015, hsv_s=0.7, hsv_v=0.4, imgsz=640, int8=False, iou=0.7, keras=False, kobj=1.0, line_width=None, lr0=0.01, lrf=0.01, mask_ratio=4, max_det=300, mixup=0.0, mode=train, model=yolo11n.pt, momentum=0.937, mosaic=1.0, multi_scale=False, name=train5, nbs=64, nms=False, opset=None, optimize=False, optimizer=auto, overlap_mask=True, patience=100, perspective=0.0, plots=True, pose=12.0, pretrained=True, profile=False, project=None, rect=False, resume=False, retina_masks=False, save=True, save_conf=False, save_crop=False, save_dir=runs/detect/train5, save_frames=False, save_json=False, save_period=-1, save_txt=False, scale=0.5, seed=0, shear=0.0, show=False, show_boxes=True, show_conf=True, show_labels=True, simplify=True, single_cls=False, source=None, split=val, stream_buffer=False, task=detect, time=None, tracker=botsort.yaml, translate=0.1, val=True, verbose=True, vid_stride=1, visualize=False, warmup_bias_lr=0.1, warmup_epochs=3.0, warmup_momentum=0.8, weight_decay=0.0005, workers=8, workspace=None\n",
            "Downloading https://ultralytics.com/assets/Arial.ttf to '/root/.config/Ultralytics/Arial.ttf'...\n"
          ]
        },
        {
          "output_type": "stream",
          "name": "stderr",
          "text": [
            "100%|██████████| 755k/755k [00:00<00:00, 91.9MB/s]"
          ]
        },
        {
          "output_type": "stream",
          "name": "stdout",
          "text": [
            "Overriding model.yaml nc=80 with nc=5\n",
            "\n",
            "                   from  n    params  module                                       arguments                     \n",
            "  0                  -1  1       464  ultralytics.nn.modules.conv.Conv             [3, 16, 3, 2]                 \n",
            "  1                  -1  1      4672  ultralytics.nn.modules.conv.Conv             [16, 32, 3, 2]                \n",
            "  2                  -1  1      6640  ultralytics.nn.modules.block.C3k2            [32, 64, 1, False, 0.25]      \n",
            "  3                  -1  1     36992  ultralytics.nn.modules.conv.Conv             [64, 64, 3, 2]                \n",
            "  4                  -1  1     26080  ultralytics.nn.modules.block.C3k2            [64, 128, 1, False, 0.25]     \n",
            "  5                  -1  1    147712  ultralytics.nn.modules.conv.Conv             [128, 128, 3, 2]              \n",
            "  6                  -1  1     87040  ultralytics.nn.modules.block.C3k2            [128, 128, 1, True]           \n",
            "  7                  -1  1    295424  ultralytics.nn.modules.conv.Conv             [128, 256, 3, 2]              \n",
            "  8                  -1  1    346112  ultralytics.nn.modules.block.C3k2            [256, 256, 1, True]           \n",
            "  9                  -1  1    164608  ultralytics.nn.modules.block.SPPF            [256, 256, 5]                 \n",
            " 10                  -1  1    249728  ultralytics.nn.modules.block.C2PSA           [256, 256, 1]                 \n",
            " 11                  -1  1         0  torch.nn.modules.upsampling.Upsample         [None, 2, 'nearest']          \n",
            " 12             [-1, 6]  1         0  ultralytics.nn.modules.conv.Concat           [1]                           \n",
            " 13                  -1  1    111296  ultralytics.nn.modules.block.C3k2            [384, 128, 1, False]          \n",
            " 14                  -1  1         0  torch.nn.modules.upsampling.Upsample         [None, 2, 'nearest']          \n",
            " 15             [-1, 4]  1         0  ultralytics.nn.modules.conv.Concat           [1]                           \n",
            " 16                  -1  1     32096  ultralytics.nn.modules.block.C3k2            [256, 64, 1, False]           \n",
            " 17                  -1  1     36992  ultralytics.nn.modules.conv.Conv             [64, 64, 3, 2]                \n",
            " 18            [-1, 13]  1         0  ultralytics.nn.modules.conv.Concat           [1]                           \n",
            " 19                  -1  1     86720  ultralytics.nn.modules.block.C3k2            [192, 128, 1, False]          \n",
            " 20                  -1  1    147712  ultralytics.nn.modules.conv.Conv             [128, 128, 3, 2]              \n",
            " 21            [-1, 10]  1         0  ultralytics.nn.modules.conv.Concat           [1]                           \n",
            " 22                  -1  1    378880  ultralytics.nn.modules.block.C3k2            [384, 256, 1, True]           \n",
            " 23        [16, 19, 22]  1    431647  ultralytics.nn.modules.head.Detect           [5, [64, 128, 256]]           \n"
          ]
        },
        {
          "output_type": "stream",
          "name": "stderr",
          "text": [
            "\n"
          ]
        },
        {
          "output_type": "stream",
          "name": "stdout",
          "text": [
            "YOLO11n summary: 181 layers, 2,590,815 parameters, 2,590,799 gradients, 6.4 GFLOPs\n",
            "\n",
            "Transferred 448/499 items from pretrained weights\n",
            "Freezing layer 'model.23.dfl.conv.weight'\n",
            "\u001b[34m\u001b[1mAMP: \u001b[0mrunning Automatic Mixed Precision (AMP) checks...\n",
            "\u001b[34m\u001b[1mAMP: \u001b[0mchecks passed ✅\n",
            "\u001b[34m\u001b[1mtrain: \u001b[0mFast image access ✅ (ping: 0.0±0.0 ms, read: 1007.5±321.1 MB/s, size: 34.0 KB)\n"
          ]
        },
        {
          "output_type": "stream",
          "name": "stderr",
          "text": [
            "\u001b[34m\u001b[1mtrain: \u001b[0mScanning /content/datasets/dataset/train/labels... 1370 images, 0 backgrounds, 0 corrupt: 100%|██████████| 1370/1370 [00:00<00:00, 1943.17it/s]"
          ]
        },
        {
          "output_type": "stream",
          "name": "stdout",
          "text": [
            "\u001b[34m\u001b[1mtrain: \u001b[0m/content/datasets/dataset/train/images/no_tumor_914_jpg.rf.6714544aee2bde5213fd2c366dff62aa.jpg: 1 duplicate labels removed\n"
          ]
        },
        {
          "output_type": "stream",
          "name": "stderr",
          "text": [
            "\n"
          ]
        },
        {
          "output_type": "stream",
          "name": "stdout",
          "text": [
            "\u001b[34m\u001b[1mtrain: \u001b[0mNew cache created: /content/datasets/dataset/train/labels.cache\n",
            "WARNING ⚠️ Box and segment counts should be equal, but got len(segments) = 1456, len(boxes) = 1461. To resolve this only boxes will be used and all segments will be removed. To avoid this please supply either a detect or segment dataset, not a detect-segment mixed dataset.\n",
            "\u001b[34m\u001b[1malbumentations: \u001b[0mBlur(p=0.01, blur_limit=(3, 7)), MedianBlur(p=0.01, blur_limit=(3, 7)), ToGray(p=0.01, method='weighted_average', num_output_channels=3), CLAHE(p=0.01, clip_limit=(1.0, 4.0), tile_grid_size=(8, 8))\n",
            "\u001b[34m\u001b[1mval: \u001b[0mFast image access ✅ (ping: 0.0±0.0 ms, read: 513.9±197.9 MB/s, size: 29.4 KB)\n"
          ]
        },
        {
          "output_type": "stream",
          "name": "stderr",
          "text": [
            "\u001b[34m\u001b[1mval: \u001b[0mScanning /content/datasets/dataset/valid/labels... 395 images, 0 backgrounds, 0 corrupt: 100%|██████████| 395/395 [00:00<00:00, 887.95it/s]"
          ]
        },
        {
          "output_type": "stream",
          "name": "stdout",
          "text": [
            "\u001b[34m\u001b[1mval: \u001b[0mNew cache created: /content/datasets/dataset/valid/labels.cache\n"
          ]
        },
        {
          "output_type": "stream",
          "name": "stderr",
          "text": [
            "\n"
          ]
        },
        {
          "output_type": "stream",
          "name": "stdout",
          "text": [
            "Plotting labels to runs/detect/train5/labels.jpg... \n",
            "\u001b[34m\u001b[1moptimizer:\u001b[0m 'optimizer=auto' found, ignoring 'lr0=0.01' and 'momentum=0.937' and determining best 'optimizer', 'lr0' and 'momentum' automatically... \n",
            "\u001b[34m\u001b[1moptimizer:\u001b[0m AdamW(lr=0.001111, momentum=0.9) with parameter groups 81 weight(decay=0.0), 88 weight(decay=0.0005), 87 bias(decay=0.0)\n",
            "Image sizes 640 train, 640 val\n",
            "Using 2 dataloader workers\n",
            "Logging results to \u001b[1mruns/detect/train5\u001b[0m\n",
            "Starting training for 100 epochs...\n",
            "\n",
            "      Epoch    GPU_mem   box_loss   cls_loss   dfl_loss  Instances       Size\n"
          ]
        },
        {
          "output_type": "stream",
          "name": "stderr",
          "text": [
            "      1/100       2.3G     0.9377       3.05      1.287         13        640: 100%|██████████| 86/86 [00:27<00:00,  3.10it/s]\n",
            "                 Class     Images  Instances      Box(P          R      mAP50  mAP50-95): 100%|██████████| 13/13 [00:04<00:00,  3.04it/s]"
          ]
        },
        {
          "output_type": "stream",
          "name": "stdout",
          "text": [
            "                   all        395        415      0.809      0.237      0.395      0.265\n"
          ]
        },
        {
          "output_type": "stream",
          "name": "stderr",
          "text": [
            "\n"
          ]
        },
        {
          "output_type": "stream",
          "name": "stdout",
          "text": [
            "\n",
            "      Epoch    GPU_mem   box_loss   cls_loss   dfl_loss  Instances       Size\n"
          ]
        },
        {
          "output_type": "stream",
          "name": "stderr",
          "text": [
            "      2/100       2.7G     0.9326      1.937      1.264         16        640: 100%|██████████| 86/86 [00:24<00:00,  3.51it/s]\n",
            "                 Class     Images  Instances      Box(P          R      mAP50  mAP50-95): 100%|██████████| 13/13 [00:03<00:00,  4.16it/s]"
          ]
        },
        {
          "output_type": "stream",
          "name": "stdout",
          "text": [
            "                   all        395        415      0.824      0.424      0.455      0.318\n"
          ]
        },
        {
          "output_type": "stream",
          "name": "stderr",
          "text": [
            "\n"
          ]
        },
        {
          "output_type": "stream",
          "name": "stdout",
          "text": [
            "\n",
            "      Epoch    GPU_mem   box_loss   cls_loss   dfl_loss  Instances       Size\n"
          ]
        },
        {
          "output_type": "stream",
          "name": "stderr",
          "text": [
            "      3/100      2.71G     0.9896      1.727      1.305         24        640: 100%|██████████| 86/86 [00:24<00:00,  3.57it/s]\n",
            "                 Class     Images  Instances      Box(P          R      mAP50  mAP50-95): 100%|██████████| 13/13 [00:03<00:00,  3.74it/s]\n"
          ]
        },
        {
          "output_type": "stream",
          "name": "stdout",
          "text": [
            "                   all        395        415      0.782      0.404      0.454      0.267\n",
            "\n",
            "      Epoch    GPU_mem   box_loss   cls_loss   dfl_loss  Instances       Size\n"
          ]
        },
        {
          "output_type": "stream",
          "name": "stderr",
          "text": [
            "      4/100      2.74G     0.9665      1.519       1.29         18        640: 100%|██████████| 86/86 [00:23<00:00,  3.63it/s]\n",
            "                 Class     Images  Instances      Box(P          R      mAP50  mAP50-95): 100%|██████████| 13/13 [00:04<00:00,  3.19it/s]\n"
          ]
        },
        {
          "output_type": "stream",
          "name": "stdout",
          "text": [
            "                   all        395        415      0.767      0.483      0.476      0.335\n",
            "\n",
            "      Epoch    GPU_mem   box_loss   cls_loss   dfl_loss  Instances       Size\n"
          ]
        },
        {
          "output_type": "stream",
          "name": "stderr",
          "text": [
            "      5/100      2.75G     0.9381      1.347      1.268         11        640: 100%|██████████| 86/86 [00:23<00:00,  3.73it/s]\n",
            "                 Class     Images  Instances      Box(P          R      mAP50  mAP50-95): 100%|██████████| 13/13 [00:04<00:00,  3.22it/s]"
          ]
        },
        {
          "output_type": "stream",
          "name": "stdout",
          "text": [
            "                   all        395        415      0.822      0.485      0.518      0.368\n"
          ]
        },
        {
          "output_type": "stream",
          "name": "stderr",
          "text": [
            "\n"
          ]
        },
        {
          "output_type": "stream",
          "name": "stdout",
          "text": [
            "\n",
            "      Epoch    GPU_mem   box_loss   cls_loss   dfl_loss  Instances       Size\n"
          ]
        },
        {
          "output_type": "stream",
          "name": "stderr",
          "text": [
            "      6/100      2.76G     0.9076      1.248      1.247         21        640: 100%|██████████| 86/86 [00:23<00:00,  3.60it/s]\n",
            "                 Class     Images  Instances      Box(P          R      mAP50  mAP50-95): 100%|██████████| 13/13 [00:03<00:00,  4.13it/s]"
          ]
        },
        {
          "output_type": "stream",
          "name": "stdout",
          "text": [
            "                   all        395        415       0.72      0.512      0.503      0.346\n"
          ]
        },
        {
          "output_type": "stream",
          "name": "stderr",
          "text": [
            "\n"
          ]
        },
        {
          "output_type": "stream",
          "name": "stdout",
          "text": [
            "\n",
            "      Epoch    GPU_mem   box_loss   cls_loss   dfl_loss  Instances       Size\n"
          ]
        },
        {
          "output_type": "stream",
          "name": "stderr",
          "text": [
            "      7/100      2.78G      0.893      1.127      1.248         15        640: 100%|██████████| 86/86 [00:23<00:00,  3.59it/s]\n",
            "                 Class     Images  Instances      Box(P          R      mAP50  mAP50-95): 100%|██████████| 13/13 [00:03<00:00,  4.19it/s]"
          ]
        },
        {
          "output_type": "stream",
          "name": "stdout",
          "text": [
            "                   all        395        415      0.831      0.491      0.549        0.4\n"
          ]
        },
        {
          "output_type": "stream",
          "name": "stderr",
          "text": [
            "\n"
          ]
        },
        {
          "output_type": "stream",
          "name": "stdout",
          "text": [
            "\n",
            "      Epoch    GPU_mem   box_loss   cls_loss   dfl_loss  Instances       Size\n"
          ]
        },
        {
          "output_type": "stream",
          "name": "stderr",
          "text": [
            "      8/100      2.79G     0.9211      1.087      1.268         18        640: 100%|██████████| 86/86 [00:24<00:00,  3.57it/s]\n",
            "                 Class     Images  Instances      Box(P          R      mAP50  mAP50-95): 100%|██████████| 13/13 [00:03<00:00,  4.26it/s]"
          ]
        },
        {
          "output_type": "stream",
          "name": "stdout",
          "text": [
            "                   all        395        415      0.679      0.448      0.512      0.362\n"
          ]
        },
        {
          "output_type": "stream",
          "name": "stderr",
          "text": [
            "\n"
          ]
        },
        {
          "output_type": "stream",
          "name": "stdout",
          "text": [
            "\n",
            "      Epoch    GPU_mem   box_loss   cls_loss   dfl_loss  Instances       Size\n"
          ]
        },
        {
          "output_type": "stream",
          "name": "stderr",
          "text": [
            "      9/100       2.8G     0.8726     0.9931      1.214         21        640: 100%|██████████| 86/86 [00:24<00:00,  3.57it/s]\n",
            "                 Class     Images  Instances      Box(P          R      mAP50  mAP50-95): 100%|██████████| 13/13 [00:03<00:00,  4.21it/s]"
          ]
        },
        {
          "output_type": "stream",
          "name": "stdout",
          "text": [
            "                   all        395        415      0.842      0.506      0.588      0.418\n"
          ]
        },
        {
          "output_type": "stream",
          "name": "stderr",
          "text": [
            "\n"
          ]
        },
        {
          "output_type": "stream",
          "name": "stdout",
          "text": [
            "\n",
            "      Epoch    GPU_mem   box_loss   cls_loss   dfl_loss  Instances       Size\n"
          ]
        },
        {
          "output_type": "stream",
          "name": "stderr",
          "text": [
            "     10/100      2.82G      0.861      0.975      1.227         19        640: 100%|██████████| 86/86 [00:24<00:00,  3.56it/s]\n",
            "                 Class     Images  Instances      Box(P          R      mAP50  mAP50-95): 100%|██████████| 13/13 [00:03<00:00,  4.30it/s]"
          ]
        },
        {
          "output_type": "stream",
          "name": "stdout",
          "text": [
            "                   all        395        415      0.787      0.461       0.52      0.399\n"
          ]
        },
        {
          "output_type": "stream",
          "name": "stderr",
          "text": [
            "\n"
          ]
        },
        {
          "output_type": "stream",
          "name": "stdout",
          "text": [
            "\n",
            "      Epoch    GPU_mem   box_loss   cls_loss   dfl_loss  Instances       Size\n"
          ]
        },
        {
          "output_type": "stream",
          "name": "stderr",
          "text": [
            "     11/100      2.83G     0.8798     0.9919      1.239         23        640: 100%|██████████| 86/86 [00:24<00:00,  3.57it/s]\n",
            "                 Class     Images  Instances      Box(P          R      mAP50  mAP50-95): 100%|██████████| 13/13 [00:03<00:00,  4.01it/s]\n"
          ]
        },
        {
          "output_type": "stream",
          "name": "stdout",
          "text": [
            "                   all        395        415       0.71      0.555       0.57      0.438\n",
            "\n",
            "      Epoch    GPU_mem   box_loss   cls_loss   dfl_loss  Instances       Size\n"
          ]
        },
        {
          "output_type": "stream",
          "name": "stderr",
          "text": [
            "     12/100      2.85G     0.8146     0.9188      1.188         20        640: 100%|██████████| 86/86 [00:23<00:00,  3.63it/s]\n",
            "                 Class     Images  Instances      Box(P          R      mAP50  mAP50-95): 100%|██████████| 13/13 [00:03<00:00,  3.33it/s]"
          ]
        },
        {
          "output_type": "stream",
          "name": "stdout",
          "text": [
            "                   all        395        415      0.746      0.536      0.562      0.419\n"
          ]
        },
        {
          "output_type": "stream",
          "name": "stderr",
          "text": [
            "\n"
          ]
        },
        {
          "output_type": "stream",
          "name": "stdout",
          "text": [
            "\n",
            "      Epoch    GPU_mem   box_loss   cls_loss   dfl_loss  Instances       Size\n"
          ]
        },
        {
          "output_type": "stream",
          "name": "stderr",
          "text": [
            "     13/100      2.86G     0.8283     0.8757      1.198         20        640: 100%|██████████| 86/86 [00:22<00:00,  3.78it/s]\n",
            "                 Class     Images  Instances      Box(P          R      mAP50  mAP50-95): 100%|██████████| 13/13 [00:04<00:00,  3.24it/s]"
          ]
        },
        {
          "output_type": "stream",
          "name": "stdout",
          "text": [
            "                   all        395        415      0.758      0.587      0.597      0.455\n"
          ]
        },
        {
          "output_type": "stream",
          "name": "stderr",
          "text": [
            "\n"
          ]
        },
        {
          "output_type": "stream",
          "name": "stdout",
          "text": [
            "\n",
            "      Epoch    GPU_mem   box_loss   cls_loss   dfl_loss  Instances       Size\n"
          ]
        },
        {
          "output_type": "stream",
          "name": "stderr",
          "text": [
            "     14/100      2.88G     0.8296     0.8861      1.192         25        640: 100%|██████████| 86/86 [00:24<00:00,  3.51it/s]\n",
            "                 Class     Images  Instances      Box(P          R      mAP50  mAP50-95): 100%|██████████| 13/13 [00:03<00:00,  4.01it/s]"
          ]
        },
        {
          "output_type": "stream",
          "name": "stdout",
          "text": [
            "                   all        395        415      0.808      0.614      0.635      0.478\n"
          ]
        },
        {
          "output_type": "stream",
          "name": "stderr",
          "text": [
            "\n"
          ]
        },
        {
          "output_type": "stream",
          "name": "stdout",
          "text": [
            "\n",
            "      Epoch    GPU_mem   box_loss   cls_loss   dfl_loss  Instances       Size\n"
          ]
        },
        {
          "output_type": "stream",
          "name": "stderr",
          "text": [
            "     15/100      2.89G     0.8182      0.869      1.187         22        640: 100%|██████████| 86/86 [00:26<00:00,  3.29it/s]\n",
            "                 Class     Images  Instances      Box(P          R      mAP50  mAP50-95): 100%|██████████| 13/13 [00:03<00:00,  4.11it/s]"
          ]
        },
        {
          "output_type": "stream",
          "name": "stdout",
          "text": [
            "                   all        395        415      0.839      0.603      0.637      0.493\n"
          ]
        },
        {
          "output_type": "stream",
          "name": "stderr",
          "text": [
            "\n"
          ]
        },
        {
          "output_type": "stream",
          "name": "stdout",
          "text": [
            "\n",
            "      Epoch    GPU_mem   box_loss   cls_loss   dfl_loss  Instances       Size\n"
          ]
        },
        {
          "output_type": "stream",
          "name": "stderr",
          "text": [
            "     16/100      2.91G     0.8421     0.8234      1.213         21        640: 100%|██████████| 86/86 [00:25<00:00,  3.34it/s]\n",
            "                 Class     Images  Instances      Box(P          R      mAP50  mAP50-95): 100%|██████████| 13/13 [00:03<00:00,  4.24it/s]"
          ]
        },
        {
          "output_type": "stream",
          "name": "stdout",
          "text": [
            "                   all        395        415      0.846      0.578      0.614      0.479\n"
          ]
        },
        {
          "output_type": "stream",
          "name": "stderr",
          "text": [
            "\n"
          ]
        },
        {
          "output_type": "stream",
          "name": "stdout",
          "text": [
            "\n",
            "      Epoch    GPU_mem   box_loss   cls_loss   dfl_loss  Instances       Size\n"
          ]
        },
        {
          "output_type": "stream",
          "name": "stderr",
          "text": [
            "     17/100      2.92G     0.7922      0.836      1.181         23        640: 100%|██████████| 86/86 [00:23<00:00,  3.60it/s]\n",
            "                 Class     Images  Instances      Box(P          R      mAP50  mAP50-95): 100%|██████████| 13/13 [00:03<00:00,  3.44it/s]"
          ]
        },
        {
          "output_type": "stream",
          "name": "stdout",
          "text": [
            "                   all        395        415      0.851       0.59      0.636      0.487\n"
          ]
        },
        {
          "output_type": "stream",
          "name": "stderr",
          "text": [
            "\n"
          ]
        },
        {
          "output_type": "stream",
          "name": "stdout",
          "text": [
            "\n",
            "      Epoch    GPU_mem   box_loss   cls_loss   dfl_loss  Instances       Size\n"
          ]
        },
        {
          "output_type": "stream",
          "name": "stderr",
          "text": [
            "     18/100      2.94G     0.7696     0.7907      1.159         16        640: 100%|██████████| 86/86 [00:23<00:00,  3.71it/s]\n",
            "                 Class     Images  Instances      Box(P          R      mAP50  mAP50-95): 100%|██████████| 13/13 [00:03<00:00,  3.32it/s]"
          ]
        },
        {
          "output_type": "stream",
          "name": "stdout",
          "text": [
            "                   all        395        415      0.829      0.604      0.614      0.475\n"
          ]
        },
        {
          "output_type": "stream",
          "name": "stderr",
          "text": [
            "\n"
          ]
        },
        {
          "output_type": "stream",
          "name": "stdout",
          "text": [
            "\n",
            "      Epoch    GPU_mem   box_loss   cls_loss   dfl_loss  Instances       Size\n"
          ]
        },
        {
          "output_type": "stream",
          "name": "stderr",
          "text": [
            "     19/100      2.95G      0.824     0.8444      1.183         20        640: 100%|██████████| 86/86 [00:22<00:00,  3.81it/s]\n",
            "                 Class     Images  Instances      Box(P          R      mAP50  mAP50-95): 100%|██████████| 13/13 [00:03<00:00,  3.27it/s]"
          ]
        },
        {
          "output_type": "stream",
          "name": "stdout",
          "text": [
            "                   all        395        415      0.867      0.518      0.569       0.44\n"
          ]
        },
        {
          "output_type": "stream",
          "name": "stderr",
          "text": [
            "\n"
          ]
        },
        {
          "output_type": "stream",
          "name": "stdout",
          "text": [
            "\n",
            "      Epoch    GPU_mem   box_loss   cls_loss   dfl_loss  Instances       Size\n"
          ]
        },
        {
          "output_type": "stream",
          "name": "stderr",
          "text": [
            "     20/100      2.97G     0.7549     0.7801      1.153         17        640: 100%|██████████| 86/86 [00:23<00:00,  3.69it/s]\n",
            "                 Class     Images  Instances      Box(P          R      mAP50  mAP50-95): 100%|██████████| 13/13 [00:03<00:00,  3.65it/s]"
          ]
        },
        {
          "output_type": "stream",
          "name": "stdout",
          "text": [
            "                   all        395        415      0.712      0.592        0.6      0.459\n"
          ]
        },
        {
          "output_type": "stream",
          "name": "stderr",
          "text": [
            "\n"
          ]
        },
        {
          "output_type": "stream",
          "name": "stdout",
          "text": [
            "\n",
            "      Epoch    GPU_mem   box_loss   cls_loss   dfl_loss  Instances       Size\n"
          ]
        },
        {
          "output_type": "stream",
          "name": "stderr",
          "text": [
            "     21/100      2.98G     0.7786     0.8083      1.161         30        640: 100%|██████████| 86/86 [00:24<00:00,  3.58it/s]\n",
            "                 Class     Images  Instances      Box(P          R      mAP50  mAP50-95): 100%|██████████| 13/13 [00:03<00:00,  4.09it/s]"
          ]
        },
        {
          "output_type": "stream",
          "name": "stdout",
          "text": [
            "                   all        395        415      0.793      0.582      0.594      0.456\n"
          ]
        },
        {
          "output_type": "stream",
          "name": "stderr",
          "text": [
            "\n"
          ]
        },
        {
          "output_type": "stream",
          "name": "stdout",
          "text": [
            "\n",
            "      Epoch    GPU_mem   box_loss   cls_loss   dfl_loss  Instances       Size\n"
          ]
        },
        {
          "output_type": "stream",
          "name": "stderr",
          "text": [
            "     22/100         3G      0.757     0.7803      1.148         12        640: 100%|██████████| 86/86 [00:26<00:00,  3.29it/s]\n",
            "                 Class     Images  Instances      Box(P          R      mAP50  mAP50-95): 100%|██████████| 13/13 [00:03<00:00,  4.03it/s]"
          ]
        },
        {
          "output_type": "stream",
          "name": "stdout",
          "text": [
            "                   all        395        415      0.786      0.573      0.595      0.461\n"
          ]
        },
        {
          "output_type": "stream",
          "name": "stderr",
          "text": [
            "\n"
          ]
        },
        {
          "output_type": "stream",
          "name": "stdout",
          "text": [
            "\n",
            "      Epoch    GPU_mem   box_loss   cls_loss   dfl_loss  Instances       Size\n"
          ]
        },
        {
          "output_type": "stream",
          "name": "stderr",
          "text": [
            "     23/100      3.01G     0.7507     0.7356      1.138         21        640: 100%|██████████| 86/86 [00:26<00:00,  3.24it/s]\n",
            "                 Class     Images  Instances      Box(P          R      mAP50  mAP50-95): 100%|██████████| 13/13 [00:03<00:00,  4.02it/s]"
          ]
        },
        {
          "output_type": "stream",
          "name": "stdout",
          "text": [
            "                   all        395        415      0.845      0.588      0.629       0.49\n"
          ]
        },
        {
          "output_type": "stream",
          "name": "stderr",
          "text": [
            "\n"
          ]
        },
        {
          "output_type": "stream",
          "name": "stdout",
          "text": [
            "\n",
            "      Epoch    GPU_mem   box_loss   cls_loss   dfl_loss  Instances       Size\n"
          ]
        },
        {
          "output_type": "stream",
          "name": "stderr",
          "text": [
            "     24/100      3.03G      0.776     0.7423      1.179         16        640: 100%|██████████| 86/86 [00:26<00:00,  3.30it/s]\n",
            "                 Class     Images  Instances      Box(P          R      mAP50  mAP50-95): 100%|██████████| 13/13 [00:04<00:00,  3.09it/s]"
          ]
        },
        {
          "output_type": "stream",
          "name": "stdout",
          "text": [
            "                   all        395        415      0.832      0.583       0.63      0.489\n"
          ]
        },
        {
          "output_type": "stream",
          "name": "stderr",
          "text": [
            "\n"
          ]
        },
        {
          "output_type": "stream",
          "name": "stdout",
          "text": [
            "\n",
            "      Epoch    GPU_mem   box_loss   cls_loss   dfl_loss  Instances       Size\n"
          ]
        },
        {
          "output_type": "stream",
          "name": "stderr",
          "text": [
            "     25/100      3.04G     0.7422     0.7517      1.152         16        640: 100%|██████████| 86/86 [00:25<00:00,  3.31it/s]\n",
            "                 Class     Images  Instances      Box(P          R      mAP50  mAP50-95): 100%|██████████| 13/13 [00:03<00:00,  4.08it/s]"
          ]
        },
        {
          "output_type": "stream",
          "name": "stdout",
          "text": [
            "                   all        395        415      0.758      0.635      0.629      0.485\n"
          ]
        },
        {
          "output_type": "stream",
          "name": "stderr",
          "text": [
            "\n"
          ]
        },
        {
          "output_type": "stream",
          "name": "stdout",
          "text": [
            "\n",
            "      Epoch    GPU_mem   box_loss   cls_loss   dfl_loss  Instances       Size\n"
          ]
        },
        {
          "output_type": "stream",
          "name": "stderr",
          "text": [
            "     26/100      3.06G     0.7086     0.7002      1.133         16        640: 100%|██████████| 86/86 [00:24<00:00,  3.55it/s]\n",
            "                 Class     Images  Instances      Box(P          R      mAP50  mAP50-95): 100%|██████████| 13/13 [00:03<00:00,  4.10it/s]"
          ]
        },
        {
          "output_type": "stream",
          "name": "stdout",
          "text": [
            "                   all        395        415       0.81      0.604      0.614       0.48\n"
          ]
        },
        {
          "output_type": "stream",
          "name": "stderr",
          "text": [
            "\n"
          ]
        },
        {
          "output_type": "stream",
          "name": "stdout",
          "text": [
            "\n",
            "      Epoch    GPU_mem   box_loss   cls_loss   dfl_loss  Instances       Size\n"
          ]
        },
        {
          "output_type": "stream",
          "name": "stderr",
          "text": [
            "     27/100      3.07G     0.7364     0.6997      1.144         17        640: 100%|██████████| 86/86 [00:24<00:00,  3.57it/s]\n",
            "                 Class     Images  Instances      Box(P          R      mAP50  mAP50-95): 100%|██████████| 13/13 [00:02<00:00,  4.38it/s]"
          ]
        },
        {
          "output_type": "stream",
          "name": "stdout",
          "text": [
            "                   all        395        415      0.838      0.617      0.641      0.495\n"
          ]
        },
        {
          "output_type": "stream",
          "name": "stderr",
          "text": [
            "\n"
          ]
        },
        {
          "output_type": "stream",
          "name": "stdout",
          "text": [
            "\n",
            "      Epoch    GPU_mem   box_loss   cls_loss   dfl_loss  Instances       Size\n"
          ]
        },
        {
          "output_type": "stream",
          "name": "stderr",
          "text": [
            "     28/100      3.09G     0.7308     0.7116      1.145         14        640: 100%|██████████| 86/86 [00:23<00:00,  3.60it/s]\n",
            "                 Class     Images  Instances      Box(P          R      mAP50  mAP50-95): 100%|██████████| 13/13 [00:03<00:00,  4.21it/s]"
          ]
        },
        {
          "output_type": "stream",
          "name": "stdout",
          "text": [
            "                   all        395        415      0.844      0.563      0.597      0.461\n"
          ]
        },
        {
          "output_type": "stream",
          "name": "stderr",
          "text": [
            "\n"
          ]
        },
        {
          "output_type": "stream",
          "name": "stdout",
          "text": [
            "\n",
            "      Epoch    GPU_mem   box_loss   cls_loss   dfl_loss  Instances       Size\n"
          ]
        },
        {
          "output_type": "stream",
          "name": "stderr",
          "text": [
            "     29/100       3.1G     0.7312     0.6722      1.144         16        640: 100%|██████████| 86/86 [00:23<00:00,  3.62it/s]\n",
            "                 Class     Images  Instances      Box(P          R      mAP50  mAP50-95): 100%|██████████| 13/13 [00:03<00:00,  4.26it/s]"
          ]
        },
        {
          "output_type": "stream",
          "name": "stdout",
          "text": [
            "                   all        395        415      0.734       0.58       0.58      0.456\n"
          ]
        },
        {
          "output_type": "stream",
          "name": "stderr",
          "text": [
            "\n"
          ]
        },
        {
          "output_type": "stream",
          "name": "stdout",
          "text": [
            "\n",
            "      Epoch    GPU_mem   box_loss   cls_loss   dfl_loss  Instances       Size\n"
          ]
        },
        {
          "output_type": "stream",
          "name": "stderr",
          "text": [
            "     30/100      3.12G     0.7196     0.6851      1.122         23        640: 100%|██████████| 86/86 [00:23<00:00,  3.59it/s]\n",
            "                 Class     Images  Instances      Box(P          R      mAP50  mAP50-95): 100%|██████████| 13/13 [00:03<00:00,  3.36it/s]\n"
          ]
        },
        {
          "output_type": "stream",
          "name": "stdout",
          "text": [
            "                   all        395        415      0.575      0.625      0.602      0.466\n",
            "\n",
            "      Epoch    GPU_mem   box_loss   cls_loss   dfl_loss  Instances       Size\n"
          ]
        },
        {
          "output_type": "stream",
          "name": "stderr",
          "text": [
            "     31/100      3.13G     0.7103     0.6572      1.133         18        640: 100%|██████████| 86/86 [00:22<00:00,  3.78it/s]\n",
            "                 Class     Images  Instances      Box(P          R      mAP50  mAP50-95): 100%|██████████| 13/13 [00:03<00:00,  3.28it/s]"
          ]
        },
        {
          "output_type": "stream",
          "name": "stdout",
          "text": [
            "                   all        395        415      0.798      0.602      0.621      0.486\n"
          ]
        },
        {
          "output_type": "stream",
          "name": "stderr",
          "text": [
            "\n"
          ]
        },
        {
          "output_type": "stream",
          "name": "stdout",
          "text": [
            "\n",
            "      Epoch    GPU_mem   box_loss   cls_loss   dfl_loss  Instances       Size\n"
          ]
        },
        {
          "output_type": "stream",
          "name": "stderr",
          "text": [
            "     32/100      3.15G     0.7153     0.6662      1.124         19        640: 100%|██████████| 86/86 [00:23<00:00,  3.68it/s]\n",
            "                 Class     Images  Instances      Box(P          R      mAP50  mAP50-95): 100%|██████████| 13/13 [00:03<00:00,  3.86it/s]"
          ]
        },
        {
          "output_type": "stream",
          "name": "stdout",
          "text": [
            "                   all        395        415      0.873       0.61      0.655      0.512\n"
          ]
        },
        {
          "output_type": "stream",
          "name": "stderr",
          "text": [
            "\n"
          ]
        },
        {
          "output_type": "stream",
          "name": "stdout",
          "text": [
            "\n",
            "      Epoch    GPU_mem   box_loss   cls_loss   dfl_loss  Instances       Size\n"
          ]
        },
        {
          "output_type": "stream",
          "name": "stderr",
          "text": [
            "     33/100      3.16G     0.6862     0.6635      1.115         19        640: 100%|██████████| 86/86 [00:24<00:00,  3.55it/s]\n",
            "                 Class     Images  Instances      Box(P          R      mAP50  mAP50-95): 100%|██████████| 13/13 [00:03<00:00,  4.23it/s]"
          ]
        },
        {
          "output_type": "stream",
          "name": "stdout",
          "text": [
            "                   all        395        415      0.866      0.608      0.642      0.492\n"
          ]
        },
        {
          "output_type": "stream",
          "name": "stderr",
          "text": [
            "\n"
          ]
        },
        {
          "output_type": "stream",
          "name": "stdout",
          "text": [
            "\n",
            "      Epoch    GPU_mem   box_loss   cls_loss   dfl_loss  Instances       Size\n"
          ]
        },
        {
          "output_type": "stream",
          "name": "stderr",
          "text": [
            "     34/100      3.18G     0.7192     0.6802      1.128         23        640: 100%|██████████| 86/86 [00:23<00:00,  3.59it/s]\n",
            "                 Class     Images  Instances      Box(P          R      mAP50  mAP50-95): 100%|██████████| 13/13 [00:02<00:00,  4.37it/s]"
          ]
        },
        {
          "output_type": "stream",
          "name": "stdout",
          "text": [
            "                   all        395        415      0.618      0.617      0.642      0.508\n"
          ]
        },
        {
          "output_type": "stream",
          "name": "stderr",
          "text": [
            "\n"
          ]
        },
        {
          "output_type": "stream",
          "name": "stdout",
          "text": [
            "\n",
            "      Epoch    GPU_mem   box_loss   cls_loss   dfl_loss  Instances       Size\n"
          ]
        },
        {
          "output_type": "stream",
          "name": "stderr",
          "text": [
            "     35/100      3.19G     0.6927     0.6459       1.13         15        640: 100%|██████████| 86/86 [00:24<00:00,  3.55it/s]\n",
            "                 Class     Images  Instances      Box(P          R      mAP50  mAP50-95): 100%|██████████| 13/13 [00:02<00:00,  4.43it/s]"
          ]
        },
        {
          "output_type": "stream",
          "name": "stdout",
          "text": [
            "                   all        395        415      0.887      0.597      0.648      0.505\n"
          ]
        },
        {
          "output_type": "stream",
          "name": "stderr",
          "text": [
            "\n"
          ]
        },
        {
          "output_type": "stream",
          "name": "stdout",
          "text": [
            "\n",
            "      Epoch    GPU_mem   box_loss   cls_loss   dfl_loss  Instances       Size\n"
          ]
        },
        {
          "output_type": "stream",
          "name": "stderr",
          "text": [
            "     36/100      3.21G     0.6837      0.632      1.114         23        640: 100%|██████████| 86/86 [00:24<00:00,  3.58it/s]\n",
            "                 Class     Images  Instances      Box(P          R      mAP50  mAP50-95): 100%|██████████| 13/13 [00:02<00:00,  4.42it/s]"
          ]
        },
        {
          "output_type": "stream",
          "name": "stdout",
          "text": [
            "                   all        395        415      0.805      0.635      0.649      0.512\n"
          ]
        },
        {
          "output_type": "stream",
          "name": "stderr",
          "text": [
            "\n"
          ]
        },
        {
          "output_type": "stream",
          "name": "stdout",
          "text": [
            "\n",
            "      Epoch    GPU_mem   box_loss   cls_loss   dfl_loss  Instances       Size\n"
          ]
        },
        {
          "output_type": "stream",
          "name": "stderr",
          "text": [
            "     37/100      3.22G     0.6988     0.6444      1.123         16        640: 100%|██████████| 86/86 [00:24<00:00,  3.57it/s]\n",
            "                 Class     Images  Instances      Box(P          R      mAP50  mAP50-95): 100%|██████████| 13/13 [00:02<00:00,  4.38it/s]"
          ]
        },
        {
          "output_type": "stream",
          "name": "stdout",
          "text": [
            "                   all        395        415      0.894      0.599      0.659      0.521\n"
          ]
        },
        {
          "output_type": "stream",
          "name": "stderr",
          "text": [
            "\n"
          ]
        },
        {
          "output_type": "stream",
          "name": "stdout",
          "text": [
            "\n",
            "      Epoch    GPU_mem   box_loss   cls_loss   dfl_loss  Instances       Size\n"
          ]
        },
        {
          "output_type": "stream",
          "name": "stderr",
          "text": [
            "     38/100      3.24G     0.6727     0.6055      1.108         21        640: 100%|██████████| 86/86 [00:24<00:00,  3.55it/s]\n",
            "                 Class     Images  Instances      Box(P          R      mAP50  mAP50-95): 100%|██████████| 13/13 [00:03<00:00,  3.60it/s]"
          ]
        },
        {
          "output_type": "stream",
          "name": "stdout",
          "text": [
            "                   all        395        415      0.627      0.628      0.651      0.517\n"
          ]
        },
        {
          "output_type": "stream",
          "name": "stderr",
          "text": [
            "\n"
          ]
        },
        {
          "output_type": "stream",
          "name": "stdout",
          "text": [
            "\n",
            "      Epoch    GPU_mem   box_loss   cls_loss   dfl_loss  Instances       Size\n"
          ]
        },
        {
          "output_type": "stream",
          "name": "stderr",
          "text": [
            "     39/100      3.25G     0.6728     0.6197      1.106         16        640: 100%|██████████| 86/86 [00:23<00:00,  3.71it/s]\n",
            "                 Class     Images  Instances      Box(P          R      mAP50  mAP50-95): 100%|██████████| 13/13 [00:04<00:00,  3.18it/s]"
          ]
        },
        {
          "output_type": "stream",
          "name": "stdout",
          "text": [
            "                   all        395        415      0.852      0.612      0.645      0.504\n"
          ]
        },
        {
          "output_type": "stream",
          "name": "stderr",
          "text": [
            "\n"
          ]
        },
        {
          "output_type": "stream",
          "name": "stdout",
          "text": [
            "\n",
            "      Epoch    GPU_mem   box_loss   cls_loss   dfl_loss  Instances       Size\n"
          ]
        },
        {
          "output_type": "stream",
          "name": "stderr",
          "text": [
            "     40/100      3.27G     0.6574     0.6146      1.087         15        640: 100%|██████████| 86/86 [00:23<00:00,  3.66it/s]\n",
            "                 Class     Images  Instances      Box(P          R      mAP50  mAP50-95): 100%|██████████| 13/13 [00:03<00:00,  3.88it/s]"
          ]
        },
        {
          "output_type": "stream",
          "name": "stdout",
          "text": [
            "                   all        395        415      0.831      0.632      0.652      0.516\n"
          ]
        },
        {
          "output_type": "stream",
          "name": "stderr",
          "text": [
            "\n"
          ]
        },
        {
          "output_type": "stream",
          "name": "stdout",
          "text": [
            "\n",
            "      Epoch    GPU_mem   box_loss   cls_loss   dfl_loss  Instances       Size\n"
          ]
        },
        {
          "output_type": "stream",
          "name": "stderr",
          "text": [
            "     41/100      3.28G     0.6645     0.6052      1.091         18        640: 100%|██████████| 86/86 [00:25<00:00,  3.42it/s]\n",
            "                 Class     Images  Instances      Box(P          R      mAP50  mAP50-95): 100%|██████████| 13/13 [00:03<00:00,  4.05it/s]"
          ]
        },
        {
          "output_type": "stream",
          "name": "stdout",
          "text": [
            "                   all        395        415      0.875      0.617      0.668      0.528\n"
          ]
        },
        {
          "output_type": "stream",
          "name": "stderr",
          "text": [
            "\n"
          ]
        },
        {
          "output_type": "stream",
          "name": "stdout",
          "text": [
            "\n",
            "      Epoch    GPU_mem   box_loss   cls_loss   dfl_loss  Instances       Size\n"
          ]
        },
        {
          "output_type": "stream",
          "name": "stderr",
          "text": [
            "     42/100      3.29G     0.6526     0.5881      1.098         12        640: 100%|██████████| 86/86 [00:24<00:00,  3.51it/s]\n",
            "                 Class     Images  Instances      Box(P          R      mAP50  mAP50-95): 100%|██████████| 13/13 [00:03<00:00,  4.10it/s]"
          ]
        },
        {
          "output_type": "stream",
          "name": "stdout",
          "text": [
            "                   all        395        415      0.834      0.639      0.668      0.527\n"
          ]
        },
        {
          "output_type": "stream",
          "name": "stderr",
          "text": [
            "\n"
          ]
        },
        {
          "output_type": "stream",
          "name": "stdout",
          "text": [
            "\n",
            "      Epoch    GPU_mem   box_loss   cls_loss   dfl_loss  Instances       Size\n"
          ]
        },
        {
          "output_type": "stream",
          "name": "stderr",
          "text": [
            "     43/100       3.3G     0.6663     0.6187      1.102         13        640: 100%|██████████| 86/86 [00:24<00:00,  3.55it/s]\n",
            "                 Class     Images  Instances      Box(P          R      mAP50  mAP50-95): 100%|██████████| 13/13 [00:02<00:00,  4.43it/s]"
          ]
        },
        {
          "output_type": "stream",
          "name": "stdout",
          "text": [
            "                   all        395        415      0.861       0.62      0.661      0.512\n"
          ]
        },
        {
          "output_type": "stream",
          "name": "stderr",
          "text": [
            "\n"
          ]
        },
        {
          "output_type": "stream",
          "name": "stdout",
          "text": [
            "\n",
            "      Epoch    GPU_mem   box_loss   cls_loss   dfl_loss  Instances       Size\n"
          ]
        },
        {
          "output_type": "stream",
          "name": "stderr",
          "text": [
            "     44/100      3.32G     0.6208     0.5679      1.068         24        640: 100%|██████████| 86/86 [00:24<00:00,  3.45it/s]\n",
            "                 Class     Images  Instances      Box(P          R      mAP50  mAP50-95): 100%|██████████| 13/13 [00:03<00:00,  3.32it/s]"
          ]
        },
        {
          "output_type": "stream",
          "name": "stdout",
          "text": [
            "                   all        395        415      0.862      0.636      0.673      0.535\n"
          ]
        },
        {
          "output_type": "stream",
          "name": "stderr",
          "text": [
            "\n"
          ]
        },
        {
          "output_type": "stream",
          "name": "stdout",
          "text": [
            "\n",
            "      Epoch    GPU_mem   box_loss   cls_loss   dfl_loss  Instances       Size\n"
          ]
        },
        {
          "output_type": "stream",
          "name": "stderr",
          "text": [
            "     45/100      3.33G     0.6544     0.5761      1.095         19        640: 100%|██████████| 86/86 [00:24<00:00,  3.55it/s]\n",
            "                 Class     Images  Instances      Box(P          R      mAP50  mAP50-95): 100%|██████████| 13/13 [00:04<00:00,  3.22it/s]"
          ]
        },
        {
          "output_type": "stream",
          "name": "stdout",
          "text": [
            "                   all        395        415      0.849      0.624      0.657      0.508\n"
          ]
        },
        {
          "output_type": "stream",
          "name": "stderr",
          "text": [
            "\n"
          ]
        },
        {
          "output_type": "stream",
          "name": "stdout",
          "text": [
            "\n",
            "      Epoch    GPU_mem   box_loss   cls_loss   dfl_loss  Instances       Size\n"
          ]
        },
        {
          "output_type": "stream",
          "name": "stderr",
          "text": [
            "     46/100      3.35G     0.6467     0.5874      1.091         17        640: 100%|██████████| 86/86 [00:25<00:00,  3.41it/s]\n",
            "                 Class     Images  Instances      Box(P          R      mAP50  mAP50-95): 100%|██████████| 13/13 [00:03<00:00,  3.97it/s]"
          ]
        },
        {
          "output_type": "stream",
          "name": "stdout",
          "text": [
            "                   all        395        415      0.883      0.598      0.652      0.512\n"
          ]
        },
        {
          "output_type": "stream",
          "name": "stderr",
          "text": [
            "\n"
          ]
        },
        {
          "output_type": "stream",
          "name": "stdout",
          "text": [
            "\n",
            "      Epoch    GPU_mem   box_loss   cls_loss   dfl_loss  Instances       Size\n"
          ]
        },
        {
          "output_type": "stream",
          "name": "stderr",
          "text": [
            "     47/100      3.37G     0.6339     0.5721      1.078         22        640: 100%|██████████| 86/86 [00:25<00:00,  3.36it/s]\n",
            "                 Class     Images  Instances      Box(P          R      mAP50  mAP50-95): 100%|██████████| 13/13 [00:03<00:00,  3.99it/s]"
          ]
        },
        {
          "output_type": "stream",
          "name": "stdout",
          "text": [
            "                   all        395        415      0.857      0.613      0.667      0.521\n"
          ]
        },
        {
          "output_type": "stream",
          "name": "stderr",
          "text": [
            "\n"
          ]
        },
        {
          "output_type": "stream",
          "name": "stdout",
          "text": [
            "\n",
            "      Epoch    GPU_mem   box_loss   cls_loss   dfl_loss  Instances       Size\n"
          ]
        },
        {
          "output_type": "stream",
          "name": "stderr",
          "text": [
            "     48/100      3.39G     0.6213     0.5662      1.078         21        640: 100%|██████████| 86/86 [00:25<00:00,  3.39it/s]\n",
            "                 Class     Images  Instances      Box(P          R      mAP50  mAP50-95): 100%|██████████| 13/13 [00:03<00:00,  4.05it/s]"
          ]
        },
        {
          "output_type": "stream",
          "name": "stdout",
          "text": [
            "                   all        395        415      0.896      0.614      0.668      0.528\n"
          ]
        },
        {
          "output_type": "stream",
          "name": "stderr",
          "text": [
            "\n"
          ]
        },
        {
          "output_type": "stream",
          "name": "stdout",
          "text": [
            "\n",
            "      Epoch    GPU_mem   box_loss   cls_loss   dfl_loss  Instances       Size\n"
          ]
        },
        {
          "output_type": "stream",
          "name": "stderr",
          "text": [
            "     49/100      3.39G     0.6253     0.5595      1.077         25        640: 100%|██████████| 86/86 [00:25<00:00,  3.40it/s]\n",
            "                 Class     Images  Instances      Box(P          R      mAP50  mAP50-95): 100%|██████████| 13/13 [00:04<00:00,  3.24it/s]"
          ]
        },
        {
          "output_type": "stream",
          "name": "stdout",
          "text": [
            "                   all        395        415       0.83      0.632      0.657      0.519\n"
          ]
        },
        {
          "output_type": "stream",
          "name": "stderr",
          "text": [
            "\n"
          ]
        },
        {
          "output_type": "stream",
          "name": "stdout",
          "text": [
            "\n",
            "      Epoch    GPU_mem   box_loss   cls_loss   dfl_loss  Instances       Size\n"
          ]
        },
        {
          "output_type": "stream",
          "name": "stderr",
          "text": [
            "     50/100      3.41G     0.6252     0.5531      1.078         19        640: 100%|██████████| 86/86 [00:24<00:00,  3.51it/s]\n",
            "                 Class     Images  Instances      Box(P          R      mAP50  mAP50-95): 100%|██████████| 13/13 [00:04<00:00,  3.08it/s]"
          ]
        },
        {
          "output_type": "stream",
          "name": "stdout",
          "text": [
            "                   all        395        415      0.858      0.633      0.667      0.524\n"
          ]
        },
        {
          "output_type": "stream",
          "name": "stderr",
          "text": [
            "\n"
          ]
        },
        {
          "output_type": "stream",
          "name": "stdout",
          "text": [
            "\n",
            "      Epoch    GPU_mem   box_loss   cls_loss   dfl_loss  Instances       Size\n"
          ]
        },
        {
          "output_type": "stream",
          "name": "stderr",
          "text": [
            "     51/100      3.42G     0.6098     0.5626      1.074         21        640: 100%|██████████| 86/86 [00:25<00:00,  3.42it/s]\n",
            "                 Class     Images  Instances      Box(P          R      mAP50  mAP50-95): 100%|██████████| 13/13 [00:03<00:00,  3.98it/s]"
          ]
        },
        {
          "output_type": "stream",
          "name": "stdout",
          "text": [
            "                   all        395        415      0.838      0.643      0.665      0.533\n"
          ]
        },
        {
          "output_type": "stream",
          "name": "stderr",
          "text": [
            "\n"
          ]
        },
        {
          "output_type": "stream",
          "name": "stdout",
          "text": [
            "\n",
            "      Epoch    GPU_mem   box_loss   cls_loss   dfl_loss  Instances       Size\n"
          ]
        },
        {
          "output_type": "stream",
          "name": "stderr",
          "text": [
            "     52/100      3.44G     0.6152     0.5491      1.073         20        640: 100%|██████████| 86/86 [00:25<00:00,  3.39it/s]\n",
            "                 Class     Images  Instances      Box(P          R      mAP50  mAP50-95): 100%|██████████| 13/13 [00:03<00:00,  4.15it/s]"
          ]
        },
        {
          "output_type": "stream",
          "name": "stdout",
          "text": [
            "                   all        395        415      0.882      0.636      0.677      0.528\n"
          ]
        },
        {
          "output_type": "stream",
          "name": "stderr",
          "text": [
            "\n"
          ]
        },
        {
          "output_type": "stream",
          "name": "stdout",
          "text": [
            "\n",
            "      Epoch    GPU_mem   box_loss   cls_loss   dfl_loss  Instances       Size\n"
          ]
        },
        {
          "output_type": "stream",
          "name": "stderr",
          "text": [
            "     53/100      3.46G     0.5938     0.5219      1.061         18        640: 100%|██████████| 86/86 [00:25<00:00,  3.40it/s]\n",
            "                 Class     Images  Instances      Box(P          R      mAP50  mAP50-95): 100%|██████████| 13/13 [00:03<00:00,  3.98it/s]"
          ]
        },
        {
          "output_type": "stream",
          "name": "stdout",
          "text": [
            "                   all        395        415      0.612      0.618      0.643      0.514\n"
          ]
        },
        {
          "output_type": "stream",
          "name": "stderr",
          "text": [
            "\n"
          ]
        },
        {
          "output_type": "stream",
          "name": "stdout",
          "text": [
            "\n",
            "      Epoch    GPU_mem   box_loss   cls_loss   dfl_loss  Instances       Size\n"
          ]
        },
        {
          "output_type": "stream",
          "name": "stderr",
          "text": [
            "     54/100      3.47G     0.5935     0.5158      1.057         19        640: 100%|██████████| 86/86 [00:25<00:00,  3.37it/s]\n",
            "                 Class     Images  Instances      Box(P          R      mAP50  mAP50-95): 100%|██████████| 13/13 [00:03<00:00,  4.24it/s]"
          ]
        },
        {
          "output_type": "stream",
          "name": "stdout",
          "text": [
            "                   all        395        415      0.878       0.63      0.669      0.535\n"
          ]
        },
        {
          "output_type": "stream",
          "name": "stderr",
          "text": [
            "\n"
          ]
        },
        {
          "output_type": "stream",
          "name": "stdout",
          "text": [
            "\n",
            "      Epoch    GPU_mem   box_loss   cls_loss   dfl_loss  Instances       Size\n"
          ]
        },
        {
          "output_type": "stream",
          "name": "stderr",
          "text": [
            "     55/100      3.48G     0.6088     0.5341      1.075         21        640: 100%|██████████| 86/86 [00:25<00:00,  3.37it/s]\n",
            "                 Class     Images  Instances      Box(P          R      mAP50  mAP50-95): 100%|██████████| 13/13 [00:04<00:00,  3.20it/s]"
          ]
        },
        {
          "output_type": "stream",
          "name": "stdout",
          "text": [
            "                   all        395        415      0.883      0.637       0.67      0.534\n"
          ]
        },
        {
          "output_type": "stream",
          "name": "stderr",
          "text": [
            "\n"
          ]
        },
        {
          "output_type": "stream",
          "name": "stdout",
          "text": [
            "\n",
            "      Epoch    GPU_mem   box_loss   cls_loss   dfl_loss  Instances       Size\n"
          ]
        },
        {
          "output_type": "stream",
          "name": "stderr",
          "text": [
            "     56/100       3.5G     0.5905     0.5117      1.059         21        640: 100%|██████████| 86/86 [00:26<00:00,  3.26it/s]\n",
            "                 Class     Images  Instances      Box(P          R      mAP50  mAP50-95): 100%|██████████| 13/13 [00:03<00:00,  3.50it/s]"
          ]
        },
        {
          "output_type": "stream",
          "name": "stdout",
          "text": [
            "                   all        395        415      0.912       0.61      0.677      0.543\n"
          ]
        },
        {
          "output_type": "stream",
          "name": "stderr",
          "text": [
            "\n"
          ]
        },
        {
          "output_type": "stream",
          "name": "stdout",
          "text": [
            "\n",
            "      Epoch    GPU_mem   box_loss   cls_loss   dfl_loss  Instances       Size\n"
          ]
        },
        {
          "output_type": "stream",
          "name": "stderr",
          "text": [
            "     57/100      3.52G       0.59     0.5189      1.052         18        640: 100%|██████████| 86/86 [00:27<00:00,  3.17it/s]\n",
            "                 Class     Images  Instances      Box(P          R      mAP50  mAP50-95): 100%|██████████| 13/13 [00:03<00:00,  4.14it/s]"
          ]
        },
        {
          "output_type": "stream",
          "name": "stdout",
          "text": [
            "                   all        395        415       0.62      0.635      0.651      0.522\n"
          ]
        },
        {
          "output_type": "stream",
          "name": "stderr",
          "text": [
            "\n"
          ]
        },
        {
          "output_type": "stream",
          "name": "stdout",
          "text": [
            "\n",
            "      Epoch    GPU_mem   box_loss   cls_loss   dfl_loss  Instances       Size\n"
          ]
        },
        {
          "output_type": "stream",
          "name": "stderr",
          "text": [
            "     58/100      3.53G     0.5912     0.5033      1.055         14        640: 100%|██████████| 86/86 [00:25<00:00,  3.32it/s]\n",
            "                 Class     Images  Instances      Box(P          R      mAP50  mAP50-95): 100%|██████████| 13/13 [00:03<00:00,  4.14it/s]"
          ]
        },
        {
          "output_type": "stream",
          "name": "stdout",
          "text": [
            "                   all        395        415      0.843      0.629      0.658       0.53\n"
          ]
        },
        {
          "output_type": "stream",
          "name": "stderr",
          "text": [
            "\n"
          ]
        },
        {
          "output_type": "stream",
          "name": "stdout",
          "text": [
            "\n",
            "      Epoch    GPU_mem   box_loss   cls_loss   dfl_loss  Instances       Size\n"
          ]
        },
        {
          "output_type": "stream",
          "name": "stderr",
          "text": [
            "     59/100      3.54G     0.5707      0.515      1.052         20        640: 100%|██████████| 86/86 [00:27<00:00,  3.17it/s]\n",
            "                 Class     Images  Instances      Box(P          R      mAP50  mAP50-95): 100%|██████████| 13/13 [00:04<00:00,  2.99it/s]"
          ]
        },
        {
          "output_type": "stream",
          "name": "stdout",
          "text": [
            "                   all        395        415      0.637      0.634      0.648      0.522\n"
          ]
        },
        {
          "output_type": "stream",
          "name": "stderr",
          "text": [
            "\n"
          ]
        },
        {
          "output_type": "stream",
          "name": "stdout",
          "text": [
            "\n",
            "      Epoch    GPU_mem   box_loss   cls_loss   dfl_loss  Instances       Size\n"
          ]
        },
        {
          "output_type": "stream",
          "name": "stderr",
          "text": [
            "     60/100      3.56G     0.5558     0.4935      1.043         23        640: 100%|██████████| 86/86 [00:27<00:00,  3.14it/s]\n",
            "                 Class     Images  Instances      Box(P          R      mAP50  mAP50-95): 100%|██████████| 13/13 [00:03<00:00,  4.04it/s]"
          ]
        },
        {
          "output_type": "stream",
          "name": "stdout",
          "text": [
            "                   all        395        415      0.873      0.615      0.665      0.527\n"
          ]
        },
        {
          "output_type": "stream",
          "name": "stderr",
          "text": [
            "\n"
          ]
        },
        {
          "output_type": "stream",
          "name": "stdout",
          "text": [
            "\n",
            "      Epoch    GPU_mem   box_loss   cls_loss   dfl_loss  Instances       Size\n"
          ]
        },
        {
          "output_type": "stream",
          "name": "stderr",
          "text": [
            "     61/100      3.57G      0.601     0.5244      1.064         20        640: 100%|██████████| 86/86 [00:26<00:00,  3.31it/s]\n",
            "                 Class     Images  Instances      Box(P          R      mAP50  mAP50-95): 100%|██████████| 13/13 [00:03<00:00,  4.07it/s]"
          ]
        },
        {
          "output_type": "stream",
          "name": "stdout",
          "text": [
            "                   all        395        415      0.623       0.63      0.646       0.52\n"
          ]
        },
        {
          "output_type": "stream",
          "name": "stderr",
          "text": [
            "\n"
          ]
        },
        {
          "output_type": "stream",
          "name": "stdout",
          "text": [
            "\n",
            "      Epoch    GPU_mem   box_loss   cls_loss   dfl_loss  Instances       Size\n"
          ]
        },
        {
          "output_type": "stream",
          "name": "stderr",
          "text": [
            "     62/100      3.59G     0.5743     0.4879      1.058         10        640: 100%|██████████| 86/86 [00:25<00:00,  3.40it/s]\n",
            "                 Class     Images  Instances      Box(P          R      mAP50  mAP50-95): 100%|██████████| 13/13 [00:03<00:00,  3.98it/s]"
          ]
        },
        {
          "output_type": "stream",
          "name": "stdout",
          "text": [
            "                   all        395        415       0.64      0.636      0.663      0.527\n"
          ]
        },
        {
          "output_type": "stream",
          "name": "stderr",
          "text": [
            "\n"
          ]
        },
        {
          "output_type": "stream",
          "name": "stdout",
          "text": [
            "\n",
            "      Epoch    GPU_mem   box_loss   cls_loss   dfl_loss  Instances       Size\n"
          ]
        },
        {
          "output_type": "stream",
          "name": "stderr",
          "text": [
            "     63/100       3.6G     0.5887     0.5244      1.057         22        640: 100%|██████████| 86/86 [00:25<00:00,  3.40it/s]\n",
            "                 Class     Images  Instances      Box(P          R      mAP50  mAP50-95): 100%|██████████| 13/13 [00:04<00:00,  3.17it/s]"
          ]
        },
        {
          "output_type": "stream",
          "name": "stdout",
          "text": [
            "                   all        395        415      0.857      0.605       0.65      0.531\n"
          ]
        },
        {
          "output_type": "stream",
          "name": "stderr",
          "text": [
            "\n"
          ]
        },
        {
          "output_type": "stream",
          "name": "stdout",
          "text": [
            "\n",
            "      Epoch    GPU_mem   box_loss   cls_loss   dfl_loss  Instances       Size\n"
          ]
        },
        {
          "output_type": "stream",
          "name": "stderr",
          "text": [
            "     64/100      3.62G     0.5619     0.4941      1.044         13        640: 100%|██████████| 86/86 [00:24<00:00,  3.48it/s]\n",
            "                 Class     Images  Instances      Box(P          R      mAP50  mAP50-95): 100%|██████████| 13/13 [00:03<00:00,  3.36it/s]"
          ]
        },
        {
          "output_type": "stream",
          "name": "stdout",
          "text": [
            "                   all        395        415      0.886      0.626      0.657      0.535\n"
          ]
        },
        {
          "output_type": "stream",
          "name": "stderr",
          "text": [
            "\n"
          ]
        },
        {
          "output_type": "stream",
          "name": "stdout",
          "text": [
            "\n",
            "      Epoch    GPU_mem   box_loss   cls_loss   dfl_loss  Instances       Size\n"
          ]
        },
        {
          "output_type": "stream",
          "name": "stderr",
          "text": [
            "     65/100      3.63G     0.5593     0.4888      1.042         25        640: 100%|██████████| 86/86 [00:24<00:00,  3.51it/s]\n",
            "                 Class     Images  Instances      Box(P          R      mAP50  mAP50-95): 100%|██████████| 13/13 [00:03<00:00,  4.18it/s]"
          ]
        },
        {
          "output_type": "stream",
          "name": "stdout",
          "text": [
            "                   all        395        415      0.851      0.626      0.657      0.537\n"
          ]
        },
        {
          "output_type": "stream",
          "name": "stderr",
          "text": [
            "\n"
          ]
        },
        {
          "output_type": "stream",
          "name": "stdout",
          "text": [
            "\n",
            "      Epoch    GPU_mem   box_loss   cls_loss   dfl_loss  Instances       Size\n"
          ]
        },
        {
          "output_type": "stream",
          "name": "stderr",
          "text": [
            "     66/100      3.65G     0.5521     0.4906      1.047         20        640: 100%|██████████| 86/86 [00:24<00:00,  3.51it/s]\n",
            "                 Class     Images  Instances      Box(P          R      mAP50  mAP50-95): 100%|██████████| 13/13 [00:03<00:00,  3.89it/s]"
          ]
        },
        {
          "output_type": "stream",
          "name": "stdout",
          "text": [
            "                   all        395        415      0.842      0.648      0.665      0.533\n"
          ]
        },
        {
          "output_type": "stream",
          "name": "stderr",
          "text": [
            "\n"
          ]
        },
        {
          "output_type": "stream",
          "name": "stdout",
          "text": [
            "\n",
            "      Epoch    GPU_mem   box_loss   cls_loss   dfl_loss  Instances       Size\n"
          ]
        },
        {
          "output_type": "stream",
          "name": "stderr",
          "text": [
            "     67/100      3.66G     0.5634     0.4812      1.053         19        640: 100%|██████████| 86/86 [00:24<00:00,  3.50it/s]\n",
            "                 Class     Images  Instances      Box(P          R      mAP50  mAP50-95): 100%|██████████| 13/13 [00:02<00:00,  4.45it/s]"
          ]
        },
        {
          "output_type": "stream",
          "name": "stdout",
          "text": [
            "                   all        395        415      0.877      0.645      0.664      0.538\n"
          ]
        },
        {
          "output_type": "stream",
          "name": "stderr",
          "text": [
            "\n"
          ]
        },
        {
          "output_type": "stream",
          "name": "stdout",
          "text": [
            "\n",
            "      Epoch    GPU_mem   box_loss   cls_loss   dfl_loss  Instances       Size\n"
          ]
        },
        {
          "output_type": "stream",
          "name": "stderr",
          "text": [
            "     68/100      3.68G     0.5496     0.4764      1.033         18        640: 100%|██████████| 86/86 [00:24<00:00,  3.57it/s]\n",
            "                 Class     Images  Instances      Box(P          R      mAP50  mAP50-95): 100%|██████████| 13/13 [00:03<00:00,  4.24it/s]"
          ]
        },
        {
          "output_type": "stream",
          "name": "stdout",
          "text": [
            "                   all        395        415      0.705      0.624      0.665      0.525\n"
          ]
        },
        {
          "output_type": "stream",
          "name": "stderr",
          "text": [
            "\n"
          ]
        },
        {
          "output_type": "stream",
          "name": "stdout",
          "text": [
            "\n",
            "      Epoch    GPU_mem   box_loss   cls_loss   dfl_loss  Instances       Size\n"
          ]
        },
        {
          "output_type": "stream",
          "name": "stderr",
          "text": [
            "     69/100      3.69G     0.5497     0.4611      1.044         19        640: 100%|██████████| 86/86 [00:24<00:00,  3.49it/s]\n",
            "                 Class     Images  Instances      Box(P          R      mAP50  mAP50-95): 100%|██████████| 13/13 [00:03<00:00,  4.05it/s]\n"
          ]
        },
        {
          "output_type": "stream",
          "name": "stdout",
          "text": [
            "                   all        395        415      0.879      0.628      0.671      0.549\n",
            "\n",
            "      Epoch    GPU_mem   box_loss   cls_loss   dfl_loss  Instances       Size\n"
          ]
        },
        {
          "output_type": "stream",
          "name": "stderr",
          "text": [
            "     70/100      3.71G     0.5572     0.4676       1.04         18        640: 100%|██████████| 86/86 [00:23<00:00,  3.63it/s]\n",
            "                 Class     Images  Instances      Box(P          R      mAP50  mAP50-95): 100%|██████████| 13/13 [00:04<00:00,  2.95it/s]"
          ]
        },
        {
          "output_type": "stream",
          "name": "stdout",
          "text": [
            "                   all        395        415      0.833      0.644       0.66      0.546\n"
          ]
        },
        {
          "output_type": "stream",
          "name": "stderr",
          "text": [
            "\n"
          ]
        },
        {
          "output_type": "stream",
          "name": "stdout",
          "text": [
            "\n",
            "      Epoch    GPU_mem   box_loss   cls_loss   dfl_loss  Instances       Size\n"
          ]
        },
        {
          "output_type": "stream",
          "name": "stderr",
          "text": [
            "     71/100      3.72G     0.5431     0.4666      1.043         20        640: 100%|██████████| 86/86 [00:25<00:00,  3.31it/s]\n",
            "                 Class     Images  Instances      Box(P          R      mAP50  mAP50-95): 100%|██████████| 13/13 [00:03<00:00,  4.30it/s]"
          ]
        },
        {
          "output_type": "stream",
          "name": "stdout",
          "text": [
            "                   all        395        415      0.873       0.65      0.671       0.54\n"
          ]
        },
        {
          "output_type": "stream",
          "name": "stderr",
          "text": [
            "\n"
          ]
        },
        {
          "output_type": "stream",
          "name": "stdout",
          "text": [
            "\n",
            "      Epoch    GPU_mem   box_loss   cls_loss   dfl_loss  Instances       Size\n"
          ]
        },
        {
          "output_type": "stream",
          "name": "stderr",
          "text": [
            "     72/100      3.74G     0.5563     0.4568      1.047         23        640: 100%|██████████| 86/86 [00:24<00:00,  3.55it/s]\n",
            "                 Class     Images  Instances      Box(P          R      mAP50  mAP50-95): 100%|██████████| 13/13 [00:03<00:00,  4.21it/s]"
          ]
        },
        {
          "output_type": "stream",
          "name": "stdout",
          "text": [
            "                   all        395        415      0.886      0.629      0.662      0.534\n"
          ]
        },
        {
          "output_type": "stream",
          "name": "stderr",
          "text": [
            "\n"
          ]
        },
        {
          "output_type": "stream",
          "name": "stdout",
          "text": [
            "\n",
            "      Epoch    GPU_mem   box_loss   cls_loss   dfl_loss  Instances       Size\n"
          ]
        },
        {
          "output_type": "stream",
          "name": "stderr",
          "text": [
            "     73/100      3.75G      0.542     0.4577      1.038         15        640: 100%|██████████| 86/86 [00:24<00:00,  3.54it/s]\n",
            "                 Class     Images  Instances      Box(P          R      mAP50  mAP50-95): 100%|██████████| 13/13 [00:03<00:00,  4.26it/s]"
          ]
        },
        {
          "output_type": "stream",
          "name": "stdout",
          "text": [
            "                   all        395        415      0.858      0.625      0.655      0.531\n"
          ]
        },
        {
          "output_type": "stream",
          "name": "stderr",
          "text": [
            "\n"
          ]
        },
        {
          "output_type": "stream",
          "name": "stdout",
          "text": [
            "\n",
            "      Epoch    GPU_mem   box_loss   cls_loss   dfl_loss  Instances       Size\n"
          ]
        },
        {
          "output_type": "stream",
          "name": "stderr",
          "text": [
            "     74/100      3.77G     0.5118     0.4286      1.019         16        640: 100%|██████████| 86/86 [00:24<00:00,  3.53it/s]\n",
            "                 Class     Images  Instances      Box(P          R      mAP50  mAP50-95): 100%|██████████| 13/13 [00:02<00:00,  4.49it/s]"
          ]
        },
        {
          "output_type": "stream",
          "name": "stdout",
          "text": [
            "                   all        395        415      0.838      0.629      0.651       0.53\n"
          ]
        },
        {
          "output_type": "stream",
          "name": "stderr",
          "text": [
            "\n"
          ]
        },
        {
          "output_type": "stream",
          "name": "stdout",
          "text": [
            "\n",
            "      Epoch    GPU_mem   box_loss   cls_loss   dfl_loss  Instances       Size\n"
          ]
        },
        {
          "output_type": "stream",
          "name": "stderr",
          "text": [
            "     75/100      3.78G     0.5337     0.4419       1.02         16        640: 100%|██████████| 86/86 [00:24<00:00,  3.57it/s]\n",
            "                 Class     Images  Instances      Box(P          R      mAP50  mAP50-95): 100%|██████████| 13/13 [00:03<00:00,  4.31it/s]"
          ]
        },
        {
          "output_type": "stream",
          "name": "stdout",
          "text": [
            "                   all        395        415      0.887       0.62      0.663      0.536\n"
          ]
        },
        {
          "output_type": "stream",
          "name": "stderr",
          "text": [
            "\n"
          ]
        },
        {
          "output_type": "stream",
          "name": "stdout",
          "text": [
            "\n",
            "      Epoch    GPU_mem   box_loss   cls_loss   dfl_loss  Instances       Size\n"
          ]
        },
        {
          "output_type": "stream",
          "name": "stderr",
          "text": [
            "     76/100       3.8G     0.5331     0.4388      1.032         23        640: 100%|██████████| 86/86 [00:24<00:00,  3.58it/s]\n",
            "                 Class     Images  Instances      Box(P          R      mAP50  mAP50-95): 100%|██████████| 13/13 [00:04<00:00,  3.20it/s]\n"
          ]
        },
        {
          "output_type": "stream",
          "name": "stdout",
          "text": [
            "                   all        395        415      0.664      0.627      0.656      0.534\n",
            "\n",
            "      Epoch    GPU_mem   box_loss   cls_loss   dfl_loss  Instances       Size\n"
          ]
        },
        {
          "output_type": "stream",
          "name": "stderr",
          "text": [
            "     77/100      3.81G     0.5406     0.4431      1.032         23        640: 100%|██████████| 86/86 [00:25<00:00,  3.42it/s]\n",
            "                 Class     Images  Instances      Box(P          R      mAP50  mAP50-95): 100%|██████████| 13/13 [00:03<00:00,  3.60it/s]"
          ]
        },
        {
          "output_type": "stream",
          "name": "stdout",
          "text": [
            "                   all        395        415      0.872      0.631      0.668      0.542\n"
          ]
        },
        {
          "output_type": "stream",
          "name": "stderr",
          "text": [
            "\n"
          ]
        },
        {
          "output_type": "stream",
          "name": "stdout",
          "text": [
            "\n",
            "      Epoch    GPU_mem   box_loss   cls_loss   dfl_loss  Instances       Size\n"
          ]
        },
        {
          "output_type": "stream",
          "name": "stderr",
          "text": [
            "     78/100      3.83G     0.5106     0.4227      1.012         14        640: 100%|██████████| 86/86 [00:26<00:00,  3.22it/s]\n",
            "                 Class     Images  Instances      Box(P          R      mAP50  mAP50-95): 100%|██████████| 13/13 [00:03<00:00,  4.28it/s]"
          ]
        },
        {
          "output_type": "stream",
          "name": "stdout",
          "text": [
            "                   all        395        415      0.903      0.627      0.665       0.54\n"
          ]
        },
        {
          "output_type": "stream",
          "name": "stderr",
          "text": [
            "\n"
          ]
        },
        {
          "output_type": "stream",
          "name": "stdout",
          "text": [
            "\n",
            "      Epoch    GPU_mem   box_loss   cls_loss   dfl_loss  Instances       Size\n"
          ]
        },
        {
          "output_type": "stream",
          "name": "stderr",
          "text": [
            "     79/100      3.84G     0.4989     0.4184      1.018         17        640: 100%|██████████| 86/86 [00:26<00:00,  3.25it/s]\n",
            "                 Class     Images  Instances      Box(P          R      mAP50  mAP50-95): 100%|██████████| 13/13 [00:03<00:00,  4.15it/s]"
          ]
        },
        {
          "output_type": "stream",
          "name": "stdout",
          "text": [
            "                   all        395        415      0.897      0.623       0.66      0.537\n"
          ]
        },
        {
          "output_type": "stream",
          "name": "stderr",
          "text": [
            "\n"
          ]
        },
        {
          "output_type": "stream",
          "name": "stdout",
          "text": [
            "\n",
            "      Epoch    GPU_mem   box_loss   cls_loss   dfl_loss  Instances       Size\n"
          ]
        },
        {
          "output_type": "stream",
          "name": "stderr",
          "text": [
            "     80/100      3.86G     0.5282     0.4374      1.021         14        640: 100%|██████████| 86/86 [00:25<00:00,  3.32it/s]\n",
            "                 Class     Images  Instances      Box(P          R      mAP50  mAP50-95): 100%|██████████| 13/13 [00:04<00:00,  2.96it/s]"
          ]
        },
        {
          "output_type": "stream",
          "name": "stdout",
          "text": [
            "                   all        395        415      0.667      0.626      0.646      0.522\n"
          ]
        },
        {
          "output_type": "stream",
          "name": "stderr",
          "text": [
            "\n"
          ]
        },
        {
          "output_type": "stream",
          "name": "stdout",
          "text": [
            "\n",
            "      Epoch    GPU_mem   box_loss   cls_loss   dfl_loss  Instances       Size\n"
          ]
        },
        {
          "output_type": "stream",
          "name": "stderr",
          "text": [
            "     81/100      3.87G      0.519     0.4211       1.02         24        640: 100%|██████████| 86/86 [00:24<00:00,  3.49it/s]\n",
            "                 Class     Images  Instances      Box(P          R      mAP50  mAP50-95): 100%|██████████| 13/13 [00:03<00:00,  3.97it/s]"
          ]
        },
        {
          "output_type": "stream",
          "name": "stdout",
          "text": [
            "                   all        395        415      0.672      0.646      0.661      0.535\n"
          ]
        },
        {
          "output_type": "stream",
          "name": "stderr",
          "text": [
            "\n"
          ]
        },
        {
          "output_type": "stream",
          "name": "stdout",
          "text": [
            "\n",
            "      Epoch    GPU_mem   box_loss   cls_loss   dfl_loss  Instances       Size\n"
          ]
        },
        {
          "output_type": "stream",
          "name": "stderr",
          "text": [
            "     82/100      3.89G     0.5051     0.4269      1.012         21        640: 100%|██████████| 86/86 [00:24<00:00,  3.48it/s]\n",
            "                 Class     Images  Instances      Box(P          R      mAP50  mAP50-95): 100%|██████████| 13/13 [00:03<00:00,  4.17it/s]"
          ]
        },
        {
          "output_type": "stream",
          "name": "stdout",
          "text": [
            "                   all        395        415      0.676      0.665      0.669      0.544\n"
          ]
        },
        {
          "output_type": "stream",
          "name": "stderr",
          "text": [
            "\n"
          ]
        },
        {
          "output_type": "stream",
          "name": "stdout",
          "text": [
            "\n",
            "      Epoch    GPU_mem   box_loss   cls_loss   dfl_loss  Instances       Size\n"
          ]
        },
        {
          "output_type": "stream",
          "name": "stderr",
          "text": [
            "     83/100       3.9G     0.4908     0.4199      1.014         15        640: 100%|██████████| 86/86 [00:24<00:00,  3.55it/s]\n",
            "                 Class     Images  Instances      Box(P          R      mAP50  mAP50-95): 100%|██████████| 13/13 [00:02<00:00,  4.39it/s]"
          ]
        },
        {
          "output_type": "stream",
          "name": "stdout",
          "text": [
            "                   all        395        415      0.664      0.659      0.659      0.537\n"
          ]
        },
        {
          "output_type": "stream",
          "name": "stderr",
          "text": [
            "\n"
          ]
        },
        {
          "output_type": "stream",
          "name": "stdout",
          "text": [
            "\n",
            "      Epoch    GPU_mem   box_loss   cls_loss   dfl_loss  Instances       Size\n"
          ]
        },
        {
          "output_type": "stream",
          "name": "stderr",
          "text": [
            "     84/100      3.92G     0.5002     0.4034      1.015         27        640: 100%|██████████| 86/86 [00:24<00:00,  3.56it/s]\n",
            "                 Class     Images  Instances      Box(P          R      mAP50  mAP50-95): 100%|██████████| 13/13 [00:03<00:00,  4.19it/s]"
          ]
        },
        {
          "output_type": "stream",
          "name": "stdout",
          "text": [
            "                   all        395        415      0.682      0.642      0.656      0.531\n"
          ]
        },
        {
          "output_type": "stream",
          "name": "stderr",
          "text": [
            "\n"
          ]
        },
        {
          "output_type": "stream",
          "name": "stdout",
          "text": [
            "\n",
            "      Epoch    GPU_mem   box_loss   cls_loss   dfl_loss  Instances       Size\n"
          ]
        },
        {
          "output_type": "stream",
          "name": "stderr",
          "text": [
            "     85/100      3.93G      0.504     0.4132      1.015         16        640: 100%|██████████| 86/86 [00:24<00:00,  3.56it/s]\n",
            "                 Class     Images  Instances      Box(P          R      mAP50  mAP50-95): 100%|██████████| 13/13 [00:02<00:00,  4.42it/s]"
          ]
        },
        {
          "output_type": "stream",
          "name": "stdout",
          "text": [
            "                   all        395        415      0.891      0.637      0.666      0.539\n"
          ]
        },
        {
          "output_type": "stream",
          "name": "stderr",
          "text": [
            "\n"
          ]
        },
        {
          "output_type": "stream",
          "name": "stdout",
          "text": [
            "\n",
            "      Epoch    GPU_mem   box_loss   cls_loss   dfl_loss  Instances       Size\n"
          ]
        },
        {
          "output_type": "stream",
          "name": "stderr",
          "text": [
            "     86/100      3.95G     0.5012     0.3999      1.011         23        640: 100%|██████████| 86/86 [00:24<00:00,  3.57it/s]\n",
            "                 Class     Images  Instances      Box(P          R      mAP50  mAP50-95): 100%|██████████| 13/13 [00:03<00:00,  4.09it/s]"
          ]
        },
        {
          "output_type": "stream",
          "name": "stdout",
          "text": [
            "                   all        395        415      0.682      0.621      0.659      0.538\n"
          ]
        },
        {
          "output_type": "stream",
          "name": "stderr",
          "text": [
            "\n"
          ]
        },
        {
          "output_type": "stream",
          "name": "stdout",
          "text": [
            "\n",
            "      Epoch    GPU_mem   box_loss   cls_loss   dfl_loss  Instances       Size\n"
          ]
        },
        {
          "output_type": "stream",
          "name": "stderr",
          "text": [
            "     87/100      3.96G     0.5157     0.4256      1.023         17        640: 100%|██████████| 86/86 [00:23<00:00,  3.61it/s]\n",
            "                 Class     Images  Instances      Box(P          R      mAP50  mAP50-95): 100%|██████████| 13/13 [00:04<00:00,  3.24it/s]"
          ]
        },
        {
          "output_type": "stream",
          "name": "stdout",
          "text": [
            "                   all        395        415      0.684      0.651      0.664      0.542\n"
          ]
        },
        {
          "output_type": "stream",
          "name": "stderr",
          "text": [
            "\n"
          ]
        },
        {
          "output_type": "stream",
          "name": "stdout",
          "text": [
            "\n",
            "      Epoch    GPU_mem   box_loss   cls_loss   dfl_loss  Instances       Size\n"
          ]
        },
        {
          "output_type": "stream",
          "name": "stderr",
          "text": [
            "     88/100      3.98G     0.5106     0.4076      1.021         20        640: 100%|██████████| 86/86 [00:23<00:00,  3.63it/s]\n",
            "                 Class     Images  Instances      Box(P          R      mAP50  mAP50-95): 100%|██████████| 13/13 [00:03<00:00,  3.47it/s]"
          ]
        },
        {
          "output_type": "stream",
          "name": "stdout",
          "text": [
            "                   all        395        415      0.691      0.638      0.668      0.545\n"
          ]
        },
        {
          "output_type": "stream",
          "name": "stderr",
          "text": [
            "\n"
          ]
        },
        {
          "output_type": "stream",
          "name": "stdout",
          "text": [
            "\n",
            "      Epoch    GPU_mem   box_loss   cls_loss   dfl_loss  Instances       Size\n"
          ]
        },
        {
          "output_type": "stream",
          "name": "stderr",
          "text": [
            "     89/100      3.99G     0.4824     0.3983     0.9968         27        640: 100%|██████████| 86/86 [00:24<00:00,  3.48it/s]\n",
            "                 Class     Images  Instances      Box(P          R      mAP50  mAP50-95): 100%|██████████| 13/13 [00:03<00:00,  4.33it/s]"
          ]
        },
        {
          "output_type": "stream",
          "name": "stdout",
          "text": [
            "                   all        395        415      0.695      0.632      0.667      0.541\n"
          ]
        },
        {
          "output_type": "stream",
          "name": "stderr",
          "text": [
            "\n"
          ]
        },
        {
          "output_type": "stream",
          "name": "stdout",
          "text": [
            "\n",
            "      Epoch    GPU_mem   box_loss   cls_loss   dfl_loss  Instances       Size\n"
          ]
        },
        {
          "output_type": "stream",
          "name": "stderr",
          "text": [
            "     90/100      4.01G     0.4739     0.3967     0.9973         18        640: 100%|██████████| 86/86 [00:24<00:00,  3.57it/s]\n",
            "                 Class     Images  Instances      Box(P          R      mAP50  mAP50-95): 100%|██████████| 13/13 [00:03<00:00,  4.30it/s]"
          ]
        },
        {
          "output_type": "stream",
          "name": "stdout",
          "text": [
            "                   all        395        415      0.884      0.638      0.663      0.539\n"
          ]
        },
        {
          "output_type": "stream",
          "name": "stderr",
          "text": [
            "\n"
          ]
        },
        {
          "output_type": "stream",
          "name": "stdout",
          "text": [
            "Closing dataloader mosaic\n",
            "\u001b[34m\u001b[1malbumentations: \u001b[0mBlur(p=0.01, blur_limit=(3, 7)), MedianBlur(p=0.01, blur_limit=(3, 7)), ToGray(p=0.01, method='weighted_average', num_output_channels=3), CLAHE(p=0.01, clip_limit=(1.0, 4.0), tile_grid_size=(8, 8))\n",
            "\n",
            "      Epoch    GPU_mem   box_loss   cls_loss   dfl_loss  Instances       Size\n"
          ]
        },
        {
          "output_type": "stream",
          "name": "stderr",
          "text": [
            "     91/100      4.02G     0.4092     0.3468     0.9405         10        640: 100%|██████████| 86/86 [00:25<00:00,  3.43it/s]\n",
            "                 Class     Images  Instances      Box(P          R      mAP50  mAP50-95): 100%|██████████| 13/13 [00:03<00:00,  4.31it/s]"
          ]
        },
        {
          "output_type": "stream",
          "name": "stdout",
          "text": [
            "                   all        395        415      0.874      0.643      0.655      0.531\n"
          ]
        },
        {
          "output_type": "stream",
          "name": "stderr",
          "text": [
            "\n"
          ]
        },
        {
          "output_type": "stream",
          "name": "stdout",
          "text": [
            "\n",
            "      Epoch    GPU_mem   box_loss   cls_loss   dfl_loss  Instances       Size\n"
          ]
        },
        {
          "output_type": "stream",
          "name": "stderr",
          "text": [
            "     92/100      4.04G     0.4034     0.3201     0.9389         12        640: 100%|██████████| 86/86 [00:23<00:00,  3.69it/s]\n",
            "                 Class     Images  Instances      Box(P          R      mAP50  mAP50-95): 100%|██████████| 13/13 [00:02<00:00,  4.37it/s]"
          ]
        },
        {
          "output_type": "stream",
          "name": "stdout",
          "text": [
            "                   all        395        415      0.695      0.639      0.668       0.54\n"
          ]
        },
        {
          "output_type": "stream",
          "name": "stderr",
          "text": [
            "\n"
          ]
        },
        {
          "output_type": "stream",
          "name": "stdout",
          "text": [
            "\n",
            "      Epoch    GPU_mem   box_loss   cls_loss   dfl_loss  Instances       Size\n"
          ]
        },
        {
          "output_type": "stream",
          "name": "stderr",
          "text": [
            "     93/100      4.05G      0.404     0.3157      0.934         11        640: 100%|██████████| 86/86 [00:23<00:00,  3.66it/s]\n",
            "                 Class     Images  Instances      Box(P          R      mAP50  mAP50-95): 100%|██████████| 13/13 [00:03<00:00,  4.31it/s]"
          ]
        },
        {
          "output_type": "stream",
          "name": "stdout",
          "text": [
            "                   all        395        415      0.655      0.645      0.661      0.533\n"
          ]
        },
        {
          "output_type": "stream",
          "name": "stderr",
          "text": [
            "\n"
          ]
        },
        {
          "output_type": "stream",
          "name": "stdout",
          "text": [
            "\n",
            "      Epoch    GPU_mem   box_loss   cls_loss   dfl_loss  Instances       Size\n"
          ]
        },
        {
          "output_type": "stream",
          "name": "stderr",
          "text": [
            "     94/100      4.07G      0.397     0.3028     0.9312         10        640: 100%|██████████| 86/86 [00:23<00:00,  3.64it/s]\n",
            "                 Class     Images  Instances      Box(P          R      mAP50  mAP50-95): 100%|██████████| 13/13 [00:03<00:00,  4.28it/s]"
          ]
        },
        {
          "output_type": "stream",
          "name": "stdout",
          "text": [
            "                   all        395        415      0.661      0.659      0.668      0.537\n"
          ]
        },
        {
          "output_type": "stream",
          "name": "stderr",
          "text": [
            "\n"
          ]
        },
        {
          "output_type": "stream",
          "name": "stdout",
          "text": [
            "\n",
            "      Epoch    GPU_mem   box_loss   cls_loss   dfl_loss  Instances       Size\n"
          ]
        },
        {
          "output_type": "stream",
          "name": "stderr",
          "text": [
            "     95/100      4.08G     0.3909     0.2971     0.9309         14        640: 100%|██████████| 86/86 [00:23<00:00,  3.69it/s]\n",
            "                 Class     Images  Instances      Box(P          R      mAP50  mAP50-95): 100%|██████████| 13/13 [00:03<00:00,  3.66it/s]\n"
          ]
        },
        {
          "output_type": "stream",
          "name": "stdout",
          "text": [
            "                   all        395        415      0.673      0.663      0.668      0.537\n",
            "\n",
            "      Epoch    GPU_mem   box_loss   cls_loss   dfl_loss  Instances       Size\n"
          ]
        },
        {
          "output_type": "stream",
          "name": "stderr",
          "text": [
            "     96/100       4.1G     0.3963     0.3039       0.94         10        640: 100%|██████████| 86/86 [00:23<00:00,  3.64it/s]\n",
            "                 Class     Images  Instances      Box(P          R      mAP50  mAP50-95): 100%|██████████| 13/13 [00:04<00:00,  3.04it/s]"
          ]
        },
        {
          "output_type": "stream",
          "name": "stdout",
          "text": [
            "                   all        395        415      0.677      0.655       0.67       0.54\n"
          ]
        },
        {
          "output_type": "stream",
          "name": "stderr",
          "text": [
            "\n"
          ]
        },
        {
          "output_type": "stream",
          "name": "stdout",
          "text": [
            "\n",
            "      Epoch    GPU_mem   box_loss   cls_loss   dfl_loss  Instances       Size\n"
          ]
        },
        {
          "output_type": "stream",
          "name": "stderr",
          "text": [
            "     97/100      4.11G     0.3815     0.2964     0.9291         10        640: 100%|██████████| 86/86 [00:22<00:00,  3.76it/s]\n",
            "                 Class     Images  Instances      Box(P          R      mAP50  mAP50-95): 100%|██████████| 13/13 [00:03<00:00,  3.59it/s]"
          ]
        },
        {
          "output_type": "stream",
          "name": "stdout",
          "text": [
            "                   all        395        415      0.695       0.64      0.669      0.536\n"
          ]
        },
        {
          "output_type": "stream",
          "name": "stderr",
          "text": [
            "\n"
          ]
        },
        {
          "output_type": "stream",
          "name": "stdout",
          "text": [
            "\n",
            "      Epoch    GPU_mem   box_loss   cls_loss   dfl_loss  Instances       Size\n"
          ]
        },
        {
          "output_type": "stream",
          "name": "stderr",
          "text": [
            "     98/100      4.12G     0.3838     0.2892     0.9294         10        640: 100%|██████████| 86/86 [00:23<00:00,  3.71it/s]\n",
            "                 Class     Images  Instances      Box(P          R      mAP50  mAP50-95): 100%|██████████| 13/13 [00:03<00:00,  3.94it/s]"
          ]
        },
        {
          "output_type": "stream",
          "name": "stdout",
          "text": [
            "                   all        395        415      0.694      0.652      0.671      0.539\n"
          ]
        },
        {
          "output_type": "stream",
          "name": "stderr",
          "text": [
            "\n"
          ]
        },
        {
          "output_type": "stream",
          "name": "stdout",
          "text": [
            "\n",
            "      Epoch    GPU_mem   box_loss   cls_loss   dfl_loss  Instances       Size\n"
          ]
        },
        {
          "output_type": "stream",
          "name": "stderr",
          "text": [
            "     99/100      4.13G     0.3726     0.2863     0.9184         10        640: 100%|██████████| 86/86 [00:23<00:00,  3.72it/s]\n",
            "                 Class     Images  Instances      Box(P          R      mAP50  mAP50-95): 100%|██████████| 13/13 [00:02<00:00,  4.37it/s]"
          ]
        },
        {
          "output_type": "stream",
          "name": "stdout",
          "text": [
            "                   all        395        415      0.706      0.645      0.673      0.542\n"
          ]
        },
        {
          "output_type": "stream",
          "name": "stderr",
          "text": [
            "\n"
          ]
        },
        {
          "output_type": "stream",
          "name": "stdout",
          "text": [
            "\n",
            "      Epoch    GPU_mem   box_loss   cls_loss   dfl_loss  Instances       Size\n"
          ]
        },
        {
          "output_type": "stream",
          "name": "stderr",
          "text": [
            "    100/100      4.16G     0.3739     0.2854     0.9234         12        640: 100%|██████████| 86/86 [00:23<00:00,  3.70it/s]\n",
            "                 Class     Images  Instances      Box(P          R      mAP50  mAP50-95): 100%|██████████| 13/13 [00:03<00:00,  4.29it/s]"
          ]
        },
        {
          "output_type": "stream",
          "name": "stdout",
          "text": [
            "                   all        395        415      0.703      0.642      0.671       0.54\n"
          ]
        },
        {
          "output_type": "stream",
          "name": "stderr",
          "text": [
            "\n"
          ]
        },
        {
          "output_type": "stream",
          "name": "stdout",
          "text": [
            "\n",
            "100 epochs completed in 0.789 hours.\n",
            "Optimizer stripped from runs/detect/train5/weights/last.pt, 5.5MB\n",
            "Optimizer stripped from runs/detect/train5/weights/best.pt, 5.5MB\n",
            "\n",
            "Validating runs/detect/train5/weights/best.pt...\n",
            "Ultralytics 8.3.127 🚀 Python-3.11.12 torch-2.6.0+cu124 CUDA:0 (Tesla T4, 15095MiB)\n",
            "YOLO11n summary (fused): 100 layers, 2,583,127 parameters, 0 gradients, 6.3 GFLOPs\n"
          ]
        },
        {
          "output_type": "stream",
          "name": "stderr",
          "text": [
            "                 Class     Images  Instances      Box(P          R      mAP50  mAP50-95): 100%|██████████| 13/13 [00:05<00:00,  2.48it/s]\n"
          ]
        },
        {
          "output_type": "stream",
          "name": "stdout",
          "text": [
            "                   all        395        415      0.879      0.627      0.671      0.549\n",
            "              NO_tumor        115        116      0.898      0.983       0.98      0.823\n",
            "                glioma         30         36      0.728      0.611      0.648      0.459\n",
            "            meningioma        144        148      0.969      0.853      0.942      0.829\n",
            "             pituitary        106        111      0.801       0.69      0.782      0.635\n",
            "space-occupying lesion-          1          4          1          0    0.00149   0.000447\n",
            "Speed: 0.3ms preprocess, 2.4ms inference, 0.0ms loss, 3.0ms postprocess per image\n",
            "Results saved to \u001b[1mruns/detect/train5\u001b[0m\n"
          ]
        }
      ]
    },
    {
      "cell_type": "code",
      "source": [
        "from google.colab import files\n",
        "\n",
        "# Download training curve plot\n",
        "files.download('runs/detect/train5/results.png')\n",
        "\n",
        "# Download training configuration\n",
        "files.download('runs/detect/train5/confusion_matrix.png')\n",
        "\n",
        "files.download(\"runs/detect/train5/confusion_matrix_normalized.png\")\n",
        "\n",
        "files.download(\"runs/detect/train5/F1_curve.png\")\n",
        "\n",
        "files.download(\"runs/detect/train5/PR_curve.png\")\n",
        "\n",
        "files.download(\"runs/detect/train5/P_curve.png\")\n",
        "\n",
        "files.download(\"runs/detect/train5/R_curve.png\")\n",
        "\n",
        "files.download(\"runs/detect/train5/args.yaml\")\n",
        "\n",
        "files.download(\"runs/detect/train5/results.csv\")\n"
      ],
      "metadata": {
        "colab": {
          "base_uri": "https://localhost:8080/",
          "height": 17
        },
        "id": "MkWDoPpR4i34",
        "outputId": "10677767-66d9-4e5a-fa31-6e438d6c8f19"
      },
      "execution_count": 19,
      "outputs": [
        {
          "output_type": "display_data",
          "data": {
            "text/plain": [
              "<IPython.core.display.Javascript object>"
            ],
            "application/javascript": [
              "\n",
              "    async function download(id, filename, size) {\n",
              "      if (!google.colab.kernel.accessAllowed) {\n",
              "        return;\n",
              "      }\n",
              "      const div = document.createElement('div');\n",
              "      const label = document.createElement('label');\n",
              "      label.textContent = `Downloading \"${filename}\": `;\n",
              "      div.appendChild(label);\n",
              "      const progress = document.createElement('progress');\n",
              "      progress.max = size;\n",
              "      div.appendChild(progress);\n",
              "      document.body.appendChild(div);\n",
              "\n",
              "      const buffers = [];\n",
              "      let downloaded = 0;\n",
              "\n",
              "      const channel = await google.colab.kernel.comms.open(id);\n",
              "      // Send a message to notify the kernel that we're ready.\n",
              "      channel.send({})\n",
              "\n",
              "      for await (const message of channel.messages) {\n",
              "        // Send a message to notify the kernel that we're ready.\n",
              "        channel.send({})\n",
              "        if (message.buffers) {\n",
              "          for (const buffer of message.buffers) {\n",
              "            buffers.push(buffer);\n",
              "            downloaded += buffer.byteLength;\n",
              "            progress.value = downloaded;\n",
              "          }\n",
              "        }\n",
              "      }\n",
              "      const blob = new Blob(buffers, {type: 'application/binary'});\n",
              "      const a = document.createElement('a');\n",
              "      a.href = window.URL.createObjectURL(blob);\n",
              "      a.download = filename;\n",
              "      div.appendChild(a);\n",
              "      a.click();\n",
              "      div.remove();\n",
              "    }\n",
              "  "
            ]
          },
          "metadata": {}
        },
        {
          "output_type": "display_data",
          "data": {
            "text/plain": [
              "<IPython.core.display.Javascript object>"
            ],
            "application/javascript": [
              "download(\"download_d2f1234d-dea6-4589-b70c-f22a7934f5ba\", \"results.png\", 306729)"
            ]
          },
          "metadata": {}
        },
        {
          "output_type": "display_data",
          "data": {
            "text/plain": [
              "<IPython.core.display.Javascript object>"
            ],
            "application/javascript": [
              "\n",
              "    async function download(id, filename, size) {\n",
              "      if (!google.colab.kernel.accessAllowed) {\n",
              "        return;\n",
              "      }\n",
              "      const div = document.createElement('div');\n",
              "      const label = document.createElement('label');\n",
              "      label.textContent = `Downloading \"${filename}\": `;\n",
              "      div.appendChild(label);\n",
              "      const progress = document.createElement('progress');\n",
              "      progress.max = size;\n",
              "      div.appendChild(progress);\n",
              "      document.body.appendChild(div);\n",
              "\n",
              "      const buffers = [];\n",
              "      let downloaded = 0;\n",
              "\n",
              "      const channel = await google.colab.kernel.comms.open(id);\n",
              "      // Send a message to notify the kernel that we're ready.\n",
              "      channel.send({})\n",
              "\n",
              "      for await (const message of channel.messages) {\n",
              "        // Send a message to notify the kernel that we're ready.\n",
              "        channel.send({})\n",
              "        if (message.buffers) {\n",
              "          for (const buffer of message.buffers) {\n",
              "            buffers.push(buffer);\n",
              "            downloaded += buffer.byteLength;\n",
              "            progress.value = downloaded;\n",
              "          }\n",
              "        }\n",
              "      }\n",
              "      const blob = new Blob(buffers, {type: 'application/binary'});\n",
              "      const a = document.createElement('a');\n",
              "      a.href = window.URL.createObjectURL(blob);\n",
              "      a.download = filename;\n",
              "      div.appendChild(a);\n",
              "      a.click();\n",
              "      div.remove();\n",
              "    }\n",
              "  "
            ]
          },
          "metadata": {}
        },
        {
          "output_type": "display_data",
          "data": {
            "text/plain": [
              "<IPython.core.display.Javascript object>"
            ],
            "application/javascript": [
              "download(\"download_4401b4e1-27b5-4df9-b4a6-1b6897155977\", \"confusion_matrix.png\", 142646)"
            ]
          },
          "metadata": {}
        },
        {
          "output_type": "display_data",
          "data": {
            "text/plain": [
              "<IPython.core.display.Javascript object>"
            ],
            "application/javascript": [
              "\n",
              "    async function download(id, filename, size) {\n",
              "      if (!google.colab.kernel.accessAllowed) {\n",
              "        return;\n",
              "      }\n",
              "      const div = document.createElement('div');\n",
              "      const label = document.createElement('label');\n",
              "      label.textContent = `Downloading \"${filename}\": `;\n",
              "      div.appendChild(label);\n",
              "      const progress = document.createElement('progress');\n",
              "      progress.max = size;\n",
              "      div.appendChild(progress);\n",
              "      document.body.appendChild(div);\n",
              "\n",
              "      const buffers = [];\n",
              "      let downloaded = 0;\n",
              "\n",
              "      const channel = await google.colab.kernel.comms.open(id);\n",
              "      // Send a message to notify the kernel that we're ready.\n",
              "      channel.send({})\n",
              "\n",
              "      for await (const message of channel.messages) {\n",
              "        // Send a message to notify the kernel that we're ready.\n",
              "        channel.send({})\n",
              "        if (message.buffers) {\n",
              "          for (const buffer of message.buffers) {\n",
              "            buffers.push(buffer);\n",
              "            downloaded += buffer.byteLength;\n",
              "            progress.value = downloaded;\n",
              "          }\n",
              "        }\n",
              "      }\n",
              "      const blob = new Blob(buffers, {type: 'application/binary'});\n",
              "      const a = document.createElement('a');\n",
              "      a.href = window.URL.createObjectURL(blob);\n",
              "      a.download = filename;\n",
              "      div.appendChild(a);\n",
              "      a.click();\n",
              "      div.remove();\n",
              "    }\n",
              "  "
            ]
          },
          "metadata": {}
        },
        {
          "output_type": "display_data",
          "data": {
            "text/plain": [
              "<IPython.core.display.Javascript object>"
            ],
            "application/javascript": [
              "download(\"download_7c6acbdc-340d-421f-b5bb-9a5f27167040\", \"confusion_matrix_normalized.png\", 157516)"
            ]
          },
          "metadata": {}
        },
        {
          "output_type": "display_data",
          "data": {
            "text/plain": [
              "<IPython.core.display.Javascript object>"
            ],
            "application/javascript": [
              "\n",
              "    async function download(id, filename, size) {\n",
              "      if (!google.colab.kernel.accessAllowed) {\n",
              "        return;\n",
              "      }\n",
              "      const div = document.createElement('div');\n",
              "      const label = document.createElement('label');\n",
              "      label.textContent = `Downloading \"${filename}\": `;\n",
              "      div.appendChild(label);\n",
              "      const progress = document.createElement('progress');\n",
              "      progress.max = size;\n",
              "      div.appendChild(progress);\n",
              "      document.body.appendChild(div);\n",
              "\n",
              "      const buffers = [];\n",
              "      let downloaded = 0;\n",
              "\n",
              "      const channel = await google.colab.kernel.comms.open(id);\n",
              "      // Send a message to notify the kernel that we're ready.\n",
              "      channel.send({})\n",
              "\n",
              "      for await (const message of channel.messages) {\n",
              "        // Send a message to notify the kernel that we're ready.\n",
              "        channel.send({})\n",
              "        if (message.buffers) {\n",
              "          for (const buffer of message.buffers) {\n",
              "            buffers.push(buffer);\n",
              "            downloaded += buffer.byteLength;\n",
              "            progress.value = downloaded;\n",
              "          }\n",
              "        }\n",
              "      }\n",
              "      const blob = new Blob(buffers, {type: 'application/binary'});\n",
              "      const a = document.createElement('a');\n",
              "      a.href = window.URL.createObjectURL(blob);\n",
              "      a.download = filename;\n",
              "      div.appendChild(a);\n",
              "      a.click();\n",
              "      div.remove();\n",
              "    }\n",
              "  "
            ]
          },
          "metadata": {}
        },
        {
          "output_type": "display_data",
          "data": {
            "text/plain": [
              "<IPython.core.display.Javascript object>"
            ],
            "application/javascript": [
              "download(\"download_7c661d25-c0e1-41f8-bf49-a4f7553ff6e7\", \"F1_curve.png\", 205421)"
            ]
          },
          "metadata": {}
        },
        {
          "output_type": "display_data",
          "data": {
            "text/plain": [
              "<IPython.core.display.Javascript object>"
            ],
            "application/javascript": [
              "\n",
              "    async function download(id, filename, size) {\n",
              "      if (!google.colab.kernel.accessAllowed) {\n",
              "        return;\n",
              "      }\n",
              "      const div = document.createElement('div');\n",
              "      const label = document.createElement('label');\n",
              "      label.textContent = `Downloading \"${filename}\": `;\n",
              "      div.appendChild(label);\n",
              "      const progress = document.createElement('progress');\n",
              "      progress.max = size;\n",
              "      div.appendChild(progress);\n",
              "      document.body.appendChild(div);\n",
              "\n",
              "      const buffers = [];\n",
              "      let downloaded = 0;\n",
              "\n",
              "      const channel = await google.colab.kernel.comms.open(id);\n",
              "      // Send a message to notify the kernel that we're ready.\n",
              "      channel.send({})\n",
              "\n",
              "      for await (const message of channel.messages) {\n",
              "        // Send a message to notify the kernel that we're ready.\n",
              "        channel.send({})\n",
              "        if (message.buffers) {\n",
              "          for (const buffer of message.buffers) {\n",
              "            buffers.push(buffer);\n",
              "            downloaded += buffer.byteLength;\n",
              "            progress.value = downloaded;\n",
              "          }\n",
              "        }\n",
              "      }\n",
              "      const blob = new Blob(buffers, {type: 'application/binary'});\n",
              "      const a = document.createElement('a');\n",
              "      a.href = window.URL.createObjectURL(blob);\n",
              "      a.download = filename;\n",
              "      div.appendChild(a);\n",
              "      a.click();\n",
              "      div.remove();\n",
              "    }\n",
              "  "
            ]
          },
          "metadata": {}
        },
        {
          "output_type": "display_data",
          "data": {
            "text/plain": [
              "<IPython.core.display.Javascript object>"
            ],
            "application/javascript": [
              "download(\"download_2d026fcc-5c90-438f-b9d5-5612698b648b\", \"PR_curve.png\", 166138)"
            ]
          },
          "metadata": {}
        },
        {
          "output_type": "display_data",
          "data": {
            "text/plain": [
              "<IPython.core.display.Javascript object>"
            ],
            "application/javascript": [
              "\n",
              "    async function download(id, filename, size) {\n",
              "      if (!google.colab.kernel.accessAllowed) {\n",
              "        return;\n",
              "      }\n",
              "      const div = document.createElement('div');\n",
              "      const label = document.createElement('label');\n",
              "      label.textContent = `Downloading \"${filename}\": `;\n",
              "      div.appendChild(label);\n",
              "      const progress = document.createElement('progress');\n",
              "      progress.max = size;\n",
              "      div.appendChild(progress);\n",
              "      document.body.appendChild(div);\n",
              "\n",
              "      const buffers = [];\n",
              "      let downloaded = 0;\n",
              "\n",
              "      const channel = await google.colab.kernel.comms.open(id);\n",
              "      // Send a message to notify the kernel that we're ready.\n",
              "      channel.send({})\n",
              "\n",
              "      for await (const message of channel.messages) {\n",
              "        // Send a message to notify the kernel that we're ready.\n",
              "        channel.send({})\n",
              "        if (message.buffers) {\n",
              "          for (const buffer of message.buffers) {\n",
              "            buffers.push(buffer);\n",
              "            downloaded += buffer.byteLength;\n",
              "            progress.value = downloaded;\n",
              "          }\n",
              "        }\n",
              "      }\n",
              "      const blob = new Blob(buffers, {type: 'application/binary'});\n",
              "      const a = document.createElement('a');\n",
              "      a.href = window.URL.createObjectURL(blob);\n",
              "      a.download = filename;\n",
              "      div.appendChild(a);\n",
              "      a.click();\n",
              "      div.remove();\n",
              "    }\n",
              "  "
            ]
          },
          "metadata": {}
        },
        {
          "output_type": "display_data",
          "data": {
            "text/plain": [
              "<IPython.core.display.Javascript object>"
            ],
            "application/javascript": [
              "download(\"download_f3c6bcf6-21b3-4c5a-b82c-3e9cece1ecc2\", \"P_curve.png\", 185219)"
            ]
          },
          "metadata": {}
        },
        {
          "output_type": "display_data",
          "data": {
            "text/plain": [
              "<IPython.core.display.Javascript object>"
            ],
            "application/javascript": [
              "\n",
              "    async function download(id, filename, size) {\n",
              "      if (!google.colab.kernel.accessAllowed) {\n",
              "        return;\n",
              "      }\n",
              "      const div = document.createElement('div');\n",
              "      const label = document.createElement('label');\n",
              "      label.textContent = `Downloading \"${filename}\": `;\n",
              "      div.appendChild(label);\n",
              "      const progress = document.createElement('progress');\n",
              "      progress.max = size;\n",
              "      div.appendChild(progress);\n",
              "      document.body.appendChild(div);\n",
              "\n",
              "      const buffers = [];\n",
              "      let downloaded = 0;\n",
              "\n",
              "      const channel = await google.colab.kernel.comms.open(id);\n",
              "      // Send a message to notify the kernel that we're ready.\n",
              "      channel.send({})\n",
              "\n",
              "      for await (const message of channel.messages) {\n",
              "        // Send a message to notify the kernel that we're ready.\n",
              "        channel.send({})\n",
              "        if (message.buffers) {\n",
              "          for (const buffer of message.buffers) {\n",
              "            buffers.push(buffer);\n",
              "            downloaded += buffer.byteLength;\n",
              "            progress.value = downloaded;\n",
              "          }\n",
              "        }\n",
              "      }\n",
              "      const blob = new Blob(buffers, {type: 'application/binary'});\n",
              "      const a = document.createElement('a');\n",
              "      a.href = window.URL.createObjectURL(blob);\n",
              "      a.download = filename;\n",
              "      div.appendChild(a);\n",
              "      a.click();\n",
              "      div.remove();\n",
              "    }\n",
              "  "
            ]
          },
          "metadata": {}
        },
        {
          "output_type": "display_data",
          "data": {
            "text/plain": [
              "<IPython.core.display.Javascript object>"
            ],
            "application/javascript": [
              "download(\"download_4f994f6e-5969-4f2c-abd5-4371bafd9e89\", \"R_curve.png\", 188932)"
            ]
          },
          "metadata": {}
        },
        {
          "output_type": "display_data",
          "data": {
            "text/plain": [
              "<IPython.core.display.Javascript object>"
            ],
            "application/javascript": [
              "\n",
              "    async function download(id, filename, size) {\n",
              "      if (!google.colab.kernel.accessAllowed) {\n",
              "        return;\n",
              "      }\n",
              "      const div = document.createElement('div');\n",
              "      const label = document.createElement('label');\n",
              "      label.textContent = `Downloading \"${filename}\": `;\n",
              "      div.appendChild(label);\n",
              "      const progress = document.createElement('progress');\n",
              "      progress.max = size;\n",
              "      div.appendChild(progress);\n",
              "      document.body.appendChild(div);\n",
              "\n",
              "      const buffers = [];\n",
              "      let downloaded = 0;\n",
              "\n",
              "      const channel = await google.colab.kernel.comms.open(id);\n",
              "      // Send a message to notify the kernel that we're ready.\n",
              "      channel.send({})\n",
              "\n",
              "      for await (const message of channel.messages) {\n",
              "        // Send a message to notify the kernel that we're ready.\n",
              "        channel.send({})\n",
              "        if (message.buffers) {\n",
              "          for (const buffer of message.buffers) {\n",
              "            buffers.push(buffer);\n",
              "            downloaded += buffer.byteLength;\n",
              "            progress.value = downloaded;\n",
              "          }\n",
              "        }\n",
              "      }\n",
              "      const blob = new Blob(buffers, {type: 'application/binary'});\n",
              "      const a = document.createElement('a');\n",
              "      a.href = window.URL.createObjectURL(blob);\n",
              "      a.download = filename;\n",
              "      div.appendChild(a);\n",
              "      a.click();\n",
              "      div.remove();\n",
              "    }\n",
              "  "
            ]
          },
          "metadata": {}
        },
        {
          "output_type": "display_data",
          "data": {
            "text/plain": [
              "<IPython.core.display.Javascript object>"
            ],
            "application/javascript": [
              "download(\"download_1bbe1d55-bc83-49c6-99b9-e3a47fb3a3cf\", \"args.yaml\", 1531)"
            ]
          },
          "metadata": {}
        },
        {
          "output_type": "display_data",
          "data": {
            "text/plain": [
              "<IPython.core.display.Javascript object>"
            ],
            "application/javascript": [
              "\n",
              "    async function download(id, filename, size) {\n",
              "      if (!google.colab.kernel.accessAllowed) {\n",
              "        return;\n",
              "      }\n",
              "      const div = document.createElement('div');\n",
              "      const label = document.createElement('label');\n",
              "      label.textContent = `Downloading \"${filename}\": `;\n",
              "      div.appendChild(label);\n",
              "      const progress = document.createElement('progress');\n",
              "      progress.max = size;\n",
              "      div.appendChild(progress);\n",
              "      document.body.appendChild(div);\n",
              "\n",
              "      const buffers = [];\n",
              "      let downloaded = 0;\n",
              "\n",
              "      const channel = await google.colab.kernel.comms.open(id);\n",
              "      // Send a message to notify the kernel that we're ready.\n",
              "      channel.send({})\n",
              "\n",
              "      for await (const message of channel.messages) {\n",
              "        // Send a message to notify the kernel that we're ready.\n",
              "        channel.send({})\n",
              "        if (message.buffers) {\n",
              "          for (const buffer of message.buffers) {\n",
              "            buffers.push(buffer);\n",
              "            downloaded += buffer.byteLength;\n",
              "            progress.value = downloaded;\n",
              "          }\n",
              "        }\n",
              "      }\n",
              "      const blob = new Blob(buffers, {type: 'application/binary'});\n",
              "      const a = document.createElement('a');\n",
              "      a.href = window.URL.createObjectURL(blob);\n",
              "      a.download = filename;\n",
              "      div.appendChild(a);\n",
              "      a.click();\n",
              "      div.remove();\n",
              "    }\n",
              "  "
            ]
          },
          "metadata": {}
        },
        {
          "output_type": "display_data",
          "data": {
            "text/plain": [
              "<IPython.core.display.Javascript object>"
            ],
            "application/javascript": [
              "download(\"download_ec420b2e-bffa-428a-85bc-901a74c0485d\", \"results.csv\", 12694)"
            ]
          },
          "metadata": {}
        }
      ]
    }
  ]
}